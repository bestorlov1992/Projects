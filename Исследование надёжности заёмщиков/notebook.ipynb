{
   "cells": [
      {
         "cell_type": "markdown",
         "metadata": {},
         "source": [
            "# Исследование надёжности заёмщиков"
         ]
      },
      {
         "cell_type": "markdown",
         "metadata": {},
         "source": [
            "\n",
            "**Автор**: Григорьев Павел   "
         ]
      },
      {
         "cell_type": "markdown",
         "metadata": {},
         "source": [
            "\n",
            "**Описание проекта**: Заказчик — кредитный отдел банка. Нужно разобраться, влияет ли семейное положение и количество детей клиента на факт погашения кредита в срок. Входные данные от банка — статистика о платёжеспособности клиентов.  \n",
            "Результаты исследования будут учтены при построении модели кредитного скоринга — специальной системы, которая оценивает способность потенциального заёмщика вернуть кредит банку.  "
         ]
      },
      {
         "cell_type": "markdown",
         "metadata": {},
         "source": [
            "\n",
            "**Цель**: Составить рекомендации для кредитного отдела банка, которые будут учтены при построении модели кредитного скоринга.  \n",
            "Определить влияет ли семейное положение и количество детей клиента на факт погашения кредита в срок.  "
         ]
      },
      {
         "cell_type": "markdown",
         "metadata": {},
         "source": [
            "**Источники данных**: Данные предоставленны кредитным отделом банка."
         ]
      },
      {
         "cell_type": "markdown",
         "metadata": {},
         "source": [
            "\n",
            "**Вывод**: тут помещаем самое главное из общего вывода, примерно до полустраницы, чтобы не было сильно много и при этом указать все главные выводы"
         ]
      },
      {
         "cell_type": "markdown",
         "metadata": {},
         "source": [
            "\n",
            "**Оглавление** \n",
            "* [1. Описание и изучение данных](#1)\n",
            "    * [1.1 Изучение данных](#1-1)\n",
            "    * [1.2 Изучение данных](#1-2)"
         ]
      },
      {
         "cell_type": "markdown",
         "metadata": {},
         "source": [
            "\n",
            "\n",
            "(опционально, зависит от того есть ли оглавление по умолчанию, но лучше сделать скрываемое, так как не везде будет автоматическое):  \n",
            "создаем оглавление с гиперссылками  \n",
            "Тут важно давать развернутые названия разделам в работе, но и не сильно большие (пиши - сокращай).  \n",
            "Все таки это название главы и оно должно быть не более 5-7 слов. Некоторые могут быть длиннее, если сильно нужно,  \n",
            "но основная часть названий разделов и глав долны быть достаточно кратикими.   \n",
            "Чтобы понять длинные ли заголовки - смотрим на оглавление и думаем не сильно ли шировкие строчки.  \n",
            "Чтобы в оглавление хорошо читалось и было понятно про что каждый раздел и глава и чтобы  \n",
            "можно было прочитать, понять и перейти к разделу. Нельзя писать сильно кратко, так как люди не знакомы с работой и им нужно более развернутые  \n",
            "названия глав, чтобы понимать о чем там будет идти речь  \n",
            "Оглавление делаем со сворачивающимися списками, то есть каждую главу можно свернуть, можно развернуть и пеерейти на уровень ниже,  \n",
            "как в сводных таблицах экселя, так удобнее, так как места занимает мало, если скрыть все подразделы, а если нужно, то раскроют  \n",
            "В каждом блоке сделать гиперссылку 'к содержанию', чтобы можно было вернуться к содержанию,  \n",
            "но тут важно, чтобы на одной странице не было больше 1 такой ссылки.   \n",
            "Заголовки разделов и глав не нужно писать в стиле 'посчитаем, выясним, исследуем и подобное', так как названия глав и разделов это более официальные  \n",
            "названия. Нужно более формально их называть.  \n",
            "Название главы или раздела должно нести в себе основной смысл этого раздела или главы, так и нужно называть.  \n",
            "1. Описание данных\n",
            "2. Предобработка данных\n",
            "3. Расчет метрик\n",
            "    3.1 Продуктовые метрики\n",
            "        3.1.1 Расчет MAU, DAU, WAU\n",
            "        3.1.2 Рачет ASL\n",
            "4. Подведение итогов и регкомендации       \n"
         ]
      },
      {
         "cell_type": "markdown",
         "metadata": {},
         "source": [
            "### Загрузка библиотек"
         ]
      },
      {
         "cell_type": "code",
         "execution_count": 3,
         "metadata": {},
         "outputs": [
            {
               "name": "stderr",
               "output_type": "stream",
               "text": [
                  "c:\\python\\lib\\site-packages\\outdated\\utils.py:18: OutdatedPackageWarning: The package pingouin is out of date. Your version is 0.5.3, the latest is 0.5.5.\n",
                  "Set the environment variable OUTDATED_IGNORE=1 to disable these warnings.\n",
                  "  **kwargs\n"
               ]
            }
         ],
         "source": [
            "import pandas as pd\n",
            "import numpy as np\n",
            "import plotly.express as px\n",
            "import seaborn as sns\n",
            "import matplotlib.pyplot as plt\n",
            "from ipywidgets import widgets, Layout\n",
            "from IPython.display import display, display_html, display_markdown\n",
            "import my_module\n",
            "import importlib\n",
            "import re\n",
            "import itertools\n",
            "from pymystem3 import Mystem\n",
            "importlib.reload(my_module)\n",
            "import chart_studio\n",
            "import chart_studio.plotly as py\n",
            "sns.set(style=\"white\")\n",
            "from termcolor import colored\n",
            "import scipy.stats as stats\n",
            "import statsmodels.stats.api as stm\n",
            "# with httpimport.remote_repo('http://my-codes.example.com/python_packages'):\n",
            "#     import package1\n",
            "\n",
            "# chart_studio.tools.set_credentials_file(username=\"bestorlov1992\", api_key=\"TOnnvREBwfkILt9ABEr5\")\n",
            "# # from jupyter to chart studio\n",
            "# py.plot(fig, filename = \"plot name\", auto_open = True)"
         ]
      },
      {
         "cell_type": "markdown",
         "metadata": {},
         "source": [
            "### 1. Описание и изучение данных <a class=\"anchor\" id=\"1\"></a>"
         ]
      },
      {
         "cell_type": "markdown",
         "metadata": {},
         "source": [
            "#### 1.1 Описание данных <a class=\"anchor\" id=\"1-1\"></a>\n",
            "- children - количество детей в семье\n",
            "- days_employed - общий трудовой стаж в днях\n",
            "- dob_years - возраст клиента в годах\n",
            "- education - уровень образования клиента\n",
            "- education_id - идентификатор уровня образования\n",
            "- family_status - семейное положение\n",
            "- family_status_id - идентификатор семейного положения\n",
            "- gender - пол клиента\n",
            "- income_type - тип занятости\n",
            "- debt - имел ли задолженность по возврату кредитов\n",
            "- total_income - ежемесячный доход\n",
            "- purpose - цель получения кредита"
         ]
      },
      {
         "cell_type": "markdown",
         "metadata": {},
         "source": [
            "#### 1.2 Изучение данных <a class=\"anchor\" id=\"1-2\"></a>"
         ]
      },
      {
         "cell_type": "code",
         "execution_count": 4,
         "metadata": {},
         "outputs": [
            {
               "data": {
                  "text/html": [
                     "<div>\n",
                     "<style scoped>\n",
                     "    .dataframe tbody tr th:only-of-type {\n",
                     "        vertical-align: middle;\n",
                     "    }\n",
                     "\n",
                     "    .dataframe tbody tr th {\n",
                     "        vertical-align: top;\n",
                     "    }\n",
                     "\n",
                     "    .dataframe thead th {\n",
                     "        text-align: right;\n",
                     "    }\n",
                     "</style>\n",
                     "<table border=\"1\" class=\"dataframe\">\n",
                     "  <thead>\n",
                     "    <tr style=\"text-align: right;\">\n",
                     "      <th></th>\n",
                     "      <th>children</th>\n",
                     "      <th>days_employed</th>\n",
                     "      <th>dob_years</th>\n",
                     "      <th>education</th>\n",
                     "      <th>education_id</th>\n",
                     "      <th>family_status</th>\n",
                     "      <th>family_status_id</th>\n",
                     "      <th>gender</th>\n",
                     "      <th>income_type</th>\n",
                     "      <th>debt</th>\n",
                     "      <th>total_income</th>\n",
                     "      <th>purpose</th>\n",
                     "    </tr>\n",
                     "  </thead>\n",
                     "  <tbody>\n",
                     "    <tr>\n",
                     "      <th>4042</th>\n",
                     "      <td>1</td>\n",
                     "      <td>-2885.142188</td>\n",
                     "      <td>50</td>\n",
                     "      <td>среднее</td>\n",
                     "      <td>1</td>\n",
                     "      <td>женат / замужем</td>\n",
                     "      <td>0</td>\n",
                     "      <td>F</td>\n",
                     "      <td>сотрудник</td>\n",
                     "      <td>0</td>\n",
                     "      <td>80236.028323</td>\n",
                     "      <td>приобретение автомобиля</td>\n",
                     "    </tr>\n",
                     "    <tr>\n",
                     "      <th>19177</th>\n",
                     "      <td>2</td>\n",
                     "      <td>-1803.080913</td>\n",
                     "      <td>36</td>\n",
                     "      <td>Среднее</td>\n",
                     "      <td>1</td>\n",
                     "      <td>женат / замужем</td>\n",
                     "      <td>0</td>\n",
                     "      <td>F</td>\n",
                     "      <td>сотрудник</td>\n",
                     "      <td>0</td>\n",
                     "      <td>163292.220004</td>\n",
                     "      <td>строительство собственной недвижимости</td>\n",
                     "    </tr>\n",
                     "    <tr>\n",
                     "      <th>7372</th>\n",
                     "      <td>1</td>\n",
                     "      <td>-305.540665</td>\n",
                     "      <td>27</td>\n",
                     "      <td>СРЕДНЕЕ</td>\n",
                     "      <td>1</td>\n",
                     "      <td>гражданский брак</td>\n",
                     "      <td>1</td>\n",
                     "      <td>F</td>\n",
                     "      <td>сотрудник</td>\n",
                     "      <td>0</td>\n",
                     "      <td>69799.488812</td>\n",
                     "      <td>ремонт жилью</td>\n",
                     "    </tr>\n",
                     "    <tr>\n",
                     "      <th>16245</th>\n",
                     "      <td>1</td>\n",
                     "      <td>-1593.946336</td>\n",
                     "      <td>50</td>\n",
                     "      <td>среднее</td>\n",
                     "      <td>1</td>\n",
                     "      <td>женат / замужем</td>\n",
                     "      <td>0</td>\n",
                     "      <td>F</td>\n",
                     "      <td>сотрудник</td>\n",
                     "      <td>1</td>\n",
                     "      <td>107486.332934</td>\n",
                     "      <td>на покупку подержанного автомобиля</td>\n",
                     "    </tr>\n",
                     "    <tr>\n",
                     "      <th>11563</th>\n",
                     "      <td>0</td>\n",
                     "      <td>-1025.402943</td>\n",
                     "      <td>64</td>\n",
                     "      <td>высшее</td>\n",
                     "      <td>0</td>\n",
                     "      <td>женат / замужем</td>\n",
                     "      <td>0</td>\n",
                     "      <td>M</td>\n",
                     "      <td>госслужащий</td>\n",
                     "      <td>0</td>\n",
                     "      <td>706401.475790</td>\n",
                     "      <td>профильное образование</td>\n",
                     "    </tr>\n",
                     "  </tbody>\n",
                     "</table>\n",
                     "</div>"
                  ],
                  "text/plain": [
                     "       children  days_employed  dob_years education education_id  \\\n",
                     "4042          1   -2885.142188         50   среднее            1   \n",
                     "19177         2   -1803.080913         36   Среднее            1   \n",
                     "7372          1    -305.540665         27   СРЕДНЕЕ            1   \n",
                     "16245         1   -1593.946336         50   среднее            1   \n",
                     "11563         0   -1025.402943         64    высшее            0   \n",
                     "\n",
                     "          family_status family_status_id gender  income_type debt  \\\n",
                     "4042    женат / замужем                0      F    сотрудник    0   \n",
                     "19177   женат / замужем                0      F    сотрудник    0   \n",
                     "7372   гражданский брак                1      F    сотрудник    0   \n",
                     "16245   женат / замужем                0      F    сотрудник    1   \n",
                     "11563   женат / замужем                0      M  госслужащий    0   \n",
                     "\n",
                     "        total_income                                 purpose  \n",
                     "4042    80236.028323                 приобретение автомобиля  \n",
                     "19177  163292.220004  строительство собственной недвижимости  \n",
                     "7372    69799.488812                            ремонт жилью  \n",
                     "16245  107486.332934      на покупку подержанного автомобиля  \n",
                     "11563  706401.475790                  профильное образование  "
                  ]
               },
               "execution_count": 4,
               "metadata": {},
               "output_type": "execute_result"
            }
         ],
         "source": [
            "dtype = {'education': 'category', 'education_id': 'category', 'family_status': 'category', 'family_status_id': 'category', 'gender': 'category', 'income_type': 'category', 'debt': 'category'}\n",
            "df = pd.read_csv('https://code.s3.yandex.net/datasets/data.csv', dtype=dtype)\n",
            "df.sample(5, random_state=7)"
         ]
      },
      {
         "cell_type": "markdown",
         "metadata": {},
         "source": [
            "Изменим название колонки dob_years на более понятное age"
         ]
      },
      {
         "cell_type": "code",
         "execution_count": null,
         "metadata": {},
         "outputs": [],
         "source": [
            "df = df.rename(columns={'dob_years': 'age'})"
         ]
      },
      {
         "cell_type": "code",
         "execution_count": 209,
         "metadata": {},
         "outputs": [],
         "source": [
            "gen = my_module.my_info_gen(df)"
         ]
      },
      {
         "cell_type": "code",
         "execution_count": 10,
         "metadata": {},
         "outputs": [
            {
               "data": {
                  "application/vnd.jupyter.widget-view+json": {
                     "model_id": "2bddd9813793417a9e2d177748edff57",
                     "version_major": 2,
                     "version_minor": 0
                  },
                  "text/plain": [
                     "Output()"
                  ]
               },
               "metadata": {},
               "output_type": "display_data"
            }
         ],
         "source": [
            "next(gen)"
         ]
      },
      {
         "cell_type": "markdown",
         "metadata": {},
         "source": [
            "**Наблюдения:**  \n",
            "В датафрейме есть строки дубликаты. 54 строки. Меньше 1 % от всего датафрейма.  \n",
            "Если заменить все пробелы на 1, привести к нижнему регистру, то дополнительно появляется 31 дубликат.  \n",
            "Нужно детаельнее изучить дубликаты.  "
         ]
      },
      {
         "cell_type": "code",
         "execution_count": 11,
         "metadata": {},
         "outputs": [
            {
               "data": {
                  "application/vnd.jupyter.widget-view+json": {
                     "model_id": "099f0842d6e044ae915d877b7270b45a",
                     "version_major": 2,
                     "version_minor": 0
                  },
                  "text/plain": [
                     "0it [00:00, ?it/s]"
                  ]
               },
               "metadata": {},
               "output_type": "display_data"
            },
            {
               "data": {
                  "application/vnd.jupyter.widget-view+json": {
                     "model_id": "4ba3d6d19ea5484bb54221b7cbf8536c",
                     "version_major": 2,
                     "version_minor": 0
                  },
                  "text/plain": [
                     "0it [00:00, ?it/s]"
                  ]
               },
               "metadata": {},
               "output_type": "display_data"
            },
            {
               "data": {
                  "application/vnd.jupyter.widget-view+json": {
                     "model_id": "0eb520e1a4144ba5ba25e257592e5a93",
                     "version_major": 2,
                     "version_minor": 0
                  },
                  "text/plain": [
                     "GridBox(children=(Output(), Output(), Output(), Output(), Output(), Output()), layout=Layout(grid_template_col…"
                  ]
               },
               "metadata": {},
               "output_type": "display_data"
            }
         ],
         "source": [
            "next(gen)"
         ]
      },
      {
         "cell_type": "markdown",
         "metadata": {},
         "source": [
            "**Наблюдения:**  \n",
            "- В столбце с количеством детей нет пропущенных значений.  \n",
            "- Уникальных всего 8 значений. Это нормально. Количество детей не может сильно варьироваться. \n",
            "- Наличие нулей нормально, это люди без детей, таких 66 %.  \n",
            "- Есть отрицательные значения.  47 штук. Меньше 1 процента. Это явно ошибка. В реальных данных таких не должно быть.   \n",
            "Нужно выяснить почему появились отрицательное количество детей.  \n",
            "- Максимальное количество детей 20. Это скорее всего ошибка. \n",
            "- 66 прцоентов имеют 0 детей, 22 прцоента имеют 1 ребенка, 10 % имеют 2 детей и меньше 5 % имеют более 2 детей.  \n",
            "- Распределение детей соответсвует реальности, больше всего людей без детей.\n"
         ]
      },
      {
         "cell_type": "code",
         "execution_count": 25,
         "metadata": {},
         "outputs": [
            {
               "data": {
                  "application/vnd.jupyter.widget-view+json": {
                     "model_id": "b15f033d442d4eafa94469347766edb3",
                     "version_major": 2,
                     "version_minor": 0
                  },
                  "text/plain": [
                     "GridBox(children=(Output(), Output(), Output(), Output(), Output(), Output()), layout=Layout(grid_template_col…"
                  ]
               },
               "metadata": {},
               "output_type": "display_data"
            }
         ],
         "source": [
            "next(gen)"
         ]
      },
      {
         "cell_type": "markdown",
         "metadata": {},
         "source": [
            "**Наблюдения:**  \n",
            "- В колонке общий трудовой стаж есть 10 % пропущенных значений.  \n",
            "- 90 % уникальных значений, это нормально, так как стаж в днях.  \n",
            "- 74 % отрицаетльных значений. Так быть не должно.   \n",
            "Нужно выяснить как считаются дни стажа и разобраться откуда появляются отрицательные значения.  \n",
            "- Максимальное количество дней стажа больше 400 тысяч дней, это больше 1000 лет. Явно это выброс.  \n",
            "- Данные совершенно некоректные, нужно разбираться что является причиной.  "
         ]
      },
      {
         "cell_type": "code",
         "execution_count": 32,
         "metadata": {},
         "outputs": [
            {
               "data": {
                  "application/vnd.jupyter.widget-view+json": {
                     "model_id": "d2d753121b9a4abaaa7a371d1619a995",
                     "version_major": 2,
                     "version_minor": 0
                  },
                  "text/plain": [
                     "GridBox(children=(Output(), Output(), Output(), Output(), Output(), Output()), layout=Layout(grid_template_col…"
                  ]
               },
               "metadata": {},
               "output_type": "display_data"
            }
         ],
         "source": [
            "next(gen)"
         ]
      },
      {
         "cell_type": "markdown",
         "metadata": {},
         "source": [
            "**Наблюдения:**  \n",
            "- В колонке возраста нет пропущенных значений.  \n",
            "- 58 уникаьных значений (<1%), похоже на правду.  \n",
            "- 101 нулевое значени. Это явно ошибки.  \n",
            "- Максимальный возраст 75 лет. Впролне реально.  \n",
            "- Медиана 42 года, первый квартиль 33 года, можно сделать вывод, что у нас восновном люди старше 30 лет.  \n",
            "- Больше всего людей около 40 лет.  \n",
            "- Только 5 процентов людей моложе 25 лет.  \n",
            "- Распределение похоже на нормальное. Так и должно быть.  "
         ]
      },
      {
         "cell_type": "code",
         "execution_count": 33,
         "metadata": {},
         "outputs": [
            {
               "data": {
                  "application/vnd.jupyter.widget-view+json": {
                     "model_id": "06b669c2d5ea45dc9db48bf97a81fd80",
                     "version_major": 2,
                     "version_minor": 0
                  },
                  "text/plain": [
                     "GridBox(children=(Output(), Output(), Output(), Output(), Output(), Output()), layout=Layout(grid_template_col…"
                  ]
               },
               "metadata": {},
               "output_type": "display_data"
            }
         ],
         "source": [
            "next(gen)"
         ]
      },
      {
         "cell_type": "markdown",
         "metadata": {},
         "source": [
            "**Наблюдения:**  \n",
            "- В столбце дохода 10 процентов пропущенных значений.  \n",
            "- Есть дубликаты, но это нормально.  \n",
            "- максимальный доход больше 2 млн, нужно проверить это, кажется что это нереально.  \n",
            "- Минимальная зарплата 20 тысяч, это похоже на истину.  \n",
            "- Распределение зарплат соответствует реальности.  \n",
            "- Меньше 5 % людей имеют зарплату меньша 63 тысяч.  \n",
            "Можно сделать вывод, что большинство имеет высокий доход.  \n",
            "При этом 25 % имеют доход больше 200 тысяч.  "
         ]
      },
      {
         "cell_type": "code",
         "execution_count": 34,
         "metadata": {},
         "outputs": [
            {
               "data": {
                  "application/vnd.jupyter.widget-view+json": {
                     "model_id": "d39d6e2a6d9f48a4beb6129a9c02aba7",
                     "version_major": 2,
                     "version_minor": 0
                  },
                  "text/plain": [
                     "0it [00:00, ?it/s]"
                  ]
               },
               "metadata": {},
               "output_type": "display_data"
            },
            {
               "data": {
                  "application/vnd.jupyter.widget-view+json": {
                     "model_id": "b1b4e72c35274a8e83992bff1ce0824f",
                     "version_major": 2,
                     "version_minor": 0
                  },
                  "text/plain": [
                     "GridBox(children=(Output(), Output(), Output()), layout=Layout(grid_template_columns='auto auto auto'))"
                  ]
               },
               "metadata": {},
               "output_type": "display_data"
            }
         ],
         "source": [
            "next(gen)"
         ]
      },
      {
         "cell_type": "markdown",
         "metadata": {},
         "source": [
            "**Наблюдения:**\n",
            "- В колонке образование пропусков нет.  \n",
            "- Уникальных значений 15\n",
            "- Присутствуют явные дубли из за разных регистров слов.  \n",
            "- Болше всего людей со средним образованием 71 %\n",
            "- Высшее образование у 24 % "
         ]
      },
      {
         "cell_type": "code",
         "execution_count": 35,
         "metadata": {},
         "outputs": [
            {
               "data": {
                  "application/vnd.jupyter.widget-view+json": {
                     "model_id": "02e92efc53dd4efcb56fc5887a711cf0",
                     "version_major": 2,
                     "version_minor": 0
                  },
                  "text/plain": [
                     "GridBox(children=(Output(), Output(), Output()), layout=Layout(grid_template_columns='auto auto auto'))"
                  ]
               },
               "metadata": {},
               "output_type": "display_data"
            }
         ],
         "source": [
            "next(gen)"
         ]
      },
      {
         "cell_type": "markdown",
         "metadata": {},
         "source": [
            "**Наблюдения:**  \n",
            "- В колонке с id образонвания 5 униклаьных значений, хотя в колонке образования, если не учитывать регистр, 4 значения.  \n",
            "Нужно разбираться.  "
         ]
      },
      {
         "cell_type": "code",
         "execution_count": 36,
         "metadata": {},
         "outputs": [
            {
               "data": {
                  "application/vnd.jupyter.widget-view+json": {
                     "model_id": "05000e9f8eee40e0ba37b6c3dfa5157c",
                     "version_major": 2,
                     "version_minor": 0
                  },
                  "text/plain": [
                     "GridBox(children=(Output(), Output(), Output()), layout=Layout(grid_template_columns='auto auto auto'))"
                  ]
               },
               "metadata": {},
               "output_type": "display_data"
            }
         ],
         "source": [
            "next(gen)"
         ]
      },
      {
         "cell_type": "markdown",
         "metadata": {},
         "source": [
            "**Наблюдения:**  \n",
            "- В колонке семейного статуса пропусков нет\n",
            "- Проблем не обнаружено\n",
            "- 58 % женаты либо замужем\n",
            "- 19 % в гражданском браке\n",
            "- Можно сделать вывод что большинство в браке.  "
         ]
      },
      {
         "cell_type": "code",
         "execution_count": 37,
         "metadata": {},
         "outputs": [
            {
               "data": {
                  "application/vnd.jupyter.widget-view+json": {
                     "model_id": "0eb93d1c2ac84da48f3d91c6a820db8f",
                     "version_major": 2,
                     "version_minor": 0
                  },
                  "text/plain": [
                     "GridBox(children=(Output(), Output(), Output()), layout=Layout(grid_template_columns='auto auto auto'))"
                  ]
               },
               "metadata": {},
               "output_type": "display_data"
            }
         ],
         "source": [
            "next(gen)"
         ]
      },
      {
         "cell_type": "markdown",
         "metadata": {},
         "source": [
            "**Наблюдения:**\n",
            "- Колонке семейный статус id проблем не обнаружено, значения совпадают со столбцом семейный статус"
         ]
      },
      {
         "cell_type": "code",
         "execution_count": 38,
         "metadata": {},
         "outputs": [
            {
               "data": {
                  "application/vnd.jupyter.widget-view+json": {
                     "model_id": "a6247b0a5fb740d78222216ea6e6cded",
                     "version_major": 2,
                     "version_minor": 0
                  },
                  "text/plain": [
                     "GridBox(children=(Output(), Output(), Output()), layout=Layout(grid_template_columns='auto auto auto'))"
                  ]
               },
               "metadata": {},
               "output_type": "display_data"
            }
         ],
         "source": [
            "next(gen)"
         ]
      },
      {
         "cell_type": "markdown",
         "metadata": {},
         "source": [
            "**Наблюдения:**\n",
            "- В возрасте пропусков нет\n",
            "- 3 уникальных значения \n",
            "- Значение XNA меньше чем у 1 %, возможно не указали пол\n",
            "- 66 % женщины, можно сделать вывод, что большинство женщины"
         ]
      },
      {
         "cell_type": "code",
         "execution_count": 39,
         "metadata": {},
         "outputs": [
            {
               "data": {
                  "application/vnd.jupyter.widget-view+json": {
                     "model_id": "1e8c789c38194720b061aee6daeba025",
                     "version_major": 2,
                     "version_minor": 0
                  },
                  "text/plain": [
                     "GridBox(children=(Output(), Output(), Output()), layout=Layout(grid_template_columns='auto auto auto'))"
                  ]
               },
               "metadata": {},
               "output_type": "display_data"
            }
         ],
         "source": [
            "next(gen)"
         ]
      },
      {
         "cell_type": "markdown",
         "metadata": {},
         "source": [
            "**Наблюдения:**\n",
            "- В столбце тип занятости 8 уникальных значений.  \n",
            "- Больше всего сотрудников (52 %)\n",
            "- 24 % компаньены\n",
            "- 18 % пенсионеры\n",
            "- Меньше 1 % безработных. \n",
            "- Можно сделать вывод, что большинство либо пенсионеры, либо имеют занятость\n",
            "- Также меньше 1 % предприниматели."
         ]
      },
      {
         "cell_type": "code",
         "execution_count": 42,
         "metadata": {},
         "outputs": [
            {
               "data": {
                  "application/vnd.jupyter.widget-view+json": {
                     "model_id": "164127c0c43b46e59caa1c28cb38dcf2",
                     "version_major": 2,
                     "version_minor": 0
                  },
                  "text/plain": [
                     "GridBox(children=(Output(), Output(), Output()), layout=Layout(grid_template_columns='auto auto auto'))"
                  ]
               },
               "metadata": {},
               "output_type": "display_data"
            }
         ],
         "source": [
            "next(gen)"
         ]
      },
      {
         "cell_type": "markdown",
         "metadata": {},
         "source": [
            "**Наблюдения:**  \n",
            "- В колонке наличия долга 2 значения.  \n",
            "- Пропусков нет\n",
            "- 92 % не имеют долга"
         ]
      },
      {
         "cell_type": "code",
         "execution_count": 43,
         "metadata": {},
         "outputs": [
            {
               "data": {
                  "application/vnd.jupyter.widget-view+json": {
                     "model_id": "d9848328a96b41ea901e42aa2f30308c",
                     "version_major": 2,
                     "version_minor": 0
                  },
                  "text/plain": [
                     "GridBox(children=(Output(), Output(), Output()), layout=Layout(grid_template_columns='auto auto auto'))"
                  ]
               },
               "metadata": {},
               "output_type": "display_data"
            }
         ],
         "source": [
            "next(gen)"
         ]
      },
      {
         "cell_type": "markdown",
         "metadata": {},
         "source": [
            "**Наблюдения:**\n",
            "- В колонке цель кредита пропуско нет  \n",
            "- 38 униклаьных значений, немного, но все таки есть похожие цели, нужно будет объеденить в одно значение\n",
            "- Ярко выраженной цели кредита нет, но сложно точно определить, нужно объеденить сначала похожие цели.  "
         ]
      },
      {
         "cell_type": "markdown",
         "metadata": {},
         "source": [
            "Для дальнейшего анализа срауз приведем колонку education к нижнему регистру и удалим лишние пробелы"
         ]
      },
      {
         "cell_type": "code",
         "execution_count": 39,
         "metadata": {},
         "outputs": [
            {
               "data": {
                  "text/plain": [
                     "среднее                15073\n",
                     "высшее                  5202\n",
                     "неоконченное высшее      739\n",
                     "начальное                282\n",
                     "ученая степень             6\n",
                     "Name: education, dtype: int64"
                  ]
               },
               "execution_count": 39,
               "metadata": {},
               "output_type": "execute_result"
            }
         ],
         "source": [
            "df.education = my_module.normalize_string_series(df.education)\n",
            "df.education.value_counts()"
         ]
      },
      {
         "cell_type": "markdown",
         "metadata": {},
         "source": [
            "Проверка на ошибки целостности  \n",
            "Если у нас есть столбцы, в которых значения должны совпдаать попарно, то проверяем на это."
         ]
      },
      {
         "cell_type": "code",
         "execution_count": 47,
         "metadata": {},
         "outputs": [
            {
               "name": "stdout",
               "output_type": "stream",
               "text": [
                  "Нет строк для которых значения в col1 имеют разные значения в col2\n"
               ]
            }
         ],
         "source": [
            "my_module.get_non_matching_rows(df, 'education', 'education_id')"
         ]
      },
      {
         "cell_type": "markdown",
         "metadata": {},
         "source": [
            "Нет проблем с целостностью в образонвании, несмотря на дубли в образовании. "
         ]
      },
      {
         "cell_type": "code",
         "execution_count": 48,
         "metadata": {},
         "outputs": [
            {
               "name": "stdout",
               "output_type": "stream",
               "text": [
                  "Нет строк для которых значения в col1 имеют разные значения в col2\n"
               ]
            }
         ],
         "source": [
            "my_module.get_non_matching_rows(df, 'family_status', 'family_status_id')"
         ]
      },
      {
         "cell_type": "markdown",
         "metadata": {},
         "source": [
            "В семейном статусе также нет проблем с целостностью.  "
         ]
      },
      {
         "cell_type": "markdown",
         "metadata": {},
         "source": [
            "Проверим на дубли"
         ]
      },
      {
         "cell_type": "markdown",
         "metadata": {},
         "source": [
            "Плсмльоим на дубли во всем датафрейме"
         ]
      },
      {
         "cell_type": "code",
         "execution_count": 3,
         "metadata": {},
         "outputs": [
            {
               "name": "stdout",
               "output_type": "stream",
               "text": [
                  "Duplicated is 54 (0.3%) rows\n"
               ]
            }
         ],
         "source": [
            "dupl_df = my_module.check_duplicated(df)"
         ]
      },
      {
         "cell_type": "markdown",
         "metadata": {},
         "source": [
            "У нас 54 полных дубля в таблице. Посмотрим на них. "
         ]
      },
      {
         "cell_type": "code",
         "execution_count": 58,
         "metadata": {},
         "outputs": [
            {
               "data": {
                  "text/html": [
                     "<div>\n",
                     "<style scoped>\n",
                     "    .dataframe tbody tr th:only-of-type {\n",
                     "        vertical-align: middle;\n",
                     "    }\n",
                     "\n",
                     "    .dataframe tbody tr th {\n",
                     "        vertical-align: top;\n",
                     "    }\n",
                     "\n",
                     "    .dataframe thead th {\n",
                     "        text-align: right;\n",
                     "    }\n",
                     "</style>\n",
                     "<table border=\"1\" class=\"dataframe\">\n",
                     "  <thead>\n",
                     "    <tr style=\"text-align: right;\">\n",
                     "      <th></th>\n",
                     "      <th></th>\n",
                     "      <th></th>\n",
                     "      <th></th>\n",
                     "      <th></th>\n",
                     "      <th></th>\n",
                     "      <th></th>\n",
                     "      <th></th>\n",
                     "      <th></th>\n",
                     "      <th></th>\n",
                     "      <th></th>\n",
                     "      <th></th>\n",
                     "      <th>Count</th>\n",
                     "    </tr>\n",
                     "    <tr>\n",
                     "      <th>children</th>\n",
                     "      <th>days_employed</th>\n",
                     "      <th>dob_years</th>\n",
                     "      <th>education</th>\n",
                     "      <th>education_id</th>\n",
                     "      <th>family_status</th>\n",
                     "      <th>family_status_id</th>\n",
                     "      <th>gender</th>\n",
                     "      <th>income_type</th>\n",
                     "      <th>debt</th>\n",
                     "      <th>total_income</th>\n",
                     "      <th>purpose</th>\n",
                     "      <th></th>\n",
                     "    </tr>\n",
                     "  </thead>\n",
                     "  <tbody>\n",
                     "    <tr>\n",
                     "      <th rowspan=\"7\" valign=\"top\">0</th>\n",
                     "      <th rowspan=\"7\" valign=\"top\">NaN</th>\n",
                     "      <th>58</th>\n",
                     "      <th>среднее</th>\n",
                     "      <th>1</th>\n",
                     "      <th>гражданский брак</th>\n",
                     "      <th>1</th>\n",
                     "      <th>f</th>\n",
                     "      <th>пенсионер</th>\n",
                     "      <th>0</th>\n",
                     "      <th>NaN</th>\n",
                     "      <th>сыграть свадьбу</th>\n",
                     "      <td>3</td>\n",
                     "    </tr>\n",
                     "    <tr>\n",
                     "      <th>62</th>\n",
                     "      <th>среднее</th>\n",
                     "      <th>1</th>\n",
                     "      <th>женат / замужем</th>\n",
                     "      <th>0</th>\n",
                     "      <th>f</th>\n",
                     "      <th>пенсионер</th>\n",
                     "      <th>0</th>\n",
                     "      <th>NaN</th>\n",
                     "      <th>ремонт жилью</th>\n",
                     "      <td>3</td>\n",
                     "    </tr>\n",
                     "    <tr>\n",
                     "      <th>47</th>\n",
                     "      <th>среднее</th>\n",
                     "      <th>1</th>\n",
                     "      <th>женат / замужем</th>\n",
                     "      <th>0</th>\n",
                     "      <th>f</th>\n",
                     "      <th>сотрудник</th>\n",
                     "      <th>0</th>\n",
                     "      <th>NaN</th>\n",
                     "      <th>ремонт жилью</th>\n",
                     "      <td>3</td>\n",
                     "    </tr>\n",
                     "    <tr>\n",
                     "      <th>71</th>\n",
                     "      <th>среднее</th>\n",
                     "      <th>1</th>\n",
                     "      <th>гражданский брак</th>\n",
                     "      <th>1</th>\n",
                     "      <th>f</th>\n",
                     "      <th>пенсионер</th>\n",
                     "      <th>0</th>\n",
                     "      <th>NaN</th>\n",
                     "      <th>на проведение свадьбы</th>\n",
                     "      <td>3</td>\n",
                     "    </tr>\n",
                     "    <tr>\n",
                     "      <th>58</th>\n",
                     "      <th>среднее</th>\n",
                     "      <th>1</th>\n",
                     "      <th>гражданский брак</th>\n",
                     "      <th>1</th>\n",
                     "      <th>m</th>\n",
                     "      <th>сотрудник</th>\n",
                     "      <th>0</th>\n",
                     "      <th>NaN</th>\n",
                     "      <th>на проведение свадьбы</th>\n",
                     "      <td>3</td>\n",
                     "    </tr>\n",
                     "    <tr>\n",
                     "      <th>54</th>\n",
                     "      <th>высшее</th>\n",
                     "      <th>0</th>\n",
                     "      <th>женат / замужем</th>\n",
                     "      <th>0</th>\n",
                     "      <th>m</th>\n",
                     "      <th>компаньон</th>\n",
                     "      <th>0</th>\n",
                     "      <th>NaN</th>\n",
                     "      <th>операции с коммерческой недвижимостью</th>\n",
                     "      <td>2</td>\n",
                     "    </tr>\n",
                     "    <tr>\n",
                     "      <th>41</th>\n",
                     "      <th>среднее</th>\n",
                     "      <th>1</th>\n",
                     "      <th>женат / замужем</th>\n",
                     "      <th>0</th>\n",
                     "      <th>f</th>\n",
                     "      <th>сотрудник</th>\n",
                     "      <th>0</th>\n",
                     "      <th>NaN</th>\n",
                     "      <th>свой автомобиль</th>\n",
                     "      <td>2</td>\n",
                     "    </tr>\n",
                     "    <tr>\n",
                     "      <th>2</th>\n",
                     "      <th>NaN</th>\n",
                     "      <th>39</th>\n",
                     "      <th>среднее</th>\n",
                     "      <th>1</th>\n",
                     "      <th>гражданский брак</th>\n",
                     "      <th>1</th>\n",
                     "      <th>f</th>\n",
                     "      <th>сотрудник</th>\n",
                     "      <th>0</th>\n",
                     "      <th>NaN</th>\n",
                     "      <th>сыграть свадьбу</th>\n",
                     "      <td>2</td>\n",
                     "    </tr>\n",
                     "    <tr>\n",
                     "      <th>0</th>\n",
                     "      <th>NaN</th>\n",
                     "      <th>56</th>\n",
                     "      <th>среднее</th>\n",
                     "      <th>1</th>\n",
                     "      <th>гражданский брак</th>\n",
                     "      <th>1</th>\n",
                     "      <th>f</th>\n",
                     "      <th>сотрудник</th>\n",
                     "      <th>0</th>\n",
                     "      <th>NaN</th>\n",
                     "      <th>сыграть свадьбу</th>\n",
                     "      <td>2</td>\n",
                     "    </tr>\n",
                     "    <tr>\n",
                     "      <th>1</th>\n",
                     "      <th>NaN</th>\n",
                     "      <th>37</th>\n",
                     "      <th>среднее</th>\n",
                     "      <th>1</th>\n",
                     "      <th>женат / замужем</th>\n",
                     "      <th>0</th>\n",
                     "      <th>f</th>\n",
                     "      <th>сотрудник</th>\n",
                     "      <th>0</th>\n",
                     "      <th>NaN</th>\n",
                     "      <th>покупка недвижимости</th>\n",
                     "      <td>2</td>\n",
                     "    </tr>\n",
                     "  </tbody>\n",
                     "</table>\n",
                     "</div>"
                  ],
                  "text/plain": [
                     "                                                                                                                                                                      Count\n",
                     "children days_employed dob_years education education_id family_status    family_status_id gender income_type debt total_income purpose                                     \n",
                     "0        NaN           58        среднее   1            гражданский брак 1                f      пенсионер   0    NaN          сыграть свадьбу                            3\n",
                     "                       62        среднее   1            женат / замужем  0                f      пенсионер   0    NaN          ремонт жилью                               3\n",
                     "                       47        среднее   1            женат / замужем  0                f      сотрудник   0    NaN          ремонт жилью                               3\n",
                     "                       71        среднее   1            гражданский брак 1                f      пенсионер   0    NaN          на проведение свадьбы                      3\n",
                     "                       58        среднее   1            гражданский брак 1                m      сотрудник   0    NaN          на проведение свадьбы                      3\n",
                     "                       54        высшее    0            женат / замужем  0                m      компаньон   0    NaN          операции с коммерческой недвижимостью      2\n",
                     "                       41        среднее   1            женат / замужем  0                f      сотрудник   0    NaN          свой автомобиль                            2\n",
                     "2        NaN           39        среднее   1            гражданский брак 1                f      сотрудник   0    NaN          сыграть свадьбу                            2\n",
                     "0        NaN           56        среднее   1            гражданский брак 1                f      сотрудник   0    NaN          сыграть свадьбу                            2\n",
                     "1        NaN           37        среднее   1            женат / замужем  0                f      сотрудник   0    NaN          покупка недвижимости                       2"
                  ]
               },
               "execution_count": 58,
               "metadata": {},
               "output_type": "execute_result"
            }
         ],
         "source": [
            "dupl_df.head(10)"
         ]
      },
      {
         "cell_type": "markdown",
         "metadata": {},
         "source": [
            "**Наблюдения:**\n",
            "- Так как у нас нет уникального идентификатора клиентов, то дубли это нормально\n",
            "- Также у нас в строках с дублями есть пропуски в некоторых столбцах, если бы не было пропусков,  \n",
            "то возможно дублей было бы меньше, так как было бы больше детализации"
         ]
      },
      {
         "cell_type": "markdown",
         "metadata": {},
         "source": [
            "Посмотрим сколько у нас дублей в каждой колонке"
         ]
      },
      {
         "cell_type": "code",
         "execution_count": 4,
         "metadata": {},
         "outputs": [
            {
               "data": {
                  "text/html": [
                     "<style type=\"text/css\">\n",
                     "#T_f514f_ caption {\n",
                     "  font-size: 18px;\n",
                     "  text-align: left;\n",
                     "  font-weight: bold;\n",
                     "}\n",
                     "</style>\n",
                     "<table id=\"T_f514f_\">\n",
                     "  <caption>Duplicates</caption>\n",
                     "  <thead>\n",
                     "  </thead>\n",
                     "  <tbody>\n",
                     "    <tr>\n",
                     "      <th id=\"T_f514f_level0_row0\" class=\"row_heading level0 row0\" >children</th>\n",
                     "      <td id=\"T_f514f_row0_col0\" class=\"data row0 col0\" >21517 (99.96%)</td>\n",
                     "    </tr>\n",
                     "    <tr>\n",
                     "      <th id=\"T_f514f_level0_row1\" class=\"row_heading level0 row1\" >days_employed</th>\n",
                     "      <td id=\"T_f514f_row1_col0\" class=\"data row1 col0\" >2173 (10.10%)</td>\n",
                     "    </tr>\n",
                     "    <tr>\n",
                     "      <th id=\"T_f514f_level0_row2\" class=\"row_heading level0 row2\" >dob_years</th>\n",
                     "      <td id=\"T_f514f_row2_col0\" class=\"data row2 col0\" >21467 (99.73%)</td>\n",
                     "    </tr>\n",
                     "    <tr>\n",
                     "      <th id=\"T_f514f_level0_row3\" class=\"row_heading level0 row3\" >education</th>\n",
                     "      <td id=\"T_f514f_row3_col0\" class=\"data row3 col0\" >21510 (99.93%)</td>\n",
                     "    </tr>\n",
                     "    <tr>\n",
                     "      <th id=\"T_f514f_level0_row4\" class=\"row_heading level0 row4\" >education_id</th>\n",
                     "      <td id=\"T_f514f_row4_col0\" class=\"data row4 col0\" >21520 (99.98%)</td>\n",
                     "    </tr>\n",
                     "    <tr>\n",
                     "      <th id=\"T_f514f_level0_row5\" class=\"row_heading level0 row5\" >family_status</th>\n",
                     "      <td id=\"T_f514f_row5_col0\" class=\"data row5 col0\" >21520 (99.98%)</td>\n",
                     "    </tr>\n",
                     "    <tr>\n",
                     "      <th id=\"T_f514f_level0_row6\" class=\"row_heading level0 row6\" >family_status_id</th>\n",
                     "      <td id=\"T_f514f_row6_col0\" class=\"data row6 col0\" >21520 (99.98%)</td>\n",
                     "    </tr>\n",
                     "    <tr>\n",
                     "      <th id=\"T_f514f_level0_row7\" class=\"row_heading level0 row7\" >gender</th>\n",
                     "      <td id=\"T_f514f_row7_col0\" class=\"data row7 col0\" >21522 (99.99%)</td>\n",
                     "    </tr>\n",
                     "    <tr>\n",
                     "      <th id=\"T_f514f_level0_row8\" class=\"row_heading level0 row8\" >income_type</th>\n",
                     "      <td id=\"T_f514f_row8_col0\" class=\"data row8 col0\" >21517 (99.96%)</td>\n",
                     "    </tr>\n",
                     "    <tr>\n",
                     "      <th id=\"T_f514f_level0_row9\" class=\"row_heading level0 row9\" >debt</th>\n",
                     "      <td id=\"T_f514f_row9_col0\" class=\"data row9 col0\" >21523 (99.99%)</td>\n",
                     "    </tr>\n",
                     "    <tr>\n",
                     "      <th id=\"T_f514f_level0_row10\" class=\"row_heading level0 row10\" >total_income</th>\n",
                     "      <td id=\"T_f514f_row10_col0\" class=\"data row10 col0\" >2173 (10.10%)</td>\n",
                     "    </tr>\n",
                     "    <tr>\n",
                     "      <th id=\"T_f514f_level0_row11\" class=\"row_heading level0 row11\" >purpose</th>\n",
                     "      <td id=\"T_f514f_row11_col0\" class=\"data row11 col0\" >21487 (99.82%)</td>\n",
                     "    </tr>\n",
                     "  </tbody>\n",
                     "</table>\n"
                  ],
                  "text/plain": [
                     "<pandas.io.formats.style.Styler at 0x19f021d0>"
                  ]
               },
               "metadata": {},
               "output_type": "display_data"
            }
         ],
         "source": [
            "series_duplicated = my_module.find_columns_with_duplicates(df)"
         ]
      },
      {
         "cell_type": "markdown",
         "metadata": {},
         "source": [
            "Посмотрим на дубликаты между парами колонок"
         ]
      },
      {
         "cell_type": "code",
         "execution_count": 126,
         "metadata": {},
         "outputs": [
            {
               "name": "stdout",
               "output_type": "stream",
               "text": [
                  "Group by 2 columns\n"
               ]
            },
            {
               "data": {
                  "text/html": [
                     "<style type=\"text/css\">\n",
                     "#T_1d8c9_ caption {\n",
                     "  font-size: 18px;\n",
                     "  text-align: left;\n",
                     "  font-weight: bold;\n",
                     "}\n",
                     "</style>\n",
                     "<table id=\"T_1d8c9_\">\n",
                     "  <caption>Duplicates</caption>\n",
                     "  <thead>\n",
                     "    <tr>\n",
                     "      <th class=\"blank level0\" >&nbsp;</th>\n",
                     "      <th class=\"col_heading level0 col0\" >children</th>\n",
                     "      <th class=\"col_heading level0 col1\" >dob_years</th>\n",
                     "      <th class=\"col_heading level0 col2\" >education</th>\n",
                     "      <th class=\"col_heading level0 col3\" >family_status</th>\n",
                     "      <th class=\"col_heading level0 col4\" >gender</th>\n",
                     "      <th class=\"col_heading level0 col5\" >income_type</th>\n",
                     "      <th class=\"col_heading level0 col6\" >debt</th>\n",
                     "      <th class=\"col_heading level0 col7\" >total_income</th>\n",
                     "      <th class=\"col_heading level0 col8\" >purpose</th>\n",
                     "    </tr>\n",
                     "  </thead>\n",
                     "  <tbody>\n",
                     "    <tr>\n",
                     "      <th id=\"T_1d8c9_level0_row0\" class=\"row_heading level0 row0\" >children</th>\n",
                     "      <td id=\"T_1d8c9_row0_col0\" class=\"data row0 col0\" ></td>\n",
                     "      <td id=\"T_1d8c9_row0_col1\" class=\"data row0 col1\" ></td>\n",
                     "      <td id=\"T_1d8c9_row0_col2\" class=\"data row0 col2\" ></td>\n",
                     "      <td id=\"T_1d8c9_row0_col3\" class=\"data row0 col3\" ></td>\n",
                     "      <td id=\"T_1d8c9_row0_col4\" class=\"data row0 col4\" ></td>\n",
                     "      <td id=\"T_1d8c9_row0_col5\" class=\"data row0 col5\" ></td>\n",
                     "      <td id=\"T_1d8c9_row0_col6\" class=\"data row0 col6\" ></td>\n",
                     "      <td id=\"T_1d8c9_row0_col7\" class=\"data row0 col7\" ></td>\n",
                     "      <td id=\"T_1d8c9_row0_col8\" class=\"data row0 col8\" ></td>\n",
                     "    </tr>\n",
                     "    <tr>\n",
                     "      <th id=\"T_1d8c9_level0_row1\" class=\"row_heading level0 row1\" >dob_years</th>\n",
                     "      <td id=\"T_1d8c9_row1_col0\" class=\"data row1 col0\" >21088</td>\n",
                     "      <td id=\"T_1d8c9_row1_col1\" class=\"data row1 col1\" ></td>\n",
                     "      <td id=\"T_1d8c9_row1_col2\" class=\"data row1 col2\" ></td>\n",
                     "      <td id=\"T_1d8c9_row1_col3\" class=\"data row1 col3\" ></td>\n",
                     "      <td id=\"T_1d8c9_row1_col4\" class=\"data row1 col4\" ></td>\n",
                     "      <td id=\"T_1d8c9_row1_col5\" class=\"data row1 col5\" ></td>\n",
                     "      <td id=\"T_1d8c9_row1_col6\" class=\"data row1 col6\" ></td>\n",
                     "      <td id=\"T_1d8c9_row1_col7\" class=\"data row1 col7\" ></td>\n",
                     "      <td id=\"T_1d8c9_row1_col8\" class=\"data row1 col8\" ></td>\n",
                     "    </tr>\n",
                     "    <tr>\n",
                     "      <th id=\"T_1d8c9_level0_row2\" class=\"row_heading level0 row2\" >education</th>\n",
                     "      <td id=\"T_1d8c9_row2_col0\" class=\"data row2 col0\" >21246</td>\n",
                     "      <td id=\"T_1d8c9_row2_col1\" class=\"data row2 col1\" >20804</td>\n",
                     "      <td id=\"T_1d8c9_row2_col2\" class=\"data row2 col2\" ></td>\n",
                     "      <td id=\"T_1d8c9_row2_col3\" class=\"data row2 col3\" ></td>\n",
                     "      <td id=\"T_1d8c9_row2_col4\" class=\"data row2 col4\" ></td>\n",
                     "      <td id=\"T_1d8c9_row2_col5\" class=\"data row2 col5\" ></td>\n",
                     "      <td id=\"T_1d8c9_row2_col6\" class=\"data row2 col6\" ></td>\n",
                     "      <td id=\"T_1d8c9_row2_col7\" class=\"data row2 col7\" ></td>\n",
                     "      <td id=\"T_1d8c9_row2_col8\" class=\"data row2 col8\" ></td>\n",
                     "    </tr>\n",
                     "    <tr>\n",
                     "      <th id=\"T_1d8c9_level0_row3\" class=\"row_heading level0 row3\" >family_status</th>\n",
                     "      <td id=\"T_1d8c9_row3_col0\" class=\"data row3 col0\" >21275</td>\n",
                     "      <td id=\"T_1d8c9_row3_col1\" class=\"data row3 col1\" >21035</td>\n",
                     "      <td id=\"T_1d8c9_row3_col2\" class=\"data row3 col2\" >21241</td>\n",
                     "      <td id=\"T_1d8c9_row3_col3\" class=\"data row3 col3\" ></td>\n",
                     "      <td id=\"T_1d8c9_row3_col4\" class=\"data row3 col4\" ></td>\n",
                     "      <td id=\"T_1d8c9_row3_col5\" class=\"data row3 col5\" ></td>\n",
                     "      <td id=\"T_1d8c9_row3_col6\" class=\"data row3 col6\" ></td>\n",
                     "      <td id=\"T_1d8c9_row3_col7\" class=\"data row3 col7\" ></td>\n",
                     "      <td id=\"T_1d8c9_row3_col8\" class=\"data row3 col8\" ></td>\n",
                     "    </tr>\n",
                     "    <tr>\n",
                     "      <th id=\"T_1d8c9_level0_row4\" class=\"row_heading level0 row4\" >gender</th>\n",
                     "      <td id=\"T_1d8c9_row4_col0\" class=\"data row4 col0\" >21289</td>\n",
                     "      <td id=\"T_1d8c9_row4_col1\" class=\"data row4 col1\" >21189</td>\n",
                     "      <td id=\"T_1d8c9_row4_col2\" class=\"data row4 col2\" >21273</td>\n",
                     "      <td id=\"T_1d8c9_row4_col3\" class=\"data row4 col3\" >21291</td>\n",
                     "      <td id=\"T_1d8c9_row4_col4\" class=\"data row4 col4\" ></td>\n",
                     "      <td id=\"T_1d8c9_row4_col5\" class=\"data row4 col5\" ></td>\n",
                     "      <td id=\"T_1d8c9_row4_col6\" class=\"data row4 col6\" ></td>\n",
                     "      <td id=\"T_1d8c9_row4_col7\" class=\"data row4 col7\" ></td>\n",
                     "      <td id=\"T_1d8c9_row4_col8\" class=\"data row4 col8\" ></td>\n",
                     "    </tr>\n",
                     "    <tr>\n",
                     "      <th id=\"T_1d8c9_level0_row5\" class=\"row_heading level0 row5\" >income_type</th>\n",
                     "      <td id=\"T_1d8c9_row5_col0\" class=\"data row5 col0\" >21274</td>\n",
                     "      <td id=\"T_1d8c9_row5_col1\" class=\"data row5 col1\" >21086</td>\n",
                     "      <td id=\"T_1d8c9_row5_col2\" class=\"data row5 col2\" >21246</td>\n",
                     "      <td id=\"T_1d8c9_row5_col3\" class=\"data row5 col3\" >21276</td>\n",
                     "      <td id=\"T_1d8c9_row5_col4\" class=\"data row5 col4\" >21287</td>\n",
                     "      <td id=\"T_1d8c9_row5_col5\" class=\"data row5 col5\" ></td>\n",
                     "      <td id=\"T_1d8c9_row5_col6\" class=\"data row5 col6\" ></td>\n",
                     "      <td id=\"T_1d8c9_row5_col7\" class=\"data row5 col7\" ></td>\n",
                     "      <td id=\"T_1d8c9_row5_col8\" class=\"data row5 col8\" ></td>\n",
                     "    </tr>\n",
                     "    <tr>\n",
                     "      <th id=\"T_1d8c9_level0_row6\" class=\"row_heading level0 row6\" >debt</th>\n",
                     "      <td id=\"T_1d8c9_row6_col0\" class=\"data row6 col0\" >21291</td>\n",
                     "      <td id=\"T_1d8c9_row6_col1\" class=\"data row6 col1\" >21191</td>\n",
                     "      <td id=\"T_1d8c9_row6_col2\" class=\"data row6 col2\" >21275</td>\n",
                     "      <td id=\"T_1d8c9_row6_col3\" class=\"data row6 col3\" >21292</td>\n",
                     "      <td id=\"T_1d8c9_row6_col4\" class=\"data row6 col4\" >21297</td>\n",
                     "      <td id=\"T_1d8c9_row6_col5\" class=\"data row6 col5\" >21289</td>\n",
                     "      <td id=\"T_1d8c9_row6_col6\" class=\"data row6 col6\" ></td>\n",
                     "      <td id=\"T_1d8c9_row6_col7\" class=\"data row6 col7\" ></td>\n",
                     "      <td id=\"T_1d8c9_row6_col8\" class=\"data row6 col8\" ></td>\n",
                     "    </tr>\n",
                     "    <tr>\n",
                     "      <th id=\"T_1d8c9_level0_row7\" class=\"row_heading level0 row7\" >total_income</th>\n",
                     "      <td id=\"T_1d8c9_row7_col0\" class=\"data row7 col0\" >1914</td>\n",
                     "      <td id=\"T_1d8c9_row7_col1\" class=\"data row7 col1\" >1032</td>\n",
                     "      <td id=\"T_1d8c9_row7_col2\" class=\"data row7 col2\" >2073</td>\n",
                     "      <td id=\"T_1d8c9_row7_col3\" class=\"data row7 col3\" >2046</td>\n",
                     "      <td id=\"T_1d8c9_row7_col4\" class=\"data row7 col4\" >2069</td>\n",
                     "      <td id=\"T_1d8c9_row7_col5\" class=\"data row7 col5\" >2071</td>\n",
                     "      <td id=\"T_1d8c9_row7_col6\" class=\"data row7 col6\" >2018</td>\n",
                     "      <td id=\"T_1d8c9_row7_col7\" class=\"data row7 col7\" ></td>\n",
                     "      <td id=\"T_1d8c9_row7_col8\" class=\"data row7 col8\" ></td>\n",
                     "    </tr>\n",
                     "    <tr>\n",
                     "      <th id=\"T_1d8c9_level0_row8\" class=\"row_heading level0 row8\" >purpose</th>\n",
                     "      <td id=\"T_1d8c9_row8_col0\" class=\"data row8 col0\" >21117</td>\n",
                     "      <td id=\"T_1d8c9_row8_col1\" class=\"data row8 col1\" >19316</td>\n",
                     "      <td id=\"T_1d8c9_row8_col2\" class=\"data row8 col2\" >20916</td>\n",
                     "      <td id=\"T_1d8c9_row8_col3\" class=\"data row8 col3\" >21124</td>\n",
                     "      <td id=\"T_1d8c9_row8_col4\" class=\"data row8 col4\" >21225</td>\n",
                     "      <td id=\"T_1d8c9_row8_col5\" class=\"data row8 col5\" >21144</td>\n",
                     "      <td id=\"T_1d8c9_row8_col6\" class=\"data row8 col6\" >21226</td>\n",
                     "      <td id=\"T_1d8c9_row8_col7\" class=\"data row8 col7\" >1084</td>\n",
                     "      <td id=\"T_1d8c9_row8_col8\" class=\"data row8 col8\" ></td>\n",
                     "    </tr>\n",
                     "  </tbody>\n",
                     "</table>\n"
                  ],
                  "text/plain": [
                     "<pandas.io.formats.style.Styler at 0x1a1c2a90>"
                  ]
               },
               "metadata": {},
               "output_type": "display_data"
            }
         ],
         "source": [
            "gen = my_module.check_duplicated_combinations_gen(df)\n",
            "next(gen)"
         ]
      },
      {
         "cell_type": "markdown",
         "metadata": {},
         "source": [
            "**Наблюдения:**\n",
            "- У нас большинство колонок имеют попраные дубликаты, это скорее всего вызвано пропусками\n",
            "- Если бы не было пропусков в колонках стажа и дохода, то дублей было бы меньше"
         ]
      },
      {
         "cell_type": "markdown",
         "metadata": {},
         "source": [
            "Проверяем на пропуски    "
         ]
      },
      {
         "cell_type": "code",
         "execution_count": 5,
         "metadata": {},
         "outputs": [
            {
               "data": {
                  "text/html": [
                     "<style type=\"text/css\">\n",
                     "#T_562da_ caption {\n",
                     "  font-size: 18px;\n",
                     "  text-align: left;\n",
                     "  font-weight: bold;\n",
                     "}\n",
                     "</style>\n",
                     "<table id=\"T_562da_\">\n",
                     "  <caption>Missings</caption>\n",
                     "  <thead>\n",
                     "  </thead>\n",
                     "  <tbody>\n",
                     "    <tr>\n",
                     "      <th id=\"T_562da_level0_row0\" class=\"row_heading level0 row0\" >days_employed</th>\n",
                     "      <td id=\"T_562da_row0_col0\" class=\"data row0 col0\" >2174 (10.10%)</td>\n",
                     "    </tr>\n",
                     "    <tr>\n",
                     "      <th id=\"T_562da_level0_row1\" class=\"row_heading level0 row1\" >total_income</th>\n",
                     "      <td id=\"T_562da_row1_col0\" class=\"data row1 col0\" >2174 (10.10%)</td>\n",
                     "    </tr>\n",
                     "  </tbody>\n",
                     "</table>\n"
                  ],
                  "text/plain": [
                     "<pandas.io.formats.style.Styler at 0x1a19ada0>"
                  ]
               },
               "metadata": {},
               "output_type": "display_data"
            }
         ],
         "source": [
            "series_missed = my_module.find_columns_with_missing_values(df)"
         ]
      },
      {
         "cell_type": "markdown",
         "metadata": {},
         "source": [
            "У нас пропуски в колонке со стажем и в колокне с доходом.  \n",
            "Посмотрим на строки датафрейма с пропусками.  "
         ]
      },
      {
         "cell_type": "code",
         "execution_count": 14,
         "metadata": {},
         "outputs": [],
         "source": [
            "days_employed_missed = series_missed['days_employed']\n",
            "total_income_missed = series_missed['total_income']"
         ]
      },
      {
         "cell_type": "markdown",
         "metadata": {},
         "source": [
            "Количество пропусков совпдаает с точностью до строки.  \n",
            "Выдвигаем гипотезу, что пропуски в обоих колонках в одних и тех же строках. "
         ]
      },
      {
         "cell_type": "markdown",
         "metadata": {},
         "source": [
            "Проверим эту гипотезу"
         ]
      },
      {
         "cell_type": "markdown",
         "metadata": {},
         "source": [
            "Посмотрим на стаж"
         ]
      },
      {
         "cell_type": "code",
         "execution_count": 11,
         "metadata": {},
         "outputs": [
            {
               "data": {
                  "text/html": [
                     "<div>\n",
                     "<style scoped>\n",
                     "    .dataframe tbody tr th:only-of-type {\n",
                     "        vertical-align: middle;\n",
                     "    }\n",
                     "\n",
                     "    .dataframe tbody tr th {\n",
                     "        vertical-align: top;\n",
                     "    }\n",
                     "\n",
                     "    .dataframe thead th {\n",
                     "        text-align: right;\n",
                     "    }\n",
                     "</style>\n",
                     "<table border=\"1\" class=\"dataframe\">\n",
                     "  <thead>\n",
                     "    <tr style=\"text-align: right;\">\n",
                     "      <th></th>\n",
                     "      <th>children</th>\n",
                     "      <th>days_employed</th>\n",
                     "      <th>dob_years</th>\n",
                     "      <th>education</th>\n",
                     "      <th>education_id</th>\n",
                     "      <th>family_status</th>\n",
                     "      <th>family_status_id</th>\n",
                     "      <th>gender</th>\n",
                     "      <th>income_type</th>\n",
                     "      <th>debt</th>\n",
                     "      <th>total_income</th>\n",
                     "      <th>purpose</th>\n",
                     "    </tr>\n",
                     "  </thead>\n",
                     "  <tbody>\n",
                     "    <tr>\n",
                     "      <th>4634</th>\n",
                     "      <td>0</td>\n",
                     "      <td>NaN</td>\n",
                     "      <td>64</td>\n",
                     "      <td>среднее</td>\n",
                     "      <td>1</td>\n",
                     "      <td>в разводе</td>\n",
                     "      <td>3</td>\n",
                     "      <td>F</td>\n",
                     "      <td>сотрудник</td>\n",
                     "      <td>0</td>\n",
                     "      <td>NaN</td>\n",
                     "      <td>высшее образование</td>\n",
                     "    </tr>\n",
                     "    <tr>\n",
                     "      <th>8086</th>\n",
                     "      <td>0</td>\n",
                     "      <td>NaN</td>\n",
                     "      <td>23</td>\n",
                     "      <td>среднее</td>\n",
                     "      <td>1</td>\n",
                     "      <td>Не женат / не замужем</td>\n",
                     "      <td>4</td>\n",
                     "      <td>M</td>\n",
                     "      <td>сотрудник</td>\n",
                     "      <td>0</td>\n",
                     "      <td>NaN</td>\n",
                     "      <td>приобретение автомобиля</td>\n",
                     "    </tr>\n",
                     "    <tr>\n",
                     "      <th>9096</th>\n",
                     "      <td>0</td>\n",
                     "      <td>NaN</td>\n",
                     "      <td>47</td>\n",
                     "      <td>среднее</td>\n",
                     "      <td>1</td>\n",
                     "      <td>женат / замужем</td>\n",
                     "      <td>0</td>\n",
                     "      <td>F</td>\n",
                     "      <td>сотрудник</td>\n",
                     "      <td>0</td>\n",
                     "      <td>NaN</td>\n",
                     "      <td>покупка жилья для семьи</td>\n",
                     "    </tr>\n",
                     "    <tr>\n",
                     "      <th>1052</th>\n",
                     "      <td>2</td>\n",
                     "      <td>NaN</td>\n",
                     "      <td>35</td>\n",
                     "      <td>среднее</td>\n",
                     "      <td>1</td>\n",
                     "      <td>женат / замужем</td>\n",
                     "      <td>0</td>\n",
                     "      <td>M</td>\n",
                     "      <td>сотрудник</td>\n",
                     "      <td>0</td>\n",
                     "      <td>NaN</td>\n",
                     "      <td>операции с недвижимостью</td>\n",
                     "    </tr>\n",
                     "    <tr>\n",
                     "      <th>5802</th>\n",
                     "      <td>0</td>\n",
                     "      <td>NaN</td>\n",
                     "      <td>29</td>\n",
                     "      <td>высшее</td>\n",
                     "      <td>0</td>\n",
                     "      <td>женат / замужем</td>\n",
                     "      <td>0</td>\n",
                     "      <td>F</td>\n",
                     "      <td>сотрудник</td>\n",
                     "      <td>0</td>\n",
                     "      <td>NaN</td>\n",
                     "      <td>операции с коммерческой недвижимостью</td>\n",
                     "    </tr>\n",
                     "    <tr>\n",
                     "      <th>9374</th>\n",
                     "      <td>0</td>\n",
                     "      <td>NaN</td>\n",
                     "      <td>38</td>\n",
                     "      <td>высшее</td>\n",
                     "      <td>0</td>\n",
                     "      <td>гражданский брак</td>\n",
                     "      <td>1</td>\n",
                     "      <td>F</td>\n",
                     "      <td>компаньон</td>\n",
                     "      <td>0</td>\n",
                     "      <td>NaN</td>\n",
                     "      <td>на проведение свадьбы</td>\n",
                     "    </tr>\n",
                     "    <tr>\n",
                     "      <th>12911</th>\n",
                     "      <td>0</td>\n",
                     "      <td>NaN</td>\n",
                     "      <td>52</td>\n",
                     "      <td>среднее</td>\n",
                     "      <td>1</td>\n",
                     "      <td>Не женат / не замужем</td>\n",
                     "      <td>4</td>\n",
                     "      <td>M</td>\n",
                     "      <td>пенсионер</td>\n",
                     "      <td>1</td>\n",
                     "      <td>NaN</td>\n",
                     "      <td>на покупку своего автомобиля</td>\n",
                     "    </tr>\n",
                     "    <tr>\n",
                     "      <th>16395</th>\n",
                     "      <td>0</td>\n",
                     "      <td>NaN</td>\n",
                     "      <td>29</td>\n",
                     "      <td>высшее</td>\n",
                     "      <td>0</td>\n",
                     "      <td>гражданский брак</td>\n",
                     "      <td>1</td>\n",
                     "      <td>F</td>\n",
                     "      <td>сотрудник</td>\n",
                     "      <td>0</td>\n",
                     "      <td>NaN</td>\n",
                     "      <td>сыграть свадьбу</td>\n",
                     "    </tr>\n",
                     "    <tr>\n",
                     "      <th>11754</th>\n",
                     "      <td>0</td>\n",
                     "      <td>NaN</td>\n",
                     "      <td>42</td>\n",
                     "      <td>высшее</td>\n",
                     "      <td>0</td>\n",
                     "      <td>гражданский брак</td>\n",
                     "      <td>1</td>\n",
                     "      <td>F</td>\n",
                     "      <td>сотрудник</td>\n",
                     "      <td>0</td>\n",
                     "      <td>NaN</td>\n",
                     "      <td>сыграть свадьбу</td>\n",
                     "    </tr>\n",
                     "    <tr>\n",
                     "      <th>12937</th>\n",
                     "      <td>1</td>\n",
                     "      <td>NaN</td>\n",
                     "      <td>38</td>\n",
                     "      <td>среднее</td>\n",
                     "      <td>1</td>\n",
                     "      <td>женат / замужем</td>\n",
                     "      <td>0</td>\n",
                     "      <td>M</td>\n",
                     "      <td>компаньон</td>\n",
                     "      <td>0</td>\n",
                     "      <td>NaN</td>\n",
                     "      <td>автомобили</td>\n",
                     "    </tr>\n",
                     "  </tbody>\n",
                     "</table>\n",
                     "</div>"
                  ],
                  "text/plain": [
                     "       children  days_employed  dob_years education education_id  \\\n",
                     "4634          0            NaN         64   среднее            1   \n",
                     "8086          0            NaN         23   среднее            1   \n",
                     "9096          0            NaN         47   среднее            1   \n",
                     "1052          2            NaN         35   среднее            1   \n",
                     "5802          0            NaN         29    высшее            0   \n",
                     "9374          0            NaN         38    высшее            0   \n",
                     "12911         0            NaN         52   среднее            1   \n",
                     "16395         0            NaN         29    высшее            0   \n",
                     "11754         0            NaN         42    высшее            0   \n",
                     "12937         1            NaN         38   среднее            1   \n",
                     "\n",
                     "               family_status family_status_id gender income_type debt  \\\n",
                     "4634               в разводе                3      F   сотрудник    0   \n",
                     "8086   Не женат / не замужем                4      M   сотрудник    0   \n",
                     "9096         женат / замужем                0      F   сотрудник    0   \n",
                     "1052         женат / замужем                0      M   сотрудник    0   \n",
                     "5802         женат / замужем                0      F   сотрудник    0   \n",
                     "9374        гражданский брак                1      F   компаньон    0   \n",
                     "12911  Не женат / не замужем                4      M   пенсионер    1   \n",
                     "16395       гражданский брак                1      F   сотрудник    0   \n",
                     "11754       гражданский брак                1      F   сотрудник    0   \n",
                     "12937        женат / замужем                0      M   компаньон    0   \n",
                     "\n",
                     "       total_income                                purpose  \n",
                     "4634            NaN                     высшее образование  \n",
                     "8086            NaN                приобретение автомобиля  \n",
                     "9096            NaN                покупка жилья для семьи  \n",
                     "1052            NaN               операции с недвижимостью  \n",
                     "5802            NaN  операции с коммерческой недвижимостью  \n",
                     "9374            NaN                  на проведение свадьбы  \n",
                     "12911           NaN           на покупку своего автомобиля  \n",
                     "16395           NaN                        сыграть свадьбу  \n",
                     "11754           NaN                        сыграть свадьбу  \n",
                     "12937           NaN                             автомобили  "
                  ]
               },
               "execution_count": 11,
               "metadata": {},
               "output_type": "execute_result"
            }
         ],
         "source": [
            "days_employed_missed.sample(10)"
         ]
      },
      {
         "cell_type": "markdown",
         "metadata": {},
         "source": [
            "**Наблюдения:**\n",
            "- 10 случайно взятых строк подтверждают гипотезу"
         ]
      },
      {
         "cell_type": "markdown",
         "metadata": {},
         "source": [
            "Посмотрим на доход"
         ]
      },
      {
         "cell_type": "code",
         "execution_count": 17,
         "metadata": {},
         "outputs": [
            {
               "data": {
                  "text/html": [
                     "<div>\n",
                     "<style scoped>\n",
                     "    .dataframe tbody tr th:only-of-type {\n",
                     "        vertical-align: middle;\n",
                     "    }\n",
                     "\n",
                     "    .dataframe tbody tr th {\n",
                     "        vertical-align: top;\n",
                     "    }\n",
                     "\n",
                     "    .dataframe thead th {\n",
                     "        text-align: right;\n",
                     "    }\n",
                     "</style>\n",
                     "<table border=\"1\" class=\"dataframe\">\n",
                     "  <thead>\n",
                     "    <tr style=\"text-align: right;\">\n",
                     "      <th></th>\n",
                     "      <th>children</th>\n",
                     "      <th>days_employed</th>\n",
                     "      <th>dob_years</th>\n",
                     "      <th>education</th>\n",
                     "      <th>education_id</th>\n",
                     "      <th>family_status</th>\n",
                     "      <th>family_status_id</th>\n",
                     "      <th>gender</th>\n",
                     "      <th>income_type</th>\n",
                     "      <th>debt</th>\n",
                     "      <th>total_income</th>\n",
                     "      <th>purpose</th>\n",
                     "    </tr>\n",
                     "  </thead>\n",
                     "  <tbody>\n",
                     "    <tr>\n",
                     "      <th>16328</th>\n",
                     "      <td>0</td>\n",
                     "      <td>NaN</td>\n",
                     "      <td>51</td>\n",
                     "      <td>среднее</td>\n",
                     "      <td>1</td>\n",
                     "      <td>Не женат / не замужем</td>\n",
                     "      <td>4</td>\n",
                     "      <td>F</td>\n",
                     "      <td>компаньон</td>\n",
                     "      <td>0</td>\n",
                     "      <td>NaN</td>\n",
                     "      <td>покупка недвижимости</td>\n",
                     "    </tr>\n",
                     "    <tr>\n",
                     "      <th>19433</th>\n",
                     "      <td>0</td>\n",
                     "      <td>NaN</td>\n",
                     "      <td>48</td>\n",
                     "      <td>высшее</td>\n",
                     "      <td>0</td>\n",
                     "      <td>гражданский брак</td>\n",
                     "      <td>1</td>\n",
                     "      <td>F</td>\n",
                     "      <td>компаньон</td>\n",
                     "      <td>0</td>\n",
                     "      <td>NaN</td>\n",
                     "      <td>на проведение свадьбы</td>\n",
                     "    </tr>\n",
                     "    <tr>\n",
                     "      <th>2644</th>\n",
                     "      <td>2</td>\n",
                     "      <td>NaN</td>\n",
                     "      <td>40</td>\n",
                     "      <td>среднее</td>\n",
                     "      <td>1</td>\n",
                     "      <td>гражданский брак</td>\n",
                     "      <td>1</td>\n",
                     "      <td>F</td>\n",
                     "      <td>сотрудник</td>\n",
                     "      <td>0</td>\n",
                     "      <td>NaN</td>\n",
                     "      <td>на проведение свадьбы</td>\n",
                     "    </tr>\n",
                     "    <tr>\n",
                     "      <th>3062</th>\n",
                     "      <td>0</td>\n",
                     "      <td>NaN</td>\n",
                     "      <td>42</td>\n",
                     "      <td>среднее</td>\n",
                     "      <td>1</td>\n",
                     "      <td>женат / замужем</td>\n",
                     "      <td>0</td>\n",
                     "      <td>M</td>\n",
                     "      <td>сотрудник</td>\n",
                     "      <td>0</td>\n",
                     "      <td>NaN</td>\n",
                     "      <td>операции с жильем</td>\n",
                     "    </tr>\n",
                     "    <tr>\n",
                     "      <th>20501</th>\n",
                     "      <td>2</td>\n",
                     "      <td>NaN</td>\n",
                     "      <td>33</td>\n",
                     "      <td>высшее</td>\n",
                     "      <td>0</td>\n",
                     "      <td>женат / замужем</td>\n",
                     "      <td>0</td>\n",
                     "      <td>M</td>\n",
                     "      <td>компаньон</td>\n",
                     "      <td>0</td>\n",
                     "      <td>NaN</td>\n",
                     "      <td>заняться высшим образованием</td>\n",
                     "    </tr>\n",
                     "    <tr>\n",
                     "      <th>15571</th>\n",
                     "      <td>0</td>\n",
                     "      <td>NaN</td>\n",
                     "      <td>36</td>\n",
                     "      <td>Среднее</td>\n",
                     "      <td>1</td>\n",
                     "      <td>женат / замужем</td>\n",
                     "      <td>0</td>\n",
                     "      <td>M</td>\n",
                     "      <td>сотрудник</td>\n",
                     "      <td>0</td>\n",
                     "      <td>NaN</td>\n",
                     "      <td>операции со своей недвижимостью</td>\n",
                     "    </tr>\n",
                     "    <tr>\n",
                     "      <th>8128</th>\n",
                     "      <td>0</td>\n",
                     "      <td>NaN</td>\n",
                     "      <td>36</td>\n",
                     "      <td>среднее</td>\n",
                     "      <td>1</td>\n",
                     "      <td>Не женат / не замужем</td>\n",
                     "      <td>4</td>\n",
                     "      <td>M</td>\n",
                     "      <td>сотрудник</td>\n",
                     "      <td>0</td>\n",
                     "      <td>NaN</td>\n",
                     "      <td>приобретение автомобиля</td>\n",
                     "    </tr>\n",
                     "    <tr>\n",
                     "      <th>14742</th>\n",
                     "      <td>0</td>\n",
                     "      <td>NaN</td>\n",
                     "      <td>23</td>\n",
                     "      <td>среднее</td>\n",
                     "      <td>1</td>\n",
                     "      <td>Не женат / не замужем</td>\n",
                     "      <td>4</td>\n",
                     "      <td>F</td>\n",
                     "      <td>сотрудник</td>\n",
                     "      <td>0</td>\n",
                     "      <td>NaN</td>\n",
                     "      <td>строительство недвижимости</td>\n",
                     "    </tr>\n",
                     "    <tr>\n",
                     "      <th>16148</th>\n",
                     "      <td>0</td>\n",
                     "      <td>NaN</td>\n",
                     "      <td>45</td>\n",
                     "      <td>среднее</td>\n",
                     "      <td>1</td>\n",
                     "      <td>гражданский брак</td>\n",
                     "      <td>1</td>\n",
                     "      <td>F</td>\n",
                     "      <td>компаньон</td>\n",
                     "      <td>0</td>\n",
                     "      <td>NaN</td>\n",
                     "      <td>свадьба</td>\n",
                     "    </tr>\n",
                     "    <tr>\n",
                     "      <th>14378</th>\n",
                     "      <td>0</td>\n",
                     "      <td>NaN</td>\n",
                     "      <td>36</td>\n",
                     "      <td>среднее</td>\n",
                     "      <td>1</td>\n",
                     "      <td>гражданский брак</td>\n",
                     "      <td>1</td>\n",
                     "      <td>M</td>\n",
                     "      <td>сотрудник</td>\n",
                     "      <td>0</td>\n",
                     "      <td>NaN</td>\n",
                     "      <td>жилье</td>\n",
                     "    </tr>\n",
                     "  </tbody>\n",
                     "</table>\n",
                     "</div>"
                  ],
                  "text/plain": [
                     "       children  days_employed  dob_years education education_id  \\\n",
                     "16328         0            NaN         51   среднее            1   \n",
                     "19433         0            NaN         48    высшее            0   \n",
                     "2644          2            NaN         40   среднее            1   \n",
                     "3062          0            NaN         42   среднее            1   \n",
                     "20501         2            NaN         33    высшее            0   \n",
                     "15571         0            NaN         36   Среднее            1   \n",
                     "8128          0            NaN         36   среднее            1   \n",
                     "14742         0            NaN         23   среднее            1   \n",
                     "16148         0            NaN         45   среднее            1   \n",
                     "14378         0            NaN         36   среднее            1   \n",
                     "\n",
                     "               family_status family_status_id gender income_type debt  \\\n",
                     "16328  Не женат / не замужем                4      F   компаньон    0   \n",
                     "19433       гражданский брак                1      F   компаньон    0   \n",
                     "2644        гражданский брак                1      F   сотрудник    0   \n",
                     "3062         женат / замужем                0      M   сотрудник    0   \n",
                     "20501        женат / замужем                0      M   компаньон    0   \n",
                     "15571        женат / замужем                0      M   сотрудник    0   \n",
                     "8128   Не женат / не замужем                4      M   сотрудник    0   \n",
                     "14742  Не женат / не замужем                4      F   сотрудник    0   \n",
                     "16148       гражданский брак                1      F   компаньон    0   \n",
                     "14378       гражданский брак                1      M   сотрудник    0   \n",
                     "\n",
                     "       total_income                          purpose  \n",
                     "16328           NaN             покупка недвижимости  \n",
                     "19433           NaN            на проведение свадьбы  \n",
                     "2644            NaN            на проведение свадьбы  \n",
                     "3062            NaN                операции с жильем  \n",
                     "20501           NaN     заняться высшим образованием  \n",
                     "15571           NaN  операции со своей недвижимостью  \n",
                     "8128            NaN          приобретение автомобиля  \n",
                     "14742           NaN       строительство недвижимости  \n",
                     "16148           NaN                          свадьба  \n",
                     "14378           NaN                            жилье  "
                  ]
               },
               "execution_count": 17,
               "metadata": {},
               "output_type": "execute_result"
            }
         ],
         "source": [
            "total_income_missed.sample(10)"
         ]
      },
      {
         "cell_type": "markdown",
         "metadata": {},
         "source": [
            "**Наблюдения:**\n",
            "- 10 случайно взятых строк подтверждают гипотезу"
         ]
      },
      {
         "cell_type": "markdown",
         "metadata": {},
         "source": [
            "Посмотрим сколько пропусков в обоих колонках вместе"
         ]
      },
      {
         "cell_type": "code",
         "execution_count": 14,
         "metadata": {},
         "outputs": [
            {
               "name": "stdout",
               "output_type": "stream",
               "text": [
                  "2174 (10.10%) rows with missings simultaneously in ['days_employed', 'total_income']\n"
               ]
            }
         ],
         "source": [
            "df_missed_employed_income = my_module.check_na_in_both_columns(df, ['days_employed', 'total_income'])"
         ]
      },
      {
         "cell_type": "markdown",
         "metadata": {},
         "source": [
            "**Наблюдения:**\n",
            "- Видим, что совместно пропуски в таком количестве строк как и по отдельности. \n",
            "Гипотеза подтвердилась. У нас пропуски в строке стаж связаны с пропусками в строке доход.  \n",
            "Возможно это вызвано тем, что при расчете дохода испльзуется стаж, либо существует другое влияние одного на другое.  "
         ]
      },
      {
         "cell_type": "markdown",
         "metadata": {},
         "source": [
            "Изучаем выбросы"
         ]
      },
      {
         "cell_type": "markdown",
         "metadata": {},
         "source": [
            "Сначала изучим потенциальные выбросы, которые мы выявили при изучении колонок.  \n",
            "У нас в количестве детей есть значение 20.   \n",
            "Изучим его подробнее.  "
         ]
      },
      {
         "cell_type": "code",
         "execution_count": 50,
         "metadata": {},
         "outputs": [
            {
               "name": "stdout",
               "output_type": "stream",
               "text": [
                  "Value counts outliers\n"
               ]
            },
            {
               "data": {
                  "text/html": [
                     "<style type=\"text/css\">\n",
                     "#T_ee80c_ caption {\n",
                     "  font-size: 18px;\n",
                     "  text-align: left;\n",
                     "  font-weight: bold;\n",
                     "}\n",
                     "</style>\n",
                     "<table id=\"T_ee80c_\">\n",
                     "  <caption>children</caption>\n",
                     "  <thead>\n",
                     "    <tr>\n",
                     "      <th class=\"blank level0\" >&nbsp;</th>\n",
                     "      <th class=\"col_heading level0 col0\" >outliers</th>\n",
                     "    </tr>\n",
                     "  </thead>\n",
                     "  <tbody>\n",
                     "    <tr>\n",
                     "      <th id=\"T_ee80c_level0_row0\" class=\"row_heading level0 row0\" >20</th>\n",
                     "      <td id=\"T_ee80c_row0_col0\" class=\"data row0 col0\" >76</td>\n",
                     "    </tr>\n",
                     "  </tbody>\n",
                     "</table>\n"
                  ],
                  "text/plain": [
                     "<pandas.io.formats.style.Styler at 0x194caeb8>"
                  ]
               },
               "metadata": {},
               "output_type": "display_data"
            }
         ],
         "source": [
            "outliers_series = pd.Series([df[df.children == 20]], index=['children'])\n",
            "gen = my_module.analys_by_category_gen(df, outliers_series)\n",
            "next(gen)"
         ]
      },
      {
         "cell_type": "code",
         "execution_count": 54,
         "metadata": {},
         "outputs": [
            {
               "data": {
                  "text/html": [
                     "<style type=\"text/css\">\n",
                     "#T_c5da2_ caption {\n",
                     "  font-size: 18px;\n",
                     "  text-align: left;\n",
                     "  font-weight: bold;\n",
                     "}\n",
                     "</style>\n",
                     "<table id=\"T_c5da2_\">\n",
                     "  <caption>Outliers in \"children\" by category \"family_status\"</caption>\n",
                     "  <thead>\n",
                     "    <tr>\n",
                     "      <th class=\"col_heading level0 col0\" >family_status</th>\n",
                     "      <th class=\"col_heading level0 col1\" >total_count</th>\n",
                     "      <th class=\"col_heading level0 col2\" >outlier_count</th>\n",
                     "      <th class=\"col_heading level0 col3\" >outlier_in_category_pct</th>\n",
                     "      <th class=\"col_heading level0 col4\" >outlier_in_column_pct</th>\n",
                     "      <th class=\"col_heading level0 col5\" >total_count_pct</th>\n",
                     "    </tr>\n",
                     "  </thead>\n",
                     "  <tbody>\n",
                     "    <tr>\n",
                     "      <td id=\"T_c5da2_row0_col0\" class=\"data row0 col0\" >Не женат / не замужем</td>\n",
                     "      <td id=\"T_c5da2_row0_col1\" class=\"data row0 col1\" >2813</td>\n",
                     "      <td id=\"T_c5da2_row0_col2\" class=\"data row0 col2\" >24</td>\n",
                     "      <td id=\"T_c5da2_row0_col3\" class=\"data row0 col3\" >0.9%</td>\n",
                     "      <td id=\"T_c5da2_row0_col4\" class=\"data row0 col4\" >4.8%</td>\n",
                     "      <td id=\"T_c5da2_row0_col5\" class=\"data row0 col5\" >13.1%</td>\n",
                     "    </tr>\n",
                     "    <tr>\n",
                     "      <td id=\"T_c5da2_row1_col0\" class=\"data row1 col0\" >в разводе</td>\n",
                     "      <td id=\"T_c5da2_row1_col1\" class=\"data row1 col1\" >1195</td>\n",
                     "      <td id=\"T_c5da2_row1_col2\" class=\"data row1 col2\" >18</td>\n",
                     "      <td id=\"T_c5da2_row1_col3\" class=\"data row1 col3\" >1.5%</td>\n",
                     "      <td id=\"T_c5da2_row1_col4\" class=\"data row1 col4\" >3.6%</td>\n",
                     "      <td id=\"T_c5da2_row1_col5\" class=\"data row1 col5\" >5.6%</td>\n",
                     "    </tr>\n",
                     "    <tr>\n",
                     "      <td id=\"T_c5da2_row2_col0\" class=\"data row2 col0\" >вдовец / вдова</td>\n",
                     "      <td id=\"T_c5da2_row2_col1\" class=\"data row2 col1\" >960</td>\n",
                     "      <td id=\"T_c5da2_row2_col2\" class=\"data row2 col2\" >15</td>\n",
                     "      <td id=\"T_c5da2_row2_col3\" class=\"data row2 col3\" >1.6%</td>\n",
                     "      <td id=\"T_c5da2_row2_col4\" class=\"data row2 col4\" >3.0%</td>\n",
                     "      <td id=\"T_c5da2_row2_col5\" class=\"data row2 col5\" >4.5%</td>\n",
                     "    </tr>\n",
                     "    <tr>\n",
                     "      <td id=\"T_c5da2_row3_col0\" class=\"data row3 col0\" >гражданский брак</td>\n",
                     "      <td id=\"T_c5da2_row3_col1\" class=\"data row3 col1\" >4177</td>\n",
                     "      <td id=\"T_c5da2_row3_col2\" class=\"data row3 col2\" >83</td>\n",
                     "      <td id=\"T_c5da2_row3_col3\" class=\"data row3 col3\" >2.0%</td>\n",
                     "      <td id=\"T_c5da2_row3_col4\" class=\"data row3 col4\" >16.5%</td>\n",
                     "      <td id=\"T_c5da2_row3_col5\" class=\"data row3 col5\" >19.4%</td>\n",
                     "    </tr>\n",
                     "    <tr>\n",
                     "      <td id=\"T_c5da2_row4_col0\" class=\"data row4 col0\" >женат / замужем</td>\n",
                     "      <td id=\"T_c5da2_row4_col1\" class=\"data row4 col1\" >12380</td>\n",
                     "      <td id=\"T_c5da2_row4_col2\" class=\"data row4 col2\" >363</td>\n",
                     "      <td id=\"T_c5da2_row4_col3\" class=\"data row4 col3\" >2.9%</td>\n",
                     "      <td id=\"T_c5da2_row4_col4\" class=\"data row4 col4\" >72.2%</td>\n",
                     "      <td id=\"T_c5da2_row4_col5\" class=\"data row4 col5\" >57.5%</td>\n",
                     "    </tr>\n",
                     "  </tbody>\n",
                     "</table>\n"
                  ],
                  "text/plain": [
                     "<pandas.io.formats.style.Styler at 0xb052908>"
                  ]
               },
               "metadata": {},
               "output_type": "display_data"
            }
         ],
         "source": [
            "next(gen)"
         ]
      },
      {
         "cell_type": "markdown",
         "metadata": {},
         "source": [
            "**Наблюдения:** \n",
            "- Значительная часть людей с 20 детьми находятся в браке.  "
         ]
      },
      {
         "cell_type": "code",
         "execution_count": 127,
         "metadata": {},
         "outputs": [
            {
               "data": {
                  "text/html": [
                     "<style type=\"text/css\">\n",
                     "#T_146da_ caption {\n",
                     "  font-size: 18px;\n",
                     "  text-align: left;\n",
                     "  font-weight: bold;\n",
                     "}\n",
                     "</style>\n",
                     "<table id=\"T_146da_\">\n",
                     "  <caption>Outliers in \"children\" by category \"income_type\"</caption>\n",
                     "  <thead>\n",
                     "    <tr>\n",
                     "      <th class=\"col_heading level0 col0\" >income_type</th>\n",
                     "      <th class=\"col_heading level0 col1\" >total_count</th>\n",
                     "      <th class=\"col_heading level0 col2\" >outlier_count</th>\n",
                     "      <th class=\"col_heading level0 col3\" >outlier_in_category_pct</th>\n",
                     "      <th class=\"col_heading level0 col4\" >outlier_in_column_pct</th>\n",
                     "      <th class=\"col_heading level0 col5\" >total_count_pct</th>\n",
                     "    </tr>\n",
                     "  </thead>\n",
                     "  <tbody>\n",
                     "    <tr>\n",
                     "      <td id=\"T_146da_row0_col0\" class=\"data row0 col0\" >безработный</td>\n",
                     "      <td id=\"T_146da_row0_col1\" class=\"data row0 col1\" >2</td>\n",
                     "      <td id=\"T_146da_row0_col2\" class=\"data row0 col2\" >0</td>\n",
                     "      <td id=\"T_146da_row0_col3\" class=\"data row0 col3\" >0.0%</td>\n",
                     "      <td id=\"T_146da_row0_col4\" class=\"data row0 col4\" >0.0%</td>\n",
                     "      <td id=\"T_146da_row0_col5\" class=\"data row0 col5\" >0.0%</td>\n",
                     "    </tr>\n",
                     "    <tr>\n",
                     "      <td id=\"T_146da_row1_col0\" class=\"data row1 col0\" >в декрете</td>\n",
                     "      <td id=\"T_146da_row1_col1\" class=\"data row1 col1\" >1</td>\n",
                     "      <td id=\"T_146da_row1_col2\" class=\"data row1 col2\" >0</td>\n",
                     "      <td id=\"T_146da_row1_col3\" class=\"data row1 col3\" >0.0%</td>\n",
                     "      <td id=\"T_146da_row1_col4\" class=\"data row1 col4\" >0.0%</td>\n",
                     "      <td id=\"T_146da_row1_col5\" class=\"data row1 col5\" >0.0%</td>\n",
                     "    </tr>\n",
                     "    <tr>\n",
                     "      <td id=\"T_146da_row2_col0\" class=\"data row2 col0\" >госслужащий</td>\n",
                     "      <td id=\"T_146da_row2_col1\" class=\"data row2 col1\" >1449</td>\n",
                     "      <td id=\"T_146da_row2_col2\" class=\"data row2 col2\" >46</td>\n",
                     "      <td id=\"T_146da_row2_col3\" class=\"data row2 col3\" >3.2%</td>\n",
                     "      <td id=\"T_146da_row2_col4\" class=\"data row2 col4\" >10.2%</td>\n",
                     "      <td id=\"T_146da_row2_col5\" class=\"data row2 col5\" >6.8%</td>\n",
                     "    </tr>\n",
                     "    <tr>\n",
                     "      <td id=\"T_146da_row3_col0\" class=\"data row3 col0\" >компаньон</td>\n",
                     "      <td id=\"T_146da_row3_col1\" class=\"data row3 col1\" >5056</td>\n",
                     "      <td id=\"T_146da_row3_col2\" class=\"data row3 col2\" >105</td>\n",
                     "      <td id=\"T_146da_row3_col3\" class=\"data row3 col3\" >2.1%</td>\n",
                     "      <td id=\"T_146da_row3_col4\" class=\"data row3 col4\" >23.2%</td>\n",
                     "      <td id=\"T_146da_row3_col5\" class=\"data row3 col5\" >23.7%</td>\n",
                     "    </tr>\n",
                     "    <tr>\n",
                     "      <td id=\"T_146da_row4_col0\" class=\"data row4 col0\" >пенсионер</td>\n",
                     "      <td id=\"T_146da_row4_col1\" class=\"data row4 col1\" >3828</td>\n",
                     "      <td id=\"T_146da_row4_col2\" class=\"data row4 col2\" >16</td>\n",
                     "      <td id=\"T_146da_row4_col3\" class=\"data row4 col3\" >0.4%</td>\n",
                     "      <td id=\"T_146da_row4_col4\" class=\"data row4 col4\" >3.5%</td>\n",
                     "      <td id=\"T_146da_row4_col5\" class=\"data row4 col5\" >17.9%</td>\n",
                     "    </tr>\n",
                     "    <tr>\n",
                     "      <td id=\"T_146da_row5_col0\" class=\"data row5 col0\" >предприниматель</td>\n",
                     "      <td id=\"T_146da_row5_col1\" class=\"data row5 col1\" >2</td>\n",
                     "      <td id=\"T_146da_row5_col2\" class=\"data row5 col2\" >0</td>\n",
                     "      <td id=\"T_146da_row5_col3\" class=\"data row5 col3\" >0.0%</td>\n",
                     "      <td id=\"T_146da_row5_col4\" class=\"data row5 col4\" >0.0%</td>\n",
                     "      <td id=\"T_146da_row5_col5\" class=\"data row5 col5\" >0.0%</td>\n",
                     "    </tr>\n",
                     "    <tr>\n",
                     "      <td id=\"T_146da_row6_col0\" class=\"data row6 col0\" >сотрудник</td>\n",
                     "      <td id=\"T_146da_row6_col1\" class=\"data row6 col1\" >11038</td>\n",
                     "      <td id=\"T_146da_row6_col2\" class=\"data row6 col2\" >286</td>\n",
                     "      <td id=\"T_146da_row6_col3\" class=\"data row6 col3\" >2.6%</td>\n",
                     "      <td id=\"T_146da_row6_col4\" class=\"data row6 col4\" >63.1%</td>\n",
                     "      <td id=\"T_146da_row6_col5\" class=\"data row6 col5\" >51.6%</td>\n",
                     "    </tr>\n",
                     "    <tr>\n",
                     "      <td id=\"T_146da_row7_col0\" class=\"data row7 col0\" >студент</td>\n",
                     "      <td id=\"T_146da_row7_col1\" class=\"data row7 col1\" >1</td>\n",
                     "      <td id=\"T_146da_row7_col2\" class=\"data row7 col2\" >0</td>\n",
                     "      <td id=\"T_146da_row7_col3\" class=\"data row7 col3\" >0.0%</td>\n",
                     "      <td id=\"T_146da_row7_col4\" class=\"data row7 col4\" >0.0%</td>\n",
                     "      <td id=\"T_146da_row7_col5\" class=\"data row7 col5\" >0.0%</td>\n",
                     "    </tr>\n",
                     "  </tbody>\n",
                     "</table>\n"
                  ],
                  "text/plain": [
                     "<pandas.io.formats.style.Styler at 0x19f987b8>"
                  ]
               },
               "metadata": {},
               "output_type": "display_data"
            }
         ],
         "source": [
            "next(gen)"
         ]
      },
      {
         "cell_type": "markdown",
         "metadata": {},
         "source": [
            "**Наблюдения:** \n",
            "- Большая часть сотрудники\n",
            "- Пенсионеры имеют меньшую долю с 20 детьми чем в основном количестве.  "
         ]
      },
      {
         "cell_type": "markdown",
         "metadata": {},
         "source": [
            "У нас в доходе странные максимальные значения нужно их изучить"
         ]
      },
      {
         "cell_type": "code",
         "execution_count": 68,
         "metadata": {},
         "outputs": [
            {
               "name": "stdout",
               "output_type": "stream",
               "text": [
                  "Value counts outliers\n"
               ]
            },
            {
               "data": {
                  "text/html": [
                     "<style type=\"text/css\">\n",
                     "#T_f5822_ caption {\n",
                     "  font-size: 18px;\n",
                     "  text-align: left;\n",
                     "  font-weight: bold;\n",
                     "}\n",
                     "</style>\n",
                     "<table id=\"T_f5822_\">\n",
                     "  <caption>total_income</caption>\n",
                     "  <thead>\n",
                     "    <tr>\n",
                     "      <th class=\"blank level0\" >&nbsp;</th>\n",
                     "      <th class=\"col_heading level0 col0\" >outliers</th>\n",
                     "    </tr>\n",
                     "  </thead>\n",
                     "  <tbody>\n",
                     "    <tr>\n",
                     "      <th id=\"T_f5822_level0_row0\" class=\"row_heading level0 row0\" >1089120.307966902</th>\n",
                     "      <td id=\"T_f5822_row0_col0\" class=\"data row0 col0\" >1</td>\n",
                     "    </tr>\n",
                     "    <tr>\n",
                     "      <th id=\"T_f5822_level0_row1\" class=\"row_heading level0 row1\" >1172459.831538252</th>\n",
                     "      <td id=\"T_f5822_row1_col0\" class=\"data row1 col0\" >1</td>\n",
                     "    </tr>\n",
                     "    <tr>\n",
                     "      <th id=\"T_f5822_level0_row2\" class=\"row_heading level0 row2\" >1223042.4798556922</th>\n",
                     "      <td id=\"T_f5822_row2_col0\" class=\"data row2 col0\" >1</td>\n",
                     "    </tr>\n",
                     "    <tr>\n",
                     "      <th id=\"T_f5822_level0_row3\" class=\"row_heading level0 row3\" >2200852.210258896</th>\n",
                     "      <td id=\"T_f5822_row3_col0\" class=\"data row3 col0\" >1</td>\n",
                     "    </tr>\n",
                     "    <tr>\n",
                     "      <th id=\"T_f5822_level0_row4\" class=\"row_heading level0 row4\" >1091627.5854744776</th>\n",
                     "      <td id=\"T_f5822_row4_col0\" class=\"data row4 col0\" >1</td>\n",
                     "    </tr>\n",
                     "    <tr>\n",
                     "      <th id=\"T_f5822_level0_row5\" class=\"row_heading level0 row5\" >1092608.2025471018</th>\n",
                     "      <td id=\"T_f5822_row5_col0\" class=\"data row5 col0\" >1</td>\n",
                     "    </tr>\n",
                     "    <tr>\n",
                     "      <th id=\"T_f5822_level0_row6\" class=\"row_heading level0 row6\" >1551152.8938321068</th>\n",
                     "      <td id=\"T_f5822_row6_col0\" class=\"data row6 col0\" >1</td>\n",
                     "    </tr>\n",
                     "    <tr>\n",
                     "      <th id=\"T_f5822_level0_row7\" class=\"row_heading level0 row7\" >1427934.4631516722</th>\n",
                     "      <td id=\"T_f5822_row7_col0\" class=\"data row7 col0\" >1</td>\n",
                     "    </tr>\n",
                     "    <tr>\n",
                     "      <th id=\"T_f5822_level0_row8\" class=\"row_heading level0 row8\" >1027742.2793171688</th>\n",
                     "      <td id=\"T_f5822_row8_col0\" class=\"data row8 col0\" >1</td>\n",
                     "    </tr>\n",
                     "    <tr>\n",
                     "      <th id=\"T_f5822_level0_row9\" class=\"row_heading level0 row9\" >1597613.490466747</th>\n",
                     "      <td id=\"T_f5822_row9_col0\" class=\"data row9 col0\" >1</td>\n",
                     "    </tr>\n",
                     "  </tbody>\n",
                     "</table>\n"
                  ],
                  "text/plain": [
                     "<pandas.io.formats.style.Styler at 0x193b2470>"
                  ]
               },
               "metadata": {},
               "output_type": "display_data"
            }
         ],
         "source": [
            "outliers_series = pd.Series([df[df.total_income > 1000000]], index=['total_income'])\n",
            "gen = my_module.analys_by_category_gen(df, outliers_series)\n",
            "next(gen)"
         ]
      },
      {
         "cell_type": "code",
         "execution_count": 69,
         "metadata": {},
         "outputs": [
            {
               "data": {
                  "text/html": [
                     "<style type=\"text/css\">\n",
                     "#T_0fc9b_ caption {\n",
                     "  font-size: 18px;\n",
                     "  text-align: left;\n",
                     "  font-weight: bold;\n",
                     "}\n",
                     "</style>\n",
                     "<table id=\"T_0fc9b_\">\n",
                     "  <caption>Sample outliers in total_income</caption>\n",
                     "  <thead>\n",
                     "    <tr>\n",
                     "      <th class=\"blank level0\" >&nbsp;</th>\n",
                     "      <th class=\"col_heading level0 col0\" >children</th>\n",
                     "      <th class=\"col_heading level0 col1\" >days_employed</th>\n",
                     "      <th class=\"col_heading level0 col2\" >dob_years</th>\n",
                     "      <th class=\"col_heading level0 col3\" >education</th>\n",
                     "      <th class=\"col_heading level0 col4\" >education_id</th>\n",
                     "      <th class=\"col_heading level0 col5\" >family_status</th>\n",
                     "      <th class=\"col_heading level0 col6\" >family_status_id</th>\n",
                     "      <th class=\"col_heading level0 col7\" >gender</th>\n",
                     "      <th class=\"col_heading level0 col8\" >income_type</th>\n",
                     "      <th class=\"col_heading level0 col9\" >debt</th>\n",
                     "      <th class=\"col_heading level0 col10\" >total_income</th>\n",
                     "      <th class=\"col_heading level0 col11\" >purpose</th>\n",
                     "    </tr>\n",
                     "  </thead>\n",
                     "  <tbody>\n",
                     "    <tr>\n",
                     "      <th id=\"T_0fc9b_level0_row0\" class=\"row_heading level0 row0\" >15047</th>\n",
                     "      <td id=\"T_0fc9b_row0_col0\" class=\"data row0 col0\" >2</td>\n",
                     "      <td id=\"T_0fc9b_row0_col1\" class=\"data row0 col1\" >-1654.855987</td>\n",
                     "      <td id=\"T_0fc9b_row0_col2\" class=\"data row0 col2\" >39</td>\n",
                     "      <td id=\"T_0fc9b_row0_col3\" class=\"data row0 col3\" >высшее</td>\n",
                     "      <td id=\"T_0fc9b_row0_col4\" class=\"data row0 col4\" >0</td>\n",
                     "      <td id=\"T_0fc9b_row0_col5\" class=\"data row0 col5\" >женат / замужем</td>\n",
                     "      <td id=\"T_0fc9b_row0_col6\" class=\"data row0 col6\" >0</td>\n",
                     "      <td id=\"T_0fc9b_row0_col7\" class=\"data row0 col7\" >M</td>\n",
                     "      <td id=\"T_0fc9b_row0_col8\" class=\"data row0 col8\" >сотрудник</td>\n",
                     "      <td id=\"T_0fc9b_row0_col9\" class=\"data row0 col9\" >0</td>\n",
                     "      <td id=\"T_0fc9b_row0_col10\" class=\"data row0 col10\" >1058193.472277</td>\n",
                     "      <td id=\"T_0fc9b_row0_col11\" class=\"data row0 col11\" >получение образования</td>\n",
                     "    </tr>\n",
                     "    <tr>\n",
                     "      <th id=\"T_0fc9b_level0_row1\" class=\"row_heading level0 row1\" >19338</th>\n",
                     "      <td id=\"T_0fc9b_row1_col0\" class=\"data row1 col0\" >3</td>\n",
                     "      <td id=\"T_0fc9b_row1_col1\" class=\"data row1 col1\" >-1733.364682</td>\n",
                     "      <td id=\"T_0fc9b_row1_col2\" class=\"data row1 col2\" >34</td>\n",
                     "      <td id=\"T_0fc9b_row1_col3\" class=\"data row1 col3\" >высшее</td>\n",
                     "      <td id=\"T_0fc9b_row1_col4\" class=\"data row1 col4\" >0</td>\n",
                     "      <td id=\"T_0fc9b_row1_col5\" class=\"data row1 col5\" >женат / замужем</td>\n",
                     "      <td id=\"T_0fc9b_row1_col6\" class=\"data row1 col6\" >0</td>\n",
                     "      <td id=\"T_0fc9b_row1_col7\" class=\"data row1 col7\" >M</td>\n",
                     "      <td id=\"T_0fc9b_row1_col8\" class=\"data row1 col8\" >сотрудник</td>\n",
                     "      <td id=\"T_0fc9b_row1_col9\" class=\"data row1 col9\" >0</td>\n",
                     "      <td id=\"T_0fc9b_row1_col10\" class=\"data row1 col10\" >1091627.585474</td>\n",
                     "      <td id=\"T_0fc9b_row1_col11\" class=\"data row1 col11\" >операции с жильем</td>\n",
                     "    </tr>\n",
                     "    <tr>\n",
                     "      <th id=\"T_0fc9b_level0_row2\" class=\"row_heading level0 row2\" >18347</th>\n",
                     "      <td id=\"T_0fc9b_row2_col0\" class=\"data row2 col0\" >0</td>\n",
                     "      <td id=\"T_0fc9b_row2_col1\" class=\"data row2 col1\" >-5536.801152</td>\n",
                     "      <td id=\"T_0fc9b_row2_col2\" class=\"data row2 col2\" >35</td>\n",
                     "      <td id=\"T_0fc9b_row2_col3\" class=\"data row2 col3\" >высшее</td>\n",
                     "      <td id=\"T_0fc9b_row2_col4\" class=\"data row2 col4\" >0</td>\n",
                     "      <td id=\"T_0fc9b_row2_col5\" class=\"data row2 col5\" >гражданский брак</td>\n",
                     "      <td id=\"T_0fc9b_row2_col6\" class=\"data row2 col6\" >1</td>\n",
                     "      <td id=\"T_0fc9b_row2_col7\" class=\"data row2 col7\" >F</td>\n",
                     "      <td id=\"T_0fc9b_row2_col8\" class=\"data row2 col8\" >компаньон</td>\n",
                     "      <td id=\"T_0fc9b_row2_col9\" class=\"data row2 col9\" >0</td>\n",
                     "      <td id=\"T_0fc9b_row2_col10\" class=\"data row2 col10\" >1027742.279317</td>\n",
                     "      <td id=\"T_0fc9b_row2_col11\" class=\"data row2 col11\" >операции с жильем</td>\n",
                     "    </tr>\n",
                     "    <tr>\n",
                     "      <th id=\"T_0fc9b_level0_row3\" class=\"row_heading level0 row3\" >13090</th>\n",
                     "      <td id=\"T_0fc9b_row3_col0\" class=\"data row3 col0\" >1</td>\n",
                     "      <td id=\"T_0fc9b_row3_col1\" class=\"data row3 col1\" >-3531.320534</td>\n",
                     "      <td id=\"T_0fc9b_row3_col2\" class=\"data row3 col2\" >54</td>\n",
                     "      <td id=\"T_0fc9b_row3_col3\" class=\"data row3 col3\" >высшее</td>\n",
                     "      <td id=\"T_0fc9b_row3_col4\" class=\"data row3 col4\" >0</td>\n",
                     "      <td id=\"T_0fc9b_row3_col5\" class=\"data row3 col5\" >в разводе</td>\n",
                     "      <td id=\"T_0fc9b_row3_col6\" class=\"data row3 col6\" >3</td>\n",
                     "      <td id=\"T_0fc9b_row3_col7\" class=\"data row3 col7\" >F</td>\n",
                     "      <td id=\"T_0fc9b_row3_col8\" class=\"data row3 col8\" >компаньон</td>\n",
                     "      <td id=\"T_0fc9b_row3_col9\" class=\"data row3 col9\" >0</td>\n",
                     "      <td id=\"T_0fc9b_row3_col10\" class=\"data row3 col10\" >1128836.256218</td>\n",
                     "      <td id=\"T_0fc9b_row3_col11\" class=\"data row3 col11\" >операции с недвижимостью</td>\n",
                     "    </tr>\n",
                     "    <tr>\n",
                     "      <th id=\"T_0fc9b_level0_row4\" class=\"row_heading level0 row4\" >10004</th>\n",
                     "      <td id=\"T_0fc9b_row4_col0\" class=\"data row4 col0\" >0</td>\n",
                     "      <td id=\"T_0fc9b_row4_col1\" class=\"data row4 col1\" >-1979.388318</td>\n",
                     "      <td id=\"T_0fc9b_row4_col2\" class=\"data row4 col2\" >58</td>\n",
                     "      <td id=\"T_0fc9b_row4_col3\" class=\"data row4 col3\" >СРЕДНЕЕ</td>\n",
                     "      <td id=\"T_0fc9b_row4_col4\" class=\"data row4 col4\" >1</td>\n",
                     "      <td id=\"T_0fc9b_row4_col5\" class=\"data row4 col5\" >женат / замужем</td>\n",
                     "      <td id=\"T_0fc9b_row4_col6\" class=\"data row4 col6\" >0</td>\n",
                     "      <td id=\"T_0fc9b_row4_col7\" class=\"data row4 col7\" >M</td>\n",
                     "      <td id=\"T_0fc9b_row4_col8\" class=\"data row4 col8\" >сотрудник</td>\n",
                     "      <td id=\"T_0fc9b_row4_col9\" class=\"data row4 col9\" >0</td>\n",
                     "      <td id=\"T_0fc9b_row4_col10\" class=\"data row4 col10\" >1097954.737993</td>\n",
                     "      <td id=\"T_0fc9b_row4_col11\" class=\"data row4 col11\" >покупка своего жилья</td>\n",
                     "    </tr>\n",
                     "    <tr>\n",
                     "      <th id=\"T_0fc9b_level0_row5\" class=\"row_heading level0 row5\" >18766</th>\n",
                     "      <td id=\"T_0fc9b_row5_col0\" class=\"data row5 col0\" >2</td>\n",
                     "      <td id=\"T_0fc9b_row5_col1\" class=\"data row5 col1\" >-1019.604773</td>\n",
                     "      <td id=\"T_0fc9b_row5_col2\" class=\"data row5 col2\" >43</td>\n",
                     "      <td id=\"T_0fc9b_row5_col3\" class=\"data row5 col3\" >высшее</td>\n",
                     "      <td id=\"T_0fc9b_row5_col4\" class=\"data row5 col4\" >0</td>\n",
                     "      <td id=\"T_0fc9b_row5_col5\" class=\"data row5 col5\" >женат / замужем</td>\n",
                     "      <td id=\"T_0fc9b_row5_col6\" class=\"data row5 col6\" >0</td>\n",
                     "      <td id=\"T_0fc9b_row5_col7\" class=\"data row5 col7\" >M</td>\n",
                     "      <td id=\"T_0fc9b_row5_col8\" class=\"data row5 col8\" >компаньон</td>\n",
                     "      <td id=\"T_0fc9b_row5_col9\" class=\"data row5 col9\" >0</td>\n",
                     "      <td id=\"T_0fc9b_row5_col10\" class=\"data row5 col10\" >1092608.202547</td>\n",
                     "      <td id=\"T_0fc9b_row5_col11\" class=\"data row5 col11\" >строительство недвижимости</td>\n",
                     "    </tr>\n",
                     "    <tr>\n",
                     "      <th id=\"T_0fc9b_level0_row6\" class=\"row_heading level0 row6\" >9169</th>\n",
                     "      <td id=\"T_0fc9b_row6_col0\" class=\"data row6 col0\" >1</td>\n",
                     "      <td id=\"T_0fc9b_row6_col1\" class=\"data row6 col1\" >-5248.554336</td>\n",
                     "      <td id=\"T_0fc9b_row6_col2\" class=\"data row6 col2\" >35</td>\n",
                     "      <td id=\"T_0fc9b_row6_col3\" class=\"data row6 col3\" >среднее</td>\n",
                     "      <td id=\"T_0fc9b_row6_col4\" class=\"data row6 col4\" >1</td>\n",
                     "      <td id=\"T_0fc9b_row6_col5\" class=\"data row6 col5\" >гражданский брак</td>\n",
                     "      <td id=\"T_0fc9b_row6_col6\" class=\"data row6 col6\" >1</td>\n",
                     "      <td id=\"T_0fc9b_row6_col7\" class=\"data row6 col7\" >M</td>\n",
                     "      <td id=\"T_0fc9b_row6_col8\" class=\"data row6 col8\" >сотрудник</td>\n",
                     "      <td id=\"T_0fc9b_row6_col9\" class=\"data row6 col9\" >0</td>\n",
                     "      <td id=\"T_0fc9b_row6_col10\" class=\"data row6 col10\" >1726276.014332</td>\n",
                     "      <td id=\"T_0fc9b_row6_col11\" class=\"data row6 col11\" >дополнительное образование</td>\n",
                     "    </tr>\n",
                     "    <tr>\n",
                     "      <th id=\"T_0fc9b_level0_row7\" class=\"row_heading level0 row7\" >17178</th>\n",
                     "      <td id=\"T_0fc9b_row7_col0\" class=\"data row7 col0\" >0</td>\n",
                     "      <td id=\"T_0fc9b_row7_col1\" class=\"data row7 col1\" >-5734.127087</td>\n",
                     "      <td id=\"T_0fc9b_row7_col2\" class=\"data row7 col2\" >42</td>\n",
                     "      <td id=\"T_0fc9b_row7_col3\" class=\"data row7 col3\" >высшее</td>\n",
                     "      <td id=\"T_0fc9b_row7_col4\" class=\"data row7 col4\" >0</td>\n",
                     "      <td id=\"T_0fc9b_row7_col5\" class=\"data row7 col5\" >гражданский брак</td>\n",
                     "      <td id=\"T_0fc9b_row7_col6\" class=\"data row7 col6\" >1</td>\n",
                     "      <td id=\"T_0fc9b_row7_col7\" class=\"data row7 col7\" >M</td>\n",
                     "      <td id=\"T_0fc9b_row7_col8\" class=\"data row7 col8\" >компаньон</td>\n",
                     "      <td id=\"T_0fc9b_row7_col9\" class=\"data row7 col9\" >0</td>\n",
                     "      <td id=\"T_0fc9b_row7_col10\" class=\"data row7 col10\" >1711309.267674</td>\n",
                     "      <td id=\"T_0fc9b_row7_col11\" class=\"data row7 col11\" >сыграть свадьбу</td>\n",
                     "    </tr>\n",
                     "    <tr>\n",
                     "      <th id=\"T_0fc9b_level0_row8\" class=\"row_heading level0 row8\" >7447</th>\n",
                     "      <td id=\"T_0fc9b_row8_col0\" class=\"data row8 col0\" >0</td>\n",
                     "      <td id=\"T_0fc9b_row8_col1\" class=\"data row8 col1\" >-8626.777234</td>\n",
                     "      <td id=\"T_0fc9b_row8_col2\" class=\"data row8 col2\" >39</td>\n",
                     "      <td id=\"T_0fc9b_row8_col3\" class=\"data row8 col3\" >среднее</td>\n",
                     "      <td id=\"T_0fc9b_row8_col4\" class=\"data row8 col4\" >1</td>\n",
                     "      <td id=\"T_0fc9b_row8_col5\" class=\"data row8 col5\" >в разводе</td>\n",
                     "      <td id=\"T_0fc9b_row8_col6\" class=\"data row8 col6\" >3</td>\n",
                     "      <td id=\"T_0fc9b_row8_col7\" class=\"data row8 col7\" >F</td>\n",
                     "      <td id=\"T_0fc9b_row8_col8\" class=\"data row8 col8\" >сотрудник</td>\n",
                     "      <td id=\"T_0fc9b_row8_col9\" class=\"data row8 col9\" >0</td>\n",
                     "      <td id=\"T_0fc9b_row8_col10\" class=\"data row8 col10\" >1240165.001862</td>\n",
                     "      <td id=\"T_0fc9b_row8_col11\" class=\"data row8 col11\" >покупка недвижимости</td>\n",
                     "    </tr>\n",
                     "    <tr>\n",
                     "      <th id=\"T_0fc9b_level0_row9\" class=\"row_heading level0 row9\" >18368</th>\n",
                     "      <td id=\"T_0fc9b_row9_col0\" class=\"data row9 col0\" >1</td>\n",
                     "      <td id=\"T_0fc9b_row9_col1\" class=\"data row9 col1\" >-333.935516</td>\n",
                     "      <td id=\"T_0fc9b_row9_col2\" class=\"data row9 col2\" >41</td>\n",
                     "      <td id=\"T_0fc9b_row9_col3\" class=\"data row9 col3\" >ВЫСШЕЕ</td>\n",
                     "      <td id=\"T_0fc9b_row9_col4\" class=\"data row9 col4\" >0</td>\n",
                     "      <td id=\"T_0fc9b_row9_col5\" class=\"data row9 col5\" >гражданский брак</td>\n",
                     "      <td id=\"T_0fc9b_row9_col6\" class=\"data row9 col6\" >1</td>\n",
                     "      <td id=\"T_0fc9b_row9_col7\" class=\"data row9 col7\" >M</td>\n",
                     "      <td id=\"T_0fc9b_row9_col8\" class=\"data row9 col8\" >компаньон</td>\n",
                     "      <td id=\"T_0fc9b_row9_col9\" class=\"data row9 col9\" >0</td>\n",
                     "      <td id=\"T_0fc9b_row9_col10\" class=\"data row9 col10\" >1551152.893832</td>\n",
                     "      <td id=\"T_0fc9b_row9_col11\" class=\"data row9 col11\" >свадьба</td>\n",
                     "    </tr>\n",
                     "  </tbody>\n",
                     "</table>\n"
                  ],
                  "text/plain": [
                     "<pandas.io.formats.style.Styler at 0x193dfda0>"
                  ]
               },
               "metadata": {},
               "output_type": "display_data"
            }
         ],
         "source": [
            "next(gen)"
         ]
      },
      {
         "cell_type": "markdown",
         "metadata": {},
         "source": [
            "Посмотрим на выбросы через квантили"
         ]
      },
      {
         "cell_type": "code",
         "execution_count": 23,
         "metadata": {},
         "outputs": [
            {
               "data": {
                  "text/html": [
                     "<style type=\"text/css\">\n",
                     "#T_235c1_ caption {\n",
                     "  font-size: 18px;\n",
                     "  text-align: left;\n",
                     "  font-weight: bold;\n",
                     "}\n",
                     "</style>\n",
                     "<table id=\"T_235c1_\">\n",
                     "  <caption>Outliers</caption>\n",
                     "  <thead>\n",
                     "  </thead>\n",
                     "  <tbody>\n",
                     "    <tr>\n",
                     "      <th id=\"T_235c1_level0_row0\" class=\"row_heading level0 row0\" >children</th>\n",
                     "      <td id=\"T_235c1_row0_col0\" class=\"data row0 col0\" >503 (2.34%)</td>\n",
                     "    </tr>\n",
                     "    <tr>\n",
                     "      <th id=\"T_235c1_level0_row1\" class=\"row_heading level0 row1\" >days_employed</th>\n",
                     "      <td id=\"T_235c1_row1_col0\" class=\"data row1 col0\" >1936 (8.99%)</td>\n",
                     "    </tr>\n",
                     "    <tr>\n",
                     "      <th id=\"T_235c1_level0_row2\" class=\"row_heading level0 row2\" >dob_years</th>\n",
                     "      <td id=\"T_235c1_row2_col0\" class=\"data row2 col0\" >1877 (8.72%)</td>\n",
                     "    </tr>\n",
                     "    <tr>\n",
                     "      <th id=\"T_235c1_level0_row3\" class=\"row_heading level0 row3\" >total_income</th>\n",
                     "      <td id=\"T_235c1_row3_col0\" class=\"data row3 col0\" >1936 (8.99%)</td>\n",
                     "    </tr>\n",
                     "  </tbody>\n",
                     "</table>\n"
                  ],
                  "text/plain": [
                     "<pandas.io.formats.style.Styler at 0x1a960128>"
                  ]
               },
               "metadata": {},
               "output_type": "display_data"
            }
         ],
         "source": [
            "series_outliers = my_module.detect_outliers_quantile(df)"
         ]
      },
      {
         "cell_type": "markdown",
         "metadata": {},
         "source": [
            "**Наблюдения:** \n",
            "- интересно что количество выбросво, кроме колонки количество детей, примерно одинаковое"
         ]
      },
      {
         "cell_type": "markdown",
         "metadata": {},
         "source": [
            "Изучим выбросы в разрезе категорий"
         ]
      },
      {
         "cell_type": "code",
         "execution_count": 35,
         "metadata": {},
         "outputs": [
            {
               "name": "stdout",
               "output_type": "stream",
               "text": [
                  "Value counts outliers\n"
               ]
            },
            {
               "data": {
                  "text/html": [
                     "<style type=\"text/css\">\n",
                     "#T_6ee29_ caption {\n",
                     "  font-size: 18px;\n",
                     "  text-align: left;\n",
                     "  font-weight: bold;\n",
                     "}\n",
                     "</style>\n",
                     "<table id=\"T_6ee29_\">\n",
                     "  <caption>children</caption>\n",
                     "  <thead>\n",
                     "    <tr>\n",
                     "      <th class=\"blank level0\" >&nbsp;</th>\n",
                     "      <th class=\"col_heading level0 col0\" >outliers</th>\n",
                     "    </tr>\n",
                     "  </thead>\n",
                     "  <tbody>\n",
                     "    <tr>\n",
                     "      <th id=\"T_6ee29_level0_row0\" class=\"row_heading level0 row0\" >3</th>\n",
                     "      <td id=\"T_6ee29_row0_col0\" class=\"data row0 col0\" >330</td>\n",
                     "    </tr>\n",
                     "    <tr>\n",
                     "      <th id=\"T_6ee29_level0_row1\" class=\"row_heading level0 row1\" >20</th>\n",
                     "      <td id=\"T_6ee29_row1_col0\" class=\"data row1 col0\" >76</td>\n",
                     "    </tr>\n",
                     "    <tr>\n",
                     "      <th id=\"T_6ee29_level0_row2\" class=\"row_heading level0 row2\" >-1</th>\n",
                     "      <td id=\"T_6ee29_row2_col0\" class=\"data row2 col0\" >47</td>\n",
                     "    </tr>\n",
                     "    <tr>\n",
                     "      <th id=\"T_6ee29_level0_row3\" class=\"row_heading level0 row3\" >4</th>\n",
                     "      <td id=\"T_6ee29_row3_col0\" class=\"data row3 col0\" >41</td>\n",
                     "    </tr>\n",
                     "    <tr>\n",
                     "      <th id=\"T_6ee29_level0_row4\" class=\"row_heading level0 row4\" >5</th>\n",
                     "      <td id=\"T_6ee29_row4_col0\" class=\"data row4 col0\" >9</td>\n",
                     "    </tr>\n",
                     "  </tbody>\n",
                     "</table>\n"
                  ],
                  "text/plain": [
                     "<pandas.io.formats.style.Styler at 0x1a95a390>"
                  ]
               },
               "metadata": {},
               "output_type": "display_data"
            }
         ],
         "source": [
            "gen = my_module.analys_by_category_gen(df, series_outliers)\n",
            "next(gen)"
         ]
      },
      {
         "cell_type": "markdown",
         "metadata": {},
         "source": [
            "**Наблюдения:** \n",
            "- Видим, что клиенты с количеством больше 2 попали в выбросы, что логично\n",
            "- Также -1 попало в выброс, что тоже верно"
         ]
      },
      {
         "cell_type": "code",
         "execution_count": 103,
         "metadata": {},
         "outputs": [
            {
               "data": {
                  "text/html": [
                     "<style type=\"text/css\">\n",
                     "#T_ab404_ caption {\n",
                     "  font-size: 18px;\n",
                     "  text-align: left;\n",
                     "  font-weight: bold;\n",
                     "}\n",
                     "</style>\n",
                     "<table id=\"T_ab404_\">\n",
                     "  <caption>Outliers in \"children\" by category \"family_status\"</caption>\n",
                     "  <thead>\n",
                     "    <tr>\n",
                     "      <th class=\"col_heading level0 col0\" >family_status</th>\n",
                     "      <th class=\"col_heading level0 col1\" >total_count</th>\n",
                     "      <th class=\"col_heading level0 col2\" >outlier_count</th>\n",
                     "      <th class=\"col_heading level0 col3\" >outlier_in_category_pct</th>\n",
                     "      <th class=\"col_heading level0 col4\" >outlier_in_column_pct</th>\n",
                     "      <th class=\"col_heading level0 col5\" >total_count_pct</th>\n",
                     "    </tr>\n",
                     "  </thead>\n",
                     "  <tbody>\n",
                     "    <tr>\n",
                     "      <td id=\"T_ab404_row0_col0\" class=\"data row0 col0\" >Не женат / не замужем</td>\n",
                     "      <td id=\"T_ab404_row0_col1\" class=\"data row0 col1\" >2813</td>\n",
                     "      <td id=\"T_ab404_row0_col2\" class=\"data row0 col2\" >24</td>\n",
                     "      <td id=\"T_ab404_row0_col3\" class=\"data row0 col3\" >0.9%</td>\n",
                     "      <td id=\"T_ab404_row0_col4\" class=\"data row0 col4\" >4.8%</td>\n",
                     "      <td id=\"T_ab404_row0_col5\" class=\"data row0 col5\" >13.1%</td>\n",
                     "    </tr>\n",
                     "    <tr>\n",
                     "      <td id=\"T_ab404_row1_col0\" class=\"data row1 col0\" >в разводе</td>\n",
                     "      <td id=\"T_ab404_row1_col1\" class=\"data row1 col1\" >1195</td>\n",
                     "      <td id=\"T_ab404_row1_col2\" class=\"data row1 col2\" >18</td>\n",
                     "      <td id=\"T_ab404_row1_col3\" class=\"data row1 col3\" >1.5%</td>\n",
                     "      <td id=\"T_ab404_row1_col4\" class=\"data row1 col4\" >3.6%</td>\n",
                     "      <td id=\"T_ab404_row1_col5\" class=\"data row1 col5\" >5.6%</td>\n",
                     "    </tr>\n",
                     "    <tr>\n",
                     "      <td id=\"T_ab404_row2_col0\" class=\"data row2 col0\" >вдовец / вдова</td>\n",
                     "      <td id=\"T_ab404_row2_col1\" class=\"data row2 col1\" >960</td>\n",
                     "      <td id=\"T_ab404_row2_col2\" class=\"data row2 col2\" >15</td>\n",
                     "      <td id=\"T_ab404_row2_col3\" class=\"data row2 col3\" >1.6%</td>\n",
                     "      <td id=\"T_ab404_row2_col4\" class=\"data row2 col4\" >3.0%</td>\n",
                     "      <td id=\"T_ab404_row2_col5\" class=\"data row2 col5\" >4.5%</td>\n",
                     "    </tr>\n",
                     "    <tr>\n",
                     "      <td id=\"T_ab404_row3_col0\" class=\"data row3 col0\" >гражданский брак</td>\n",
                     "      <td id=\"T_ab404_row3_col1\" class=\"data row3 col1\" >4177</td>\n",
                     "      <td id=\"T_ab404_row3_col2\" class=\"data row3 col2\" >83</td>\n",
                     "      <td id=\"T_ab404_row3_col3\" class=\"data row3 col3\" >2.0%</td>\n",
                     "      <td id=\"T_ab404_row3_col4\" class=\"data row3 col4\" >16.5%</td>\n",
                     "      <td id=\"T_ab404_row3_col5\" class=\"data row3 col5\" >19.4%</td>\n",
                     "    </tr>\n",
                     "    <tr>\n",
                     "      <td id=\"T_ab404_row4_col0\" class=\"data row4 col0\" >женат / замужем</td>\n",
                     "      <td id=\"T_ab404_row4_col1\" class=\"data row4 col1\" >12380</td>\n",
                     "      <td id=\"T_ab404_row4_col2\" class=\"data row4 col2\" >363</td>\n",
                     "      <td id=\"T_ab404_row4_col3\" class=\"data row4 col3\" >2.9%</td>\n",
                     "      <td id=\"T_ab404_row4_col4\" class=\"data row4 col4\" >72.2%</td>\n",
                     "      <td id=\"T_ab404_row4_col5\" class=\"data row4 col5\" >57.5%</td>\n",
                     "    </tr>\n",
                     "  </tbody>\n",
                     "</table>\n"
                  ],
                  "text/plain": [
                     "<pandas.io.formats.style.Styler at 0x1d0a1978>"
                  ]
               },
               "metadata": {},
               "output_type": "display_data"
            }
         ],
         "source": [
            "next(gen)"
         ]
      },
      {
         "cell_type": "markdown",
         "metadata": {},
         "source": [
            "**Наблюдения:**\n",
            "- женат / замужем содержит значительно больше выбросов, даже учитывая что в общем количестве их тоже больше"
         ]
      },
      {
         "cell_type": "code",
         "execution_count": 105,
         "metadata": {},
         "outputs": [
            {
               "data": {
                  "text/html": [
                     "<style type=\"text/css\">\n",
                     "#T_72c91_ caption {\n",
                     "  font-size: 18px;\n",
                     "  text-align: left;\n",
                     "  font-weight: bold;\n",
                     "}\n",
                     "</style>\n",
                     "<table id=\"T_72c91_\">\n",
                     "  <caption>Outliers in \"children\" by category \"gender\"</caption>\n",
                     "  <thead>\n",
                     "    <tr>\n",
                     "      <th class=\"col_heading level0 col0\" >gender</th>\n",
                     "      <th class=\"col_heading level0 col1\" >total_count</th>\n",
                     "      <th class=\"col_heading level0 col2\" >outlier_count</th>\n",
                     "      <th class=\"col_heading level0 col3\" >outlier_in_category_pct</th>\n",
                     "      <th class=\"col_heading level0 col4\" >outlier_in_column_pct</th>\n",
                     "      <th class=\"col_heading level0 col5\" >total_count_pct</th>\n",
                     "    </tr>\n",
                     "  </thead>\n",
                     "  <tbody>\n",
                     "    <tr>\n",
                     "      <td id=\"T_72c91_row0_col0\" class=\"data row0 col0\" >F</td>\n",
                     "      <td id=\"T_72c91_row0_col1\" class=\"data row0 col1\" >14236</td>\n",
                     "      <td id=\"T_72c91_row0_col2\" class=\"data row0 col2\" >313</td>\n",
                     "      <td id=\"T_72c91_row0_col3\" class=\"data row0 col3\" >2.2%</td>\n",
                     "      <td id=\"T_72c91_row0_col4\" class=\"data row0 col4\" >62.2%</td>\n",
                     "      <td id=\"T_72c91_row0_col5\" class=\"data row0 col5\" >66.1%</td>\n",
                     "    </tr>\n",
                     "    <tr>\n",
                     "      <td id=\"T_72c91_row1_col0\" class=\"data row1 col0\" >M</td>\n",
                     "      <td id=\"T_72c91_row1_col1\" class=\"data row1 col1\" >7288</td>\n",
                     "      <td id=\"T_72c91_row1_col2\" class=\"data row1 col2\" >190</td>\n",
                     "      <td id=\"T_72c91_row1_col3\" class=\"data row1 col3\" >2.6%</td>\n",
                     "      <td id=\"T_72c91_row1_col4\" class=\"data row1 col4\" >37.8%</td>\n",
                     "      <td id=\"T_72c91_row1_col5\" class=\"data row1 col5\" >33.9%</td>\n",
                     "    </tr>\n",
                     "    <tr>\n",
                     "      <td id=\"T_72c91_row2_col0\" class=\"data row2 col0\" >XNA</td>\n",
                     "      <td id=\"T_72c91_row2_col1\" class=\"data row2 col1\" >1</td>\n",
                     "      <td id=\"T_72c91_row2_col2\" class=\"data row2 col2\" >0</td>\n",
                     "      <td id=\"T_72c91_row2_col3\" class=\"data row2 col3\" >0.0%</td>\n",
                     "      <td id=\"T_72c91_row2_col4\" class=\"data row2 col4\" >0.0%</td>\n",
                     "      <td id=\"T_72c91_row2_col5\" class=\"data row2 col5\" >0.0%</td>\n",
                     "    </tr>\n",
                     "  </tbody>\n",
                     "</table>\n"
                  ],
                  "text/plain": [
                     "<pandas.io.formats.style.Styler at 0x1d06d5c0>"
                  ]
               },
               "metadata": {},
               "output_type": "display_data"
            }
         ],
         "source": [
            "next(gen)"
         ]
      },
      {
         "cell_type": "markdown",
         "metadata": {},
         "source": [
            "**Наблюдения:**\n",
            "- У мужчин немного побольше выбросов, учитывая размер группы мужчин"
         ]
      },
      {
         "cell_type": "code",
         "execution_count": 106,
         "metadata": {},
         "outputs": [
            {
               "data": {
                  "text/html": [
                     "<style type=\"text/css\">\n",
                     "#T_24446_ caption {\n",
                     "  font-size: 18px;\n",
                     "  text-align: left;\n",
                     "  font-weight: bold;\n",
                     "}\n",
                     "</style>\n",
                     "<table id=\"T_24446_\">\n",
                     "  <caption>Outliers in \"children\" by category \"income_type\"</caption>\n",
                     "  <thead>\n",
                     "    <tr>\n",
                     "      <th class=\"col_heading level0 col0\" >income_type</th>\n",
                     "      <th class=\"col_heading level0 col1\" >total_count</th>\n",
                     "      <th class=\"col_heading level0 col2\" >outlier_count</th>\n",
                     "      <th class=\"col_heading level0 col3\" >outlier_in_category_pct</th>\n",
                     "      <th class=\"col_heading level0 col4\" >outlier_in_column_pct</th>\n",
                     "      <th class=\"col_heading level0 col5\" >total_count_pct</th>\n",
                     "    </tr>\n",
                     "  </thead>\n",
                     "  <tbody>\n",
                     "    <tr>\n",
                     "      <td id=\"T_24446_row0_col0\" class=\"data row0 col0\" >безработный</td>\n",
                     "      <td id=\"T_24446_row0_col1\" class=\"data row0 col1\" >2</td>\n",
                     "      <td id=\"T_24446_row0_col2\" class=\"data row0 col2\" >0</td>\n",
                     "      <td id=\"T_24446_row0_col3\" class=\"data row0 col3\" >0.0%</td>\n",
                     "      <td id=\"T_24446_row0_col4\" class=\"data row0 col4\" >0.0%</td>\n",
                     "      <td id=\"T_24446_row0_col5\" class=\"data row0 col5\" >0.0%</td>\n",
                     "    </tr>\n",
                     "    <tr>\n",
                     "      <td id=\"T_24446_row1_col0\" class=\"data row1 col0\" >в декрете</td>\n",
                     "      <td id=\"T_24446_row1_col1\" class=\"data row1 col1\" >1</td>\n",
                     "      <td id=\"T_24446_row1_col2\" class=\"data row1 col2\" >0</td>\n",
                     "      <td id=\"T_24446_row1_col3\" class=\"data row1 col3\" >0.0%</td>\n",
                     "      <td id=\"T_24446_row1_col4\" class=\"data row1 col4\" >0.0%</td>\n",
                     "      <td id=\"T_24446_row1_col5\" class=\"data row1 col5\" >0.0%</td>\n",
                     "    </tr>\n",
                     "    <tr>\n",
                     "      <td id=\"T_24446_row2_col0\" class=\"data row2 col0\" >госслужащий</td>\n",
                     "      <td id=\"T_24446_row2_col1\" class=\"data row2 col1\" >1459</td>\n",
                     "      <td id=\"T_24446_row2_col2\" class=\"data row2 col2\" >50</td>\n",
                     "      <td id=\"T_24446_row2_col3\" class=\"data row2 col3\" >3.4%</td>\n",
                     "      <td id=\"T_24446_row2_col4\" class=\"data row2 col4\" >9.9%</td>\n",
                     "      <td id=\"T_24446_row2_col5\" class=\"data row2 col5\" >6.8%</td>\n",
                     "    </tr>\n",
                     "    <tr>\n",
                     "      <td id=\"T_24446_row3_col0\" class=\"data row3 col0\" >компаньон</td>\n",
                     "      <td id=\"T_24446_row3_col1\" class=\"data row3 col1\" >5085</td>\n",
                     "      <td id=\"T_24446_row3_col2\" class=\"data row3 col2\" >114</td>\n",
                     "      <td id=\"T_24446_row3_col3\" class=\"data row3 col3\" >2.2%</td>\n",
                     "      <td id=\"T_24446_row3_col4\" class=\"data row3 col4\" >22.7%</td>\n",
                     "      <td id=\"T_24446_row3_col5\" class=\"data row3 col5\" >23.6%</td>\n",
                     "    </tr>\n",
                     "    <tr>\n",
                     "      <td id=\"T_24446_row4_col0\" class=\"data row4 col0\" >пенсионер</td>\n",
                     "      <td id=\"T_24446_row4_col1\" class=\"data row4 col1\" >3856</td>\n",
                     "      <td id=\"T_24446_row4_col2\" class=\"data row4 col2\" >24</td>\n",
                     "      <td id=\"T_24446_row4_col3\" class=\"data row4 col3\" >0.6%</td>\n",
                     "      <td id=\"T_24446_row4_col4\" class=\"data row4 col4\" >4.8%</td>\n",
                     "      <td id=\"T_24446_row4_col5\" class=\"data row4 col5\" >17.9%</td>\n",
                     "    </tr>\n",
                     "    <tr>\n",
                     "      <td id=\"T_24446_row5_col0\" class=\"data row5 col0\" >предприниматель</td>\n",
                     "      <td id=\"T_24446_row5_col1\" class=\"data row5 col1\" >2</td>\n",
                     "      <td id=\"T_24446_row5_col2\" class=\"data row5 col2\" >0</td>\n",
                     "      <td id=\"T_24446_row5_col3\" class=\"data row5 col3\" >0.0%</td>\n",
                     "      <td id=\"T_24446_row5_col4\" class=\"data row5 col4\" >0.0%</td>\n",
                     "      <td id=\"T_24446_row5_col5\" class=\"data row5 col5\" >0.0%</td>\n",
                     "    </tr>\n",
                     "    <tr>\n",
                     "      <td id=\"T_24446_row6_col0\" class=\"data row6 col0\" >сотрудник</td>\n",
                     "      <td id=\"T_24446_row6_col1\" class=\"data row6 col1\" >11119</td>\n",
                     "      <td id=\"T_24446_row6_col2\" class=\"data row6 col2\" >315</td>\n",
                     "      <td id=\"T_24446_row6_col3\" class=\"data row6 col3\" >2.8%</td>\n",
                     "      <td id=\"T_24446_row6_col4\" class=\"data row6 col4\" >62.6%</td>\n",
                     "      <td id=\"T_24446_row6_col5\" class=\"data row6 col5\" >51.7%</td>\n",
                     "    </tr>\n",
                     "    <tr>\n",
                     "      <td id=\"T_24446_row7_col0\" class=\"data row7 col0\" >студент</td>\n",
                     "      <td id=\"T_24446_row7_col1\" class=\"data row7 col1\" >1</td>\n",
                     "      <td id=\"T_24446_row7_col2\" class=\"data row7 col2\" >0</td>\n",
                     "      <td id=\"T_24446_row7_col3\" class=\"data row7 col3\" >0.0%</td>\n",
                     "      <td id=\"T_24446_row7_col4\" class=\"data row7 col4\" >0.0%</td>\n",
                     "      <td id=\"T_24446_row7_col5\" class=\"data row7 col5\" >0.0%</td>\n",
                     "    </tr>\n",
                     "  </tbody>\n",
                     "</table>\n"
                  ],
                  "text/plain": [
                     "<pandas.io.formats.style.Styler at 0x1d06dd68>"
                  ]
               },
               "metadata": {},
               "output_type": "display_data"
            }
         ],
         "source": [
            "next(gen)"
         ]
      },
      {
         "cell_type": "markdown",
         "metadata": {},
         "source": [
            "**Наблюдения:**\n",
            "- Больше всего выбросов у сотрудников, даже болше чем пропорция сотрудников в общем количестве"
         ]
      },
      {
         "cell_type": "code",
         "execution_count": 198,
         "metadata": {},
         "outputs": [
            {
               "data": {
                  "text/html": [
                     "<style type=\"text/css\">\n",
                     "#T_af760_ caption {\n",
                     "  font-size: 18px;\n",
                     "  text-align: left;\n",
                     "  font-weight: bold;\n",
                     "}\n",
                     "</style>\n",
                     "<table id=\"T_af760_\">\n",
                     "  <caption>Outliers in \"days_employed\" by category \"family_status\"</caption>\n",
                     "  <thead>\n",
                     "    <tr>\n",
                     "      <th class=\"col_heading level0 col0\" >family_status</th>\n",
                     "      <th class=\"col_heading level0 col1\" >total_count</th>\n",
                     "      <th class=\"col_heading level0 col2\" >outlier_count</th>\n",
                     "      <th class=\"col_heading level0 col3\" >outlier_in_category_pct</th>\n",
                     "      <th class=\"col_heading level0 col4\" >outlier_in_column_pct</th>\n",
                     "      <th class=\"col_heading level0 col5\" >total_count_pct</th>\n",
                     "    </tr>\n",
                     "  </thead>\n",
                     "  <tbody>\n",
                     "    <tr>\n",
                     "      <td id=\"T_af760_row0_col0\" class=\"data row0 col0\" >Не женат / не замужем</td>\n",
                     "      <td id=\"T_af760_row0_col1\" class=\"data row0 col1\" >2813</td>\n",
                     "      <td id=\"T_af760_row0_col2\" class=\"data row0 col2\" >182</td>\n",
                     "      <td id=\"T_af760_row0_col3\" class=\"data row0 col3\" >6.5%</td>\n",
                     "      <td id=\"T_af760_row0_col4\" class=\"data row0 col4\" >9.4%</td>\n",
                     "      <td id=\"T_af760_row0_col5\" class=\"data row0 col5\" >13.1%</td>\n",
                     "    </tr>\n",
                     "    <tr>\n",
                     "      <td id=\"T_af760_row1_col0\" class=\"data row1 col0\" >в разводе</td>\n",
                     "      <td id=\"T_af760_row1_col1\" class=\"data row1 col1\" >1195</td>\n",
                     "      <td id=\"T_af760_row1_col2\" class=\"data row1 col2\" >118</td>\n",
                     "      <td id=\"T_af760_row1_col3\" class=\"data row1 col3\" >9.9%</td>\n",
                     "      <td id=\"T_af760_row1_col4\" class=\"data row1 col4\" >6.1%</td>\n",
                     "      <td id=\"T_af760_row1_col5\" class=\"data row1 col5\" >5.6%</td>\n",
                     "    </tr>\n",
                     "    <tr>\n",
                     "      <td id=\"T_af760_row2_col0\" class=\"data row2 col0\" >вдовец / вдова</td>\n",
                     "      <td id=\"T_af760_row2_col1\" class=\"data row2 col1\" >960</td>\n",
                     "      <td id=\"T_af760_row2_col2\" class=\"data row2 col2\" >169</td>\n",
                     "      <td id=\"T_af760_row2_col3\" class=\"data row2 col3\" >17.6%</td>\n",
                     "      <td id=\"T_af760_row2_col4\" class=\"data row2 col4\" >8.7%</td>\n",
                     "      <td id=\"T_af760_row2_col5\" class=\"data row2 col5\" >4.5%</td>\n",
                     "    </tr>\n",
                     "    <tr>\n",
                     "      <td id=\"T_af760_row3_col0\" class=\"data row3 col0\" >гражданский брак</td>\n",
                     "      <td id=\"T_af760_row3_col1\" class=\"data row3 col1\" >4177</td>\n",
                     "      <td id=\"T_af760_row3_col2\" class=\"data row3 col2\" >346</td>\n",
                     "      <td id=\"T_af760_row3_col3\" class=\"data row3 col3\" >8.3%</td>\n",
                     "      <td id=\"T_af760_row3_col4\" class=\"data row3 col4\" >17.9%</td>\n",
                     "      <td id=\"T_af760_row3_col5\" class=\"data row3 col5\" >19.4%</td>\n",
                     "    </tr>\n",
                     "    <tr>\n",
                     "      <td id=\"T_af760_row4_col0\" class=\"data row4 col0\" >женат / замужем</td>\n",
                     "      <td id=\"T_af760_row4_col1\" class=\"data row4 col1\" >12380</td>\n",
                     "      <td id=\"T_af760_row4_col2\" class=\"data row4 col2\" >1121</td>\n",
                     "      <td id=\"T_af760_row4_col3\" class=\"data row4 col3\" >9.1%</td>\n",
                     "      <td id=\"T_af760_row4_col4\" class=\"data row4 col4\" >57.9%</td>\n",
                     "      <td id=\"T_af760_row4_col5\" class=\"data row4 col5\" >57.5%</td>\n",
                     "    </tr>\n",
                     "  </tbody>\n",
                     "</table>\n"
                  ],
                  "text/plain": [
                     "<pandas.io.formats.style.Styler at 0x1d0938d0>"
                  ]
               },
               "metadata": {},
               "output_type": "display_data"
            }
         ],
         "source": [
            "next(gen)"
         ]
      },
      {
         "cell_type": "markdown",
         "metadata": {},
         "source": [
            "**Наблюдения:**\n",
            "- вдовец / вдова имеет больше процент пропусков чем пропроция в общем количестве"
         ]
      },
      {
         "cell_type": "code",
         "execution_count": 200,
         "metadata": {},
         "outputs": [
            {
               "data": {
                  "text/html": [
                     "<style type=\"text/css\">\n",
                     "#T_02ddb_ caption {\n",
                     "  font-size: 18px;\n",
                     "  text-align: left;\n",
                     "  font-weight: bold;\n",
                     "}\n",
                     "</style>\n",
                     "<table id=\"T_02ddb_\">\n",
                     "  <caption>Outliers in \"days_employed\" by category \"gender\"</caption>\n",
                     "  <thead>\n",
                     "    <tr>\n",
                     "      <th class=\"col_heading level0 col0\" >gender</th>\n",
                     "      <th class=\"col_heading level0 col1\" >total_count</th>\n",
                     "      <th class=\"col_heading level0 col2\" >outlier_count</th>\n",
                     "      <th class=\"col_heading level0 col3\" >outlier_in_category_pct</th>\n",
                     "      <th class=\"col_heading level0 col4\" >outlier_in_column_pct</th>\n",
                     "      <th class=\"col_heading level0 col5\" >total_count_pct</th>\n",
                     "    </tr>\n",
                     "  </thead>\n",
                     "  <tbody>\n",
                     "    <tr>\n",
                     "      <td id=\"T_02ddb_row0_col0\" class=\"data row0 col0\" >F</td>\n",
                     "      <td id=\"T_02ddb_row0_col1\" class=\"data row0 col1\" >14236</td>\n",
                     "      <td id=\"T_02ddb_row0_col2\" class=\"data row0 col2\" >1544</td>\n",
                     "      <td id=\"T_02ddb_row0_col3\" class=\"data row0 col3\" >10.8%</td>\n",
                     "      <td id=\"T_02ddb_row0_col4\" class=\"data row0 col4\" >79.8%</td>\n",
                     "      <td id=\"T_02ddb_row0_col5\" class=\"data row0 col5\" >66.1%</td>\n",
                     "    </tr>\n",
                     "    <tr>\n",
                     "      <td id=\"T_02ddb_row1_col0\" class=\"data row1 col0\" >M</td>\n",
                     "      <td id=\"T_02ddb_row1_col1\" class=\"data row1 col1\" >7288</td>\n",
                     "      <td id=\"T_02ddb_row1_col2\" class=\"data row1 col2\" >392</td>\n",
                     "      <td id=\"T_02ddb_row1_col3\" class=\"data row1 col3\" >5.4%</td>\n",
                     "      <td id=\"T_02ddb_row1_col4\" class=\"data row1 col4\" >20.2%</td>\n",
                     "      <td id=\"T_02ddb_row1_col5\" class=\"data row1 col5\" >33.9%</td>\n",
                     "    </tr>\n",
                     "    <tr>\n",
                     "      <td id=\"T_02ddb_row2_col0\" class=\"data row2 col0\" >XNA</td>\n",
                     "      <td id=\"T_02ddb_row2_col1\" class=\"data row2 col1\" >1</td>\n",
                     "      <td id=\"T_02ddb_row2_col2\" class=\"data row2 col2\" >0</td>\n",
                     "      <td id=\"T_02ddb_row2_col3\" class=\"data row2 col3\" >0.0%</td>\n",
                     "      <td id=\"T_02ddb_row2_col4\" class=\"data row2 col4\" >0.0%</td>\n",
                     "      <td id=\"T_02ddb_row2_col5\" class=\"data row2 col5\" >0.0%</td>\n",
                     "    </tr>\n",
                     "  </tbody>\n",
                     "</table>\n"
                  ],
                  "text/plain": [
                     "<pandas.io.formats.style.Styler at 0x1d0930b8>"
                  ]
               },
               "metadata": {},
               "output_type": "display_data"
            }
         ],
         "source": [
            "next(gen)"
         ]
      },
      {
         "cell_type": "markdown",
         "metadata": {},
         "source": [
            "**Наблюдения:**\n",
            "- У женщин выбросов в стаже намного болше чем у мужчин, даже учитывая что женщин больше всего"
         ]
      },
      {
         "cell_type": "code",
         "execution_count": 201,
         "metadata": {},
         "outputs": [
            {
               "data": {
                  "text/html": [
                     "<style type=\"text/css\">\n",
                     "#T_11e83_ caption {\n",
                     "  font-size: 18px;\n",
                     "  text-align: left;\n",
                     "  font-weight: bold;\n",
                     "}\n",
                     "</style>\n",
                     "<table id=\"T_11e83_\">\n",
                     "  <caption>Outliers in \"days_employed\" by category \"income_type\"</caption>\n",
                     "  <thead>\n",
                     "    <tr>\n",
                     "      <th class=\"col_heading level0 col0\" >income_type</th>\n",
                     "      <th class=\"col_heading level0 col1\" >total_count</th>\n",
                     "      <th class=\"col_heading level0 col2\" >outlier_count</th>\n",
                     "      <th class=\"col_heading level0 col3\" >outlier_in_category_pct</th>\n",
                     "      <th class=\"col_heading level0 col4\" >outlier_in_column_pct</th>\n",
                     "      <th class=\"col_heading level0 col5\" >total_count_pct</th>\n",
                     "    </tr>\n",
                     "  </thead>\n",
                     "  <tbody>\n",
                     "    <tr>\n",
                     "      <td id=\"T_11e83_row0_col0\" class=\"data row0 col0\" >безработный</td>\n",
                     "      <td id=\"T_11e83_row0_col1\" class=\"data row0 col1\" >2</td>\n",
                     "      <td id=\"T_11e83_row0_col2\" class=\"data row0 col2\" >1</td>\n",
                     "      <td id=\"T_11e83_row0_col3\" class=\"data row0 col3\" >50.0%</td>\n",
                     "      <td id=\"T_11e83_row0_col4\" class=\"data row0 col4\" >0.1%</td>\n",
                     "      <td id=\"T_11e83_row0_col5\" class=\"data row0 col5\" >0.0%</td>\n",
                     "    </tr>\n",
                     "    <tr>\n",
                     "      <td id=\"T_11e83_row1_col0\" class=\"data row1 col0\" >в декрете</td>\n",
                     "      <td id=\"T_11e83_row1_col1\" class=\"data row1 col1\" >1</td>\n",
                     "      <td id=\"T_11e83_row1_col2\" class=\"data row1 col2\" >0</td>\n",
                     "      <td id=\"T_11e83_row1_col3\" class=\"data row1 col3\" >0.0%</td>\n",
                     "      <td id=\"T_11e83_row1_col4\" class=\"data row1 col4\" >0.0%</td>\n",
                     "      <td id=\"T_11e83_row1_col5\" class=\"data row1 col5\" >0.0%</td>\n",
                     "    </tr>\n",
                     "    <tr>\n",
                     "      <td id=\"T_11e83_row2_col0\" class=\"data row2 col0\" >госслужащий</td>\n",
                     "      <td id=\"T_11e83_row2_col1\" class=\"data row2 col1\" >1459</td>\n",
                     "      <td id=\"T_11e83_row2_col2\" class=\"data row2 col2\" >183</td>\n",
                     "      <td id=\"T_11e83_row2_col3\" class=\"data row2 col3\" >12.5%</td>\n",
                     "      <td id=\"T_11e83_row2_col4\" class=\"data row2 col4\" >9.5%</td>\n",
                     "      <td id=\"T_11e83_row2_col5\" class=\"data row2 col5\" >6.8%</td>\n",
                     "    </tr>\n",
                     "    <tr>\n",
                     "      <td id=\"T_11e83_row3_col0\" class=\"data row3 col0\" >компаньон</td>\n",
                     "      <td id=\"T_11e83_row3_col1\" class=\"data row3 col1\" >5085</td>\n",
                     "      <td id=\"T_11e83_row3_col2\" class=\"data row3 col2\" >173</td>\n",
                     "      <td id=\"T_11e83_row3_col3\" class=\"data row3 col3\" >3.4%</td>\n",
                     "      <td id=\"T_11e83_row3_col4\" class=\"data row3 col4\" >8.9%</td>\n",
                     "      <td id=\"T_11e83_row3_col5\" class=\"data row3 col5\" >23.6%</td>\n",
                     "    </tr>\n",
                     "    <tr>\n",
                     "      <td id=\"T_11e83_row4_col0\" class=\"data row4 col0\" >пенсионер</td>\n",
                     "      <td id=\"T_11e83_row4_col1\" class=\"data row4 col1\" >3856</td>\n",
                     "      <td id=\"T_11e83_row4_col2\" class=\"data row4 col2\" >967</td>\n",
                     "      <td id=\"T_11e83_row4_col3\" class=\"data row4 col3\" >25.1%</td>\n",
                     "      <td id=\"T_11e83_row4_col4\" class=\"data row4 col4\" >49.9%</td>\n",
                     "      <td id=\"T_11e83_row4_col5\" class=\"data row4 col5\" >17.9%</td>\n",
                     "    </tr>\n",
                     "    <tr>\n",
                     "      <td id=\"T_11e83_row5_col0\" class=\"data row5 col0\" >предприниматель</td>\n",
                     "      <td id=\"T_11e83_row5_col1\" class=\"data row5 col1\" >2</td>\n",
                     "      <td id=\"T_11e83_row5_col2\" class=\"data row5 col2\" >0</td>\n",
                     "      <td id=\"T_11e83_row5_col3\" class=\"data row5 col3\" >0.0%</td>\n",
                     "      <td id=\"T_11e83_row5_col4\" class=\"data row5 col4\" >0.0%</td>\n",
                     "      <td id=\"T_11e83_row5_col5\" class=\"data row5 col5\" >0.0%</td>\n",
                     "    </tr>\n",
                     "    <tr>\n",
                     "      <td id=\"T_11e83_row6_col0\" class=\"data row6 col0\" >сотрудник</td>\n",
                     "      <td id=\"T_11e83_row6_col1\" class=\"data row6 col1\" >11119</td>\n",
                     "      <td id=\"T_11e83_row6_col2\" class=\"data row6 col2\" >612</td>\n",
                     "      <td id=\"T_11e83_row6_col3\" class=\"data row6 col3\" >5.5%</td>\n",
                     "      <td id=\"T_11e83_row6_col4\" class=\"data row6 col4\" >31.6%</td>\n",
                     "      <td id=\"T_11e83_row6_col5\" class=\"data row6 col5\" >51.7%</td>\n",
                     "    </tr>\n",
                     "    <tr>\n",
                     "      <td id=\"T_11e83_row7_col0\" class=\"data row7 col0\" >студент</td>\n",
                     "      <td id=\"T_11e83_row7_col1\" class=\"data row7 col1\" >1</td>\n",
                     "      <td id=\"T_11e83_row7_col2\" class=\"data row7 col2\" >0</td>\n",
                     "      <td id=\"T_11e83_row7_col3\" class=\"data row7 col3\" >0.0%</td>\n",
                     "      <td id=\"T_11e83_row7_col4\" class=\"data row7 col4\" >0.0%</td>\n",
                     "      <td id=\"T_11e83_row7_col5\" class=\"data row7 col5\" >0.0%</td>\n",
                     "    </tr>\n",
                     "  </tbody>\n",
                     "</table>\n"
                  ],
                  "text/plain": [
                     "<pandas.io.formats.style.Styler at 0x1d093cf8>"
                  ]
               },
               "metadata": {},
               "output_type": "display_data"
            }
         ],
         "source": [
            "next(gen)"
         ]
      },
      {
         "cell_type": "markdown",
         "metadata": {},
         "source": [
            "**Наблюдения:**\n",
            "- У пенсионеров значительно болше выбросов в стаже"
         ]
      },
      {
         "cell_type": "code",
         "execution_count": 202,
         "metadata": {},
         "outputs": [
            {
               "data": {
                  "text/html": [
                     "<style type=\"text/css\">\n",
                     "#T_93786_ caption {\n",
                     "  font-size: 18px;\n",
                     "  text-align: left;\n",
                     "  font-weight: bold;\n",
                     "}\n",
                     "</style>\n",
                     "<table id=\"T_93786_\">\n",
                     "  <caption>Outliers in \"days_employed\" by category \"debt\"</caption>\n",
                     "  <thead>\n",
                     "    <tr>\n",
                     "      <th class=\"col_heading level0 col0\" >debt</th>\n",
                     "      <th class=\"col_heading level0 col1\" >total_count</th>\n",
                     "      <th class=\"col_heading level0 col2\" >outlier_count</th>\n",
                     "      <th class=\"col_heading level0 col3\" >outlier_in_category_pct</th>\n",
                     "      <th class=\"col_heading level0 col4\" >outlier_in_column_pct</th>\n",
                     "      <th class=\"col_heading level0 col5\" >total_count_pct</th>\n",
                     "    </tr>\n",
                     "  </thead>\n",
                     "  <tbody>\n",
                     "    <tr>\n",
                     "      <td id=\"T_93786_row0_col0\" class=\"data row0 col0\" >0</td>\n",
                     "      <td id=\"T_93786_row0_col1\" class=\"data row0 col1\" >19784</td>\n",
                     "      <td id=\"T_93786_row0_col2\" class=\"data row0 col2\" >1838</td>\n",
                     "      <td id=\"T_93786_row0_col3\" class=\"data row0 col3\" >9.3%</td>\n",
                     "      <td id=\"T_93786_row0_col4\" class=\"data row0 col4\" >94.9%</td>\n",
                     "      <td id=\"T_93786_row0_col5\" class=\"data row0 col5\" >91.9%</td>\n",
                     "    </tr>\n",
                     "    <tr>\n",
                     "      <td id=\"T_93786_row1_col0\" class=\"data row1 col0\" >1</td>\n",
                     "      <td id=\"T_93786_row1_col1\" class=\"data row1 col1\" >1741</td>\n",
                     "      <td id=\"T_93786_row1_col2\" class=\"data row1 col2\" >98</td>\n",
                     "      <td id=\"T_93786_row1_col3\" class=\"data row1 col3\" >5.6%</td>\n",
                     "      <td id=\"T_93786_row1_col4\" class=\"data row1 col4\" >5.1%</td>\n",
                     "      <td id=\"T_93786_row1_col5\" class=\"data row1 col5\" >8.1%</td>\n",
                     "    </tr>\n",
                     "  </tbody>\n",
                     "</table>\n"
                  ],
                  "text/plain": [
                     "<pandas.io.formats.style.Styler at 0x1d0936a0>"
                  ]
               },
               "metadata": {},
               "output_type": "display_data"
            }
         ],
         "source": [
            "next(gen)"
         ]
      },
      {
         "cell_type": "markdown",
         "metadata": {},
         "source": [
            "**Наблюдения:**\n",
            "- У женщин выбросов в стаже намного болше чем у мужчин, даже учитывая что женщин больше всего"
         ]
      },
      {
         "cell_type": "code",
         "execution_count": 203,
         "metadata": {},
         "outputs": [
            {
               "data": {
                  "text/html": [
                     "<style type=\"text/css\">\n",
                     "#T_6021a_ caption {\n",
                     "  font-size: 18px;\n",
                     "  text-align: left;\n",
                     "  font-weight: bold;\n",
                     "}\n",
                     "</style>\n",
                     "<table id=\"T_6021a_\">\n",
                     "  <caption>dob_years</caption>\n",
                     "  <thead>\n",
                     "    <tr>\n",
                     "      <th class=\"blank level0\" >&nbsp;</th>\n",
                     "      <th class=\"col_heading level0 col0\" >outliers</th>\n",
                     "    </tr>\n",
                     "  </thead>\n",
                     "  <tbody>\n",
                     "    <tr>\n",
                     "      <th id=\"T_6021a_level0_row0\" class=\"row_heading level0 row0\" >24</th>\n",
                     "      <td id=\"T_6021a_row0_col0\" class=\"data row0 col0\" >264</td>\n",
                     "    </tr>\n",
                     "    <tr>\n",
                     "      <th id=\"T_6021a_level0_row1\" class=\"row_heading level0 row1\" >23</th>\n",
                     "      <td id=\"T_6021a_row1_col0\" class=\"data row1 col0\" >254</td>\n",
                     "    </tr>\n",
                     "    <tr>\n",
                     "      <th id=\"T_6021a_level0_row2\" class=\"row_heading level0 row2\" >65</th>\n",
                     "      <td id=\"T_6021a_row2_col0\" class=\"data row2 col0\" >194</td>\n",
                     "    </tr>\n",
                     "    <tr>\n",
                     "      <th id=\"T_6021a_level0_row3\" class=\"row_heading level0 row3\" >66</th>\n",
                     "      <td id=\"T_6021a_row3_col0\" class=\"data row3 col0\" >183</td>\n",
                     "    </tr>\n",
                     "    <tr>\n",
                     "      <th id=\"T_6021a_level0_row4\" class=\"row_heading level0 row4\" >22</th>\n",
                     "      <td id=\"T_6021a_row4_col0\" class=\"data row4 col0\" >183</td>\n",
                     "    </tr>\n",
                     "    <tr>\n",
                     "      <th id=\"T_6021a_level0_row5\" class=\"row_heading level0 row5\" >67</th>\n",
                     "      <td id=\"T_6021a_row5_col0\" class=\"data row5 col0\" >167</td>\n",
                     "    </tr>\n",
                     "    <tr>\n",
                     "      <th id=\"T_6021a_level0_row6\" class=\"row_heading level0 row6\" >21</th>\n",
                     "      <td id=\"T_6021a_row6_col0\" class=\"data row6 col0\" >111</td>\n",
                     "    </tr>\n",
                     "    <tr>\n",
                     "      <th id=\"T_6021a_level0_row7\" class=\"row_heading level0 row7\" >0</th>\n",
                     "      <td id=\"T_6021a_row7_col0\" class=\"data row7 col0\" >101</td>\n",
                     "    </tr>\n",
                     "    <tr>\n",
                     "      <th id=\"T_6021a_level0_row8\" class=\"row_heading level0 row8\" >68</th>\n",
                     "      <td id=\"T_6021a_row8_col0\" class=\"data row8 col0\" >99</td>\n",
                     "    </tr>\n",
                     "    <tr>\n",
                     "      <th id=\"T_6021a_level0_row9\" class=\"row_heading level0 row9\" >69</th>\n",
                     "      <td id=\"T_6021a_row9_col0\" class=\"data row9 col0\" >85</td>\n",
                     "    </tr>\n",
                     "  </tbody>\n",
                     "</table>\n"
                  ],
                  "text/plain": [
                     "<pandas.io.formats.style.Styler at 0x1d15dfd0>"
                  ]
               },
               "metadata": {},
               "output_type": "display_data"
            }
         ],
         "source": [
            "next(gen)"
         ]
      },
      {
         "cell_type": "markdown",
         "metadata": {},
         "source": [
            "**Наблюдения:**\n",
            "- В выбросы попали самые молодые и самые старые по возрасту, что логично, также попал 0"
         ]
      },
      {
         "cell_type": "code",
         "execution_count": 206,
         "metadata": {},
         "outputs": [
            {
               "data": {
                  "text/html": [
                     "<style type=\"text/css\">\n",
                     "#T_c8d25_ caption {\n",
                     "  font-size: 18px;\n",
                     "  text-align: left;\n",
                     "  font-weight: bold;\n",
                     "}\n",
                     "</style>\n",
                     "<table id=\"T_c8d25_\">\n",
                     "  <caption>Outliers in \"dob_years\" by category \"family_status\"</caption>\n",
                     "  <thead>\n",
                     "    <tr>\n",
                     "      <th class=\"col_heading level0 col0\" >family_status</th>\n",
                     "      <th class=\"col_heading level0 col1\" >total_count</th>\n",
                     "      <th class=\"col_heading level0 col2\" >outlier_count</th>\n",
                     "      <th class=\"col_heading level0 col3\" >outlier_in_category_pct</th>\n",
                     "      <th class=\"col_heading level0 col4\" >outlier_in_column_pct</th>\n",
                     "      <th class=\"col_heading level0 col5\" >total_count_pct</th>\n",
                     "    </tr>\n",
                     "  </thead>\n",
                     "  <tbody>\n",
                     "    <tr>\n",
                     "      <td id=\"T_c8d25_row0_col0\" class=\"data row0 col0\" >Не женат / не замужем</td>\n",
                     "      <td id=\"T_c8d25_row0_col1\" class=\"data row0 col1\" >2813</td>\n",
                     "      <td id=\"T_c8d25_row0_col2\" class=\"data row0 col2\" >465</td>\n",
                     "      <td id=\"T_c8d25_row0_col3\" class=\"data row0 col3\" >16.5%</td>\n",
                     "      <td id=\"T_c8d25_row0_col4\" class=\"data row0 col4\" >24.8%</td>\n",
                     "      <td id=\"T_c8d25_row0_col5\" class=\"data row0 col5\" >13.1%</td>\n",
                     "    </tr>\n",
                     "    <tr>\n",
                     "      <td id=\"T_c8d25_row1_col0\" class=\"data row1 col0\" >в разводе</td>\n",
                     "      <td id=\"T_c8d25_row1_col1\" class=\"data row1 col1\" >1195</td>\n",
                     "      <td id=\"T_c8d25_row1_col2\" class=\"data row1 col2\" >75</td>\n",
                     "      <td id=\"T_c8d25_row1_col3\" class=\"data row1 col3\" >6.3%</td>\n",
                     "      <td id=\"T_c8d25_row1_col4\" class=\"data row1 col4\" >4.0%</td>\n",
                     "      <td id=\"T_c8d25_row1_col5\" class=\"data row1 col5\" >5.6%</td>\n",
                     "    </tr>\n",
                     "    <tr>\n",
                     "      <td id=\"T_c8d25_row2_col0\" class=\"data row2 col0\" >вдовец / вдова</td>\n",
                     "      <td id=\"T_c8d25_row2_col1\" class=\"data row2 col1\" >960</td>\n",
                     "      <td id=\"T_c8d25_row2_col2\" class=\"data row2 col2\" >176</td>\n",
                     "      <td id=\"T_c8d25_row2_col3\" class=\"data row2 col3\" >18.3%</td>\n",
                     "      <td id=\"T_c8d25_row2_col4\" class=\"data row2 col4\" >9.4%</td>\n",
                     "      <td id=\"T_c8d25_row2_col5\" class=\"data row2 col5\" >4.5%</td>\n",
                     "    </tr>\n",
                     "    <tr>\n",
                     "      <td id=\"T_c8d25_row3_col0\" class=\"data row3 col0\" >гражданский брак</td>\n",
                     "      <td id=\"T_c8d25_row3_col1\" class=\"data row3 col1\" >4177</td>\n",
                     "      <td id=\"T_c8d25_row3_col2\" class=\"data row3 col2\" >385</td>\n",
                     "      <td id=\"T_c8d25_row3_col3\" class=\"data row3 col3\" >9.2%</td>\n",
                     "      <td id=\"T_c8d25_row3_col4\" class=\"data row3 col4\" >20.5%</td>\n",
                     "      <td id=\"T_c8d25_row3_col5\" class=\"data row3 col5\" >19.4%</td>\n",
                     "    </tr>\n",
                     "    <tr>\n",
                     "      <td id=\"T_c8d25_row4_col0\" class=\"data row4 col0\" >женат / замужем</td>\n",
                     "      <td id=\"T_c8d25_row4_col1\" class=\"data row4 col1\" >12380</td>\n",
                     "      <td id=\"T_c8d25_row4_col2\" class=\"data row4 col2\" >776</td>\n",
                     "      <td id=\"T_c8d25_row4_col3\" class=\"data row4 col3\" >6.3%</td>\n",
                     "      <td id=\"T_c8d25_row4_col4\" class=\"data row4 col4\" >41.3%</td>\n",
                     "      <td id=\"T_c8d25_row4_col5\" class=\"data row4 col5\" >57.5%</td>\n",
                     "    </tr>\n",
                     "  </tbody>\n",
                     "</table>\n"
                  ],
                  "text/plain": [
                     "<pandas.io.formats.style.Styler at 0x1d090710>"
                  ]
               },
               "metadata": {},
               "output_type": "display_data"
            }
         ],
         "source": [
            "next(gen)"
         ]
      },
      {
         "cell_type": "markdown",
         "metadata": {},
         "source": [
            "**Наблюдения:**\n",
            "- Не женат / не замужем выделяется по выбросам, учитывая пропроцию в общем количестве"
         ]
      },
      {
         "cell_type": "code",
         "execution_count": 209,
         "metadata": {},
         "outputs": [
            {
               "data": {
                  "text/html": [
                     "<style type=\"text/css\">\n",
                     "#T_42571_ caption {\n",
                     "  font-size: 18px;\n",
                     "  text-align: left;\n",
                     "  font-weight: bold;\n",
                     "}\n",
                     "</style>\n",
                     "<table id=\"T_42571_\">\n",
                     "  <caption>Outliers in \"dob_years\" by category \"income_type\"</caption>\n",
                     "  <thead>\n",
                     "    <tr>\n",
                     "      <th class=\"col_heading level0 col0\" >income_type</th>\n",
                     "      <th class=\"col_heading level0 col1\" >total_count</th>\n",
                     "      <th class=\"col_heading level0 col2\" >outlier_count</th>\n",
                     "      <th class=\"col_heading level0 col3\" >outlier_in_category_pct</th>\n",
                     "      <th class=\"col_heading level0 col4\" >outlier_in_column_pct</th>\n",
                     "      <th class=\"col_heading level0 col5\" >total_count_pct</th>\n",
                     "    </tr>\n",
                     "  </thead>\n",
                     "  <tbody>\n",
                     "    <tr>\n",
                     "      <td id=\"T_42571_row0_col0\" class=\"data row0 col0\" >безработный</td>\n",
                     "      <td id=\"T_42571_row0_col1\" class=\"data row0 col1\" >2</td>\n",
                     "      <td id=\"T_42571_row0_col2\" class=\"data row0 col2\" >0</td>\n",
                     "      <td id=\"T_42571_row0_col3\" class=\"data row0 col3\" >0.0%</td>\n",
                     "      <td id=\"T_42571_row0_col4\" class=\"data row0 col4\" >0.0%</td>\n",
                     "      <td id=\"T_42571_row0_col5\" class=\"data row0 col5\" >0.0%</td>\n",
                     "    </tr>\n",
                     "    <tr>\n",
                     "      <td id=\"T_42571_row1_col0\" class=\"data row1 col0\" >в декрете</td>\n",
                     "      <td id=\"T_42571_row1_col1\" class=\"data row1 col1\" >1</td>\n",
                     "      <td id=\"T_42571_row1_col2\" class=\"data row1 col2\" >0</td>\n",
                     "      <td id=\"T_42571_row1_col3\" class=\"data row1 col3\" >0.0%</td>\n",
                     "      <td id=\"T_42571_row1_col4\" class=\"data row1 col4\" >0.0%</td>\n",
                     "      <td id=\"T_42571_row1_col5\" class=\"data row1 col5\" >0.0%</td>\n",
                     "    </tr>\n",
                     "    <tr>\n",
                     "      <td id=\"T_42571_row2_col0\" class=\"data row2 col0\" >госслужащий</td>\n",
                     "      <td id=\"T_42571_row2_col1\" class=\"data row2 col1\" >1459</td>\n",
                     "      <td id=\"T_42571_row2_col2\" class=\"data row2 col2\" >69</td>\n",
                     "      <td id=\"T_42571_row2_col3\" class=\"data row2 col3\" >4.7%</td>\n",
                     "      <td id=\"T_42571_row2_col4\" class=\"data row2 col4\" >3.7%</td>\n",
                     "      <td id=\"T_42571_row2_col5\" class=\"data row2 col5\" >6.8%</td>\n",
                     "    </tr>\n",
                     "    <tr>\n",
                     "      <td id=\"T_42571_row3_col0\" class=\"data row3 col0\" >компаньон</td>\n",
                     "      <td id=\"T_42571_row3_col1\" class=\"data row3 col1\" >5085</td>\n",
                     "      <td id=\"T_42571_row3_col2\" class=\"data row3 col2\" >333</td>\n",
                     "      <td id=\"T_42571_row3_col3\" class=\"data row3 col3\" >6.5%</td>\n",
                     "      <td id=\"T_42571_row3_col4\" class=\"data row3 col4\" >17.7%</td>\n",
                     "      <td id=\"T_42571_row3_col5\" class=\"data row3 col5\" >23.6%</td>\n",
                     "    </tr>\n",
                     "    <tr>\n",
                     "      <td id=\"T_42571_row4_col0\" class=\"data row4 col0\" >пенсионер</td>\n",
                     "      <td id=\"T_42571_row4_col1\" class=\"data row4 col1\" >3856</td>\n",
                     "      <td id=\"T_42571_row4_col2\" class=\"data row4 col2\" >792</td>\n",
                     "      <td id=\"T_42571_row4_col3\" class=\"data row4 col3\" >20.5%</td>\n",
                     "      <td id=\"T_42571_row4_col4\" class=\"data row4 col4\" >42.2%</td>\n",
                     "      <td id=\"T_42571_row4_col5\" class=\"data row4 col5\" >17.9%</td>\n",
                     "    </tr>\n",
                     "    <tr>\n",
                     "      <td id=\"T_42571_row5_col0\" class=\"data row5 col0\" >предприниматель</td>\n",
                     "      <td id=\"T_42571_row5_col1\" class=\"data row5 col1\" >2</td>\n",
                     "      <td id=\"T_42571_row5_col2\" class=\"data row5 col2\" >0</td>\n",
                     "      <td id=\"T_42571_row5_col3\" class=\"data row5 col3\" >0.0%</td>\n",
                     "      <td id=\"T_42571_row5_col4\" class=\"data row5 col4\" >0.0%</td>\n",
                     "      <td id=\"T_42571_row5_col5\" class=\"data row5 col5\" >0.0%</td>\n",
                     "    </tr>\n",
                     "    <tr>\n",
                     "      <td id=\"T_42571_row6_col0\" class=\"data row6 col0\" >сотрудник</td>\n",
                     "      <td id=\"T_42571_row6_col1\" class=\"data row6 col1\" >11119</td>\n",
                     "      <td id=\"T_42571_row6_col2\" class=\"data row6 col2\" >682</td>\n",
                     "      <td id=\"T_42571_row6_col3\" class=\"data row6 col3\" >6.1%</td>\n",
                     "      <td id=\"T_42571_row6_col4\" class=\"data row6 col4\" >36.3%</td>\n",
                     "      <td id=\"T_42571_row6_col5\" class=\"data row6 col5\" >51.7%</td>\n",
                     "    </tr>\n",
                     "    <tr>\n",
                     "      <td id=\"T_42571_row7_col0\" class=\"data row7 col0\" >студент</td>\n",
                     "      <td id=\"T_42571_row7_col1\" class=\"data row7 col1\" >1</td>\n",
                     "      <td id=\"T_42571_row7_col2\" class=\"data row7 col2\" >1</td>\n",
                     "      <td id=\"T_42571_row7_col3\" class=\"data row7 col3\" >100.0%</td>\n",
                     "      <td id=\"T_42571_row7_col4\" class=\"data row7 col4\" >0.1%</td>\n",
                     "      <td id=\"T_42571_row7_col5\" class=\"data row7 col5\" >0.0%</td>\n",
                     "    </tr>\n",
                     "  </tbody>\n",
                     "</table>\n"
                  ],
                  "text/plain": [
                     "<pandas.io.formats.style.Styler at 0x1d090908>"
                  ]
               },
               "metadata": {},
               "output_type": "display_data"
            }
         ],
         "source": [
            "next(gen)"
         ]
      },
      {
         "cell_type": "markdown",
         "metadata": {},
         "source": [
            "**Наблюдения:**\n",
            "- У пенсионеров болше выбросов по возрасту, что логично"
         ]
      },
      {
         "cell_type": "code",
         "execution_count": 214,
         "metadata": {},
         "outputs": [
            {
               "data": {
                  "text/html": [
                     "<style type=\"text/css\">\n",
                     "#T_4a4ee_ caption {\n",
                     "  font-size: 18px;\n",
                     "  text-align: left;\n",
                     "  font-weight: bold;\n",
                     "}\n",
                     "</style>\n",
                     "<table id=\"T_4a4ee_\">\n",
                     "  <caption>Outliers in \"total_income\" by category \"family_status\"</caption>\n",
                     "  <thead>\n",
                     "    <tr>\n",
                     "      <th class=\"col_heading level0 col0\" >family_status</th>\n",
                     "      <th class=\"col_heading level0 col1\" >total_count</th>\n",
                     "      <th class=\"col_heading level0 col2\" >outlier_count</th>\n",
                     "      <th class=\"col_heading level0 col3\" >outlier_in_category_pct</th>\n",
                     "      <th class=\"col_heading level0 col4\" >outlier_in_column_pct</th>\n",
                     "      <th class=\"col_heading level0 col5\" >total_count_pct</th>\n",
                     "    </tr>\n",
                     "  </thead>\n",
                     "  <tbody>\n",
                     "    <tr>\n",
                     "      <td id=\"T_4a4ee_row0_col0\" class=\"data row0 col0\" >Не женат / не замужем</td>\n",
                     "      <td id=\"T_4a4ee_row0_col1\" class=\"data row0 col1\" >2813</td>\n",
                     "      <td id=\"T_4a4ee_row0_col2\" class=\"data row0 col2\" >217</td>\n",
                     "      <td id=\"T_4a4ee_row0_col3\" class=\"data row0 col3\" >7.7%</td>\n",
                     "      <td id=\"T_4a4ee_row0_col4\" class=\"data row0 col4\" >11.2%</td>\n",
                     "      <td id=\"T_4a4ee_row0_col5\" class=\"data row0 col5\" >13.1%</td>\n",
                     "    </tr>\n",
                     "    <tr>\n",
                     "      <td id=\"T_4a4ee_row1_col0\" class=\"data row1 col0\" >в разводе</td>\n",
                     "      <td id=\"T_4a4ee_row1_col1\" class=\"data row1 col1\" >1195</td>\n",
                     "      <td id=\"T_4a4ee_row1_col2\" class=\"data row1 col2\" >96</td>\n",
                     "      <td id=\"T_4a4ee_row1_col3\" class=\"data row1 col3\" >8.0%</td>\n",
                     "      <td id=\"T_4a4ee_row1_col4\" class=\"data row1 col4\" >5.0%</td>\n",
                     "      <td id=\"T_4a4ee_row1_col5\" class=\"data row1 col5\" >5.6%</td>\n",
                     "    </tr>\n",
                     "    <tr>\n",
                     "      <td id=\"T_4a4ee_row2_col0\" class=\"data row2 col0\" >вдовец / вдова</td>\n",
                     "      <td id=\"T_4a4ee_row2_col1\" class=\"data row2 col1\" >960</td>\n",
                     "      <td id=\"T_4a4ee_row2_col2\" class=\"data row2 col2\" >95</td>\n",
                     "      <td id=\"T_4a4ee_row2_col3\" class=\"data row2 col3\" >9.9%</td>\n",
                     "      <td id=\"T_4a4ee_row2_col4\" class=\"data row2 col4\" >4.9%</td>\n",
                     "      <td id=\"T_4a4ee_row2_col5\" class=\"data row2 col5\" >4.5%</td>\n",
                     "    </tr>\n",
                     "    <tr>\n",
                     "      <td id=\"T_4a4ee_row3_col0\" class=\"data row3 col0\" >гражданский брак</td>\n",
                     "      <td id=\"T_4a4ee_row3_col1\" class=\"data row3 col1\" >4177</td>\n",
                     "      <td id=\"T_4a4ee_row3_col2\" class=\"data row3 col2\" >336</td>\n",
                     "      <td id=\"T_4a4ee_row3_col3\" class=\"data row3 col3\" >8.0%</td>\n",
                     "      <td id=\"T_4a4ee_row3_col4\" class=\"data row3 col4\" >17.4%</td>\n",
                     "      <td id=\"T_4a4ee_row3_col5\" class=\"data row3 col5\" >19.4%</td>\n",
                     "    </tr>\n",
                     "    <tr>\n",
                     "      <td id=\"T_4a4ee_row4_col0\" class=\"data row4 col0\" >женат / замужем</td>\n",
                     "      <td id=\"T_4a4ee_row4_col1\" class=\"data row4 col1\" >12380</td>\n",
                     "      <td id=\"T_4a4ee_row4_col2\" class=\"data row4 col2\" >1192</td>\n",
                     "      <td id=\"T_4a4ee_row4_col3\" class=\"data row4 col3\" >9.6%</td>\n",
                     "      <td id=\"T_4a4ee_row4_col4\" class=\"data row4 col4\" >61.6%</td>\n",
                     "      <td id=\"T_4a4ee_row4_col5\" class=\"data row4 col5\" >57.5%</td>\n",
                     "    </tr>\n",
                     "  </tbody>\n",
                     "</table>\n"
                  ],
                  "text/plain": [
                     "<pandas.io.formats.style.Styler at 0x1d0915c0>"
                  ]
               },
               "metadata": {},
               "output_type": "display_data"
            }
         ],
         "source": [
            "next(gen)"
         ]
      },
      {
         "cell_type": "markdown",
         "metadata": {},
         "source": [
            "**Наблюдения:**\n",
            "- У женатых больше выбросов по доходу"
         ]
      },
      {
         "cell_type": "code",
         "execution_count": 217,
         "metadata": {},
         "outputs": [
            {
               "data": {
                  "text/html": [
                     "<style type=\"text/css\">\n",
                     "#T_52cb3_ caption {\n",
                     "  font-size: 18px;\n",
                     "  text-align: left;\n",
                     "  font-weight: bold;\n",
                     "}\n",
                     "</style>\n",
                     "<table id=\"T_52cb3_\">\n",
                     "  <caption>Outliers in \"total_income\" by category \"income_type\"</caption>\n",
                     "  <thead>\n",
                     "    <tr>\n",
                     "      <th class=\"col_heading level0 col0\" >income_type</th>\n",
                     "      <th class=\"col_heading level0 col1\" >total_count</th>\n",
                     "      <th class=\"col_heading level0 col2\" >outlier_count</th>\n",
                     "      <th class=\"col_heading level0 col3\" >outlier_in_category_pct</th>\n",
                     "      <th class=\"col_heading level0 col4\" >outlier_in_column_pct</th>\n",
                     "      <th class=\"col_heading level0 col5\" >total_count_pct</th>\n",
                     "    </tr>\n",
                     "  </thead>\n",
                     "  <tbody>\n",
                     "    <tr>\n",
                     "      <td id=\"T_52cb3_row0_col0\" class=\"data row0 col0\" >безработный</td>\n",
                     "      <td id=\"T_52cb3_row0_col1\" class=\"data row0 col1\" >2</td>\n",
                     "      <td id=\"T_52cb3_row0_col2\" class=\"data row0 col2\" >1</td>\n",
                     "      <td id=\"T_52cb3_row0_col3\" class=\"data row0 col3\" >50.0%</td>\n",
                     "      <td id=\"T_52cb3_row0_col4\" class=\"data row0 col4\" >0.1%</td>\n",
                     "      <td id=\"T_52cb3_row0_col5\" class=\"data row0 col5\" >0.0%</td>\n",
                     "    </tr>\n",
                     "    <tr>\n",
                     "      <td id=\"T_52cb3_row1_col0\" class=\"data row1 col0\" >в декрете</td>\n",
                     "      <td id=\"T_52cb3_row1_col1\" class=\"data row1 col1\" >1</td>\n",
                     "      <td id=\"T_52cb3_row1_col2\" class=\"data row1 col2\" >1</td>\n",
                     "      <td id=\"T_52cb3_row1_col3\" class=\"data row1 col3\" >100.0%</td>\n",
                     "      <td id=\"T_52cb3_row1_col4\" class=\"data row1 col4\" >0.1%</td>\n",
                     "      <td id=\"T_52cb3_row1_col5\" class=\"data row1 col5\" >0.0%</td>\n",
                     "    </tr>\n",
                     "    <tr>\n",
                     "      <td id=\"T_52cb3_row2_col0\" class=\"data row2 col0\" >госслужащий</td>\n",
                     "      <td id=\"T_52cb3_row2_col1\" class=\"data row2 col1\" >1459</td>\n",
                     "      <td id=\"T_52cb3_row2_col2\" class=\"data row2 col2\" >140</td>\n",
                     "      <td id=\"T_52cb3_row2_col3\" class=\"data row2 col3\" >9.6%</td>\n",
                     "      <td id=\"T_52cb3_row2_col4\" class=\"data row2 col4\" >7.2%</td>\n",
                     "      <td id=\"T_52cb3_row2_col5\" class=\"data row2 col5\" >6.8%</td>\n",
                     "    </tr>\n",
                     "    <tr>\n",
                     "      <td id=\"T_52cb3_row3_col0\" class=\"data row3 col0\" >компаньон</td>\n",
                     "      <td id=\"T_52cb3_row3_col1\" class=\"data row3 col1\" >5085</td>\n",
                     "      <td id=\"T_52cb3_row3_col2\" class=\"data row3 col2\" >488</td>\n",
                     "      <td id=\"T_52cb3_row3_col3\" class=\"data row3 col3\" >9.6%</td>\n",
                     "      <td id=\"T_52cb3_row3_col4\" class=\"data row3 col4\" >25.2%</td>\n",
                     "      <td id=\"T_52cb3_row3_col5\" class=\"data row3 col5\" >23.6%</td>\n",
                     "    </tr>\n",
                     "    <tr>\n",
                     "      <td id=\"T_52cb3_row4_col0\" class=\"data row4 col0\" >пенсионер</td>\n",
                     "      <td id=\"T_52cb3_row4_col1\" class=\"data row4 col1\" >3856</td>\n",
                     "      <td id=\"T_52cb3_row4_col2\" class=\"data row4 col2\" >500</td>\n",
                     "      <td id=\"T_52cb3_row4_col3\" class=\"data row4 col3\" >13.0%</td>\n",
                     "      <td id=\"T_52cb3_row4_col4\" class=\"data row4 col4\" >25.8%</td>\n",
                     "      <td id=\"T_52cb3_row4_col5\" class=\"data row4 col5\" >17.9%</td>\n",
                     "    </tr>\n",
                     "    <tr>\n",
                     "      <td id=\"T_52cb3_row5_col0\" class=\"data row5 col0\" >предприниматель</td>\n",
                     "      <td id=\"T_52cb3_row5_col1\" class=\"data row5 col1\" >2</td>\n",
                     "      <td id=\"T_52cb3_row5_col2\" class=\"data row5 col2\" >1</td>\n",
                     "      <td id=\"T_52cb3_row5_col3\" class=\"data row5 col3\" >50.0%</td>\n",
                     "      <td id=\"T_52cb3_row5_col4\" class=\"data row5 col4\" >0.1%</td>\n",
                     "      <td id=\"T_52cb3_row5_col5\" class=\"data row5 col5\" >0.0%</td>\n",
                     "    </tr>\n",
                     "    <tr>\n",
                     "      <td id=\"T_52cb3_row6_col0\" class=\"data row6 col0\" >сотрудник</td>\n",
                     "      <td id=\"T_52cb3_row6_col1\" class=\"data row6 col1\" >11119</td>\n",
                     "      <td id=\"T_52cb3_row6_col2\" class=\"data row6 col2\" >805</td>\n",
                     "      <td id=\"T_52cb3_row6_col3\" class=\"data row6 col3\" >7.2%</td>\n",
                     "      <td id=\"T_52cb3_row6_col4\" class=\"data row6 col4\" >41.6%</td>\n",
                     "      <td id=\"T_52cb3_row6_col5\" class=\"data row6 col5\" >51.7%</td>\n",
                     "    </tr>\n",
                     "    <tr>\n",
                     "      <td id=\"T_52cb3_row7_col0\" class=\"data row7 col0\" >студент</td>\n",
                     "      <td id=\"T_52cb3_row7_col1\" class=\"data row7 col1\" >1</td>\n",
                     "      <td id=\"T_52cb3_row7_col2\" class=\"data row7 col2\" >0</td>\n",
                     "      <td id=\"T_52cb3_row7_col3\" class=\"data row7 col3\" >0.0%</td>\n",
                     "      <td id=\"T_52cb3_row7_col4\" class=\"data row7 col4\" >0.0%</td>\n",
                     "      <td id=\"T_52cb3_row7_col5\" class=\"data row7 col5\" >0.0%</td>\n",
                     "    </tr>\n",
                     "  </tbody>\n",
                     "</table>\n"
                  ],
                  "text/plain": [
                     "<pandas.io.formats.style.Styler at 0x1d0918d0>"
                  ]
               },
               "metadata": {},
               "output_type": "display_data"
            }
         ],
         "source": [
            "next(gen)"
         ]
      },
      {
         "cell_type": "markdown",
         "metadata": {},
         "source": [
            "**Наблюдения:**\n",
            "- У пенсионеров больше выбросов по доходу"
         ]
      },
      {
         "cell_type": "code",
         "execution_count": 218,
         "metadata": {},
         "outputs": [
            {
               "data": {
                  "text/html": [
                     "<style type=\"text/css\">\n",
                     "#T_04475_ caption {\n",
                     "  font-size: 18px;\n",
                     "  text-align: left;\n",
                     "  font-weight: bold;\n",
                     "}\n",
                     "</style>\n",
                     "<table id=\"T_04475_\">\n",
                     "  <caption>Outliers in \"total_income\" by category \"debt\"</caption>\n",
                     "  <thead>\n",
                     "    <tr>\n",
                     "      <th class=\"col_heading level0 col0\" >debt</th>\n",
                     "      <th class=\"col_heading level0 col1\" >total_count</th>\n",
                     "      <th class=\"col_heading level0 col2\" >outlier_count</th>\n",
                     "      <th class=\"col_heading level0 col3\" >outlier_in_category_pct</th>\n",
                     "      <th class=\"col_heading level0 col4\" >outlier_in_column_pct</th>\n",
                     "      <th class=\"col_heading level0 col5\" >total_count_pct</th>\n",
                     "    </tr>\n",
                     "  </thead>\n",
                     "  <tbody>\n",
                     "    <tr>\n",
                     "      <td id=\"T_04475_row0_col0\" class=\"data row0 col0\" >0</td>\n",
                     "      <td id=\"T_04475_row0_col1\" class=\"data row0 col1\" >19784</td>\n",
                     "      <td id=\"T_04475_row0_col2\" class=\"data row0 col2\" >1811</td>\n",
                     "      <td id=\"T_04475_row0_col3\" class=\"data row0 col3\" >9.2%</td>\n",
                     "      <td id=\"T_04475_row0_col4\" class=\"data row0 col4\" >93.5%</td>\n",
                     "      <td id=\"T_04475_row0_col5\" class=\"data row0 col5\" >91.9%</td>\n",
                     "    </tr>\n",
                     "    <tr>\n",
                     "      <td id=\"T_04475_row1_col0\" class=\"data row1 col0\" >1</td>\n",
                     "      <td id=\"T_04475_row1_col1\" class=\"data row1 col1\" >1741</td>\n",
                     "      <td id=\"T_04475_row1_col2\" class=\"data row1 col2\" >125</td>\n",
                     "      <td id=\"T_04475_row1_col3\" class=\"data row1 col3\" >7.2%</td>\n",
                     "      <td id=\"T_04475_row1_col4\" class=\"data row1 col4\" >6.5%</td>\n",
                     "      <td id=\"T_04475_row1_col5\" class=\"data row1 col5\" >8.1%</td>\n",
                     "    </tr>\n",
                     "  </tbody>\n",
                     "</table>\n"
                  ],
                  "text/plain": [
                     "<pandas.io.formats.style.Styler at 0x1d091f28>"
                  ]
               },
               "metadata": {},
               "output_type": "display_data"
            }
         ],
         "source": [
            "next(gen)"
         ]
      },
      {
         "cell_type": "markdown",
         "metadata": {},
         "source": [
            "**Наблюдения:**\n",
            "- Без задолженности немного больше выбросов по доходу.  "
         ]
      },
      {
         "cell_type": "markdown",
         "metadata": {},
         "source": [
            "#### 1.2 Промежуточный вывод"
         ]
      },
      {
         "cell_type": "markdown",
         "metadata": {},
         "source": [
            "- В датафрейме есть строки дубликаты. 54 строки. Меньше 1 % от всего датафрейма.  \n",
            "Так как у нас нет уникального идентификатора клиентов, то эти дубли не выглядят ошибкой.  \n",
            "Также у нас в строках с дублями есть пропуски в некоторых столбцах, если бы не было пропусков,  \n",
            "то возможно дублей было бы меньше, так как было бы больше детализации\n",
            "- В столбце с количеством детей есть отрицательные значения.  47 штук. Меньше 1 процента. Также есть клиенты с 20 детьми. Что странно.  \n",
            "Такое количество детей восвновном у людей в браке и сотрудников. У пенсионеров явно доля с 20 детьми меньше, чем доле пенсионеров в общем количестве людей. \n",
            "- Возможно 20 детей связано с тем, что во время ввода данных указали лишний ноль.  \n",
            "Рекомендация, сделать проверку на отрицательные значения и на 20 детей, чтобы на стадии ввода не допускать ошибок.  \n",
            "- 66 прцоентов имеют 0 детей, 22 прцоента имеют 1 ребенка, 10 % имеют 2 детей и меньше 5 % имеют более 2 детей.  \n",
            "- В колонке общий трудовой стаж есть 10 % пропущенных значений.  \n",
            "- 74 % отрицаетльных значений. Так быть не должно.  \n",
            "- Максимальное количество дней стажа больше 400 тысяч дней, это больше 1000 лет. Явно это выброс.  \n",
            "- Столбец со стажем выглядит некорректно. Нужно высянить методику расчета и разобраться в чем проблема.  \n",
            "- В колонке возраста 101 нулевое значени. Это явно ошибки.  \n",
            "- Медиана 42 года, первый квартиль 33 года, можно сделать вывод, что у нас восновном люди старше 30 лет.  \n",
            "- Больше всего людей около 40 лет.  \n",
            "- Только 5 процентов людей моложе 25 лет.  \n",
            "- Колонка дохода имеет слишком много знаков после запятой. Нужно выяснить причину.  \n",
            "- Доход боьше 1 млн может быть правдой. Тем более такой даоход в большинстве у мужчин с высшим образованием, у компаньонов или сотрудников.  \n",
            "Нет оснований считать это выбросом. Максимаьный доход 2 млн. Также может быть реальным.\n",
            "- Меньше 5 % людей имеют зарплату меньша 63 тысяч.  \n",
            "Можно сделать вывод, что большинство имеет высокий доход.  \n",
            "При этом 25 % имеют доход больше 200 тысяч.  \n",
            "- В колонке с образованием присутствуют одни и те же знчения с разными регистрами. Нужно выяснить почему так происходит при загрузке.  \n",
            "При этом в колонке с id образования все впрорядке.    \n",
            "- Болше всего людей со средним образованием 71 %. Высшее образование у 24 %.\n",
            "- 58 % женаты либо замужем. 19 % в гражданском браке. Можно сделать вывод что большинство в браке.  \n",
            "- В колонке пола присутствует значение XNA меньше чем у 1 %, возможно не указали пол.\n",
            "- 66 % женщины, можно сделать вывод, что большинство женщины\n",
            "- В столбце занятость больше всего сотрудников (52 %). Меньше 1 % безработных. Предпринимететей также 1 %. Можно сделать вывод, что большинство либо пенсионеры, либо имеют занятость.\n",
            "- 92 % не имеют долга\n",
            "- В колонке цель кредита 38 униклаьных значений, немного, но все таки есть похожие цели, нужно будет объеденить в одно значение.\n",
            "- Выделяющейся по количеству заявок цели кредита нет.  \n",
            "- У нас пропуски в колонке со стажем и в колокне с доходом.  \n",
            "- Гипотеза, что пропуски в обоих колонках расположены в одних и тех же строках подтветрдилась.  \n",
            "Возможно это вызвано тем, что при расчете дохода испльзуется стаж, либо существует другое влияние одного на другое.  \n",
            "- Категория семейного статуса 'женат / замужем' содержит значительно больше выбросов по количеству детей, даже учитывая что в общем количестве их тоже больше\n",
            "- У мужчин немного побольше выбросов по количеству детей, учитывая размер группы мужчин.\n",
            "- Больше всего выбросов по количеству детей у категории занятости 'сотрудник'\n",
            "- У женщин выбросов в стаже намного болше чем у мужчин, даже учитывая что женщин больше всего\n",
            "- У пенсионеров значительно болше выбросов в стаже\n",
            "- Категория семейного статуса 'Не женат / не замужем' выделяется по выбросам, учитывая пропроцию в общем количестве.\n",
            "- У пенсионеров болше выбросов по возрасту, что логично\n",
            "- Категория семейного статуса 'Не женат / не замужем' имеет больше выбросов по доходу\n",
            "- У пенсионеров больше выбросов по доходу\n",
            "- У людей без задолженности немного больше выбросов по доходу.  "
         ]
      },
      {
         "cell_type": "markdown",
         "metadata": {},
         "source": [
            "### 2. Предобработка данных"
         ]
      },
      {
         "cell_type": "markdown",
         "metadata": {},
         "source": [
            "#### Выбор нужных столбцов для дальнейшей работы и нормализация таблицы"
         ]
      },
      {
         "cell_type": "code",
         "execution_count": 220,
         "metadata": {},
         "outputs": [
            {
               "data": {
                  "text/html": [
                     "<div>\n",
                     "<style scoped>\n",
                     "    .dataframe tbody tr th:only-of-type {\n",
                     "        vertical-align: middle;\n",
                     "    }\n",
                     "\n",
                     "    .dataframe tbody tr th {\n",
                     "        vertical-align: top;\n",
                     "    }\n",
                     "\n",
                     "    .dataframe thead th {\n",
                     "        text-align: right;\n",
                     "    }\n",
                     "</style>\n",
                     "<table border=\"1\" class=\"dataframe\">\n",
                     "  <thead>\n",
                     "    <tr style=\"text-align: right;\">\n",
                     "      <th></th>\n",
                     "      <th>children</th>\n",
                     "      <th>days_employed</th>\n",
                     "      <th>dob_years</th>\n",
                     "      <th>education</th>\n",
                     "      <th>education_id</th>\n",
                     "      <th>family_status</th>\n",
                     "      <th>family_status_id</th>\n",
                     "      <th>gender</th>\n",
                     "      <th>income_type</th>\n",
                     "      <th>debt</th>\n",
                     "      <th>total_income</th>\n",
                     "      <th>purpose</th>\n",
                     "    </tr>\n",
                     "  </thead>\n",
                     "  <tbody>\n",
                     "    <tr>\n",
                     "      <th>0</th>\n",
                     "      <td>1</td>\n",
                     "      <td>-8437.673028</td>\n",
                     "      <td>42</td>\n",
                     "      <td>высшее</td>\n",
                     "      <td>0</td>\n",
                     "      <td>женат / замужем</td>\n",
                     "      <td>0</td>\n",
                     "      <td>F</td>\n",
                     "      <td>сотрудник</td>\n",
                     "      <td>0</td>\n",
                     "      <td>253875.639453</td>\n",
                     "      <td>покупка жилья</td>\n",
                     "    </tr>\n",
                     "  </tbody>\n",
                     "</table>\n",
                     "</div>"
                  ],
                  "text/plain": [
                     "   children  days_employed  dob_years education education_id    family_status  \\\n",
                     "0         1   -8437.673028         42    высшее            0  женат / замужем   \n",
                     "\n",
                     "  family_status_id gender income_type debt   total_income        purpose  \n",
                     "0                0      F   сотрудник    0  253875.639453  покупка жилья  "
                  ]
               },
               "execution_count": 220,
               "metadata": {},
               "output_type": "execute_result"
            }
         ],
         "source": [
            "df.head(1)"
         ]
      },
      {
         "cell_type": "markdown",
         "metadata": {},
         "source": [
            "Для дальнейшего анализа нам не нужно 2 колонки с образованием и с семейным статусом.   \n",
            "Удалим колонки с id образования и семейного статуса, так как нам для графиков лучше подойдут названия, а не id."
         ]
      },
      {
         "cell_type": "markdown",
         "metadata": {},
         "source": [
            "Также колонка days_employed имеет совершенно некорректные данные, нужно разбираться откуда такие данные.  \n",
            "В данный момент мы ничего не можем с этим сделать и любые действия могут исказить результат. Поэтому не будет брать эту колонку.  "
         ]
      },
      {
         "cell_type": "markdown",
         "metadata": {},
         "source": [
            "Сохраним исходный датафрейм в переменную df_origin, чтобы была возможность вернуться к нему"
         ]
      },
      {
         "cell_type": "code",
         "execution_count": 4,
         "metadata": {},
         "outputs": [],
         "source": [
            "df_origin = df.copy()"
         ]
      },
      {
         "cell_type": "code",
         "execution_count": 13,
         "metadata": {},
         "outputs": [
            {
               "data": {
                  "text/html": [
                     "<div>\n",
                     "<style scoped>\n",
                     "    .dataframe tbody tr th:only-of-type {\n",
                     "        vertical-align: middle;\n",
                     "    }\n",
                     "\n",
                     "    .dataframe tbody tr th {\n",
                     "        vertical-align: top;\n",
                     "    }\n",
                     "\n",
                     "    .dataframe thead th {\n",
                     "        text-align: right;\n",
                     "    }\n",
                     "</style>\n",
                     "<table border=\"1\" class=\"dataframe\">\n",
                     "  <thead>\n",
                     "    <tr style=\"text-align: right;\">\n",
                     "      <th></th>\n",
                     "      <th>children</th>\n",
                     "      <th>dob_years</th>\n",
                     "      <th>education</th>\n",
                     "      <th>family_status</th>\n",
                     "      <th>gender</th>\n",
                     "      <th>income_type</th>\n",
                     "      <th>debt</th>\n",
                     "      <th>total_income</th>\n",
                     "      <th>purpose</th>\n",
                     "      <th>purpose_new</th>\n",
                     "    </tr>\n",
                     "  </thead>\n",
                     "  <tbody>\n",
                     "    <tr>\n",
                     "      <th>0</th>\n",
                     "      <td>1</td>\n",
                     "      <td>42</td>\n",
                     "      <td>высшее</td>\n",
                     "      <td>женат / замужем</td>\n",
                     "      <td>F</td>\n",
                     "      <td>сотрудник</td>\n",
                     "      <td>0</td>\n",
                     "      <td>253875.639453</td>\n",
                     "      <td>покупка жилья</td>\n",
                     "      <td>Недвижимость</td>\n",
                     "    </tr>\n",
                     "  </tbody>\n",
                     "</table>\n",
                     "</div>"
                  ],
                  "text/plain": [
                     "   children  dob_years education    family_status gender income_type debt  \\\n",
                     "0         1         42    высшее  женат / замужем      F   сотрудник    0   \n",
                     "\n",
                     "    total_income        purpose   purpose_new  \n",
                     "0  253875.639453  покупка жилья  Недвижимость  "
                  ]
               },
               "execution_count": 13,
               "metadata": {},
               "output_type": "execute_result"
            }
         ],
         "source": [
            "df = df.drop(['education_id', 'family_status_id', 'days_employed'], axis=1)\n",
            "df.head(1)"
         ]
      },
      {
         "cell_type": "markdown",
         "metadata": {},
         "source": [
            "### Работа с выбросами"
         ]
      },
      {
         "cell_type": "markdown",
         "metadata": {},
         "source": [
            "Посмотрим где у нас отрицательные значения"
         ]
      },
      {
         "cell_type": "code",
         "execution_count": 76,
         "metadata": {},
         "outputs": [
            {
               "data": {
                  "text/html": [
                     "<div>\n",
                     "<style scoped>\n",
                     "    .dataframe tbody tr th:only-of-type {\n",
                     "        vertical-align: middle;\n",
                     "    }\n",
                     "\n",
                     "    .dataframe tbody tr th {\n",
                     "        vertical-align: top;\n",
                     "    }\n",
                     "\n",
                     "    .dataframe thead th {\n",
                     "        text-align: right;\n",
                     "    }\n",
                     "</style>\n",
                     "<table border=\"1\" class=\"dataframe\">\n",
                     "  <thead>\n",
                     "    <tr style=\"text-align: right;\">\n",
                     "      <th></th>\n",
                     "      <th>negative</th>\n",
                     "    </tr>\n",
                     "  </thead>\n",
                     "  <tbody>\n",
                     "    <tr>\n",
                     "      <th>children</th>\n",
                     "      <td>47 (0.2%)</td>\n",
                     "    </tr>\n",
                     "  </tbody>\n",
                     "</table>\n",
                     "</div>"
                  ],
                  "text/plain": [
                     "           negative\n",
                     "children  47 (0.2%)"
                  ]
               },
               "metadata": {},
               "output_type": "display_data"
            }
         ],
         "source": [
            "my_module.check_negative_value_in_df(df)"
         ]
      },
      {
         "cell_type": "markdown",
         "metadata": {},
         "source": [
            "У нас 0.2% отрицательных значений, лучше всего будет их просто удалить."
         ]
      },
      {
         "cell_type": "code",
         "execution_count": null,
         "metadata": {},
         "outputs": [
            {
               "data": {
                  "text/plain": [
                     "21525"
                  ]
               },
               "metadata": {},
               "output_type": "display_data"
            }
         ],
         "source": [
            "df.shape[0]"
         ]
      },
      {
         "cell_type": "code",
         "execution_count": 15,
         "metadata": {},
         "outputs": [
            {
               "data": {
                  "text/plain": [
                     "21478"
                  ]
               },
               "execution_count": 15,
               "metadata": {},
               "output_type": "execute_result"
            }
         ],
         "source": [
            "df = df[df.children >= 0]\n",
            "df.shape[0]"
         ]
      },
      {
         "cell_type": "markdown",
         "metadata": {},
         "source": [
            "Посмотрим где у нас нулевые значения"
         ]
      },
      {
         "cell_type": "code",
         "execution_count": 110,
         "metadata": {},
         "outputs": [
            {
               "data": {
                  "text/html": [
                     "<div>\n",
                     "<style scoped>\n",
                     "    .dataframe tbody tr th:only-of-type {\n",
                     "        vertical-align: middle;\n",
                     "    }\n",
                     "\n",
                     "    .dataframe tbody tr th {\n",
                     "        vertical-align: top;\n",
                     "    }\n",
                     "\n",
                     "    .dataframe thead th {\n",
                     "        text-align: right;\n",
                     "    }\n",
                     "</style>\n",
                     "<table border=\"1\" class=\"dataframe\">\n",
                     "  <thead>\n",
                     "    <tr style=\"text-align: right;\">\n",
                     "      <th></th>\n",
                     "      <th>zeros</th>\n",
                     "    </tr>\n",
                     "  </thead>\n",
                     "  <tbody>\n",
                     "    <tr>\n",
                     "      <th>children</th>\n",
                     "      <td>47 (0.2%)</td>\n",
                     "    </tr>\n",
                     "  </tbody>\n",
                     "</table>\n",
                     "</div>"
                  ],
                  "text/plain": [
                     "              zeros\n",
                     "children  47 (0.2%)"
                  ]
               },
               "metadata": {},
               "output_type": "display_data"
            }
         ],
         "source": [
            "my_module.check_zeros_value_in_df(df)"
         ]
      },
      {
         "cell_type": "markdown",
         "metadata": {},
         "source": [
            "В количестве детей 0 это нормально. С этим ничего делать не будем.  \n",
            "В возрасте 0.5% нулевых значений. Лучше будет их удалить."
         ]
      },
      {
         "cell_type": "code",
         "execution_count": 97,
         "metadata": {},
         "outputs": [
            {
               "data": {
                  "text/plain": [
                     "21478"
                  ]
               },
               "execution_count": 97,
               "metadata": {},
               "output_type": "execute_result"
            }
         ],
         "source": [
            "df.shape[0]"
         ]
      },
      {
         "cell_type": "code",
         "execution_count": 16,
         "metadata": {},
         "outputs": [
            {
               "data": {
                  "text/plain": [
                     "21377"
                  ]
               },
               "execution_count": 16,
               "metadata": {},
               "output_type": "execute_result"
            }
         ],
         "source": [
            "df = df[df.dob_years != 0]\n",
            "df.shape[0]"
         ]
      },
      {
         "cell_type": "markdown",
         "metadata": {},
         "source": [
            "Убедимся, что у нас нет нулевых и отрицательных значений там, где их быть не должно"
         ]
      },
      {
         "cell_type": "code",
         "execution_count": 17,
         "metadata": {},
         "outputs": [
            {
               "data": {
                  "text/html": [
                     "<div>\n",
                     "<style scoped>\n",
                     "    .dataframe tbody tr th:only-of-type {\n",
                     "        vertical-align: middle;\n",
                     "    }\n",
                     "\n",
                     "    .dataframe tbody tr th {\n",
                     "        vertical-align: top;\n",
                     "    }\n",
                     "\n",
                     "    .dataframe thead th {\n",
                     "        text-align: right;\n",
                     "    }\n",
                     "</style>\n",
                     "<table border=\"1\" class=\"dataframe\">\n",
                     "  <thead>\n",
                     "    <tr style=\"text-align: right;\">\n",
                     "      <th></th>\n",
                     "      <th>negative</th>\n",
                     "    </tr>\n",
                     "  </thead>\n",
                     "  <tbody>\n",
                     "  </tbody>\n",
                     "</table>\n",
                     "</div>"
                  ],
                  "text/plain": [
                     "Empty DataFrame\n",
                     "Columns: [negative]\n",
                     "Index: []"
                  ]
               },
               "metadata": {},
               "output_type": "display_data"
            }
         ],
         "source": [
            "my_module.check_negative_value_in_df(df)"
         ]
      },
      {
         "cell_type": "code",
         "execution_count": 18,
         "metadata": {},
         "outputs": [
            {
               "data": {
                  "text/html": [
                     "<div>\n",
                     "<style scoped>\n",
                     "    .dataframe tbody tr th:only-of-type {\n",
                     "        vertical-align: middle;\n",
                     "    }\n",
                     "\n",
                     "    .dataframe tbody tr th {\n",
                     "        vertical-align: top;\n",
                     "    }\n",
                     "\n",
                     "    .dataframe thead th {\n",
                     "        text-align: right;\n",
                     "    }\n",
                     "</style>\n",
                     "<table border=\"1\" class=\"dataframe\">\n",
                     "  <thead>\n",
                     "    <tr style=\"text-align: right;\">\n",
                     "      <th></th>\n",
                     "      <th>zeros</th>\n",
                     "    </tr>\n",
                     "  </thead>\n",
                     "  <tbody>\n",
                     "  </tbody>\n",
                     "</table>\n",
                     "</div>"
                  ],
                  "text/plain": [
                     "Empty DataFrame\n",
                     "Columns: [zeros]\n",
                     "Index: []"
                  ]
               },
               "metadata": {},
               "output_type": "display_data"
            }
         ],
         "source": [
            "my_module.check_zeros_value_in_df(df)"
         ]
      },
      {
         "cell_type": "markdown",
         "metadata": {},
         "source": [
            "После изучения данных мы выяснили, что у нас есть странное значение в количестве детей, которое может быть выбросом.  \n"
         ]
      },
      {
         "cell_type": "code",
         "execution_count": 143,
         "metadata": {},
         "outputs": [
            {
               "data": {
                  "text/plain": [
                     "75"
                  ]
               },
               "execution_count": 143,
               "metadata": {},
               "output_type": "execute_result"
            }
         ],
         "source": [
            "cnt = (df.children == 20).sum()\n",
            "cnt"
         ]
      },
      {
         "cell_type": "code",
         "execution_count": 135,
         "metadata": {},
         "outputs": [
            {
               "data": {
                  "text/plain": [
                     "0.35084436543949105"
                  ]
               },
               "execution_count": 135,
               "metadata": {},
               "output_type": "execute_result"
            }
         ],
         "source": [
            "cnt * 100 / df.shape[0]"
         ]
      },
      {
         "cell_type": "markdown",
         "metadata": {},
         "source": [
            "У нас таких данных меньше пол процента, удалим их, так как нет уверености, что это не выбросы.  \n",
            "Если их оставить, то они могут внести больше искажений, чем их удалить.  "
         ]
      },
      {
         "cell_type": "code",
         "execution_count": 142,
         "metadata": {},
         "outputs": [
            {
               "data": {
                  "text/plain": [
                     "21377"
                  ]
               },
               "execution_count": 142,
               "metadata": {},
               "output_type": "execute_result"
            }
         ],
         "source": [
            "df.shape[0]"
         ]
      },
      {
         "cell_type": "code",
         "execution_count": 19,
         "metadata": {},
         "outputs": [
            {
               "data": {
                  "text/plain": [
                     "21302"
                  ]
               },
               "execution_count": 19,
               "metadata": {},
               "output_type": "execute_result"
            }
         ],
         "source": [
            "df = df[df.children != 20]\n",
            "df.shape[0]"
         ]
      },
      {
         "cell_type": "code",
         "execution_count": null,
         "metadata": {},
         "outputs": [],
         "source": []
      },
      {
         "cell_type": "markdown",
         "metadata": {},
         "source": [
            "### Промежуточный вывод"
         ]
      },
      {
         "cell_type": "markdown",
         "metadata": {},
         "source": []
      },
      {
         "cell_type": "markdown",
         "metadata": {},
         "source": [
            "### Обработка пропусков"
         ]
      },
      {
         "cell_type": "markdown",
         "metadata": {},
         "source": [
            "Посмотрим, где у нас пропуски"
         ]
      },
      {
         "cell_type": "code",
         "execution_count": 82,
         "metadata": {},
         "outputs": [
            {
               "data": {
                  "text/html": [
                     "<div>\n",
                     "<style scoped>\n",
                     "    .dataframe tbody tr th:only-of-type {\n",
                     "        vertical-align: middle;\n",
                     "    }\n",
                     "\n",
                     "    .dataframe tbody tr th {\n",
                     "        vertical-align: top;\n",
                     "    }\n",
                     "\n",
                     "    .dataframe thead th {\n",
                     "        text-align: right;\n",
                     "    }\n",
                     "</style>\n",
                     "<table border=\"1\" class=\"dataframe\">\n",
                     "  <thead>\n",
                     "    <tr style=\"text-align: right;\">\n",
                     "      <th></th>\n",
                     "      <th>missed</th>\n",
                     "    </tr>\n",
                     "  </thead>\n",
                     "  <tbody>\n",
                     "    <tr>\n",
                     "      <th>total_income</th>\n",
                     "      <td>2152 (10.1%)</td>\n",
                     "    </tr>\n",
                     "  </tbody>\n",
                     "</table>\n",
                     "</div>"
                  ],
                  "text/plain": [
                     "                    missed\n",
                     "total_income  2152 (10.1%)"
                  ]
               },
               "metadata": {},
               "output_type": "display_data"
            }
         ],
         "source": [
            "my_module.check_missed_value_in_df(df)"
         ]
      },
      {
         "cell_type": "markdown",
         "metadata": {},
         "source": [
            "У нас 10 процентов пропусков в доходе.  \n",
            "Удалять нельзя. Попробуем заменить.  "
         ]
      },
      {
         "cell_type": "markdown",
         "metadata": {},
         "source": [
            "В доходе мы можем заполнить пропуски учитывая категории.  \n",
            "Выберем категории следующие - образование, семейный статус, пол, занятость.  \n",
            "Выбраны эти категории, так как они могут оказывать влияние на  доход.  "
         ]
      },
      {
         "cell_type": "code",
         "execution_count": 192,
         "metadata": {},
         "outputs": [
            {
               "data": {
                  "text/html": [
                     "<div>\n",
                     "<style scoped>\n",
                     "    .dataframe tbody tr th:only-of-type {\n",
                     "        vertical-align: middle;\n",
                     "    }\n",
                     "\n",
                     "    .dataframe tbody tr th {\n",
                     "        vertical-align: top;\n",
                     "    }\n",
                     "\n",
                     "    .dataframe thead th {\n",
                     "        text-align: right;\n",
                     "    }\n",
                     "</style>\n",
                     "<table border=\"1\" class=\"dataframe\">\n",
                     "  <thead>\n",
                     "    <tr style=\"text-align: right;\">\n",
                     "      <th></th>\n",
                     "      <th>children</th>\n",
                     "      <th>dob_years</th>\n",
                     "      <th>education</th>\n",
                     "      <th>family_status</th>\n",
                     "      <th>gender</th>\n",
                     "      <th>income_type</th>\n",
                     "      <th>debt</th>\n",
                     "      <th>total_income</th>\n",
                     "      <th>purpose</th>\n",
                     "    </tr>\n",
                     "  </thead>\n",
                     "  <tbody>\n",
                     "    <tr>\n",
                     "      <th>0</th>\n",
                     "      <td>1</td>\n",
                     "      <td>42</td>\n",
                     "      <td>высшее</td>\n",
                     "      <td>женат / замужем</td>\n",
                     "      <td>F</td>\n",
                     "      <td>сотрудник</td>\n",
                     "      <td>0</td>\n",
                     "      <td>253875.639453</td>\n",
                     "      <td>покупка жилья</td>\n",
                     "    </tr>\n",
                     "  </tbody>\n",
                     "</table>\n",
                     "</div>"
                  ],
                  "text/plain": [
                     "   children  dob_years education    family_status gender income_type debt  \\\n",
                     "0         1         42    высшее  женат / замужем      F   сотрудник    0   \n",
                     "\n",
                     "    total_income        purpose  \n",
                     "0  253875.639453  покупка жилья  "
                  ]
               },
               "execution_count": 192,
               "metadata": {},
               "output_type": "execute_result"
            }
         ],
         "source": [
            "df.head(1)"
         ]
      },
      {
         "cell_type": "markdown",
         "metadata": {},
         "source": [
            "Посмотрим размеры групп, если заменять внутри этих групп"
         ]
      },
      {
         "cell_type": "code",
         "execution_count": 21,
         "metadata": {},
         "outputs": [
            {
               "name": "stdout",
               "output_type": "stream",
               "text": [
                  "55.22% groups have missing values\n",
                  "41.08%  groups with missings have more than 30 elements\n",
                  "70.81%  groups with missings have more than 10 elements\n",
                  "77.84%  groups with missings have more than 5 elements\n",
                  "4.32%  groups have only missings\n",
                  "8 missings in groups with only missings\n"
               ]
            }
         ],
         "source": [
            "category_columns = ['education', 'family_status', 'gender', 'income_type']\n",
            "value_column = 'total_income'\n",
            "my_module.check_group_count(df, category_columns, value_column)"
         ]
      },
      {
         "cell_type": "markdown",
         "metadata": {},
         "source": [
            "**Наблюдения:**\n",
            "- 70 % групп с пропусками имеют 10 и более элементов. По таким группам можем заполнить пропуски медианой\n",
            "- 4 % групп имеют только пропуски, таких 8 пропусков всего, их мы такими группами заполнить не сможем.  "
         ]
      },
      {
         "cell_type": "markdown",
         "metadata": {},
         "source": [
            "Заполним пропуски в группах от 10 элементов"
         ]
      },
      {
         "cell_type": "code",
         "execution_count": 22,
         "metadata": {},
         "outputs": [],
         "source": [
            "df[value_column] = my_module.fill_na_with_function_by_categories(df, category_columns, value_column, func='median', minimal_group_size=10)"
         ]
      },
      {
         "cell_type": "code",
         "execution_count": 96,
         "metadata": {},
         "outputs": [
            {
               "data": {
                  "text/html": [
                     "<div>\n",
                     "<style scoped>\n",
                     "    .dataframe tbody tr th:only-of-type {\n",
                     "        vertical-align: middle;\n",
                     "    }\n",
                     "\n",
                     "    .dataframe tbody tr th {\n",
                     "        vertical-align: top;\n",
                     "    }\n",
                     "\n",
                     "    .dataframe thead th {\n",
                     "        text-align: right;\n",
                     "    }\n",
                     "</style>\n",
                     "<table border=\"1\" class=\"dataframe\">\n",
                     "  <thead>\n",
                     "    <tr style=\"text-align: right;\">\n",
                     "      <th></th>\n",
                     "      <th>missed</th>\n",
                     "    </tr>\n",
                     "  </thead>\n",
                     "  <tbody>\n",
                     "    <tr>\n",
                     "      <th>total_income</th>\n",
                     "      <td>63 (0.3%)</td>\n",
                     "    </tr>\n",
                     "  </tbody>\n",
                     "</table>\n",
                     "</div>"
                  ],
                  "text/plain": [
                     "                 missed\n",
                     "total_income  63 (0.3%)"
                  ]
               },
               "metadata": {},
               "output_type": "display_data"
            }
         ],
         "source": [
            "my_module.check_missed_value_in_df(df)"
         ]
      },
      {
         "cell_type": "markdown",
         "metadata": {},
         "source": [
            "Оставшиеся пропуски попроубем заполнить без учета семейного статуса"
         ]
      },
      {
         "cell_type": "code",
         "execution_count": 23,
         "metadata": {},
         "outputs": [
            {
               "name": "stdout",
               "output_type": "stream",
               "text": [
                  "42.57% groups have missing values\n",
                  "41.86%  groups with missings have more than 30 elements\n",
                  "60.47%  groups with missings have more than 10 elements\n",
                  "79.07%  groups with missings have more than 5 elements\n",
                  "2.33%  groups have only missings\n",
                  "1 missings in groups with only missings\n"
               ]
            }
         ],
         "source": [
            "category_columns = ['education', 'gender', 'income_type']\n",
            "value_column = 'total_income'\n",
            "my_module.check_group_count(df, category_columns, value_column)"
         ]
      },
      {
         "cell_type": "code",
         "execution_count": 24,
         "metadata": {},
         "outputs": [],
         "source": [
            "df[value_column] = my_module.fill_na_with_function_by_categories(df, category_columns, value_column, func='median', minimal_group_size=10)"
         ]
      },
      {
         "cell_type": "code",
         "execution_count": 99,
         "metadata": {},
         "outputs": [
            {
               "data": {
                  "text/html": [
                     "<div>\n",
                     "<style scoped>\n",
                     "    .dataframe tbody tr th:only-of-type {\n",
                     "        vertical-align: middle;\n",
                     "    }\n",
                     "\n",
                     "    .dataframe tbody tr th {\n",
                     "        vertical-align: top;\n",
                     "    }\n",
                     "\n",
                     "    .dataframe thead th {\n",
                     "        text-align: right;\n",
                     "    }\n",
                     "</style>\n",
                     "<table border=\"1\" class=\"dataframe\">\n",
                     "  <thead>\n",
                     "    <tr style=\"text-align: right;\">\n",
                     "      <th></th>\n",
                     "      <th>missed</th>\n",
                     "    </tr>\n",
                     "  </thead>\n",
                     "  <tbody>\n",
                     "    <tr>\n",
                     "      <th>total_income</th>\n",
                     "      <td>22 (0.1%)</td>\n",
                     "    </tr>\n",
                     "  </tbody>\n",
                     "</table>\n",
                     "</div>"
                  ],
                  "text/plain": [
                     "                 missed\n",
                     "total_income  22 (0.1%)"
                  ]
               },
               "metadata": {},
               "output_type": "display_data"
            }
         ],
         "source": [
            "my_module.check_missed_value_in_df(df)"
         ]
      },
      {
         "cell_type": "markdown",
         "metadata": {},
         "source": [
            "Оставшиеся заменим по образованию и типу занятости"
         ]
      },
      {
         "cell_type": "code",
         "execution_count": 25,
         "metadata": {},
         "outputs": [
            {
               "name": "stdout",
               "output_type": "stream",
               "text": [
                  "26.79% groups have missing values\n",
                  "13.33%  groups with missings have more than 30 elements\n",
                  "53.33%  groups with missings have more than 10 elements\n",
                  "60.00%  groups with missings have more than 5 elements\n",
                  "0.00%  groups have only missings\n",
                  "0 missings in groups with only missings\n"
               ]
            }
         ],
         "source": [
            "category_columns = ['education', 'income_type']\n",
            "value_column = 'total_income'\n",
            "my_module.check_group_count(df, category_columns, value_column)"
         ]
      },
      {
         "cell_type": "code",
         "execution_count": 26,
         "metadata": {},
         "outputs": [],
         "source": [
            "df[value_column] = my_module.fill_na_with_function_by_categories(df, category_columns, value_column, func='median', minimal_group_size=10)"
         ]
      },
      {
         "cell_type": "code",
         "execution_count": 27,
         "metadata": {},
         "outputs": [
            {
               "data": {
                  "text/html": [
                     "<div>\n",
                     "<style scoped>\n",
                     "    .dataframe tbody tr th:only-of-type {\n",
                     "        vertical-align: middle;\n",
                     "    }\n",
                     "\n",
                     "    .dataframe tbody tr th {\n",
                     "        vertical-align: top;\n",
                     "    }\n",
                     "\n",
                     "    .dataframe thead th {\n",
                     "        text-align: right;\n",
                     "    }\n",
                     "</style>\n",
                     "<table border=\"1\" class=\"dataframe\">\n",
                     "  <thead>\n",
                     "    <tr style=\"text-align: right;\">\n",
                     "      <th></th>\n",
                     "      <th>missed</th>\n",
                     "    </tr>\n",
                     "  </thead>\n",
                     "  <tbody>\n",
                     "    <tr>\n",
                     "      <th>total_income</th>\n",
                     "      <td>8 (0.0%)</td>\n",
                     "    </tr>\n",
                     "  </tbody>\n",
                     "</table>\n",
                     "</div>"
                  ],
                  "text/plain": [
                     "                missed\n",
                     "total_income  8 (0.0%)"
                  ]
               },
               "metadata": {},
               "output_type": "display_data"
            }
         ],
         "source": [
            "my_module.check_missed_value_in_df(df)"
         ]
      },
      {
         "cell_type": "markdown",
         "metadata": {},
         "source": [
            "Оставшиеся заменим медианой по образованию"
         ]
      },
      {
         "cell_type": "code",
         "execution_count": 28,
         "metadata": {},
         "outputs": [
            {
               "name": "stdout",
               "output_type": "stream",
               "text": [
                  "40.00% groups have missing values\n",
                  "50.00%  groups with missings have more than 30 elements\n",
                  "100.00%  groups with missings have more than 10 elements\n",
                  "100.00%  groups with missings have more than 5 elements\n",
                  "0.00%  groups have only missings\n",
                  "0 missings in groups with only missings\n"
               ]
            }
         ],
         "source": [
            "category_columns = ['education']\n",
            "value_column = 'total_income'\n",
            "my_module.check_group_count(df, category_columns, value_column)"
         ]
      },
      {
         "cell_type": "code",
         "execution_count": 29,
         "metadata": {},
         "outputs": [],
         "source": [
            "df[value_column] = my_module.fill_na_with_function_by_categories(df, category_columns, value_column, func='median', minimal_group_size=10)"
         ]
      },
      {
         "cell_type": "code",
         "execution_count": 30,
         "metadata": {},
         "outputs": [
            {
               "data": {
                  "text/html": [
                     "<div>\n",
                     "<style scoped>\n",
                     "    .dataframe tbody tr th:only-of-type {\n",
                     "        vertical-align: middle;\n",
                     "    }\n",
                     "\n",
                     "    .dataframe tbody tr th {\n",
                     "        vertical-align: top;\n",
                     "    }\n",
                     "\n",
                     "    .dataframe thead th {\n",
                     "        text-align: right;\n",
                     "    }\n",
                     "</style>\n",
                     "<table border=\"1\" class=\"dataframe\">\n",
                     "  <thead>\n",
                     "    <tr style=\"text-align: right;\">\n",
                     "      <th></th>\n",
                     "      <th>missed</th>\n",
                     "    </tr>\n",
                     "  </thead>\n",
                     "  <tbody>\n",
                     "  </tbody>\n",
                     "</table>\n",
                     "</div>"
                  ],
                  "text/plain": [
                     "Empty DataFrame\n",
                     "Columns: [missed]\n",
                     "Index: []"
                  ]
               },
               "metadata": {},
               "output_type": "display_data"
            }
         ],
         "source": [
            "my_module.check_missed_value_in_df(df)"
         ]
      },
      {
         "cell_type": "markdown",
         "metadata": {},
         "source": [
            "Пропусков не осталось, можно продолжнать анализ. "
         ]
      },
      {
         "cell_type": "markdown",
         "metadata": {},
         "source": [
            "### Промежуточный вывод"
         ]
      },
      {
         "cell_type": "markdown",
         "metadata": {},
         "source": []
      },
      {
         "cell_type": "markdown",
         "metadata": {},
         "source": [
            "### Обработка дубликатов"
         ]
      },
      {
         "cell_type": "markdown",
         "metadata": {},
         "source": [
            "Посмотрим снова на дубли после обработки пропусков"
         ]
      },
      {
         "cell_type": "code",
         "execution_count": 119,
         "metadata": {},
         "outputs": [
            {
               "data": {
                  "text/html": [
                     "<style type=\"text/css\">\n",
                     "#T_c1567_ caption {\n",
                     "  font-size: 18px;\n",
                     "  text-align: left;\n",
                     "  font-weight: bold;\n",
                     "}\n",
                     "</style>\n",
                     "<table id=\"T_c1567_\">\n",
                     "  <caption>Duplicates</caption>\n",
                     "  <thead>\n",
                     "  </thead>\n",
                     "  <tbody>\n",
                     "    <tr>\n",
                     "      <th id=\"T_c1567_level0_row0\" class=\"row_heading level0 row0\" >children</th>\n",
                     "      <td id=\"T_c1567_row0_col0\" class=\"data row0 col0\" >21296 (99.97%)</td>\n",
                     "    </tr>\n",
                     "    <tr>\n",
                     "      <th id=\"T_c1567_level0_row1\" class=\"row_heading level0 row1\" >dob_years</th>\n",
                     "      <td id=\"T_c1567_row1_col0\" class=\"data row1 col0\" >21245 (99.73%)</td>\n",
                     "    </tr>\n",
                     "    <tr>\n",
                     "      <th id=\"T_c1567_level0_row2\" class=\"row_heading level0 row2\" >education</th>\n",
                     "      <td id=\"T_c1567_row2_col0\" class=\"data row2 col0\" >21287 (99.93%)</td>\n",
                     "    </tr>\n",
                     "    <tr>\n",
                     "      <th id=\"T_c1567_level0_row3\" class=\"row_heading level0 row3\" >family_status</th>\n",
                     "      <td id=\"T_c1567_row3_col0\" class=\"data row3 col0\" >21297 (99.98%)</td>\n",
                     "    </tr>\n",
                     "    <tr>\n",
                     "      <th id=\"T_c1567_level0_row4\" class=\"row_heading level0 row4\" >gender</th>\n",
                     "      <td id=\"T_c1567_row4_col0\" class=\"data row4 col0\" >21299 (99.99%)</td>\n",
                     "    </tr>\n",
                     "    <tr>\n",
                     "      <th id=\"T_c1567_level0_row5\" class=\"row_heading level0 row5\" >income_type</th>\n",
                     "      <td id=\"T_c1567_row5_col0\" class=\"data row5 col0\" >21294 (99.96%)</td>\n",
                     "    </tr>\n",
                     "    <tr>\n",
                     "      <th id=\"T_c1567_level0_row6\" class=\"row_heading level0 row6\" >debt</th>\n",
                     "      <td id=\"T_c1567_row6_col0\" class=\"data row6 col0\" >21300 (99.99%)</td>\n",
                     "    </tr>\n",
                     "    <tr>\n",
                     "      <th id=\"T_c1567_level0_row7\" class=\"row_heading level0 row7\" >total_income</th>\n",
                     "      <td id=\"T_c1567_row7_col0\" class=\"data row7 col0\" >2073 (9.73%)</td>\n",
                     "    </tr>\n",
                     "    <tr>\n",
                     "      <th id=\"T_c1567_level0_row8\" class=\"row_heading level0 row8\" >purpose</th>\n",
                     "      <td id=\"T_c1567_row8_col0\" class=\"data row8 col0\" >21264 (99.82%)</td>\n",
                     "    </tr>\n",
                     "  </tbody>\n",
                     "</table>\n"
                  ],
                  "text/plain": [
                     "<pandas.io.formats.style.Styler at 0x1a2db128>"
                  ]
               },
               "metadata": {},
               "output_type": "display_data"
            }
         ],
         "source": [
            "my_module.check_duplicated_value_in_df(df)"
         ]
      },
      {
         "cell_type": "markdown",
         "metadata": {},
         "source": [
            "У нас нет столбцов, где дублей не должно быть и нет комбинаций столбцов, в которых не должно быть дублей.  \n",
            "Поэтому нет оснований обрабатывать дубли. Оставим как есть. "
         ]
      },
      {
         "cell_type": "markdown",
         "metadata": {},
         "source": []
      },
      {
         "cell_type": "markdown",
         "metadata": {},
         "source": [
            "### Обработка столбцов с данными представленными в неудобной форме"
         ]
      },
      {
         "cell_type": "markdown",
         "metadata": {},
         "source": [
            "Округлим значения в поле дохода до целого.  \n",
            "Целая часть выглядит реальной. А с дробной частью нужно разбираться почему стоько знаков.  "
         ]
      },
      {
         "cell_type": "code",
         "execution_count": 31,
         "metadata": {},
         "outputs": [
            {
               "data": {
                  "text/html": [
                     "<div>\n",
                     "<style scoped>\n",
                     "    .dataframe tbody tr th:only-of-type {\n",
                     "        vertical-align: middle;\n",
                     "    }\n",
                     "\n",
                     "    .dataframe tbody tr th {\n",
                     "        vertical-align: top;\n",
                     "    }\n",
                     "\n",
                     "    .dataframe thead th {\n",
                     "        text-align: right;\n",
                     "    }\n",
                     "</style>\n",
                     "<table border=\"1\" class=\"dataframe\">\n",
                     "  <thead>\n",
                     "    <tr style=\"text-align: right;\">\n",
                     "      <th></th>\n",
                     "      <th>children</th>\n",
                     "      <th>dob_years</th>\n",
                     "      <th>education</th>\n",
                     "      <th>family_status</th>\n",
                     "      <th>gender</th>\n",
                     "      <th>income_type</th>\n",
                     "      <th>debt</th>\n",
                     "      <th>total_income</th>\n",
                     "      <th>purpose</th>\n",
                     "      <th>purpose_new</th>\n",
                     "    </tr>\n",
                     "  </thead>\n",
                     "  <tbody>\n",
                     "    <tr>\n",
                     "      <th>0</th>\n",
                     "      <td>1</td>\n",
                     "      <td>42</td>\n",
                     "      <td>высшее</td>\n",
                     "      <td>женат / замужем</td>\n",
                     "      <td>F</td>\n",
                     "      <td>сотрудник</td>\n",
                     "      <td>0</td>\n",
                     "      <td>253876</td>\n",
                     "      <td>покупка жилья</td>\n",
                     "      <td>Недвижимость</td>\n",
                     "    </tr>\n",
                     "  </tbody>\n",
                     "</table>\n",
                     "</div>"
                  ],
                  "text/plain": [
                     "   children  dob_years education    family_status gender income_type debt  \\\n",
                     "0         1         42    высшее  женат / замужем      F   сотрудник    0   \n",
                     "\n",
                     "   total_income        purpose   purpose_new  \n",
                     "0        253876  покупка жилья  Недвижимость  "
                  ]
               },
               "execution_count": 31,
               "metadata": {},
               "output_type": "execute_result"
            }
         ],
         "source": [
            "df.total_income = df.total_income.round().astype('int32')\n",
            "df.head(1)"
         ]
      },
      {
         "cell_type": "markdown",
         "metadata": {},
         "source": [
            "Посмотрим сколько у нас людей с полом XNA осталось"
         ]
      },
      {
         "cell_type": "code",
         "execution_count": 164,
         "metadata": {},
         "outputs": [
            {
               "data": {
                  "text/plain": [
                     "1"
                  ]
               },
               "execution_count": 164,
               "metadata": {},
               "output_type": "execute_result"
            }
         ],
         "source": [
            "(df.gender == 'XNA').sum()"
         ]
      },
      {
         "cell_type": "markdown",
         "metadata": {},
         "source": [
            "Всего 1 человек.  \n",
            "Удалим, чтобы не мешало анализировать графики.  "
         ]
      },
      {
         "cell_type": "code",
         "execution_count": 165,
         "metadata": {},
         "outputs": [
            {
               "data": {
                  "text/plain": [
                     "21302"
                  ]
               },
               "execution_count": 165,
               "metadata": {},
               "output_type": "execute_result"
            }
         ],
         "source": [
            "df.shape[0]"
         ]
      },
      {
         "cell_type": "code",
         "execution_count": 166,
         "metadata": {},
         "outputs": [
            {
               "data": {
                  "text/plain": [
                     "21301"
                  ]
               },
               "execution_count": 166,
               "metadata": {},
               "output_type": "execute_result"
            }
         ],
         "source": [
            "df = df[df.gender != 'XNA']\n",
            "df.shape[0]"
         ]
      },
      {
         "cell_type": "markdown",
         "metadata": {},
         "source": [
            "### Промежуточный вывод"
         ]
      },
      {
         "cell_type": "markdown",
         "metadata": {},
         "source": []
      },
      {
         "cell_type": "markdown",
         "metadata": {},
         "source": [
            "### Категоризация данных"
         ]
      },
      {
         "cell_type": "markdown",
         "metadata": {},
         "source": [
            "Придумываем какие колонки можно дополнительно сделать из имеющихся.  \n",
            "Например у нас есть колонка длительность звонков, и 0 это пропущенный звонок,  \n",
            "мы можем сделать колонку is_missed, в которой будет true или false  "
         ]
      },
      {
         "cell_type": "code",
         "execution_count": 128,
         "metadata": {},
         "outputs": [
            {
               "data": {
                  "text/html": [
                     "<div>\n",
                     "<style scoped>\n",
                     "    .dataframe tbody tr th:only-of-type {\n",
                     "        vertical-align: middle;\n",
                     "    }\n",
                     "\n",
                     "    .dataframe tbody tr th {\n",
                     "        vertical-align: top;\n",
                     "    }\n",
                     "\n",
                     "    .dataframe thead th {\n",
                     "        text-align: right;\n",
                     "    }\n",
                     "</style>\n",
                     "<table border=\"1\" class=\"dataframe\">\n",
                     "  <thead>\n",
                     "    <tr style=\"text-align: right;\">\n",
                     "      <th></th>\n",
                     "      <th>children</th>\n",
                     "      <th>dob_years</th>\n",
                     "      <th>education</th>\n",
                     "      <th>family_status</th>\n",
                     "      <th>gender</th>\n",
                     "      <th>income_type</th>\n",
                     "      <th>debt</th>\n",
                     "      <th>total_income</th>\n",
                     "      <th>purpose</th>\n",
                     "    </tr>\n",
                     "  </thead>\n",
                     "  <tbody>\n",
                     "    <tr>\n",
                     "      <th>0</th>\n",
                     "      <td>1</td>\n",
                     "      <td>42</td>\n",
                     "      <td>высшее</td>\n",
                     "      <td>женат / замужем</td>\n",
                     "      <td>F</td>\n",
                     "      <td>сотрудник</td>\n",
                     "      <td>0</td>\n",
                     "      <td>253875.639453</td>\n",
                     "      <td>покупка жилья</td>\n",
                     "    </tr>\n",
                     "  </tbody>\n",
                     "</table>\n",
                     "</div>"
                  ],
                  "text/plain": [
                     "   children  dob_years education    family_status gender income_type debt  \\\n",
                     "0         1         42    высшее  женат / замужем      F   сотрудник    0   \n",
                     "\n",
                     "    total_income        purpose  \n",
                     "0  253875.639453  покупка жилья  "
                  ]
               },
               "execution_count": 128,
               "metadata": {},
               "output_type": "execute_result"
            }
         ],
         "source": [
            "df.head(1)"
         ]
      },
      {
         "cell_type": "markdown",
         "metadata": {},
         "source": [
            "Создадим дополнительную категориальную переменную из возраста, для удобства анализа.  "
         ]
      },
      {
         "cell_type": "markdown",
         "metadata": {},
         "source": [
            "Сделаем следующие группы\n",
            "- до 30 лет\n",
            "- от 30 до 40 лет\n",
            "- от 40 до 50 лет\n",
            "- от 50 до 60 лет\n",
            "- старше 60 лет"
         ]
      },
      {
         "cell_type": "code",
         "execution_count": 32,
         "metadata": {},
         "outputs": [],
         "source": [
            "labels = ['до 30', '30-40', '40-50', '50-60', 'старше 60']\n",
            "bins = [-np.inf, 30, 40, 50, 60, np.inf]"
         ]
      },
      {
         "cell_type": "code",
         "execution_count": 33,
         "metadata": {},
         "outputs": [
            {
               "data": {
                  "text/plain": [
                     "30-40        5704\n",
                     "40-50        5241\n",
                     "50-60        4520\n",
                     "до 30        3705\n",
                     "старше 60    2132\n",
                     "Name: dob_cat, dtype: int64"
                  ]
               },
               "execution_count": 33,
               "metadata": {},
               "output_type": "execute_result"
            }
         ],
         "source": [
            "df['dob_cat'] = my_module.create_category_column(df.dob_years, labels=labels, bins=bins)\n",
            "df['dob_cat'].value_counts()"
         ]
      },
      {
         "cell_type": "markdown",
         "metadata": {},
         "source": [
            "Создадим каетгориальную переменную по доходу"
         ]
      },
      {
         "cell_type": "code",
         "execution_count": 150,
         "metadata": {},
         "outputs": [
            {
               "data": {
                  "text/html": [
                     "<style type=\"text/css\">\n",
                     "#T_44c18_ caption {\n",
                     "  font-size: 15px;\n",
                     "}\n",
                     "#T_44c18_row0_col0, #T_44c18_row0_col1, #T_44c18_row1_col0, #T_44c18_row1_col1, #T_44c18_row2_col0, #T_44c18_row2_col1, #T_44c18_row3_col0, #T_44c18_row3_col1, #T_44c18_row4_col0, #T_44c18_row4_col1, #T_44c18_row5_col0, #T_44c18_row5_col1, #T_44c18_row6_col0, #T_44c18_row6_col1 {\n",
                     "  text-align: left;\n",
                     "}\n",
                     "</style>\n",
                     "<table id=\"T_44c18_\">\n",
                     "  <caption>Quantiles</caption>\n",
                     "  <thead>\n",
                     "  </thead>\n",
                     "  <tbody>\n",
                     "    <tr>\n",
                     "      <td id=\"T_44c18_row0_col0\" class=\"data row0 col0\" >Max</td>\n",
                     "      <td id=\"T_44c18_row0_col1\" class=\"data row0 col1\" >2 265 604</td>\n",
                     "    </tr>\n",
                     "    <tr>\n",
                     "      <td id=\"T_44c18_row1_col0\" class=\"data row1 col0\" >5</td>\n",
                     "      <td id=\"T_44c18_row1_col1\" class=\"data row1 col1\" >64 748</td>\n",
                     "    </tr>\n",
                     "    <tr>\n",
                     "      <td id=\"T_44c18_row2_col0\" class=\"data row2 col0\" >25</td>\n",
                     "      <td id=\"T_44c18_row2_col1\" class=\"data row2 col1\" >107 633</td>\n",
                     "    </tr>\n",
                     "    <tr>\n",
                     "      <td id=\"T_44c18_row3_col0\" class=\"data row3 col0\" >50</td>\n",
                     "      <td id=\"T_44c18_row3_col1\" class=\"data row3 col1\" >144 807</td>\n",
                     "    </tr>\n",
                     "    <tr>\n",
                     "      <td id=\"T_44c18_row4_col0\" class=\"data row4 col0\" >75</td>\n",
                     "      <td id=\"T_44c18_row4_col1\" class=\"data row4 col1\" >197 381</td>\n",
                     "    </tr>\n",
                     "    <tr>\n",
                     "      <td id=\"T_44c18_row5_col0\" class=\"data row5 col0\" >95</td>\n",
                     "      <td id=\"T_44c18_row5_col1\" class=\"data row5 col1\" >331 727</td>\n",
                     "    </tr>\n",
                     "    <tr>\n",
                     "      <td id=\"T_44c18_row6_col0\" class=\"data row6 col0\" >Min</td>\n",
                     "      <td id=\"T_44c18_row6_col1\" class=\"data row6 col1\" >20 667</td>\n",
                     "    </tr>\n",
                     "  </tbody>\n",
                     "</table>\n"
                  ],
                  "text/plain": [
                     "<pandas.io.formats.style.Styler at 0x1a1acba8>"
                  ]
               },
               "metadata": {},
               "output_type": "display_data"
            }
         ],
         "source": [
            "my_module.quantiles_columns(df.total_income)"
         ]
      },
      {
         "cell_type": "markdown",
         "metadata": {},
         "source": [
            "Сделаем следующие категории\n",
            "- до 50 тыс\n",
            "-  от 50 до 100 тыс\n",
            "- от 100 до 200 тыс\n",
            "-  от 200 до 500 тыс\n",
            "- от 500 тыс и выше"
         ]
      },
      {
         "cell_type": "code",
         "execution_count": 34,
         "metadata": {},
         "outputs": [],
         "source": [
            "labels = ['до 50 тыс', '50-100 тыс', '100-200 тыс', '200-500 тыс', 'больше 500 тыс']\n",
            "bins = [-np.inf, 50_000, 100_000, 200_000, 500_000, np.inf]"
         ]
      },
      {
         "cell_type": "code",
         "execution_count": 35,
         "metadata": {},
         "outputs": [
            {
               "data": {
                  "text/plain": [
                     "100-200 тыс       11726\n",
                     "200-500 тыс        4926\n",
                     "50-100 тыс         4059\n",
                     "до 50 тыс           369\n",
                     "больше 500 тыс      222\n",
                     "Name: total_income_cat, dtype: int64"
                  ]
               },
               "execution_count": 35,
               "metadata": {},
               "output_type": "execute_result"
            }
         ],
         "source": [
            "df['total_income_cat'] = my_module.create_category_column(df.total_income, labels=labels, bins=bins)\n",
            "df['total_income_cat'].value_counts()"
         ]
      },
      {
         "cell_type": "markdown",
         "metadata": {},
         "source": [
            "#### Категоризация с использованием лемматизации"
         ]
      },
      {
         "cell_type": "markdown",
         "metadata": {},
         "source": [
            "Сделаем категории из колонки целей кредита используя лематизацию"
         ]
      },
      {
         "cell_type": "code",
         "execution_count": null,
         "metadata": {},
         "outputs": [],
         "source": [
            "m = Mystem()"
         ]
      },
      {
         "cell_type": "code",
         "execution_count": 173,
         "metadata": {},
         "outputs": [
            {
               "data": {
                  "text/plain": [
                     "['свадьба', '\\n']"
                  ]
               },
               "execution_count": 173,
               "metadata": {},
               "output_type": "execute_result"
            }
         ],
         "source": [
            "m.lemmatize('свадьбу')"
         ]
      },
      {
         "cell_type": "code",
         "execution_count": 176,
         "metadata": {},
         "outputs": [],
         "source": [
            "categorization_dict = {\n",
            "    'недвижимость': ['жилье', 'недвижимость']\n",
            "    , 'образование': ['образование']\n",
            "    , 'автомобиль': ['автомобиль', 'машина']\n",
            "    , 'свадьба': ['свадьба'] \n",
            "}"
         ]
      },
      {
         "cell_type": "code",
         "execution_count": 12,
         "metadata": {},
         "outputs": [
            {
               "data": {
                  "text/plain": [
                     "Недвижимость    10840\n",
                     "Автомобиль       4315\n",
                     "Образование      4022\n",
                     "Свадьба          2348\n",
                     "Name: purpose_new, dtype: int64"
                  ]
               },
               "execution_count": 12,
               "metadata": {},
               "output_type": "execute_result"
            }
         ],
         "source": [
            "df['purpose_new'] = my_module.categorize_column_by_lemmatize(df.purpose, categorization_dict, use_cache=True)\n",
            "df['purpose_new'].value_counts()"
         ]
      },
      {
         "cell_type": "markdown",
         "metadata": {},
         "source": [
            "Удалим старую цель кредита"
         ]
      },
      {
         "cell_type": "code",
         "execution_count": 38,
         "metadata": {},
         "outputs": [
            {
               "data": {
                  "text/html": [
                     "<div>\n",
                     "<style scoped>\n",
                     "    .dataframe tbody tr th:only-of-type {\n",
                     "        vertical-align: middle;\n",
                     "    }\n",
                     "\n",
                     "    .dataframe tbody tr th {\n",
                     "        vertical-align: top;\n",
                     "    }\n",
                     "\n",
                     "    .dataframe thead th {\n",
                     "        text-align: right;\n",
                     "    }\n",
                     "</style>\n",
                     "<table border=\"1\" class=\"dataframe\">\n",
                     "  <thead>\n",
                     "    <tr style=\"text-align: right;\">\n",
                     "      <th></th>\n",
                     "      <th>children</th>\n",
                     "      <th>dob_years</th>\n",
                     "      <th>education</th>\n",
                     "      <th>family_status</th>\n",
                     "      <th>gender</th>\n",
                     "      <th>income_type</th>\n",
                     "      <th>debt</th>\n",
                     "      <th>total_income</th>\n",
                     "      <th>purpose</th>\n",
                     "      <th>dob_cat</th>\n",
                     "      <th>total_income_cat</th>\n",
                     "    </tr>\n",
                     "  </thead>\n",
                     "  <tbody>\n",
                     "    <tr>\n",
                     "      <th>0</th>\n",
                     "      <td>1</td>\n",
                     "      <td>42</td>\n",
                     "      <td>высшее</td>\n",
                     "      <td>женат / замужем</td>\n",
                     "      <td>F</td>\n",
                     "      <td>сотрудник</td>\n",
                     "      <td>0</td>\n",
                     "      <td>253876</td>\n",
                     "      <td>Недвижимость</td>\n",
                     "      <td>40-50</td>\n",
                     "      <td>200-500 тыс</td>\n",
                     "    </tr>\n",
                     "  </tbody>\n",
                     "</table>\n",
                     "</div>"
                  ],
                  "text/plain": [
                     "   children  dob_years education    family_status gender income_type debt  \\\n",
                     "0         1         42    высшее  женат / замужем      F   сотрудник    0   \n",
                     "\n",
                     "   total_income       purpose dob_cat total_income_cat  \n",
                     "0        253876  Недвижимость   40-50      200-500 тыс  "
                  ]
               },
               "execution_count": 38,
               "metadata": {},
               "output_type": "execute_result"
            }
         ],
         "source": [
            "df = df.drop('purpose', axis=1).rename(columns={'purpose_new': 'purpose'})\n",
            "df.head(1)"
         ]
      },
      {
         "cell_type": "markdown",
         "metadata": {},
         "source": [
            "### Промежуточный вывод"
         ]
      },
      {
         "cell_type": "markdown",
         "metadata": {},
         "source": [
            "### Сравнение метрик между собой"
         ]
      },
      {
         "cell_type": "markdown",
         "metadata": {},
         "source": [
            "Посмотрим на корреляцию между колонками"
         ]
      },
      {
         "cell_type": "code",
         "execution_count": 68,
         "metadata": {},
         "outputs": [
            {
               "data": {
                  "application/vnd.plotly.v1+json": {
                     "config": {
                        "plotlyServerURL": "https://plotly.com"
                     },
                     "data": [
                        {
                           "colorscale": [
                              [
                                 0,
                                 "rgba(204, 153, 255, 0.1)"
                              ],
                              [
                                 1,
                                 "rgb(127, 60, 141)"
                              ]
                           ],
                           "hoverinfo": "x+y+z",
                           "hoverlabel": {
                              "bgcolor": "white",
                              "font": {
                                 "color": "black",
                                 "size": 14
                              }
                           },
                           "hoverongaps": false,
                           "type": "heatmap",
                           "x": [
                              "children",
                              "dob_years",
                              "total_income"
                           ],
                           "xgap": 3,
                           "y": [
                              "children",
                              "dob_years",
                              "total_income"
                           ],
                           "ygap": 3,
                           "z": [
                              [
                                 1,
                                 -0.32127133438864686,
                                 0.033399476652078285
                              ],
                              [
                                 -0.32127133438864686,
                                 1,
                                 -0.06326777682194844
                              ],
                              [
                                 0.033399476652078285,
                                 -0.06326777682194844,
                                 1
                              ]
                           ]
                        }
                     ],
                     "layout": {
                        "annotations": [
                           {
                              "font": {
                                 "color": "white",
                                 "size": 14
                              },
                              "showarrow": false,
                              "text": "1.00",
                              "x": 0,
                              "y": 0
                           },
                           {
                              "font": {
                                 "color": "black",
                                 "size": 14
                              },
                              "showarrow": false,
                              "text": "-0.32",
                              "x": 1,
                              "y": 0
                           },
                           {
                              "font": {
                                 "color": "black",
                                 "size": 14
                              },
                              "showarrow": false,
                              "text": "0.03",
                              "x": 2,
                              "y": 0
                           },
                           {
                              "font": {
                                 "color": "black",
                                 "size": 14
                              },
                              "showarrow": false,
                              "text": "-0.32",
                              "x": 0,
                              "y": 1
                           },
                           {
                              "font": {
                                 "color": "white",
                                 "size": 14
                              },
                              "showarrow": false,
                              "text": "1.00",
                              "x": 1,
                              "y": 1
                           },
                           {
                              "font": {
                                 "color": "black",
                                 "size": 14
                              },
                              "showarrow": false,
                              "text": "-0.06",
                              "x": 2,
                              "y": 1
                           },
                           {
                              "font": {
                                 "color": "black",
                                 "size": 14
                              },
                              "showarrow": false,
                              "text": "0.03",
                              "x": 0,
                              "y": 2
                           },
                           {
                              "font": {
                                 "color": "black",
                                 "size": 14
                              },
                              "showarrow": false,
                              "text": "-0.06",
                              "x": 1,
                              "y": 2
                           },
                           {
                              "font": {
                                 "color": "white",
                                 "size": 14
                              },
                              "showarrow": false,
                              "text": "1.00",
                              "x": 2,
                              "y": 2
                           }
                        ],
                        "template": {
                           "data": {
                              "bar": [
                                 {
                                    "error_x": {
                                       "color": "rgb(36,36,36)"
                                    },
                                    "error_y": {
                                       "color": "rgb(36,36,36)"
                                    },
                                    "marker": {
                                       "line": {
                                          "color": "white",
                                          "width": 0.5
                                       },
                                       "pattern": {
                                          "fillmode": "overlay",
                                          "size": 10,
                                          "solidity": 0.2
                                       }
                                    },
                                    "type": "bar"
                                 }
                              ],
                              "barpolar": [
                                 {
                                    "marker": {
                                       "line": {
                                          "color": "white",
                                          "width": 0.5
                                       },
                                       "pattern": {
                                          "fillmode": "overlay",
                                          "size": 10,
                                          "solidity": 0.2
                                       }
                                    },
                                    "type": "barpolar"
                                 }
                              ],
                              "carpet": [
                                 {
                                    "aaxis": {
                                       "endlinecolor": "rgb(36,36,36)",
                                       "gridcolor": "white",
                                       "linecolor": "white",
                                       "minorgridcolor": "white",
                                       "startlinecolor": "rgb(36,36,36)"
                                    },
                                    "baxis": {
                                       "endlinecolor": "rgb(36,36,36)",
                                       "gridcolor": "white",
                                       "linecolor": "white",
                                       "minorgridcolor": "white",
                                       "startlinecolor": "rgb(36,36,36)"
                                    },
                                    "type": "carpet"
                                 }
                              ],
                              "choropleth": [
                                 {
                                    "colorbar": {
                                       "outlinewidth": 1,
                                       "tickcolor": "rgb(36,36,36)",
                                       "ticks": "outside"
                                    },
                                    "type": "choropleth"
                                 }
                              ],
                              "contour": [
                                 {
                                    "colorbar": {
                                       "outlinewidth": 1,
                                       "tickcolor": "rgb(36,36,36)",
                                       "ticks": "outside"
                                    },
                                    "colorscale": [
                                       [
                                          0,
                                          "#440154"
                                       ],
                                       [
                                          0.1111111111111111,
                                          "#482878"
                                       ],
                                       [
                                          0.2222222222222222,
                                          "#3e4989"
                                       ],
                                       [
                                          0.3333333333333333,
                                          "#31688e"
                                       ],
                                       [
                                          0.4444444444444444,
                                          "#26828e"
                                       ],
                                       [
                                          0.5555555555555556,
                                          "#1f9e89"
                                       ],
                                       [
                                          0.6666666666666666,
                                          "#35b779"
                                       ],
                                       [
                                          0.7777777777777778,
                                          "#6ece58"
                                       ],
                                       [
                                          0.8888888888888888,
                                          "#b5de2b"
                                       ],
                                       [
                                          1,
                                          "#fde725"
                                       ]
                                    ],
                                    "type": "contour"
                                 }
                              ],
                              "contourcarpet": [
                                 {
                                    "colorbar": {
                                       "outlinewidth": 1,
                                       "tickcolor": "rgb(36,36,36)",
                                       "ticks": "outside"
                                    },
                                    "type": "contourcarpet"
                                 }
                              ],
                              "heatmap": [
                                 {
                                    "colorbar": {
                                       "outlinewidth": 1,
                                       "tickcolor": "rgb(36,36,36)",
                                       "ticks": "outside"
                                    },
                                    "colorscale": [
                                       [
                                          0,
                                          "#440154"
                                       ],
                                       [
                                          0.1111111111111111,
                                          "#482878"
                                       ],
                                       [
                                          0.2222222222222222,
                                          "#3e4989"
                                       ],
                                       [
                                          0.3333333333333333,
                                          "#31688e"
                                       ],
                                       [
                                          0.4444444444444444,
                                          "#26828e"
                                       ],
                                       [
                                          0.5555555555555556,
                                          "#1f9e89"
                                       ],
                                       [
                                          0.6666666666666666,
                                          "#35b779"
                                       ],
                                       [
                                          0.7777777777777778,
                                          "#6ece58"
                                       ],
                                       [
                                          0.8888888888888888,
                                          "#b5de2b"
                                       ],
                                       [
                                          1,
                                          "#fde725"
                                       ]
                                    ],
                                    "type": "heatmap"
                                 }
                              ],
                              "heatmapgl": [
                                 {
                                    "colorbar": {
                                       "outlinewidth": 1,
                                       "tickcolor": "rgb(36,36,36)",
                                       "ticks": "outside"
                                    },
                                    "colorscale": [
                                       [
                                          0,
                                          "#440154"
                                       ],
                                       [
                                          0.1111111111111111,
                                          "#482878"
                                       ],
                                       [
                                          0.2222222222222222,
                                          "#3e4989"
                                       ],
                                       [
                                          0.3333333333333333,
                                          "#31688e"
                                       ],
                                       [
                                          0.4444444444444444,
                                          "#26828e"
                                       ],
                                       [
                                          0.5555555555555556,
                                          "#1f9e89"
                                       ],
                                       [
                                          0.6666666666666666,
                                          "#35b779"
                                       ],
                                       [
                                          0.7777777777777778,
                                          "#6ece58"
                                       ],
                                       [
                                          0.8888888888888888,
                                          "#b5de2b"
                                       ],
                                       [
                                          1,
                                          "#fde725"
                                       ]
                                    ],
                                    "type": "heatmapgl"
                                 }
                              ],
                              "histogram": [
                                 {
                                    "marker": {
                                       "line": {
                                          "color": "white",
                                          "width": 0.6
                                       }
                                    },
                                    "type": "histogram"
                                 }
                              ],
                              "histogram2d": [
                                 {
                                    "colorbar": {
                                       "outlinewidth": 1,
                                       "tickcolor": "rgb(36,36,36)",
                                       "ticks": "outside"
                                    },
                                    "colorscale": [
                                       [
                                          0,
                                          "#440154"
                                       ],
                                       [
                                          0.1111111111111111,
                                          "#482878"
                                       ],
                                       [
                                          0.2222222222222222,
                                          "#3e4989"
                                       ],
                                       [
                                          0.3333333333333333,
                                          "#31688e"
                                       ],
                                       [
                                          0.4444444444444444,
                                          "#26828e"
                                       ],
                                       [
                                          0.5555555555555556,
                                          "#1f9e89"
                                       ],
                                       [
                                          0.6666666666666666,
                                          "#35b779"
                                       ],
                                       [
                                          0.7777777777777778,
                                          "#6ece58"
                                       ],
                                       [
                                          0.8888888888888888,
                                          "#b5de2b"
                                       ],
                                       [
                                          1,
                                          "#fde725"
                                       ]
                                    ],
                                    "type": "histogram2d"
                                 }
                              ],
                              "histogram2dcontour": [
                                 {
                                    "colorbar": {
                                       "outlinewidth": 1,
                                       "tickcolor": "rgb(36,36,36)",
                                       "ticks": "outside"
                                    },
                                    "colorscale": [
                                       [
                                          0,
                                          "#440154"
                                       ],
                                       [
                                          0.1111111111111111,
                                          "#482878"
                                       ],
                                       [
                                          0.2222222222222222,
                                          "#3e4989"
                                       ],
                                       [
                                          0.3333333333333333,
                                          "#31688e"
                                       ],
                                       [
                                          0.4444444444444444,
                                          "#26828e"
                                       ],
                                       [
                                          0.5555555555555556,
                                          "#1f9e89"
                                       ],
                                       [
                                          0.6666666666666666,
                                          "#35b779"
                                       ],
                                       [
                                          0.7777777777777778,
                                          "#6ece58"
                                       ],
                                       [
                                          0.8888888888888888,
                                          "#b5de2b"
                                       ],
                                       [
                                          1,
                                          "#fde725"
                                       ]
                                    ],
                                    "type": "histogram2dcontour"
                                 }
                              ],
                              "mesh3d": [
                                 {
                                    "colorbar": {
                                       "outlinewidth": 1,
                                       "tickcolor": "rgb(36,36,36)",
                                       "ticks": "outside"
                                    },
                                    "type": "mesh3d"
                                 }
                              ],
                              "parcoords": [
                                 {
                                    "line": {
                                       "colorbar": {
                                          "outlinewidth": 1,
                                          "tickcolor": "rgb(36,36,36)",
                                          "ticks": "outside"
                                       }
                                    },
                                    "type": "parcoords"
                                 }
                              ],
                              "pie": [
                                 {
                                    "automargin": true,
                                    "type": "pie"
                                 }
                              ],
                              "scatter": [
                                 {
                                    "fillpattern": {
                                       "fillmode": "overlay",
                                       "size": 10,
                                       "solidity": 0.2
                                    },
                                    "type": "scatter"
                                 }
                              ],
                              "scatter3d": [
                                 {
                                    "line": {
                                       "colorbar": {
                                          "outlinewidth": 1,
                                          "tickcolor": "rgb(36,36,36)",
                                          "ticks": "outside"
                                       }
                                    },
                                    "marker": {
                                       "colorbar": {
                                          "outlinewidth": 1,
                                          "tickcolor": "rgb(36,36,36)",
                                          "ticks": "outside"
                                       }
                                    },
                                    "type": "scatter3d"
                                 }
                              ],
                              "scattercarpet": [
                                 {
                                    "marker": {
                                       "colorbar": {
                                          "outlinewidth": 1,
                                          "tickcolor": "rgb(36,36,36)",
                                          "ticks": "outside"
                                       }
                                    },
                                    "type": "scattercarpet"
                                 }
                              ],
                              "scattergeo": [
                                 {
                                    "marker": {
                                       "colorbar": {
                                          "outlinewidth": 1,
                                          "tickcolor": "rgb(36,36,36)",
                                          "ticks": "outside"
                                       }
                                    },
                                    "type": "scattergeo"
                                 }
                              ],
                              "scattergl": [
                                 {
                                    "marker": {
                                       "colorbar": {
                                          "outlinewidth": 1,
                                          "tickcolor": "rgb(36,36,36)",
                                          "ticks": "outside"
                                       }
                                    },
                                    "type": "scattergl"
                                 }
                              ],
                              "scattermapbox": [
                                 {
                                    "marker": {
                                       "colorbar": {
                                          "outlinewidth": 1,
                                          "tickcolor": "rgb(36,36,36)",
                                          "ticks": "outside"
                                       }
                                    },
                                    "type": "scattermapbox"
                                 }
                              ],
                              "scatterpolar": [
                                 {
                                    "marker": {
                                       "colorbar": {
                                          "outlinewidth": 1,
                                          "tickcolor": "rgb(36,36,36)",
                                          "ticks": "outside"
                                       }
                                    },
                                    "type": "scatterpolar"
                                 }
                              ],
                              "scatterpolargl": [
                                 {
                                    "marker": {
                                       "colorbar": {
                                          "outlinewidth": 1,
                                          "tickcolor": "rgb(36,36,36)",
                                          "ticks": "outside"
                                       }
                                    },
                                    "type": "scatterpolargl"
                                 }
                              ],
                              "scatterternary": [
                                 {
                                    "marker": {
                                       "colorbar": {
                                          "outlinewidth": 1,
                                          "tickcolor": "rgb(36,36,36)",
                                          "ticks": "outside"
                                       }
                                    },
                                    "type": "scatterternary"
                                 }
                              ],
                              "surface": [
                                 {
                                    "colorbar": {
                                       "outlinewidth": 1,
                                       "tickcolor": "rgb(36,36,36)",
                                       "ticks": "outside"
                                    },
                                    "colorscale": [
                                       [
                                          0,
                                          "#440154"
                                       ],
                                       [
                                          0.1111111111111111,
                                          "#482878"
                                       ],
                                       [
                                          0.2222222222222222,
                                          "#3e4989"
                                       ],
                                       [
                                          0.3333333333333333,
                                          "#31688e"
                                       ],
                                       [
                                          0.4444444444444444,
                                          "#26828e"
                                       ],
                                       [
                                          0.5555555555555556,
                                          "#1f9e89"
                                       ],
                                       [
                                          0.6666666666666666,
                                          "#35b779"
                                       ],
                                       [
                                          0.7777777777777778,
                                          "#6ece58"
                                       ],
                                       [
                                          0.8888888888888888,
                                          "#b5de2b"
                                       ],
                                       [
                                          1,
                                          "#fde725"
                                       ]
                                    ],
                                    "type": "surface"
                                 }
                              ],
                              "table": [
                                 {
                                    "cells": {
                                       "fill": {
                                          "color": "rgb(237,237,237)"
                                       },
                                       "line": {
                                          "color": "white"
                                       }
                                    },
                                    "header": {
                                       "fill": {
                                          "color": "rgb(217,217,217)"
                                       },
                                       "line": {
                                          "color": "white"
                                       }
                                    },
                                    "type": "table"
                                 }
                              ]
                           },
                           "layout": {
                              "annotationdefaults": {
                                 "arrowhead": 0,
                                 "arrowwidth": 1
                              },
                              "autotypenumbers": "strict",
                              "coloraxis": {
                                 "colorbar": {
                                    "outlinewidth": 1,
                                    "tickcolor": "rgb(36,36,36)",
                                    "ticks": "outside"
                                 }
                              },
                              "colorscale": {
                                 "diverging": [
                                    [
                                       0,
                                       "rgb(103,0,31)"
                                    ],
                                    [
                                       0.1,
                                       "rgb(178,24,43)"
                                    ],
                                    [
                                       0.2,
                                       "rgb(214,96,77)"
                                    ],
                                    [
                                       0.3,
                                       "rgb(244,165,130)"
                                    ],
                                    [
                                       0.4,
                                       "rgb(253,219,199)"
                                    ],
                                    [
                                       0.5,
                                       "rgb(247,247,247)"
                                    ],
                                    [
                                       0.6,
                                       "rgb(209,229,240)"
                                    ],
                                    [
                                       0.7,
                                       "rgb(146,197,222)"
                                    ],
                                    [
                                       0.8,
                                       "rgb(67,147,195)"
                                    ],
                                    [
                                       0.9,
                                       "rgb(33,102,172)"
                                    ],
                                    [
                                       1,
                                       "rgb(5,48,97)"
                                    ]
                                 ],
                                 "sequential": [
                                    [
                                       0,
                                       "#440154"
                                    ],
                                    [
                                       0.1111111111111111,
                                       "#482878"
                                    ],
                                    [
                                       0.2222222222222222,
                                       "#3e4989"
                                    ],
                                    [
                                       0.3333333333333333,
                                       "#31688e"
                                    ],
                                    [
                                       0.4444444444444444,
                                       "#26828e"
                                    ],
                                    [
                                       0.5555555555555556,
                                       "#1f9e89"
                                    ],
                                    [
                                       0.6666666666666666,
                                       "#35b779"
                                    ],
                                    [
                                       0.7777777777777778,
                                       "#6ece58"
                                    ],
                                    [
                                       0.8888888888888888,
                                       "#b5de2b"
                                    ],
                                    [
                                       1,
                                       "#fde725"
                                    ]
                                 ],
                                 "sequentialminus": [
                                    [
                                       0,
                                       "#440154"
                                    ],
                                    [
                                       0.1111111111111111,
                                       "#482878"
                                    ],
                                    [
                                       0.2222222222222222,
                                       "#3e4989"
                                    ],
                                    [
                                       0.3333333333333333,
                                       "#31688e"
                                    ],
                                    [
                                       0.4444444444444444,
                                       "#26828e"
                                    ],
                                    [
                                       0.5555555555555556,
                                       "#1f9e89"
                                    ],
                                    [
                                       0.6666666666666666,
                                       "#35b779"
                                    ],
                                    [
                                       0.7777777777777778,
                                       "#6ece58"
                                    ],
                                    [
                                       0.8888888888888888,
                                       "#b5de2b"
                                    ],
                                    [
                                       1,
                                       "#fde725"
                                    ]
                                 ]
                              },
                              "colorway": [
                                 "rgba(128, 60, 170, 0.9)",
                                 "#049CB3",
                                 "#84a9e9",
                                 "#B690C4",
                                 "#5c6bc0",
                                 "#005A5B",
                                 "#63719C",
                                 "#03A9F4",
                                 "#66CCCC",
                                 "#a771f2",
                                 "rgba(128, 60, 170, 0.9)",
                                 "#049CB3",
                                 "#84a9e9",
                                 "#B690C4",
                                 "#5c6bc0",
                                 "#005A5B",
                                 "#63719C",
                                 "#03A9F4",
                                 "#66CCCC",
                                 "#a771f2",
                                 "rgba(128, 60, 170, 0.9)",
                                 "#049CB3",
                                 "#84a9e9",
                                 "#B690C4",
                                 "#5c6bc0",
                                 "#005A5B",
                                 "#63719C",
                                 "#03A9F4",
                                 "#66CCCC",
                                 "#a771f2",
                                 "rgba(128, 60, 170, 0.9)",
                                 "#049CB3",
                                 "#84a9e9",
                                 "#B690C4",
                                 "#5c6bc0",
                                 "#005A5B",
                                 "#63719C",
                                 "#03A9F4",
                                 "#66CCCC",
                                 "#a771f2"
                              ],
                              "font": {
                                 "color": "rgb(36,36,36)"
                              },
                              "geo": {
                                 "bgcolor": "white",
                                 "lakecolor": "white",
                                 "landcolor": "white",
                                 "showlakes": true,
                                 "showland": true,
                                 "subunitcolor": "white"
                              },
                              "hoverlabel": {
                                 "align": "left"
                              },
                              "hovermode": "closest",
                              "mapbox": {
                                 "style": "light"
                              },
                              "paper_bgcolor": "white",
                              "plot_bgcolor": "white",
                              "polar": {
                                 "angularaxis": {
                                    "gridcolor": "rgb(232,232,232)",
                                    "linecolor": "rgb(36,36,36)",
                                    "showgrid": false,
                                    "showline": true,
                                    "ticks": "outside"
                                 },
                                 "bgcolor": "white",
                                 "radialaxis": {
                                    "gridcolor": "rgb(232,232,232)",
                                    "linecolor": "rgb(36,36,36)",
                                    "showgrid": false,
                                    "showline": true,
                                    "ticks": "outside"
                                 }
                              },
                              "scene": {
                                 "xaxis": {
                                    "backgroundcolor": "white",
                                    "gridcolor": "rgb(232,232,232)",
                                    "gridwidth": 2,
                                    "linecolor": "rgb(36,36,36)",
                                    "showbackground": true,
                                    "showgrid": false,
                                    "showline": true,
                                    "ticks": "outside",
                                    "zeroline": false,
                                    "zerolinecolor": "rgb(36,36,36)"
                                 },
                                 "yaxis": {
                                    "backgroundcolor": "white",
                                    "gridcolor": "rgb(232,232,232)",
                                    "gridwidth": 2,
                                    "linecolor": "rgb(36,36,36)",
                                    "showbackground": true,
                                    "showgrid": false,
                                    "showline": true,
                                    "ticks": "outside",
                                    "zeroline": false,
                                    "zerolinecolor": "rgb(36,36,36)"
                                 },
                                 "zaxis": {
                                    "backgroundcolor": "white",
                                    "gridcolor": "rgb(232,232,232)",
                                    "gridwidth": 2,
                                    "linecolor": "rgb(36,36,36)",
                                    "showbackground": true,
                                    "showgrid": false,
                                    "showline": true,
                                    "ticks": "outside",
                                    "zeroline": false,
                                    "zerolinecolor": "rgb(36,36,36)"
                                 }
                              },
                              "shapedefaults": {
                                 "fillcolor": "black",
                                 "line": {
                                    "width": 0
                                 },
                                 "opacity": 0.3
                              },
                              "ternary": {
                                 "aaxis": {
                                    "gridcolor": "rgb(232,232,232)",
                                    "linecolor": "rgb(36,36,36)",
                                    "showgrid": false,
                                    "showline": true,
                                    "ticks": "outside"
                                 },
                                 "baxis": {
                                    "gridcolor": "rgb(232,232,232)",
                                    "linecolor": "rgb(36,36,36)",
                                    "showgrid": false,
                                    "showline": true,
                                    "ticks": "outside"
                                 },
                                 "bgcolor": "white",
                                 "caxis": {
                                    "gridcolor": "rgb(232,232,232)",
                                    "linecolor": "rgb(36,36,36)",
                                    "showgrid": false,
                                    "showline": true,
                                    "ticks": "outside"
                                 }
                              },
                              "title": {
                                 "x": 0.05
                              },
                              "xaxis": {
                                 "automargin": true,
                                 "gridcolor": "rgb(232,232,232)",
                                 "linecolor": "rgb(36,36,36)",
                                 "showgrid": false,
                                 "showline": true,
                                 "ticks": "outside",
                                 "title": {
                                    "standoff": 15
                                 },
                                 "zeroline": false,
                                 "zerolinecolor": "rgb(36,36,36)"
                              },
                              "yaxis": {
                                 "automargin": true,
                                 "gridcolor": "rgb(232,232,232)",
                                 "linecolor": "rgb(36,36,36)",
                                 "showgrid": false,
                                 "showline": true,
                                 "ticks": "outside",
                                 "title": {
                                    "standoff": 15
                                 },
                                 "zeroline": false,
                                 "zerolinecolor": "rgb(36,36,36)"
                              }
                           }
                        },
                        "title": {
                           "text": ""
                        },
                        "xaxis": {
                           "showgrid": false
                        },
                        "yaxis": {
                           "showgrid": false
                        }
                     }
                  }
               },
               "metadata": {},
               "output_type": "display_data"
            }
         ],
         "source": [
            "my_module.heatmap(df.corr())"
         ]
      },
      {
         "cell_type": "markdown",
         "metadata": {},
         "source": [
            "**Наблюдения:**\n",
            "- Корреляции не обнаружено"
         ]
      },
      {
         "cell_type": "code",
         "execution_count": 77,
         "metadata": {},
         "outputs": [
            {
               "data": {
                  "application/vnd.plotly.v1+json": {
                     "config": {
                        "plotlyServerURL": "https://plotly.com"
                     },
                     "data": [
                        {
                           "alignmentgroup": "True",
                           "hovertemplate": "Importance=%{x}<br>Feature=%{y}<extra></extra>",
                           "legendgroup": "",
                           "marker": {
                              "color": "rgba(128, 60, 170, 0.9)",
                              "pattern": {
                                 "shape": ""
                              }
                           },
                           "name": "",
                           "offsetgroup": "",
                           "orientation": "h",
                           "showlegend": false,
                           "textposition": "auto",
                           "type": "bar",
                           "x": [
                              0.9131038129700695,
                              0.07815718856286526,
                              0.008738998467065327
                           ],
                           "xaxis": "x",
                           "y": [
                              "total_income",
                              "dob_years",
                              "children"
                           ],
                           "yaxis": "y"
                        }
                     ],
                     "layout": {
                        "barmode": "relative",
                        "height": 500,
                        "hoverlabel": {
                           "bgcolor": "white"
                        },
                        "legend": {
                           "tracegroupgap": 0
                        },
                        "template": {
                           "data": {
                              "bar": [
                                 {
                                    "error_x": {
                                       "color": "rgb(36,36,36)"
                                    },
                                    "error_y": {
                                       "color": "rgb(36,36,36)"
                                    },
                                    "marker": {
                                       "line": {
                                          "color": "white",
                                          "width": 0.5
                                       },
                                       "pattern": {
                                          "fillmode": "overlay",
                                          "size": 10,
                                          "solidity": 0.2
                                       }
                                    },
                                    "type": "bar"
                                 }
                              ],
                              "barpolar": [
                                 {
                                    "marker": {
                                       "line": {
                                          "color": "white",
                                          "width": 0.5
                                       },
                                       "pattern": {
                                          "fillmode": "overlay",
                                          "size": 10,
                                          "solidity": 0.2
                                       }
                                    },
                                    "type": "barpolar"
                                 }
                              ],
                              "carpet": [
                                 {
                                    "aaxis": {
                                       "endlinecolor": "rgb(36,36,36)",
                                       "gridcolor": "white",
                                       "linecolor": "white",
                                       "minorgridcolor": "white",
                                       "startlinecolor": "rgb(36,36,36)"
                                    },
                                    "baxis": {
                                       "endlinecolor": "rgb(36,36,36)",
                                       "gridcolor": "white",
                                       "linecolor": "white",
                                       "minorgridcolor": "white",
                                       "startlinecolor": "rgb(36,36,36)"
                                    },
                                    "type": "carpet"
                                 }
                              ],
                              "choropleth": [
                                 {
                                    "colorbar": {
                                       "outlinewidth": 1,
                                       "tickcolor": "rgb(36,36,36)",
                                       "ticks": "outside"
                                    },
                                    "type": "choropleth"
                                 }
                              ],
                              "contour": [
                                 {
                                    "colorbar": {
                                       "outlinewidth": 1,
                                       "tickcolor": "rgb(36,36,36)",
                                       "ticks": "outside"
                                    },
                                    "colorscale": [
                                       [
                                          0,
                                          "#440154"
                                       ],
                                       [
                                          0.1111111111111111,
                                          "#482878"
                                       ],
                                       [
                                          0.2222222222222222,
                                          "#3e4989"
                                       ],
                                       [
                                          0.3333333333333333,
                                          "#31688e"
                                       ],
                                       [
                                          0.4444444444444444,
                                          "#26828e"
                                       ],
                                       [
                                          0.5555555555555556,
                                          "#1f9e89"
                                       ],
                                       [
                                          0.6666666666666666,
                                          "#35b779"
                                       ],
                                       [
                                          0.7777777777777778,
                                          "#6ece58"
                                       ],
                                       [
                                          0.8888888888888888,
                                          "#b5de2b"
                                       ],
                                       [
                                          1,
                                          "#fde725"
                                       ]
                                    ],
                                    "type": "contour"
                                 }
                              ],
                              "contourcarpet": [
                                 {
                                    "colorbar": {
                                       "outlinewidth": 1,
                                       "tickcolor": "rgb(36,36,36)",
                                       "ticks": "outside"
                                    },
                                    "type": "contourcarpet"
                                 }
                              ],
                              "heatmap": [
                                 {
                                    "colorbar": {
                                       "outlinewidth": 1,
                                       "tickcolor": "rgb(36,36,36)",
                                       "ticks": "outside"
                                    },
                                    "colorscale": [
                                       [
                                          0,
                                          "#440154"
                                       ],
                                       [
                                          0.1111111111111111,
                                          "#482878"
                                       ],
                                       [
                                          0.2222222222222222,
                                          "#3e4989"
                                       ],
                                       [
                                          0.3333333333333333,
                                          "#31688e"
                                       ],
                                       [
                                          0.4444444444444444,
                                          "#26828e"
                                       ],
                                       [
                                          0.5555555555555556,
                                          "#1f9e89"
                                       ],
                                       [
                                          0.6666666666666666,
                                          "#35b779"
                                       ],
                                       [
                                          0.7777777777777778,
                                          "#6ece58"
                                       ],
                                       [
                                          0.8888888888888888,
                                          "#b5de2b"
                                       ],
                                       [
                                          1,
                                          "#fde725"
                                       ]
                                    ],
                                    "type": "heatmap"
                                 }
                              ],
                              "heatmapgl": [
                                 {
                                    "colorbar": {
                                       "outlinewidth": 1,
                                       "tickcolor": "rgb(36,36,36)",
                                       "ticks": "outside"
                                    },
                                    "colorscale": [
                                       [
                                          0,
                                          "#440154"
                                       ],
                                       [
                                          0.1111111111111111,
                                          "#482878"
                                       ],
                                       [
                                          0.2222222222222222,
                                          "#3e4989"
                                       ],
                                       [
                                          0.3333333333333333,
                                          "#31688e"
                                       ],
                                       [
                                          0.4444444444444444,
                                          "#26828e"
                                       ],
                                       [
                                          0.5555555555555556,
                                          "#1f9e89"
                                       ],
                                       [
                                          0.6666666666666666,
                                          "#35b779"
                                       ],
                                       [
                                          0.7777777777777778,
                                          "#6ece58"
                                       ],
                                       [
                                          0.8888888888888888,
                                          "#b5de2b"
                                       ],
                                       [
                                          1,
                                          "#fde725"
                                       ]
                                    ],
                                    "type": "heatmapgl"
                                 }
                              ],
                              "histogram": [
                                 {
                                    "marker": {
                                       "line": {
                                          "color": "white",
                                          "width": 0.6
                                       }
                                    },
                                    "type": "histogram"
                                 }
                              ],
                              "histogram2d": [
                                 {
                                    "colorbar": {
                                       "outlinewidth": 1,
                                       "tickcolor": "rgb(36,36,36)",
                                       "ticks": "outside"
                                    },
                                    "colorscale": [
                                       [
                                          0,
                                          "#440154"
                                       ],
                                       [
                                          0.1111111111111111,
                                          "#482878"
                                       ],
                                       [
                                          0.2222222222222222,
                                          "#3e4989"
                                       ],
                                       [
                                          0.3333333333333333,
                                          "#31688e"
                                       ],
                                       [
                                          0.4444444444444444,
                                          "#26828e"
                                       ],
                                       [
                                          0.5555555555555556,
                                          "#1f9e89"
                                       ],
                                       [
                                          0.6666666666666666,
                                          "#35b779"
                                       ],
                                       [
                                          0.7777777777777778,
                                          "#6ece58"
                                       ],
                                       [
                                          0.8888888888888888,
                                          "#b5de2b"
                                       ],
                                       [
                                          1,
                                          "#fde725"
                                       ]
                                    ],
                                    "type": "histogram2d"
                                 }
                              ],
                              "histogram2dcontour": [
                                 {
                                    "colorbar": {
                                       "outlinewidth": 1,
                                       "tickcolor": "rgb(36,36,36)",
                                       "ticks": "outside"
                                    },
                                    "colorscale": [
                                       [
                                          0,
                                          "#440154"
                                       ],
                                       [
                                          0.1111111111111111,
                                          "#482878"
                                       ],
                                       [
                                          0.2222222222222222,
                                          "#3e4989"
                                       ],
                                       [
                                          0.3333333333333333,
                                          "#31688e"
                                       ],
                                       [
                                          0.4444444444444444,
                                          "#26828e"
                                       ],
                                       [
                                          0.5555555555555556,
                                          "#1f9e89"
                                       ],
                                       [
                                          0.6666666666666666,
                                          "#35b779"
                                       ],
                                       [
                                          0.7777777777777778,
                                          "#6ece58"
                                       ],
                                       [
                                          0.8888888888888888,
                                          "#b5de2b"
                                       ],
                                       [
                                          1,
                                          "#fde725"
                                       ]
                                    ],
                                    "type": "histogram2dcontour"
                                 }
                              ],
                              "mesh3d": [
                                 {
                                    "colorbar": {
                                       "outlinewidth": 1,
                                       "tickcolor": "rgb(36,36,36)",
                                       "ticks": "outside"
                                    },
                                    "type": "mesh3d"
                                 }
                              ],
                              "parcoords": [
                                 {
                                    "line": {
                                       "colorbar": {
                                          "outlinewidth": 1,
                                          "tickcolor": "rgb(36,36,36)",
                                          "ticks": "outside"
                                       }
                                    },
                                    "type": "parcoords"
                                 }
                              ],
                              "pie": [
                                 {
                                    "automargin": true,
                                    "type": "pie"
                                 }
                              ],
                              "scatter": [
                                 {
                                    "fillpattern": {
                                       "fillmode": "overlay",
                                       "size": 10,
                                       "solidity": 0.2
                                    },
                                    "type": "scatter"
                                 }
                              ],
                              "scatter3d": [
                                 {
                                    "line": {
                                       "colorbar": {
                                          "outlinewidth": 1,
                                          "tickcolor": "rgb(36,36,36)",
                                          "ticks": "outside"
                                       }
                                    },
                                    "marker": {
                                       "colorbar": {
                                          "outlinewidth": 1,
                                          "tickcolor": "rgb(36,36,36)",
                                          "ticks": "outside"
                                       }
                                    },
                                    "type": "scatter3d"
                                 }
                              ],
                              "scattercarpet": [
                                 {
                                    "marker": {
                                       "colorbar": {
                                          "outlinewidth": 1,
                                          "tickcolor": "rgb(36,36,36)",
                                          "ticks": "outside"
                                       }
                                    },
                                    "type": "scattercarpet"
                                 }
                              ],
                              "scattergeo": [
                                 {
                                    "marker": {
                                       "colorbar": {
                                          "outlinewidth": 1,
                                          "tickcolor": "rgb(36,36,36)",
                                          "ticks": "outside"
                                       }
                                    },
                                    "type": "scattergeo"
                                 }
                              ],
                              "scattergl": [
                                 {
                                    "marker": {
                                       "colorbar": {
                                          "outlinewidth": 1,
                                          "tickcolor": "rgb(36,36,36)",
                                          "ticks": "outside"
                                       }
                                    },
                                    "type": "scattergl"
                                 }
                              ],
                              "scattermapbox": [
                                 {
                                    "marker": {
                                       "colorbar": {
                                          "outlinewidth": 1,
                                          "tickcolor": "rgb(36,36,36)",
                                          "ticks": "outside"
                                       }
                                    },
                                    "type": "scattermapbox"
                                 }
                              ],
                              "scatterpolar": [
                                 {
                                    "marker": {
                                       "colorbar": {
                                          "outlinewidth": 1,
                                          "tickcolor": "rgb(36,36,36)",
                                          "ticks": "outside"
                                       }
                                    },
                                    "type": "scatterpolar"
                                 }
                              ],
                              "scatterpolargl": [
                                 {
                                    "marker": {
                                       "colorbar": {
                                          "outlinewidth": 1,
                                          "tickcolor": "rgb(36,36,36)",
                                          "ticks": "outside"
                                       }
                                    },
                                    "type": "scatterpolargl"
                                 }
                              ],
                              "scatterternary": [
                                 {
                                    "marker": {
                                       "colorbar": {
                                          "outlinewidth": 1,
                                          "tickcolor": "rgb(36,36,36)",
                                          "ticks": "outside"
                                       }
                                    },
                                    "type": "scatterternary"
                                 }
                              ],
                              "surface": [
                                 {
                                    "colorbar": {
                                       "outlinewidth": 1,
                                       "tickcolor": "rgb(36,36,36)",
                                       "ticks": "outside"
                                    },
                                    "colorscale": [
                                       [
                                          0,
                                          "#440154"
                                       ],
                                       [
                                          0.1111111111111111,
                                          "#482878"
                                       ],
                                       [
                                          0.2222222222222222,
                                          "#3e4989"
                                       ],
                                       [
                                          0.3333333333333333,
                                          "#31688e"
                                       ],
                                       [
                                          0.4444444444444444,
                                          "#26828e"
                                       ],
                                       [
                                          0.5555555555555556,
                                          "#1f9e89"
                                       ],
                                       [
                                          0.6666666666666666,
                                          "#35b779"
                                       ],
                                       [
                                          0.7777777777777778,
                                          "#6ece58"
                                       ],
                                       [
                                          0.8888888888888888,
                                          "#b5de2b"
                                       ],
                                       [
                                          1,
                                          "#fde725"
                                       ]
                                    ],
                                    "type": "surface"
                                 }
                              ],
                              "table": [
                                 {
                                    "cells": {
                                       "fill": {
                                          "color": "rgb(237,237,237)"
                                       },
                                       "line": {
                                          "color": "white"
                                       }
                                    },
                                    "header": {
                                       "fill": {
                                          "color": "rgb(217,217,217)"
                                       },
                                       "line": {
                                          "color": "white"
                                       }
                                    },
                                    "type": "table"
                                 }
                              ]
                           },
                           "layout": {
                              "annotationdefaults": {
                                 "arrowhead": 0,
                                 "arrowwidth": 1
                              },
                              "autotypenumbers": "strict",
                              "coloraxis": {
                                 "colorbar": {
                                    "outlinewidth": 1,
                                    "tickcolor": "rgb(36,36,36)",
                                    "ticks": "outside"
                                 }
                              },
                              "colorscale": {
                                 "diverging": [
                                    [
                                       0,
                                       "rgb(103,0,31)"
                                    ],
                                    [
                                       0.1,
                                       "rgb(178,24,43)"
                                    ],
                                    [
                                       0.2,
                                       "rgb(214,96,77)"
                                    ],
                                    [
                                       0.3,
                                       "rgb(244,165,130)"
                                    ],
                                    [
                                       0.4,
                                       "rgb(253,219,199)"
                                    ],
                                    [
                                       0.5,
                                       "rgb(247,247,247)"
                                    ],
                                    [
                                       0.6,
                                       "rgb(209,229,240)"
                                    ],
                                    [
                                       0.7,
                                       "rgb(146,197,222)"
                                    ],
                                    [
                                       0.8,
                                       "rgb(67,147,195)"
                                    ],
                                    [
                                       0.9,
                                       "rgb(33,102,172)"
                                    ],
                                    [
                                       1,
                                       "rgb(5,48,97)"
                                    ]
                                 ],
                                 "sequential": [
                                    [
                                       0,
                                       "#440154"
                                    ],
                                    [
                                       0.1111111111111111,
                                       "#482878"
                                    ],
                                    [
                                       0.2222222222222222,
                                       "#3e4989"
                                    ],
                                    [
                                       0.3333333333333333,
                                       "#31688e"
                                    ],
                                    [
                                       0.4444444444444444,
                                       "#26828e"
                                    ],
                                    [
                                       0.5555555555555556,
                                       "#1f9e89"
                                    ],
                                    [
                                       0.6666666666666666,
                                       "#35b779"
                                    ],
                                    [
                                       0.7777777777777778,
                                       "#6ece58"
                                    ],
                                    [
                                       0.8888888888888888,
                                       "#b5de2b"
                                    ],
                                    [
                                       1,
                                       "#fde725"
                                    ]
                                 ],
                                 "sequentialminus": [
                                    [
                                       0,
                                       "#440154"
                                    ],
                                    [
                                       0.1111111111111111,
                                       "#482878"
                                    ],
                                    [
                                       0.2222222222222222,
                                       "#3e4989"
                                    ],
                                    [
                                       0.3333333333333333,
                                       "#31688e"
                                    ],
                                    [
                                       0.4444444444444444,
                                       "#26828e"
                                    ],
                                    [
                                       0.5555555555555556,
                                       "#1f9e89"
                                    ],
                                    [
                                       0.6666666666666666,
                                       "#35b779"
                                    ],
                                    [
                                       0.7777777777777778,
                                       "#6ece58"
                                    ],
                                    [
                                       0.8888888888888888,
                                       "#b5de2b"
                                    ],
                                    [
                                       1,
                                       "#fde725"
                                    ]
                                 ]
                              },
                              "colorway": [
                                 "#1F77B4",
                                 "#FF7F0E",
                                 "#2CA02C",
                                 "#D62728",
                                 "#9467BD",
                                 "#8C564B",
                                 "#E377C2",
                                 "#7F7F7F",
                                 "#BCBD22",
                                 "#17BECF"
                              ],
                              "font": {
                                 "color": "rgb(36,36,36)"
                              },
                              "geo": {
                                 "bgcolor": "white",
                                 "lakecolor": "white",
                                 "landcolor": "white",
                                 "showlakes": true,
                                 "showland": true,
                                 "subunitcolor": "white"
                              },
                              "hoverlabel": {
                                 "align": "left"
                              },
                              "hovermode": "closest",
                              "mapbox": {
                                 "style": "light"
                              },
                              "paper_bgcolor": "white",
                              "plot_bgcolor": "white",
                              "polar": {
                                 "angularaxis": {
                                    "gridcolor": "rgb(232,232,232)",
                                    "linecolor": "rgb(36,36,36)",
                                    "showgrid": false,
                                    "showline": true,
                                    "ticks": "outside"
                                 },
                                 "bgcolor": "white",
                                 "radialaxis": {
                                    "gridcolor": "rgb(232,232,232)",
                                    "linecolor": "rgb(36,36,36)",
                                    "showgrid": false,
                                    "showline": true,
                                    "ticks": "outside"
                                 }
                              },
                              "scene": {
                                 "xaxis": {
                                    "backgroundcolor": "white",
                                    "gridcolor": "rgb(232,232,232)",
                                    "gridwidth": 2,
                                    "linecolor": "rgb(36,36,36)",
                                    "showbackground": true,
                                    "showgrid": false,
                                    "showline": true,
                                    "ticks": "outside",
                                    "zeroline": false,
                                    "zerolinecolor": "rgb(36,36,36)"
                                 },
                                 "yaxis": {
                                    "backgroundcolor": "white",
                                    "gridcolor": "rgb(232,232,232)",
                                    "gridwidth": 2,
                                    "linecolor": "rgb(36,36,36)",
                                    "showbackground": true,
                                    "showgrid": false,
                                    "showline": true,
                                    "ticks": "outside",
                                    "zeroline": false,
                                    "zerolinecolor": "rgb(36,36,36)"
                                 },
                                 "zaxis": {
                                    "backgroundcolor": "white",
                                    "gridcolor": "rgb(232,232,232)",
                                    "gridwidth": 2,
                                    "linecolor": "rgb(36,36,36)",
                                    "showbackground": true,
                                    "showgrid": false,
                                    "showline": true,
                                    "ticks": "outside",
                                    "zeroline": false,
                                    "zerolinecolor": "rgb(36,36,36)"
                                 }
                              },
                              "shapedefaults": {
                                 "fillcolor": "black",
                                 "line": {
                                    "width": 0
                                 },
                                 "opacity": 0.3
                              },
                              "ternary": {
                                 "aaxis": {
                                    "gridcolor": "rgb(232,232,232)",
                                    "linecolor": "rgb(36,36,36)",
                                    "showgrid": false,
                                    "showline": true,
                                    "ticks": "outside"
                                 },
                                 "baxis": {
                                    "gridcolor": "rgb(232,232,232)",
                                    "linecolor": "rgb(36,36,36)",
                                    "showgrid": false,
                                    "showline": true,
                                    "ticks": "outside"
                                 },
                                 "bgcolor": "white",
                                 "caxis": {
                                    "gridcolor": "rgb(232,232,232)",
                                    "linecolor": "rgb(36,36,36)",
                                    "showgrid": false,
                                    "showline": true,
                                    "ticks": "outside"
                                 }
                              },
                              "title": {
                                 "x": 0.05
                              },
                              "xaxis": {
                                 "automargin": true,
                                 "gridcolor": "rgb(232,232,232)",
                                 "linecolor": "rgb(36,36,36)",
                                 "showgrid": false,
                                 "showline": true,
                                 "ticks": "outside",
                                 "title": {
                                    "standoff": 15
                                 },
                                 "zeroline": false,
                                 "zerolinecolor": "rgb(36,36,36)"
                              },
                              "yaxis": {
                                 "automargin": true,
                                 "gridcolor": "rgb(232,232,232)",
                                 "linecolor": "rgb(36,36,36)",
                                 "showgrid": false,
                                 "showline": true,
                                 "ticks": "outside",
                                 "title": {
                                    "standoff": 15
                                 },
                                 "zeroline": false,
                                 "zerolinecolor": "rgb(36,36,36)"
                              }
                           }
                        },
                        "title": {
                           "text": "Feature Importances for debt"
                        },
                        "width": 700,
                        "xaxis": {
                           "anchor": "y",
                           "domain": [
                              0,
                              1
                           ],
                           "title": {
                              "text": "Importance"
                           }
                        },
                        "yaxis": {
                           "anchor": "x",
                           "categoryorder": "total ascending",
                           "domain": [
                              0,
                              1
                           ],
                           "title": {
                              "text": "Feature"
                           }
                        }
                     }
                  }
               },
               "metadata": {},
               "output_type": "display_data"
            }
         ],
         "source": [
            "my_module.plot_feature_importances_classifier(df, target='debt')"
         ]
      },
      {
         "cell_type": "markdown",
         "metadata": {},
         "source": [
            "**Наблюдения:**\n",
            "- Видим, что доход значительно превышает стаж и количество детей.  "
         ]
      },
      {
         "cell_type": "markdown",
         "metadata": {},
         "source": [
            "### Промежуточный вывод"
         ]
      },
      {
         "cell_type": "markdown",
         "metadata": {},
         "source": [
            "### 3 Анализ взаимосвязей переменных на графиках"
         ]
      },
      {
         "cell_type": "markdown",
         "metadata": {},
         "source": [
            "#### Изучаем зависимости между числовыми переменными"
         ]
      },
      {
         "cell_type": "markdown",
         "metadata": {},
         "source": [
            "Посмотрим на зависимости между числовыми переменныхми."
         ]
      },
      {
         "cell_type": "code",
         "execution_count": 82,
         "metadata": {},
         "outputs": [
            {
               "data": {
                  "text/plain": [
                     "<seaborn.axisgrid.PairGrid at 0x1f97c940>"
                  ]
               },
               "execution_count": 82,
               "metadata": {},
               "output_type": "execute_result"
            },
            {
               "data": {
                  "image/png": "[encoded data removed]",
                  "text/plain": [
                     "<Figure size 750x750 with 12 Axes>"
                  ]
               },
               "metadata": {},
               "output_type": "display_data"
            }
         ],
         "source": [
            "sns.pairplot(df, markers=[\"o\"], \n",
            "                        plot_kws={'color': (128/255, 60/255, 170/255, 0.9)},\n",
            "                        diag_kws={'color': (128/255, 60/255, 170/255, 0.9)})"
         ]
      },
      {
         "cell_type": "markdown",
         "metadata": {},
         "source": [
            "**Наблюдения:**\n",
            "- Можно заметить, что чем меньше количество детей, тем больше значений с высоким доходом."
         ]
      },
      {
         "cell_type": "markdown",
         "metadata": {},
         "source": [
            "#### Изучаем зависимости между категориальными переменными"
         ]
      },
      {
         "cell_type": "code",
         "execution_count": null,
         "metadata": {},
         "outputs": [],
         "source": [
            "gen = my_module.categorical_heatmap_matrix_gen(df)\n",
            "next(gen)"
         ]
      },
      {
         "cell_type": "markdown",
         "metadata": {},
         "source": [
            "**Наблюдения:**\n",
            "- Женщин замужем больше всего"
         ]
      },
      {
         "cell_type": "code",
         "execution_count": null,
         "metadata": {},
         "outputs": [],
         "source": [
            "next(gen)"
         ]
      },
      {
         "cell_type": "markdown",
         "metadata": {},
         "source": [
            "**Наблюдения:**\n",
            "- Среди семейного статуса и занятости больше всего женатых сотрудников"
         ]
      },
      {
         "cell_type": "code",
         "execution_count": null,
         "metadata": {},
         "outputs": [],
         "source": [
            "next(gen)"
         ]
      },
      {
         "cell_type": "markdown",
         "metadata": {},
         "source": [
            "**Наблюдения:**\n",
            "- Жентатых без долго явно больше остальных."
         ]
      },
      {
         "cell_type": "code",
         "execution_count": null,
         "metadata": {},
         "outputs": [],
         "source": [
            "next(gen)"
         ]
      },
      {
         "cell_type": "markdown",
         "metadata": {},
         "source": [
            "**Наблюдения:**\n",
            "- Возрастная группа 30-40 лет выделяется среди женатых"
         ]
      },
      {
         "cell_type": "code",
         "execution_count": null,
         "metadata": {},
         "outputs": [],
         "source": [
            "next(gen)"
         ]
      },
      {
         "cell_type": "markdown",
         "metadata": {},
         "source": [
            "**Наблюдения:**\n",
            "- Болшая часть женатых имеет доход 100-200 тыс"
         ]
      },
      {
         "cell_type": "code",
         "execution_count": null,
         "metadata": {},
         "outputs": [],
         "source": [
            "next(gen)"
         ]
      },
      {
         "cell_type": "markdown",
         "metadata": {},
         "source": [
            "**Наблюдения:**\n",
            "- Больше всего женщин сотрудников"
         ]
      },
      {
         "cell_type": "code",
         "execution_count": null,
         "metadata": {},
         "outputs": [],
         "source": [
            "next(gen)"
         ]
      },
      {
         "cell_type": "markdown",
         "metadata": {},
         "source": [
            "**Наблюдения:**\n",
            "- Женщины чаще возвращают кредит. Это видно из пропроций. "
         ]
      },
      {
         "cell_type": "code",
         "execution_count": null,
         "metadata": {},
         "outputs": [],
         "source": [
            "next(gen)"
         ]
      },
      {
         "cell_type": "markdown",
         "metadata": {},
         "source": [
            "**Наблюдения:**\n",
            "- Есть 7 пенсионеров моложе 30 лет"
         ]
      },
      {
         "cell_type": "code",
         "execution_count": null,
         "metadata": {},
         "outputs": [],
         "source": [
            "next(gen)"
         ]
      },
      {
         "cell_type": "markdown",
         "metadata": {},
         "source": [
            "**Наблюдения:**\n",
            "- Люди старше 60 лет реже других имеют долги"
         ]
      },
      {
         "cell_type": "code",
         "execution_count": null,
         "metadata": {},
         "outputs": [],
         "source": [
            "next(gen)"
         ]
      },
      {
         "cell_type": "markdown",
         "metadata": {},
         "source": [
            "**Наблюдения:**\n",
            "- Долги есть у людей с разным доходом"
         ]
      },
      {
         "cell_type": "code",
         "execution_count": null,
         "metadata": {},
         "outputs": [],
         "source": [
            "next(gen)"
         ]
      },
      {
         "cell_type": "markdown",
         "metadata": {},
         "source": [
            "**Наблюдения:**\n",
            "- Можно заметить, что категория возраста от 30 до 40 лет имеет больше зарплату"
         ]
      },
      {
         "cell_type": "markdown",
         "metadata": {},
         "source": [
            "Посмотрим на распределение количества людей по категориям на сэнки диограмме"
         ]
      },
      {
         "cell_type": "code",
         "execution_count": 106,
         "metadata": {},
         "outputs": [
            {
               "data": {
                  "text/html": [
                     "<div>\n",
                     "<style scoped>\n",
                     "    .dataframe tbody tr th:only-of-type {\n",
                     "        vertical-align: middle;\n",
                     "    }\n",
                     "\n",
                     "    .dataframe tbody tr th {\n",
                     "        vertical-align: top;\n",
                     "    }\n",
                     "\n",
                     "    .dataframe thead th {\n",
                     "        text-align: right;\n",
                     "    }\n",
                     "</style>\n",
                     "<table border=\"1\" class=\"dataframe\">\n",
                     "  <thead>\n",
                     "    <tr style=\"text-align: right;\">\n",
                     "      <th></th>\n",
                     "      <th>children</th>\n",
                     "      <th>age</th>\n",
                     "      <th>education</th>\n",
                     "      <th>family_status</th>\n",
                     "      <th>gender</th>\n",
                     "      <th>income_type</th>\n",
                     "      <th>debt</th>\n",
                     "      <th>total_income</th>\n",
                     "      <th>purpose</th>\n",
                     "      <th>dob_cat</th>\n",
                     "      <th>total_income_cat</th>\n",
                     "    </tr>\n",
                     "  </thead>\n",
                     "  <tbody>\n",
                     "    <tr>\n",
                     "      <th>0</th>\n",
                     "      <td>1</td>\n",
                     "      <td>42</td>\n",
                     "      <td>высшее</td>\n",
                     "      <td>женат / замужем</td>\n",
                     "      <td>F</td>\n",
                     "      <td>сотрудник</td>\n",
                     "      <td>0</td>\n",
                     "      <td>253876</td>\n",
                     "      <td>Недвижимость</td>\n",
                     "      <td>40-50</td>\n",
                     "      <td>200-500 тыс</td>\n",
                     "    </tr>\n",
                     "  </tbody>\n",
                     "</table>\n",
                     "</div>"
                  ],
                  "text/plain": [
                     "   children  age education    family_status gender income_type debt  \\\n",
                     "0         1   42    высшее  женат / замужем      F   сотрудник    0   \n",
                     "\n",
                     "   total_income       purpose dob_cat total_income_cat  \n",
                     "0        253876  Недвижимость   40-50      200-500 тыс  "
                  ]
               },
               "execution_count": 106,
               "metadata": {},
               "output_type": "execute_result"
            }
         ],
         "source": [
            "df.head(1)"
         ]
      },
      {
         "cell_type": "code",
         "execution_count": null,
         "metadata": {},
         "outputs": [],
         "source": [
            "my_module.sankey(df, ['debt', 'total_income_cat', 'dob_cat', 'income_type', 'gender', 'family_status', 'education'])"
         ]
      },
      {
         "cell_type": "markdown",
         "metadata": {},
         "source": [
            "#### Изучаем зависимости между числовыми и категориальными переменными"
         ]
      },
      {
         "cell_type": "code",
         "execution_count": null,
         "metadata": {},
         "outputs": [],
         "source": [
            "my_module.graph_analysis_gen()"
         ]
      },
      {
         "cell_type": "code",
         "execution_count": 115,
         "metadata": {},
         "outputs": [],
         "source": [
            "def graph_analysis_gen(df):\n",
            "    category_columns = [\n",
            "        col for col in df.columns if pd.api.types.is_categorical_dtype(df[col])]\n",
            "    num_columns = [\n",
            "        col for col in df.columns if pd.api.types.is_numeric_dtype(df[col])]\n",
            "    c2 = itertools.combinations(category_columns, 2)\n",
            "    for cat_pair in c2:\n",
            "        for num_column in num_columns:\n",
            "            print(list(cat_pair) + num_column)\n",
            "            my_module.graph_analysis(df, list(cat_pair), num_column)\n",
            "            yield"
         ]
      },
      {
         "cell_type": "code",
         "execution_count": 136,
         "metadata": {},
         "outputs": [],
         "source": [
            "gen = graph_analysis_gen(df)"
         ]
      },
      {
         "cell_type": "code",
         "execution_count": null,
         "metadata": {},
         "outputs": [],
         "source": [
            "Смотрим и в целом и по категориям\n",
            "У мужчин средний доход выше\n",
            "У женатых больше детей\n",
            "Средний доход по семейному статусу примерно одинаковый\n",
            "Медианный доход предпринимателй больше (причем у гражданского брака больше всего)\n",
            "У должников в среднем больше детей (можно в разбивке по категориям увидеть что для всех значений в категории так) разбить по полу, у должников среднее количество детей больше у женщин, а у не должников срднее количество детей больше у мужчин\n",
            "У должников средний возраст ниже (можно в разбивке по категориям (например сем статус) увидеть что для всех значений в категории так)\n",
            "Медианный доход у должников и нет практически не  отличается\n",
            "Среднее количество детей у группы 30-40 лет болше сделать ещё в разбивке по полу\n",
            "дети, семейный стату, категория лет (выделяяется вдова вдовец до 40 лет по среднему количетсу детей)\n",
            "средний доход по возрастным категоирям и по типу занятости (предприниматель до 30 лет имеет большой доход)\n",
            "среднее количество детей по группам  дохода (у группы больше 500 тыс больше детей) и в разбивке по семейному статусу и по полу\n",
            "вдова вдовец и не женат  имеют среднее количество детей ниже (не женат это логично, а вот вдовцы можно подумать)\n",
            "у вдовцов ниже средний доход\n",
            "у мужчин среднее количество детей больше\n",
            "У женщин средний возраст выше\n",
            "средний возраст по типу занятости и по полу (вместе и отдельно)\n",
            "Доход по типу занятости и второй график дополнительно по полу разбивка (женщина предприниматель имеет больше средний доход)\n",
            "Возраст по долгу и полу\n",
            "средний доход по возрастным группам\n",
            "среднее количество детей по типу занятости и по долгу (у должников больше всего среднее количество детей у декрета и безработноко) безработный это интерсено\n",
            "тип занятосит по доходу (предпринматели имеют больше доъод) и можно в разбивке по долгу\n",
            "долг по возрастным категориям\n",
            "количество детей по категории доход и по долгу (у должников больше среднее количество детей с доходом до 50 тыс, а у не должников с доходом больше 500 тыс)\n",
            "средний возраст по группе дохода и по долгу (во всех группах дохода средний возраст должников ниже)\n",
            "среднее количество детей по группе доход и по группе возраста\n"
         ]
      },
      {
         "cell_type": "code",
         "execution_count": null,
         "metadata": {},
         "outputs": [],
         "source": [
            "next(gen)"
         ]
      },
      {
         "cell_type": "markdown",
         "metadata": {},
         "source": [
            "### 4 Формулирование и провера гипотез"
         ]
      },
      {
         "cell_type": "markdown",
         "metadata": {},
         "source": [
            "Подход следуюищй - мы до раздела проверка гипотез, когда изучаем данные (разделы пропусков, выбросов, дубликатов, зависиместей между перменными и графики),  \n",
            "то мы делаем выводы и формируем наблюдеия.  \n",
            "Вот эти наблюдения и выводы нужно проверить в проверке гипотез.  \n",
            "И потом в основном выводе уже писать не просто, что у нас мужчин больше чем женьшин, а писать, что на уровен значисомти таком то у нас мужчина больше чем  \n",
            "женщин с таким то доверительным интервалом.  \n",
            "Таким образом выводы по вомзожности должны проходить через этап проверки гипотез, тогда эти выводы становятся более существенными.  "
         ]
      },
      {
         "cell_type": "markdown",
         "metadata": {},
         "source": [
            "- Гипотезы появляются, когда мы задаем вопросы данным. Мы изучили данные, преобработали и теперь начинаем задавать вопросы.  \n",
            "- Выдвигаем гипотезу (заметили что-то необычное и хотим проверить), далее формулируем ее и далее проверяем.  \n",
            "- Не забываем формулировать гипотезы словами. Пишем что является гипотезой H0, а что гипотезой H1  \n",
            "- Формулируем все гипотезы, которые хотим проверить. Если будет 100 гипотез, то все 100 нужно сформулировать и потом проверить и сделать вывод.  \n",
            "- Гипотезы могут быть и простыми вопросами без гипотез H0 и H1, такие гипотезы мы проверяем графиками или анализируя таблицу.  \n",
            "- Восновном, когда мы собиаремся применить стат аппарат для проверки гипотезы, то мы должны записать ее через H0 и H1.  "
         ]
      },
      {
         "cell_type": "markdown",
         "metadata": {},
         "source": [
            "Алгоритм проверки статистических гипотез\n",
            "\n",
            "- постановка задачи\n",
            "    - Сформулировать, что мы хотим узнать о выборках с точки зрения бизнес задачи (равны ли средние доходы в группах)\n",
            "    - перевод бизнес-вопроса на язык статистики: средний доход в группах - проверка равенства средних значений\n",
            "- формулировка гипотез\n",
            "    - формулировка нулевой гипотезы - с т.зр. равенства стат прараметров оцениваемых выборок   \n",
            "    (Н0: Средние траты клиентов по группе А равны средним тратам клинентов по группе В)\n",
            "    - формулировка альтернативной гипотезы - с точки зрения неравенства параметров  \n",
            "    (Н1: Средние траты клиентов по группе А не равны средним тратам клинентов по группе В)\n",
            "- выбор критерия alpha (почему 0.05 или 0.01)\n",
            "    - цена ошибки первого рода (при большой цене ошибки - в мед исследованиях, потенциальном ущербе ) - значение может быть больше, например 0.1\n",
            "    - в ежедневных бизнес задачах, обычно - 0.05\n",
            "- анализ распределения\n",
            "    - визуальная оценка\n",
            "    - следим за выбросами\n",
            "    - проверка гипотез о типе распредеделения (например критерий Шапиро-Уилка)\n",
            "    - если распределение не нормальное и размер выборки достаточный (больше 30-50 элементов)  \n",
            "    может быть использован t-test именно для проверки гипотезы о равенстве средних.  \n",
            "    Согласно ЦПТ (центральная предельная теорема) средние этих выборок будут распределены нормально. См. статью Зотова\n",
            "- выбор критерия\n",
            "    - при оценке равенства средних T-test или Welch T-test (если есть сомнения, то лучше Уэлча)\n",
            "        - при рвенстве дисперсий используем обычный т тест\n",
            "        - если дисперсии в выборках разные, то используем т теста Уэлча\n",
            "- получение результата\n",
            "    - расчет p-value\n",
            "- интерпретация p-value\n",
            "    - сравнение p-value и alpha\n",
            "    - если альфа > p-value - отвергаем нулевую гипотезу\n",
            "    - если альфа < p-value - не можем отвергнуть нулевую гипотезу"
         ]
      },
      {
         "cell_type": "code",
         "execution_count": 3,
         "metadata": {},
         "outputs": [
            {
               "data": {
                  "text/html": [
                     "<div>\n",
                     "<style scoped>\n",
                     "    .dataframe tbody tr th:only-of-type {\n",
                     "        vertical-align: middle;\n",
                     "    }\n",
                     "\n",
                     "    .dataframe tbody tr th {\n",
                     "        vertical-align: top;\n",
                     "    }\n",
                     "\n",
                     "    .dataframe thead th {\n",
                     "        text-align: right;\n",
                     "    }\n",
                     "</style>\n",
                     "<table border=\"1\" class=\"dataframe\">\n",
                     "  <thead>\n",
                     "    <tr style=\"text-align: right;\">\n",
                     "      <th></th>\n",
                     "      <th>children</th>\n",
                     "      <th>days_employed</th>\n",
                     "      <th>dob_years</th>\n",
                     "      <th>education</th>\n",
                     "      <th>education_id</th>\n",
                     "      <th>family_status</th>\n",
                     "      <th>family_status_id</th>\n",
                     "      <th>gender</th>\n",
                     "      <th>income_type</th>\n",
                     "      <th>debt</th>\n",
                     "      <th>total_income</th>\n",
                     "      <th>purpose</th>\n",
                     "    </tr>\n",
                     "  </thead>\n",
                     "  <tbody>\n",
                     "    <tr>\n",
                     "      <th>0</th>\n",
                     "      <td>1</td>\n",
                     "      <td>-8437.673028</td>\n",
                     "      <td>42</td>\n",
                     "      <td>высшее</td>\n",
                     "      <td>0</td>\n",
                     "      <td>женат / замужем</td>\n",
                     "      <td>0</td>\n",
                     "      <td>F</td>\n",
                     "      <td>сотрудник</td>\n",
                     "      <td>0</td>\n",
                     "      <td>253875.639453</td>\n",
                     "      <td>покупка жилья</td>\n",
                     "    </tr>\n",
                     "  </tbody>\n",
                     "</table>\n",
                     "</div>"
                  ],
                  "text/plain": [
                     "   children  days_employed  dob_years education  education_id  \\\n",
                     "0         1   -8437.673028         42    высшее             0   \n",
                     "\n",
                     "     family_status  family_status_id gender income_type  debt   total_income  \\\n",
                     "0  женат / замужем                 0      F   сотрудник     0  253875.639453   \n",
                     "\n",
                     "         purpose  \n",
                     "0  покупка жилья  "
                  ]
               },
               "execution_count": 3,
               "metadata": {},
               "output_type": "execute_result"
            }
         ],
         "source": [
            "df.head(1)"
         ]
      },
      {
         "cell_type": "code",
         "execution_count": null,
         "metadata": {},
         "outputs": [],
         "source": [
            "Какая у нас задача\n",
            "- Исследовать взаимосвязь между 2 переменными\n",
            "    - обе переменные наминативные\n",
            "        - Хи-квадрат Пирсона (не чувствителен к гетероскедастичности) (нормальность не обязательна)\n",
            "    - обе переменные количественные\n",
            "        - Коэффициент корреляции Пирсона (параметрика) (чувствителен к выбросам) (только непрерывные переменные) \n",
            "        - Коэффициент корреляции Спирмена (чувствителен к выбросам) / Кендалла (менее чувствителен к выбросам) (непараметрика) (непрерывные переменные и порядковые категориальные переменные)  \n",
            "    - одна переменная номинативная (принимает 2 занчения), вторая количественная\n",
            "        - значения\n",
            "            - Т-критерий Стьюдента (параметрика) (желательно нормальность) (чувствителен к выбросам) (чувствителен к гетероскедастичности)\n",
            "                - если дисперсии равны (тест левена, барлета) и количество в группах равно (тест на равенство пропорций), то используем обычный т тест (эта формула более точно даст результат для этого случая)\n",
            "                - если дисперсии не равны (тест левена, барлета) или количество в группах не равно (тест на равенство пропорций), то используем тест Уэлча (эта формула использует больше неопределенности и лучше подходит для этого случая)\n",
            "            - U-критерий Манна-Уитни (непараметрика) (нормальность не обязательна) (не чувствителен к гетероскедастичности)\n",
            "            Если тестируемая фича полностью сдвигает выборку на некий коэффициент theta или масштабирует выборку на некий параметр theta (theta > 0),  \n",
            "            то критерий Манна-Уитни применим\n",
            "        - доли\n",
            "            - Z тест для долей (параметрика) (желательно нормальность) (чувствителен к выбросам) (чувствителен к гетероскедастичности)\n",
            "            - Chi-square тест для долей (непараметрика) (нормальность не обязательна) (не чувствителен к гетероскедастичности)\n",
            "- Исследовать взаимосвязь между несколькими переменными\n",
            "    - Дисперсионный анализ (параметрика) (дисперсии в группах должны быть примерно равны) (желательно нормальность) (чувствителен к выбросам) (чувствителен к гетероскедастичности)\n",
            "    - Welch's ANOVA (устройчив к разной дисперсии в группах) (требует более больших размеров групп для точных результатов) (желательно нормальность) (чувствителен к выбросам) (не чувствителен к гетероскедастичности)\n",
            "    - Критерий Краскела-Уоллиса (непараметрика) (нормальность не обязательна) (не чувствителен к гетероскедастичности)\n",
            "    - Тест Тьюки (если anova или Краскела-Уоллиса нашил различия) (дисперсии в группах должны быть примерно равны) (параметрика) (желательно нормальность) (чувствителен к выбросам) (чувствителен к гетероскедастичности)\n",
            "- Проверить на равенство дисперсий в группах перед anova\n",
            "    - Levene's test (не требует нормальность) (менее чувствительный)\n",
            "    - Bartlett's test (требует нормальность) (более чувствительный)"
         ]
      },
      {
         "cell_type": "markdown",
         "metadata": {},
         "source": [
            "Отличная статья про доверительные интервалы для разных статистик  \n",
            "https://habr.com/ru/articles/807051/"
         ]
      },
      {
         "cell_type": "code",
         "execution_count": 84,
         "metadata": {},
         "outputs": [
            {
               "data": {
                  "text/html": [
                     "<div>\n",
                     "<style scoped>\n",
                     "    .dataframe tbody tr th:only-of-type {\n",
                     "        vertical-align: middle;\n",
                     "    }\n",
                     "\n",
                     "    .dataframe tbody tr th {\n",
                     "        vertical-align: top;\n",
                     "    }\n",
                     "\n",
                     "    .dataframe thead th {\n",
                     "        text-align: right;\n",
                     "    }\n",
                     "</style>\n",
                     "<table border=\"1\" class=\"dataframe\">\n",
                     "  <thead>\n",
                     "    <tr style=\"text-align: right;\">\n",
                     "      <th></th>\n",
                     "      <th>children</th>\n",
                     "      <th>days_employed</th>\n",
                     "      <th>dob_years</th>\n",
                     "      <th>education</th>\n",
                     "      <th>education_id</th>\n",
                     "      <th>family_status</th>\n",
                     "      <th>family_status_id</th>\n",
                     "      <th>gender</th>\n",
                     "      <th>income_type</th>\n",
                     "      <th>debt</th>\n",
                     "      <th>total_income</th>\n",
                     "      <th>purpose</th>\n",
                     "    </tr>\n",
                     "  </thead>\n",
                     "  <tbody>\n",
                     "    <tr>\n",
                     "      <th>0</th>\n",
                     "      <td>1</td>\n",
                     "      <td>-8437.673028</td>\n",
                     "      <td>42</td>\n",
                     "      <td>высшее</td>\n",
                     "      <td>0</td>\n",
                     "      <td>женат / замужем</td>\n",
                     "      <td>0</td>\n",
                     "      <td>F</td>\n",
                     "      <td>сотрудник</td>\n",
                     "      <td>0</td>\n",
                     "      <td>253875.639453</td>\n",
                     "      <td>покупка жилья</td>\n",
                     "    </tr>\n",
                     "  </tbody>\n",
                     "</table>\n",
                     "</div>"
                  ],
                  "text/plain": [
                     "   children  days_employed  dob_years education  education_id  \\\n",
                     "0         1   -8437.673028         42    высшее             0   \n",
                     "\n",
                     "     family_status  family_status_id gender income_type  debt   total_income  \\\n",
                     "0  женат / замужем                 0      F   сотрудник     0  253875.639453   \n",
                     "\n",
                     "         purpose  \n",
                     "0  покупка жилья  "
                  ]
               },
               "execution_count": 84,
               "metadata": {},
               "output_type": "execute_result"
            }
         ],
         "source": [
            "df.head(1)"
         ]
      },
      {
         "cell_type": "code",
         "execution_count": 96,
         "metadata": {},
         "outputs": [
            {
               "name": "stderr",
               "output_type": "stream",
               "text": [
                  "c:\\python\\lib\\site-packages\\ipykernel_launcher.py:1: UserWarning: Boolean Series key will be reindexed to match DataFrame index.\n",
                  "  \"\"\"Entry point for launching an IPython kernel.\n",
                  "c:\\python\\lib\\site-packages\\ipykernel_launcher.py:2: UserWarning: Boolean Series key will be reindexed to match DataFrame index.\n",
                  "  \n"
               ]
            }
         ],
         "source": [
            "sample1 = df.dropna()[df.gender == 'M']['total_income']\n",
            "sample2 = df.dropna()[df.gender == 'F']['total_income']"
         ]
      },
      {
         "cell_type": "markdown",
         "metadata": {},
         "source": [
            "Bootstrapping"
         ]
      },
      {
         "cell_type": "markdown",
         "metadata": {},
         "source": [
            "В бутстрепе, если мы хотим сравнить две выборки, то нельзя смотреть  \n",
            "где находится исходная разница средних в бутстрапированной выборке  \n",
            "Так как мы берем бутстреп из наших выборок и впролне реально.что наша разность  \n",
            "будет близка к с реднему бутстропированной выборки  \n",
            "Поэтому p value нужно определять по месту нуля в бутстропированной выборке"
         ]
      },
      {
         "cell_type": "markdown",
         "metadata": {},
         "source": [
            "Посмотрим p value для 0 (если различий нет, то разница должна быть 0)\n",
            "Для этого посчитаем cdf для + и - среднего, чтобы получить 2 значения cdf\n",
            "а теперь возьмем минимум и умножим на 2, так как альт гипотеза у нас.что\n",
            "просто не равно 0, значит и справа и слева"
         ]
      },
      {
         "cell_type": "code",
         "execution_count": 12,
         "metadata": {},
         "outputs": [
            {
               "data": {
                  "text/html": [
                     "<div>\n",
                     "<style scoped>\n",
                     "    .dataframe tbody tr th:only-of-type {\n",
                     "        vertical-align: middle;\n",
                     "    }\n",
                     "\n",
                     "    .dataframe tbody tr th {\n",
                     "        vertical-align: top;\n",
                     "    }\n",
                     "\n",
                     "    .dataframe thead th {\n",
                     "        text-align: right;\n",
                     "    }\n",
                     "</style>\n",
                     "<table border=\"1\" class=\"dataframe\">\n",
                     "  <thead>\n",
                     "    <tr style=\"text-align: right;\">\n",
                     "      <th></th>\n",
                     "      <th>group</th>\n",
                     "      <th>outcome</th>\n",
                     "    </tr>\n",
                     "  </thead>\n",
                     "  <tbody>\n",
                     "    <tr>\n",
                     "      <th>0</th>\n",
                     "      <td>A</td>\n",
                     "      <td>1</td>\n",
                     "    </tr>\n",
                     "    <tr>\n",
                     "      <th>1</th>\n",
                     "      <td>A</td>\n",
                     "      <td>1</td>\n",
                     "    </tr>\n",
                     "    <tr>\n",
                     "      <th>2</th>\n",
                     "      <td>A</td>\n",
                     "      <td>1</td>\n",
                     "    </tr>\n",
                     "    <tr>\n",
                     "      <th>3</th>\n",
                     "      <td>A</td>\n",
                     "      <td>1</td>\n",
                     "    </tr>\n",
                     "    <tr>\n",
                     "      <th>4</th>\n",
                     "      <td>A</td>\n",
                     "      <td>1</td>\n",
                     "    </tr>\n",
                     "  </tbody>\n",
                     "</table>\n",
                     "</div>"
                  ],
                  "text/plain": [
                     "  group  outcome\n",
                     "0     A        1\n",
                     "1     A        1\n",
                     "2     A        1\n",
                     "3     A        1\n",
                     "4     A        1"
                  ]
               },
               "execution_count": 12,
               "metadata": {},
               "output_type": "execute_result"
            }
         ],
         "source": [
            "df.head()"
         ]
      },
      {
         "cell_type": "code",
         "execution_count": 15,
         "metadata": {},
         "outputs": [],
         "source": [
            "sample1 = df[df.gender=='M'].total_income.dropna()\n",
            "sample2 = df[df.gender=='F'].total_income.dropna()"
         ]
      },
      {
         "cell_type": "code",
         "execution_count": 51,
         "metadata": {},
         "outputs": [
            {
               "name": "stdout",
               "output_type": "stream",
               "text": [
                  "ConfidenceInterval(low=35705.11632121437, high=42218.55994410035)\n"
               ]
            }
         ],
         "source": [
            "def my_statistic(sample1, sample2, axis=-1):\n",
            "     return np.mean(sample1, axis=-1) - np.mean(sample2, axis=-1)\n",
            "data = (sample1.to_numpy(), sample2.to_numpy())\n",
            "res = stats.bootstrap(data, my_statistic, method='percentile', n_resamples=1000, random_state=1)\n",
            "print(res.confidence_interval)"
         ]
      },
      {
         "cell_type": "code",
         "execution_count": null,
         "metadata": {},
         "outputs": [],
         "source": [
            "bootstrap_single_sample(sample1)"
         ]
      },
      {
         "cell_type": "code",
         "execution_count": 16,
         "metadata": {},
         "outputs": [
            {
               "data": {
                  "text/plain": [
                     "0.16666666666666663"
                  ]
               },
               "execution_count": 16,
               "metadata": {},
               "output_type": "execute_result"
            }
         ],
         "source": [
            "1 - 10 / 12"
         ]
      },
      {
         "cell_type": "code",
         "execution_count": 182,
         "metadata": {},
         "outputs": [],
         "source": []
      },
      {
         "cell_type": "code",
         "execution_count": null,
         "metadata": {},
         "outputs": [],
         "source": [
            "Estimating the power of a non-parametric test using bootstrapping involves simulating the testing process multiple times to estimate the probability of rejecting the null hypothesis. Here's a general outline of the steps:\n",
            "\n",
            "**Specify the null and alternative hypotheses **: Define the null and alternative hypotheses for your test. For example, the null hypothesis might be that the two groups have the same distribution, and the alternative hypothesis might be that the two groups have different distributions.\n",
            "\n",
            "Generate simulated data: Generate simulated data that reflects the null hypothesis. For example, you could generate two groups of random data from the same distribution.\n",
            "\n",
            "Perform the Mann-Whitney U test: Perform the Mann-Whitney U test on the simulated data to obtain a p-value.\n",
            "\n",
            "Repeat steps 2-3 many times: Repeat steps 2-3 many times (e.g., 1000 times) to generate a distribution of p-values under the null hypothesis.\n",
            "\n",
            "Estimate the power: Estimate the power of the test by calculating the proportion of times the p-value is below a certain significance level (e.g., 0.05) when the alternative hypothesis is true. To do this, you'll need to generate simulated data that reflects the alternative hypothesis and repeat steps 2-4."
         ]
      },
      {
         "cell_type": "code",
         "execution_count": null,
         "metadata": {},
         "outputs": [],
         "source": []
      },
      {
         "cell_type": "code",
         "execution_count": null,
         "metadata": {},
         "outputs": [],
         "source": []
      },
      {
         "cell_type": "code",
         "execution_count": null,
         "metadata": {},
         "outputs": [],
         "source": []
      },
      {
         "cell_type": "markdown",
         "metadata": {},
         "source": [
            "### Промежуточный вывод"
         ]
      },
      {
         "cell_type": "markdown",
         "metadata": {},
         "source": [
            "### Примеры гипотез"
         ]
      },
      {
         "cell_type": "markdown",
         "metadata": {},
         "source": [
            "- Есть ли зависимость между наличием детей и возвратом кредита в срок?"
         ]
      },
      {
         "cell_type": "markdown",
         "metadata": {},
         "source": [
            "### Расчеты"
         ]
      },
      {
         "cell_type": "markdown",
         "metadata": {},
         "source": [
            "Важно следить за количеством недель в году, если мы создаем столбец месяца.  \n",
            "Проверять чтобы у нас не появлялась неделя дополнительная, из за того, что мы захватили предыдущий год"
         ]
      },
      {
         "cell_type": "markdown",
         "metadata": {},
         "source": [
            "### Промежуточный вывод"
         ]
      },
      {
         "cell_type": "markdown",
         "metadata": {},
         "source": []
      },
      {
         "cell_type": "markdown",
         "metadata": {},
         "source": [
            "- Есть ли зависимость между семейным положением и возвратом кредита в срок?"
         ]
      },
      {
         "cell_type": "code",
         "execution_count": null,
         "metadata": {},
         "outputs": [],
         "source": []
      },
      {
         "cell_type": "markdown",
         "metadata": {},
         "source": [
            "### Промежуточный вывод"
         ]
      },
      {
         "cell_type": "markdown",
         "metadata": {},
         "source": []
      },
      {
         "cell_type": "markdown",
         "metadata": {},
         "source": [
            "- Есть ли зависимость между уровнем дохода и возвратом кредита в срок?"
         ]
      },
      {
         "cell_type": "code",
         "execution_count": null,
         "metadata": {},
         "outputs": [],
         "source": []
      },
      {
         "cell_type": "markdown",
         "metadata": {},
         "source": [
            "### Промежуточный вывод"
         ]
      },
      {
         "cell_type": "markdown",
         "metadata": {},
         "source": []
      },
      {
         "cell_type": "markdown",
         "metadata": {},
         "source": [
            "- Как разные цели кредита влияют на его возврат в срок?"
         ]
      },
      {
         "cell_type": "code",
         "execution_count": null,
         "metadata": {},
         "outputs": [],
         "source": []
      },
      {
         "cell_type": "markdown",
         "metadata": {},
         "source": [
            "### Вывод"
         ]
      },
      {
         "cell_type": "markdown",
         "metadata": {},
         "source": []
      },
      {
         "cell_type": "markdown",
         "metadata": {},
         "source": [
            "### 4. Общий вывод"
         ]
      },
      {
         "cell_type": "markdown",
         "metadata": {},
         "source": [
            "Что нужно сообщить в выводе\n",
            "- информацию о том, что удалось подтвердить гипотезы (тут пишем только те, которые удалось подтвердить)\n",
            "- всю информацию о датасете, которые важны. Дубликаты, которые несут практическую пользу и рекомендации по ним, пропуски также с рекомендациями  \n",
            "и остальные моменты по данным и рекомендации. Тут важно указывать именно найденные аномалии, которые имеют практическую пользу, которые нужно исправить и прочее.  \n",
            "Пишем, что были найдены выбросы, они были связаны возможно с тем то и тем то. \n",
            "- и в конце обязательно call to action \n",
            "написать что необходимо сделать с этими результатами"
         ]
      },
      {
         "cell_type": "markdown",
         "metadata": {},
         "source": [
            "Советы по оформлению общего выывод\n",
            "- не нужно вставлять таблицы и графики в вывод. \n",
            "В выводе пишем словами самое важное и практически полезное, что мы получили, причем в порядке убывания важности.  \n",
            "И когда мы пишем, что увидели то-то, то приводим гиперссылку на график или результат ячейки, где это получено.  \n",
            "Так будет компактный вывод и при необходимости человек сможет быстро перейти и посмотреть график или таблицу  "
         ]
      },
      {
         "cell_type": "markdown",
         "metadata": {},
         "source": [
            "**Удалось подтвердить гипотезу** о влиянии различных характеристик клиента на факт погашения кредита в срок. Каждый из рассмотренных параметров оказывает влияние на надёжность заёмщика. Рассмотренные факторы по-разному влияют на надёжность заёмщиков. Например, семейное положение оказалось более значимым фактором, чем уровень дохода.\n"
         ]
      },
      {
         "cell_type": "markdown",
         "id": "ruled-penny",
         "metadata": {},
         "source": [
            "- В ходе анализа исходного набора данных было проведено (были устранены пропуски в двух колонках с числовыми значениями - 'total_income' и 'days_employed').  \n",
            "- После __устранения явных и скрытых дупликатов__ и удаления оставшихся после обогащения пропусков объем датасета сократился на 0.05%\n",
            "- Были устранены __выбросы__ в колонках 'days_employed' и 'children': в первом случае выбросы возникли в результате системной ошибки (данные были внесены в часах, а не в днях); во втором случае ошибка, вероятнее всего была допущена людьми, вносившими данные в систему\n",
            "- ..."
         ]
      },
      {
         "cell_type": "markdown",
         "id": "alleged-strand",
         "metadata": {},
         "source": [
            "**Необходимо**"
         ]
      },
      {
         "cell_type": "markdown",
         "id": "critical-worker",
         "metadata": {},
         "source": [
            "1. Запросить в отделе по работе с клиентами информацию о возможности брать кредит без подтверждения дохода. \n",
            "\n",
            "2. Сообщить коллегам, занимающимся выгрузкой о наличие дубликатов, если вопрос не разрешится, запросить индентификационный номер клиента к датасету.\n",
            "\n",
            "3. Прописать в задаче на поставку данных формат данных (пол только F и M, положительные значения). Приложить информацию о найденных аномалиях."
         ]
      },
      {
         "cell_type": "code",
         "execution_count": 76,
         "metadata": {},
         "outputs": [
            {
               "data": {
                  "text/plain": [
                     "<module 'my_module' from 'c:\\\\Git\\\\Projects\\\\Исследование надёжности заёмщиков\\\\my_module.py'>"
                  ]
               },
               "execution_count": 76,
               "metadata": {},
               "output_type": "execute_result"
            }
         ],
         "source": [
            "importlib.reload(my_module)"
         ]
      },
      {
         "cell_type": "code",
         "execution_count": null,
         "metadata": {},
         "outputs": [],
         "source": []
      },
      {
         "cell_type": "code",
         "execution_count": null,
         "metadata": {},
         "outputs": [],
         "source": []
      }
   ],
   "metadata": {
      "kernelspec": {
         "display_name": "Python 3 (ipykernel)",
         "language": "python",
         "name": "python3"
      },
      "language_info": {
         "codemirror_mode": {
            "name": "ipython",
            "version": 3
         },
         "file_extension": ".py",
         "mimetype": "text/x-python",
         "name": "python",
         "nbconvert_exporter": "python",
         "pygments_lexer": "ipython3",
         "version": "3.7.1"
      },
      "vscode": {
         "interpreter": {
            "hash": "fbe58ca63fe33f9eeae9e71d10368d2b4a57f2b1b395836210cc60d362c66949"
         }
      }
   },
   "nbformat": 4,
   "nbformat_minor": 2
}
