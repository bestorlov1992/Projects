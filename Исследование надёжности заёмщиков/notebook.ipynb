{
   "cells": [
      {
         "cell_type": "markdown",
         "metadata": {},
         "source": [
            "# Исследование надёжности заёмщиков"
         ]
      },
      {
         "cell_type": "markdown",
         "metadata": {},
         "source": [
            "\n",
            "**Автор**: Григорьев Павел   "
         ]
      },
      {
         "cell_type": "markdown",
         "metadata": {},
         "source": [
            "\n",
            "**Описание проекта**: Заказчик — кредитный отдел банка. Нужно разобраться, влияет ли семейное положение и количество детей клиента на факт погашения кредита в срок. Входные данные от банка — статистика о платёжеспособности клиентов.  \n",
            "Результаты исследования будут учтены при построении модели кредитного скоринга — специальной системы, которая оценивает способность потенциального заёмщика вернуть кредит банку.  "
         ]
      },
      {
         "cell_type": "markdown",
         "metadata": {},
         "source": [
            "\n",
            "**Цель**: Составить рекомендации для кредитного отдела банка, которые будут учтены при построении модели кредитного скоринга.  \n",
            "Определить влияет ли семейное положение и количество детей клиента на факт погашения кредита в срок.  "
         ]
      },
      {
         "cell_type": "markdown",
         "metadata": {},
         "source": [
            "**Источники данных**: Данные предоставленны кредитным отделом банка."
         ]
      },
      {
         "cell_type": "markdown",
         "metadata": {},
         "source": [
            "\n",
            "**Вывод**: тут помещаем самое главное из общего вывода, примерно до полустраницы, чтобы не было сильно много и при этом указать все главные выводы"
         ]
      },
      {
         "cell_type": "markdown",
         "metadata": {},
         "source": [
            "\n",
            "**Оглавление** \n",
            "* [1. Описание и изучение данных](#1)\n",
            "    * [1.1 Изучение данных](#1-1)\n",
            "    * [1.2 Изучение данных](#1-2)"
         ]
      },
      {
         "cell_type": "markdown",
         "metadata": {},
         "source": [
            "\n",
            "\n",
            "(опционально, зависит от того есть ли оглавление по умолчанию, но лучше сделать скрываемое, так как не везде будет автоматическое):  \n",
            "создаем оглавление с гиперссылками  \n",
            "Тут важно давать развернутые названия разделам в работе, но и не сильно большие (пиши - сокращай).  \n",
            "Все таки это название главы и оно должно быть не более 5-7 слов. Некоторые могут быть длиннее, если сильно нужно,  \n",
            "но основная часть названий разделов и глав долны быть достаточно кратикими.   \n",
            "Чтобы понять длинные ли заголовки - смотрим на оглавление и думаем не сильно ли шировкие строчки.  \n",
            "Чтобы в оглавление хорошо читалось и было понятно про что каждый раздел и глава и чтобы  \n",
            "можно было прочитать, понять и перейти к разделу. Нельзя писать сильно кратко, так как люди не знакомы с работой и им нужно более развернутые  \n",
            "названия глав, чтобы понимать о чем там будет идти речь  \n",
            "Оглавление делаем со сворачивающимися списками, то есть каждую главу можно свернуть, можно развернуть и пеерейти на уровень ниже,  \n",
            "как в сводных таблицах экселя, так удобнее, так как места занимает мало, если скрыть все подразделы, а если нужно, то раскроют  \n",
            "В каждом блоке сделать гиперссылку 'к содержанию', чтобы можно было вернуться к содержанию,  \n",
            "но тут важно, чтобы на одной странице не было больше 1 такой ссылки.   \n",
            "Заголовки разделов и глав не нужно писать в стиле 'посчитаем, выясним, исследуем и подобное', так как названия глав и разделов это более официальные  \n",
            "названия. Нужно более формально их называть.  \n",
            "Название главы или раздела должно нести в себе основной смысл этого раздела или главы, так и нужно называть.  \n",
            "1. Описание данных\n",
            "2. Предобработка данных\n",
            "3. Расчет метрик\n",
            "    3.1 Продуктовые метрики\n",
            "        3.1.1 Расчет MAU, DAU, WAU\n",
            "        3.1.2 Рачет ASL\n",
            "4. Подведение итогов и регкомендации       \n"
         ]
      },
      {
         "cell_type": "markdown",
         "metadata": {},
         "source": [
            "### Загрузка библиотек"
         ]
      },
      {
         "cell_type": "code",
         "execution_count": 30,
         "metadata": {},
         "outputs": [],
         "source": [
            "import pandas as pd\n",
            "import numpy as np\n",
            "import plotly.express as px\n",
            "import seaborn as sns\n",
            "import matplotlib.pyplot as plt\n",
            "from ipywidgets import widgets, Layout\n",
            "from IPython.display import display, display_html, display_markdown\n",
            "import my_module\n",
            "import importlib\n",
            "import re\n",
            "import itertools\n",
            "from pymystem3 import Mystem\n",
            "importlib.reload(my_module)\n",
            "import chart_studio\n",
            "import chart_studio.plotly as py\n",
            "sns.set(style=\"white\")\n",
            "from termcolor import colored\n",
            "import scipy.stats as stats\n",
            "import statsmodels.stats.api as stm\n",
            "# with httpimport.remote_repo('http://my-codes.example.com/python_packages'):\n",
            "#     import package1\n",
            "\n",
            "# chart_studio.tools.set_credentials_file(username=\"bestorlov1992\", api_key=\"TOnnvREBwfkILt9ABEr5\")\n",
            "# # from jupyter to chart studio\n",
            "# py.plot(fig, filename = \"plot name\", auto_open = True)"
         ]
      },
      {
         "cell_type": "markdown",
         "metadata": {},
         "source": [
            "### 1. Описание и изучение данных <a class=\"anchor\" id=\"1\"></a>"
         ]
      },
      {
         "cell_type": "markdown",
         "metadata": {},
         "source": [
            "#### 1.1 Описание данных <a class=\"anchor\" id=\"1-1\"></a>\n",
            "- children - количество детей в семье\n",
            "- days_employed - общий трудовой стаж в днях\n",
            "- dob_years - возраст клиента в годах\n",
            "- education - уровень образования клиента\n",
            "- education_id - идентификатор уровня образования\n",
            "- family_status - семейное положение\n",
            "- family_status_id - идентификатор семейного положения\n",
            "- gender - пол клиента\n",
            "- income_type - тип занятости\n",
            "- debt - имел ли задолженность по возврату кредитов\n",
            "- total_income - ежемесячный доход\n",
            "- purpose - цель получения кредита"
         ]
      },
      {
         "cell_type": "markdown",
         "metadata": {},
         "source": [
            "#### 1.2 Изучение данных <a class=\"anchor\" id=\"1-2\"></a>"
         ]
      },
      {
         "cell_type": "code",
         "execution_count": 2,
         "metadata": {},
         "outputs": [
            {
               "data": {
                  "text/html": [
                     "<div>\n",
                     "<style scoped>\n",
                     "    .dataframe tbody tr th:only-of-type {\n",
                     "        vertical-align: middle;\n",
                     "    }\n",
                     "\n",
                     "    .dataframe tbody tr th {\n",
                     "        vertical-align: top;\n",
                     "    }\n",
                     "\n",
                     "    .dataframe thead th {\n",
                     "        text-align: right;\n",
                     "    }\n",
                     "</style>\n",
                     "<table border=\"1\" class=\"dataframe\">\n",
                     "  <thead>\n",
                     "    <tr style=\"text-align: right;\">\n",
                     "      <th></th>\n",
                     "      <th>children</th>\n",
                     "      <th>days_employed</th>\n",
                     "      <th>dob_years</th>\n",
                     "      <th>education</th>\n",
                     "      <th>education_id</th>\n",
                     "      <th>family_status</th>\n",
                     "      <th>family_status_id</th>\n",
                     "      <th>gender</th>\n",
                     "      <th>income_type</th>\n",
                     "      <th>debt</th>\n",
                     "      <th>total_income</th>\n",
                     "      <th>purpose</th>\n",
                     "    </tr>\n",
                     "  </thead>\n",
                     "  <tbody>\n",
                     "    <tr>\n",
                     "      <th>4042</th>\n",
                     "      <td>1</td>\n",
                     "      <td>-2885.142188</td>\n",
                     "      <td>50</td>\n",
                     "      <td>среднее</td>\n",
                     "      <td>1</td>\n",
                     "      <td>женат / замужем</td>\n",
                     "      <td>0</td>\n",
                     "      <td>F</td>\n",
                     "      <td>сотрудник</td>\n",
                     "      <td>0</td>\n",
                     "      <td>80236.028323</td>\n",
                     "      <td>приобретение автомобиля</td>\n",
                     "    </tr>\n",
                     "    <tr>\n",
                     "      <th>19177</th>\n",
                     "      <td>2</td>\n",
                     "      <td>-1803.080913</td>\n",
                     "      <td>36</td>\n",
                     "      <td>Среднее</td>\n",
                     "      <td>1</td>\n",
                     "      <td>женат / замужем</td>\n",
                     "      <td>0</td>\n",
                     "      <td>F</td>\n",
                     "      <td>сотрудник</td>\n",
                     "      <td>0</td>\n",
                     "      <td>163292.220004</td>\n",
                     "      <td>строительство собственной недвижимости</td>\n",
                     "    </tr>\n",
                     "    <tr>\n",
                     "      <th>7372</th>\n",
                     "      <td>1</td>\n",
                     "      <td>-305.540665</td>\n",
                     "      <td>27</td>\n",
                     "      <td>СРЕДНЕЕ</td>\n",
                     "      <td>1</td>\n",
                     "      <td>гражданский брак</td>\n",
                     "      <td>1</td>\n",
                     "      <td>F</td>\n",
                     "      <td>сотрудник</td>\n",
                     "      <td>0</td>\n",
                     "      <td>69799.488812</td>\n",
                     "      <td>ремонт жилью</td>\n",
                     "    </tr>\n",
                     "    <tr>\n",
                     "      <th>16245</th>\n",
                     "      <td>1</td>\n",
                     "      <td>-1593.946336</td>\n",
                     "      <td>50</td>\n",
                     "      <td>среднее</td>\n",
                     "      <td>1</td>\n",
                     "      <td>женат / замужем</td>\n",
                     "      <td>0</td>\n",
                     "      <td>F</td>\n",
                     "      <td>сотрудник</td>\n",
                     "      <td>1</td>\n",
                     "      <td>107486.332934</td>\n",
                     "      <td>на покупку подержанного автомобиля</td>\n",
                     "    </tr>\n",
                     "    <tr>\n",
                     "      <th>11563</th>\n",
                     "      <td>0</td>\n",
                     "      <td>-1025.402943</td>\n",
                     "      <td>64</td>\n",
                     "      <td>высшее</td>\n",
                     "      <td>0</td>\n",
                     "      <td>женат / замужем</td>\n",
                     "      <td>0</td>\n",
                     "      <td>M</td>\n",
                     "      <td>госслужащий</td>\n",
                     "      <td>0</td>\n",
                     "      <td>706401.475790</td>\n",
                     "      <td>профильное образование</td>\n",
                     "    </tr>\n",
                     "  </tbody>\n",
                     "</table>\n",
                     "</div>"
                  ],
                  "text/plain": [
                     "       children  days_employed  dob_years education education_id  \\\n",
                     "4042          1   -2885.142188         50   среднее            1   \n",
                     "19177         2   -1803.080913         36   Среднее            1   \n",
                     "7372          1    -305.540665         27   СРЕДНЕЕ            1   \n",
                     "16245         1   -1593.946336         50   среднее            1   \n",
                     "11563         0   -1025.402943         64    высшее            0   \n",
                     "\n",
                     "          family_status family_status_id gender  income_type debt  \\\n",
                     "4042    женат / замужем                0      F    сотрудник    0   \n",
                     "19177   женат / замужем                0      F    сотрудник    0   \n",
                     "7372   гражданский брак                1      F    сотрудник    0   \n",
                     "16245   женат / замужем                0      F    сотрудник    1   \n",
                     "11563   женат / замужем                0      M  госслужащий    0   \n",
                     "\n",
                     "        total_income                                 purpose  \n",
                     "4042    80236.028323                 приобретение автомобиля  \n",
                     "19177  163292.220004  строительство собственной недвижимости  \n",
                     "7372    69799.488812                            ремонт жилью  \n",
                     "16245  107486.332934      на покупку подержанного автомобиля  \n",
                     "11563  706401.475790                  профильное образование  "
                  ]
               },
               "execution_count": 2,
               "metadata": {},
               "output_type": "execute_result"
            }
         ],
         "source": [
            "dtype = {'education': 'category', 'education_id': 'category', 'family_status': 'category', 'family_status_id': 'category', 'gender': 'category', 'income_type': 'category', 'debt': 'category'}\n",
            "df = pd.read_csv('https://code.s3.yandex.net/datasets/data.csv', dtype=dtype)\n",
            "df.sample(5, random_state=7)"
         ]
      },
      {
         "cell_type": "code",
         "execution_count": 28,
         "metadata": {},
         "outputs": [],
         "source": [
            "gen = my_module.my_info_gen(df)"
         ]
      },
      {
         "cell_type": "code",
         "execution_count": 10,
         "metadata": {},
         "outputs": [
            {
               "data": {
                  "application/vnd.jupyter.widget-view+json": {
                     "model_id": "2bddd9813793417a9e2d177748edff57",
                     "version_major": 2,
                     "version_minor": 0
                  },
                  "text/plain": [
                     "Output()"
                  ]
               },
               "metadata": {},
               "output_type": "display_data"
            }
         ],
         "source": [
            "next(gen)"
         ]
      },
      {
         "cell_type": "markdown",
         "metadata": {},
         "source": [
            "**Наблюдения:**  \n",
            "В датафрейме есть строки дубликаты. 54 строки. Меньше 1 % от всего датафрейма.  \n",
            "Если заменить все пробелы на 1, привести к нижнему регистру, то дополнительно появляется 31 дубликат.  \n",
            "Нужно детаельнее изучить дубликаты.  "
         ]
      },
      {
         "cell_type": "code",
         "execution_count": 11,
         "metadata": {},
         "outputs": [
            {
               "data": {
                  "application/vnd.jupyter.widget-view+json": {
                     "model_id": "099f0842d6e044ae915d877b7270b45a",
                     "version_major": 2,
                     "version_minor": 0
                  },
                  "text/plain": [
                     "0it [00:00, ?it/s]"
                  ]
               },
               "metadata": {},
               "output_type": "display_data"
            },
            {
               "data": {
                  "application/vnd.jupyter.widget-view+json": {
                     "model_id": "4ba3d6d19ea5484bb54221b7cbf8536c",
                     "version_major": 2,
                     "version_minor": 0
                  },
                  "text/plain": [
                     "0it [00:00, ?it/s]"
                  ]
               },
               "metadata": {},
               "output_type": "display_data"
            },
            {
               "data": {
                  "application/vnd.jupyter.widget-view+json": {
                     "model_id": "0eb520e1a4144ba5ba25e257592e5a93",
                     "version_major": 2,
                     "version_minor": 0
                  },
                  "text/plain": [
                     "GridBox(children=(Output(), Output(), Output(), Output(), Output(), Output()), layout=Layout(grid_template_col…"
                  ]
               },
               "metadata": {},
               "output_type": "display_data"
            }
         ],
         "source": [
            "next(gen)"
         ]
      },
      {
         "cell_type": "markdown",
         "metadata": {},
         "source": [
            "**Наблюдения:**  \n",
            "- В столбце с количеством детей нет пропущенных значений.  \n",
            "- Уникальных всего 8 значений. Это нормально. Количество детей не может сильно варьироваться. \n",
            "- Наличие нулей нормально, это люди без детей, таких 66 %.  \n",
            "- Есть отрицательные значения.  47 штук. Меньше 1 процента. Это явно ошибка. В реальных данных таких не должно быть.   \n",
            "Нужно выяснить почему появились отрицательное количество детей.  \n",
            "- Максимальное количество детей 20. В принципе это может быть правдой.  \n",
            "- 66 прцоентов имеют 0 детей, 22 прцоента имеют 1 ребенка, 10 % имеют 2 детей и меньше 5 % имеют более 2 детей.  \n",
            "- Распределение детей соответсвует реальности, больше всего людей без детей.\n"
         ]
      },
      {
         "cell_type": "code",
         "execution_count": 25,
         "metadata": {},
         "outputs": [
            {
               "data": {
                  "application/vnd.jupyter.widget-view+json": {
                     "model_id": "b15f033d442d4eafa94469347766edb3",
                     "version_major": 2,
                     "version_minor": 0
                  },
                  "text/plain": [
                     "GridBox(children=(Output(), Output(), Output(), Output(), Output(), Output()), layout=Layout(grid_template_col…"
                  ]
               },
               "metadata": {},
               "output_type": "display_data"
            }
         ],
         "source": [
            "next(gen)"
         ]
      },
      {
         "cell_type": "markdown",
         "metadata": {},
         "source": [
            "**Наблюдения:**  \n",
            "- В колонке общий трудовой стаж есть 10 % пропущенных значений.  \n",
            "- 90 % уникальных значений, это нормально, так как стаж в днях.  \n",
            "- 74 % отрицаетльных значений. Так быть не должно.   \n",
            "Нужно выяснить как считаются дни стажа и разобраться откуда появляются отрицательные значения.  \n",
            "- Максимальное количество дней стажа больше 400 тысяч дней, это больше 1000 лет. Явно это выброс.  \n",
            "- Данные совершенно некоректные, нужно разбираться что является причиной.  "
         ]
      },
      {
         "cell_type": "code",
         "execution_count": 32,
         "metadata": {},
         "outputs": [
            {
               "data": {
                  "application/vnd.jupyter.widget-view+json": {
                     "model_id": "d2d753121b9a4abaaa7a371d1619a995",
                     "version_major": 2,
                     "version_minor": 0
                  },
                  "text/plain": [
                     "GridBox(children=(Output(), Output(), Output(), Output(), Output(), Output()), layout=Layout(grid_template_col…"
                  ]
               },
               "metadata": {},
               "output_type": "display_data"
            }
         ],
         "source": [
            "next(gen)"
         ]
      },
      {
         "cell_type": "markdown",
         "metadata": {},
         "source": [
            "**Наблюдения:**  \n",
            "- В колонке возраста нет пропущенных значений.  \n",
            "- 58 уникаьных значений (<1%), похоже на правду.  \n",
            "- 101 нулевое значени. Это явно ошибки.  \n",
            "- Максимальный возраст 75 лет. Впролне реально.  \n",
            "- Медиана 42 года, первый квартиль 33 года, можно сделать вывод, что у нас восновном люди старше 30 лет.  \n",
            "- Больше всего людей около 40 лет.  \n",
            "- Только 5 процентов людей моложе 25 лет.  \n",
            "- Распределение похоже на нормальное. Так и должно быть.  "
         ]
      },
      {
         "cell_type": "code",
         "execution_count": 33,
         "metadata": {},
         "outputs": [
            {
               "data": {
                  "application/vnd.jupyter.widget-view+json": {
                     "model_id": "06b669c2d5ea45dc9db48bf97a81fd80",
                     "version_major": 2,
                     "version_minor": 0
                  },
                  "text/plain": [
                     "GridBox(children=(Output(), Output(), Output(), Output(), Output(), Output()), layout=Layout(grid_template_col…"
                  ]
               },
               "metadata": {},
               "output_type": "display_data"
            }
         ],
         "source": [
            "next(gen)"
         ]
      },
      {
         "cell_type": "markdown",
         "metadata": {},
         "source": [
            "**Наблюдения:**  \n",
            "- В столбце дохода 10 процентов пропущенных значений.  \n",
            "- Есть дубликаты, но это нормально.  \n",
            "- максимальный доход больше 2 млн, нужно проверить это, кажется что это нереально.  \n",
            "- Минимальная зарплата 20 тысяч, это похоже на истину.  \n",
            "- Распределение зарплат соответствует реальности.  \n",
            "- Меньше 5 % людей имеют зарплату меньша 63 тысяч.  \n",
            "Можно сделать вывод, что большинство имеет высокий доход.  \n",
            "При этом 25 % имеют доход больше 200 тысяч.  "
         ]
      },
      {
         "cell_type": "code",
         "execution_count": 34,
         "metadata": {},
         "outputs": [
            {
               "data": {
                  "application/vnd.jupyter.widget-view+json": {
                     "model_id": "d39d6e2a6d9f48a4beb6129a9c02aba7",
                     "version_major": 2,
                     "version_minor": 0
                  },
                  "text/plain": [
                     "0it [00:00, ?it/s]"
                  ]
               },
               "metadata": {},
               "output_type": "display_data"
            },
            {
               "data": {
                  "application/vnd.jupyter.widget-view+json": {
                     "model_id": "b1b4e72c35274a8e83992bff1ce0824f",
                     "version_major": 2,
                     "version_minor": 0
                  },
                  "text/plain": [
                     "GridBox(children=(Output(), Output(), Output()), layout=Layout(grid_template_columns='auto auto auto'))"
                  ]
               },
               "metadata": {},
               "output_type": "display_data"
            }
         ],
         "source": [
            "next(gen)"
         ]
      },
      {
         "cell_type": "markdown",
         "metadata": {},
         "source": [
            "**Наблюдения:**\n",
            "- В колонке образование пропусков нет.  \n",
            "- Уникальных значений 15\n",
            "- Присутствуют явные дубли из за разных регистров слов.  \n",
            "- Болше всего людей со средним образованием 71 %\n",
            "- Высшее образование у 24 % "
         ]
      },
      {
         "cell_type": "code",
         "execution_count": 35,
         "metadata": {},
         "outputs": [
            {
               "data": {
                  "application/vnd.jupyter.widget-view+json": {
                     "model_id": "02e92efc53dd4efcb56fc5887a711cf0",
                     "version_major": 2,
                     "version_minor": 0
                  },
                  "text/plain": [
                     "GridBox(children=(Output(), Output(), Output()), layout=Layout(grid_template_columns='auto auto auto'))"
                  ]
               },
               "metadata": {},
               "output_type": "display_data"
            }
         ],
         "source": [
            "next(gen)"
         ]
      },
      {
         "cell_type": "markdown",
         "metadata": {},
         "source": [
            "**Наблюдения:**  \n",
            "- В колонке с id образонвания 5 униклаьных значений, хотя в колонке образования, если не учитывать регистр, 4 значения.  \n",
            "Нужно разбираться.  "
         ]
      },
      {
         "cell_type": "code",
         "execution_count": 36,
         "metadata": {},
         "outputs": [
            {
               "data": {
                  "application/vnd.jupyter.widget-view+json": {
                     "model_id": "05000e9f8eee40e0ba37b6c3dfa5157c",
                     "version_major": 2,
                     "version_minor": 0
                  },
                  "text/plain": [
                     "GridBox(children=(Output(), Output(), Output()), layout=Layout(grid_template_columns='auto auto auto'))"
                  ]
               },
               "metadata": {},
               "output_type": "display_data"
            }
         ],
         "source": [
            "next(gen)"
         ]
      },
      {
         "cell_type": "markdown",
         "metadata": {},
         "source": [
            "**Наблюдения:**  \n",
            "- В колонке семейного статуса пропусков нет\n",
            "- Проблем не обнаружено\n",
            "- 58 % женаты либо замужем\n",
            "- 19 % в гражданском браке\n",
            "- Можно сделать вывод что большинство в браке.  "
         ]
      },
      {
         "cell_type": "code",
         "execution_count": 37,
         "metadata": {},
         "outputs": [
            {
               "data": {
                  "application/vnd.jupyter.widget-view+json": {
                     "model_id": "0eb93d1c2ac84da48f3d91c6a820db8f",
                     "version_major": 2,
                     "version_minor": 0
                  },
                  "text/plain": [
                     "GridBox(children=(Output(), Output(), Output()), layout=Layout(grid_template_columns='auto auto auto'))"
                  ]
               },
               "metadata": {},
               "output_type": "display_data"
            }
         ],
         "source": [
            "next(gen)"
         ]
      },
      {
         "cell_type": "markdown",
         "metadata": {},
         "source": [
            "**Наблюдения:**\n",
            "- Колонке семейный статус id проблем не обнаружено, значения совпадают со столбцом семейный статус"
         ]
      },
      {
         "cell_type": "code",
         "execution_count": 38,
         "metadata": {},
         "outputs": [
            {
               "data": {
                  "application/vnd.jupyter.widget-view+json": {
                     "model_id": "a6247b0a5fb740d78222216ea6e6cded",
                     "version_major": 2,
                     "version_minor": 0
                  },
                  "text/plain": [
                     "GridBox(children=(Output(), Output(), Output()), layout=Layout(grid_template_columns='auto auto auto'))"
                  ]
               },
               "metadata": {},
               "output_type": "display_data"
            }
         ],
         "source": [
            "next(gen)"
         ]
      },
      {
         "cell_type": "markdown",
         "metadata": {},
         "source": [
            "**Наблюдения:**\n",
            "- В возрасте пропусков нет\n",
            "- 3 уникальных значения \n",
            "- Значение XNA меньше чем у 1 %, возможно не указали пол\n",
            "- 66 % женщины, можно сделать вывод, что большинство женщины"
         ]
      },
      {
         "cell_type": "code",
         "execution_count": 39,
         "metadata": {},
         "outputs": [
            {
               "data": {
                  "application/vnd.jupyter.widget-view+json": {
                     "model_id": "1e8c789c38194720b061aee6daeba025",
                     "version_major": 2,
                     "version_minor": 0
                  },
                  "text/plain": [
                     "GridBox(children=(Output(), Output(), Output()), layout=Layout(grid_template_columns='auto auto auto'))"
                  ]
               },
               "metadata": {},
               "output_type": "display_data"
            }
         ],
         "source": [
            "next(gen)"
         ]
      },
      {
         "cell_type": "markdown",
         "metadata": {},
         "source": [
            "**Наблюдения:**\n",
            "- В столбце тип занятости 8 уникальных значений.  \n",
            "- Больше всего сотрудников (52 %)\n",
            "- 24 % компаньены\n",
            "- 18 % пенсионеры\n",
            "- Меньше 1 % безработных. \n",
            "- Можно сделать вывод, что большинство либо пенсионеры, либо имеют занятость\n",
            "- Также меньше 1 % предприниматели."
         ]
      },
      {
         "cell_type": "code",
         "execution_count": 42,
         "metadata": {},
         "outputs": [
            {
               "data": {
                  "application/vnd.jupyter.widget-view+json": {
                     "model_id": "164127c0c43b46e59caa1c28cb38dcf2",
                     "version_major": 2,
                     "version_minor": 0
                  },
                  "text/plain": [
                     "GridBox(children=(Output(), Output(), Output()), layout=Layout(grid_template_columns='auto auto auto'))"
                  ]
               },
               "metadata": {},
               "output_type": "display_data"
            }
         ],
         "source": [
            "next(gen)"
         ]
      },
      {
         "cell_type": "markdown",
         "metadata": {},
         "source": [
            "**Наблюдения:**  \n",
            "- В колонке наличия долга 2 значения.  \n",
            "- Пропусков нет\n",
            "- 92 % не имеют долга"
         ]
      },
      {
         "cell_type": "code",
         "execution_count": 43,
         "metadata": {},
         "outputs": [
            {
               "data": {
                  "application/vnd.jupyter.widget-view+json": {
                     "model_id": "d9848328a96b41ea901e42aa2f30308c",
                     "version_major": 2,
                     "version_minor": 0
                  },
                  "text/plain": [
                     "GridBox(children=(Output(), Output(), Output()), layout=Layout(grid_template_columns='auto auto auto'))"
                  ]
               },
               "metadata": {},
               "output_type": "display_data"
            }
         ],
         "source": [
            "next(gen)"
         ]
      },
      {
         "cell_type": "markdown",
         "metadata": {},
         "source": [
            "**Наблюдения:**\n",
            "- В колонке цель кредита пропуско нет  \n",
            "- 38 униклаьных значений, немного, но все таки есть похожие цели, нужно будет объеденить в одно значение\n",
            "- Ярко выраженной цели кредита нет, но сложно точно определить, нужно объеденить сначала похожие цели.  "
         ]
      },
      {
         "cell_type": "markdown",
         "metadata": {},
         "source": [
            "Проверка на ошибки целостности  \n",
            "Если у нас есть столбцы, в которых значения должны совпдаать попарно, то проверяем на это."
         ]
      },
      {
         "cell_type": "code",
         "execution_count": 47,
         "metadata": {},
         "outputs": [
            {
               "name": "stdout",
               "output_type": "stream",
               "text": [
                  "Нет строк для которых значения в col1 имеют разные значения в col2\n"
               ]
            }
         ],
         "source": [
            "my_module.get_non_matching_rows(df, 'education', 'education_id')"
         ]
      },
      {
         "cell_type": "markdown",
         "metadata": {},
         "source": [
            "Нет проблем с целостностью в образонвании, несмотря на дубли в образовании. "
         ]
      },
      {
         "cell_type": "code",
         "execution_count": 48,
         "metadata": {},
         "outputs": [
            {
               "name": "stdout",
               "output_type": "stream",
               "text": [
                  "Нет строк для которых значения в col1 имеют разные значения в col2\n"
               ]
            }
         ],
         "source": [
            "my_module.get_non_matching_rows(df, 'family_status', 'family_status_id')"
         ]
      },
      {
         "cell_type": "markdown",
         "metadata": {},
         "source": [
            "В семейном статусе также нет проблем с целостностью.  "
         ]
      },
      {
         "cell_type": "markdown",
         "metadata": {},
         "source": [
            "Проверим на дубли"
         ]
      },
      {
         "cell_type": "markdown",
         "metadata": {},
         "source": [
            "Плсмльоим на дубли во всем датафрейме"
         ]
      },
      {
         "cell_type": "code",
         "execution_count": 56,
         "metadata": {},
         "outputs": [
            {
               "name": "stdout",
               "output_type": "stream",
               "text": [
                  "Duplicated is 54 rows\n"
               ]
            }
         ],
         "source": [
            "dupl_df = my_module.check_duplicated(df)"
         ]
      },
      {
         "cell_type": "markdown",
         "metadata": {},
         "source": [
            "У нас 54 полных дубля в таблице. Посмотрим на них. "
         ]
      },
      {
         "cell_type": "code",
         "execution_count": 58,
         "metadata": {},
         "outputs": [
            {
               "data": {
                  "text/html": [
                     "<div>\n",
                     "<style scoped>\n",
                     "    .dataframe tbody tr th:only-of-type {\n",
                     "        vertical-align: middle;\n",
                     "    }\n",
                     "\n",
                     "    .dataframe tbody tr th {\n",
                     "        vertical-align: top;\n",
                     "    }\n",
                     "\n",
                     "    .dataframe thead th {\n",
                     "        text-align: right;\n",
                     "    }\n",
                     "</style>\n",
                     "<table border=\"1\" class=\"dataframe\">\n",
                     "  <thead>\n",
                     "    <tr style=\"text-align: right;\">\n",
                     "      <th></th>\n",
                     "      <th></th>\n",
                     "      <th></th>\n",
                     "      <th></th>\n",
                     "      <th></th>\n",
                     "      <th></th>\n",
                     "      <th></th>\n",
                     "      <th></th>\n",
                     "      <th></th>\n",
                     "      <th></th>\n",
                     "      <th></th>\n",
                     "      <th></th>\n",
                     "      <th>Count</th>\n",
                     "    </tr>\n",
                     "    <tr>\n",
                     "      <th>children</th>\n",
                     "      <th>days_employed</th>\n",
                     "      <th>dob_years</th>\n",
                     "      <th>education</th>\n",
                     "      <th>education_id</th>\n",
                     "      <th>family_status</th>\n",
                     "      <th>family_status_id</th>\n",
                     "      <th>gender</th>\n",
                     "      <th>income_type</th>\n",
                     "      <th>debt</th>\n",
                     "      <th>total_income</th>\n",
                     "      <th>purpose</th>\n",
                     "      <th></th>\n",
                     "    </tr>\n",
                     "  </thead>\n",
                     "  <tbody>\n",
                     "    <tr>\n",
                     "      <th rowspan=\"7\" valign=\"top\">0</th>\n",
                     "      <th rowspan=\"7\" valign=\"top\">NaN</th>\n",
                     "      <th>58</th>\n",
                     "      <th>среднее</th>\n",
                     "      <th>1</th>\n",
                     "      <th>гражданский брак</th>\n",
                     "      <th>1</th>\n",
                     "      <th>f</th>\n",
                     "      <th>пенсионер</th>\n",
                     "      <th>0</th>\n",
                     "      <th>NaN</th>\n",
                     "      <th>сыграть свадьбу</th>\n",
                     "      <td>3</td>\n",
                     "    </tr>\n",
                     "    <tr>\n",
                     "      <th>62</th>\n",
                     "      <th>среднее</th>\n",
                     "      <th>1</th>\n",
                     "      <th>женат / замужем</th>\n",
                     "      <th>0</th>\n",
                     "      <th>f</th>\n",
                     "      <th>пенсионер</th>\n",
                     "      <th>0</th>\n",
                     "      <th>NaN</th>\n",
                     "      <th>ремонт жилью</th>\n",
                     "      <td>3</td>\n",
                     "    </tr>\n",
                     "    <tr>\n",
                     "      <th>47</th>\n",
                     "      <th>среднее</th>\n",
                     "      <th>1</th>\n",
                     "      <th>женат / замужем</th>\n",
                     "      <th>0</th>\n",
                     "      <th>f</th>\n",
                     "      <th>сотрудник</th>\n",
                     "      <th>0</th>\n",
                     "      <th>NaN</th>\n",
                     "      <th>ремонт жилью</th>\n",
                     "      <td>3</td>\n",
                     "    </tr>\n",
                     "    <tr>\n",
                     "      <th>71</th>\n",
                     "      <th>среднее</th>\n",
                     "      <th>1</th>\n",
                     "      <th>гражданский брак</th>\n",
                     "      <th>1</th>\n",
                     "      <th>f</th>\n",
                     "      <th>пенсионер</th>\n",
                     "      <th>0</th>\n",
                     "      <th>NaN</th>\n",
                     "      <th>на проведение свадьбы</th>\n",
                     "      <td>3</td>\n",
                     "    </tr>\n",
                     "    <tr>\n",
                     "      <th>58</th>\n",
                     "      <th>среднее</th>\n",
                     "      <th>1</th>\n",
                     "      <th>гражданский брак</th>\n",
                     "      <th>1</th>\n",
                     "      <th>m</th>\n",
                     "      <th>сотрудник</th>\n",
                     "      <th>0</th>\n",
                     "      <th>NaN</th>\n",
                     "      <th>на проведение свадьбы</th>\n",
                     "      <td>3</td>\n",
                     "    </tr>\n",
                     "    <tr>\n",
                     "      <th>54</th>\n",
                     "      <th>высшее</th>\n",
                     "      <th>0</th>\n",
                     "      <th>женат / замужем</th>\n",
                     "      <th>0</th>\n",
                     "      <th>m</th>\n",
                     "      <th>компаньон</th>\n",
                     "      <th>0</th>\n",
                     "      <th>NaN</th>\n",
                     "      <th>операции с коммерческой недвижимостью</th>\n",
                     "      <td>2</td>\n",
                     "    </tr>\n",
                     "    <tr>\n",
                     "      <th>41</th>\n",
                     "      <th>среднее</th>\n",
                     "      <th>1</th>\n",
                     "      <th>женат / замужем</th>\n",
                     "      <th>0</th>\n",
                     "      <th>f</th>\n",
                     "      <th>сотрудник</th>\n",
                     "      <th>0</th>\n",
                     "      <th>NaN</th>\n",
                     "      <th>свой автомобиль</th>\n",
                     "      <td>2</td>\n",
                     "    </tr>\n",
                     "    <tr>\n",
                     "      <th>2</th>\n",
                     "      <th>NaN</th>\n",
                     "      <th>39</th>\n",
                     "      <th>среднее</th>\n",
                     "      <th>1</th>\n",
                     "      <th>гражданский брак</th>\n",
                     "      <th>1</th>\n",
                     "      <th>f</th>\n",
                     "      <th>сотрудник</th>\n",
                     "      <th>0</th>\n",
                     "      <th>NaN</th>\n",
                     "      <th>сыграть свадьбу</th>\n",
                     "      <td>2</td>\n",
                     "    </tr>\n",
                     "    <tr>\n",
                     "      <th>0</th>\n",
                     "      <th>NaN</th>\n",
                     "      <th>56</th>\n",
                     "      <th>среднее</th>\n",
                     "      <th>1</th>\n",
                     "      <th>гражданский брак</th>\n",
                     "      <th>1</th>\n",
                     "      <th>f</th>\n",
                     "      <th>сотрудник</th>\n",
                     "      <th>0</th>\n",
                     "      <th>NaN</th>\n",
                     "      <th>сыграть свадьбу</th>\n",
                     "      <td>2</td>\n",
                     "    </tr>\n",
                     "    <tr>\n",
                     "      <th>1</th>\n",
                     "      <th>NaN</th>\n",
                     "      <th>37</th>\n",
                     "      <th>среднее</th>\n",
                     "      <th>1</th>\n",
                     "      <th>женат / замужем</th>\n",
                     "      <th>0</th>\n",
                     "      <th>f</th>\n",
                     "      <th>сотрудник</th>\n",
                     "      <th>0</th>\n",
                     "      <th>NaN</th>\n",
                     "      <th>покупка недвижимости</th>\n",
                     "      <td>2</td>\n",
                     "    </tr>\n",
                     "  </tbody>\n",
                     "</table>\n",
                     "</div>"
                  ],
                  "text/plain": [
                     "                                                                                                                                                                      Count\n",
                     "children days_employed dob_years education education_id family_status    family_status_id gender income_type debt total_income purpose                                     \n",
                     "0        NaN           58        среднее   1            гражданский брак 1                f      пенсионер   0    NaN          сыграть свадьбу                            3\n",
                     "                       62        среднее   1            женат / замужем  0                f      пенсионер   0    NaN          ремонт жилью                               3\n",
                     "                       47        среднее   1            женат / замужем  0                f      сотрудник   0    NaN          ремонт жилью                               3\n",
                     "                       71        среднее   1            гражданский брак 1                f      пенсионер   0    NaN          на проведение свадьбы                      3\n",
                     "                       58        среднее   1            гражданский брак 1                m      сотрудник   0    NaN          на проведение свадьбы                      3\n",
                     "                       54        высшее    0            женат / замужем  0                m      компаньон   0    NaN          операции с коммерческой недвижимостью      2\n",
                     "                       41        среднее   1            женат / замужем  0                f      сотрудник   0    NaN          свой автомобиль                            2\n",
                     "2        NaN           39        среднее   1            гражданский брак 1                f      сотрудник   0    NaN          сыграть свадьбу                            2\n",
                     "0        NaN           56        среднее   1            гражданский брак 1                f      сотрудник   0    NaN          сыграть свадьбу                            2\n",
                     "1        NaN           37        среднее   1            женат / замужем  0                f      сотрудник   0    NaN          покупка недвижимости                       2"
                  ]
               },
               "execution_count": 58,
               "metadata": {},
               "output_type": "execute_result"
            }
         ],
         "source": [
            "dupl_df.head(10)"
         ]
      },
      {
         "cell_type": "markdown",
         "metadata": {},
         "source": [
            "**Наблюдения:**\n",
            "- Так как у нас нет уникального идентификатора клиентов, то дубли это нормально\n",
            "- Также у нас в строках с дублями есть пропуски в некоторых столбцах, если бы не было пропусков,  \n",
            "то возможно дублей было бы меньше, так как было бы больше детализации"
         ]
      },
      {
         "cell_type": "markdown",
         "metadata": {},
         "source": [
            "Посмотрим сколько у нас дублей в каждой колонке"
         ]
      },
      {
         "cell_type": "code",
         "execution_count": 67,
         "metadata": {},
         "outputs": [
            {
               "data": {
                  "text/html": [
                     "<div>\n",
                     "<style scoped>\n",
                     "    .dataframe tbody tr th:only-of-type {\n",
                     "        vertical-align: middle;\n",
                     "    }\n",
                     "\n",
                     "    .dataframe tbody tr th {\n",
                     "        vertical-align: top;\n",
                     "    }\n",
                     "\n",
                     "    .dataframe thead th {\n",
                     "        text-align: right;\n",
                     "    }\n",
                     "</style>\n",
                     "<table border=\"1\" class=\"dataframe\">\n",
                     "  <thead>\n",
                     "    <tr style=\"text-align: right;\">\n",
                     "      <th></th>\n",
                     "      <th>duplicated</th>\n",
                     "    </tr>\n",
                     "  </thead>\n",
                     "  <tbody>\n",
                     "    <tr>\n",
                     "      <th>children</th>\n",
                     "      <td>21517</td>\n",
                     "    </tr>\n",
                     "    <tr>\n",
                     "      <th>days_employed</th>\n",
                     "      <td>2173</td>\n",
                     "    </tr>\n",
                     "    <tr>\n",
                     "      <th>dob_years</th>\n",
                     "      <td>21467</td>\n",
                     "    </tr>\n",
                     "    <tr>\n",
                     "      <th>education</th>\n",
                     "      <td>21510</td>\n",
                     "    </tr>\n",
                     "    <tr>\n",
                     "      <th>education_id</th>\n",
                     "      <td>21520</td>\n",
                     "    </tr>\n",
                     "    <tr>\n",
                     "      <th>family_status</th>\n",
                     "      <td>21520</td>\n",
                     "    </tr>\n",
                     "    <tr>\n",
                     "      <th>family_status_id</th>\n",
                     "      <td>21520</td>\n",
                     "    </tr>\n",
                     "    <tr>\n",
                     "      <th>gender</th>\n",
                     "      <td>21522</td>\n",
                     "    </tr>\n",
                     "    <tr>\n",
                     "      <th>income_type</th>\n",
                     "      <td>21517</td>\n",
                     "    </tr>\n",
                     "    <tr>\n",
                     "      <th>debt</th>\n",
                     "      <td>21523</td>\n",
                     "    </tr>\n",
                     "    <tr>\n",
                     "      <th>total_income</th>\n",
                     "      <td>2173</td>\n",
                     "    </tr>\n",
                     "    <tr>\n",
                     "      <th>purpose</th>\n",
                     "      <td>21487</td>\n",
                     "    </tr>\n",
                     "  </tbody>\n",
                     "</table>\n",
                     "</div>"
                  ],
                  "text/plain": [
                     "                  duplicated\n",
                     "children               21517\n",
                     "days_employed           2173\n",
                     "dob_years              21467\n",
                     "education              21510\n",
                     "education_id           21520\n",
                     "family_status          21520\n",
                     "family_status_id       21520\n",
                     "gender                 21522\n",
                     "income_type            21517\n",
                     "debt                   21523\n",
                     "total_income            2173\n",
                     "purpose                21487"
                  ]
               },
               "execution_count": 67,
               "metadata": {},
               "output_type": "execute_result"
            }
         ],
         "source": [
            "series_duplicated = my_module.find_columns_with_duplicates(df)\n",
            "series_duplicated.apply(lambda x: x.shape[0]).to_frame(name='duplicated')"
         ]
      },
      {
         "cell_type": "markdown",
         "metadata": {},
         "source": [
            "Посмотрим на дубликаты между парами колонок"
         ]
      },
      {
         "cell_type": "code",
         "execution_count": 3,
         "metadata": {},
         "outputs": [],
         "source": [
            "gen = my_module.check_duplicated_combinations_gen(df)"
         ]
      },
      {
         "cell_type": "code",
         "execution_count": 5,
         "metadata": {},
         "outputs": [
            {
               "name": "stdout",
               "output_type": "stream",
               "text": [
                  "Group by 2 columns\n"
               ]
            },
            {
               "data": {
                  "text/html": [
                     "<style type=\"text/css\">\n",
                     "#T_6e8dc_ caption {\n",
                     "  font-size: 18px;\n",
                     "  text-align: left;\n",
                     "  font-weight: bold;\n",
                     "}\n",
                     "</style>\n",
                     "<table id=\"T_6e8dc_\">\n",
                     "  <caption>Duplicates</caption>\n",
                     "  <thead>\n",
                     "    <tr>\n",
                     "      <th class=\"blank level0\" >&nbsp;</th>\n",
                     "      <th class=\"col_heading level0 col0\" >children</th>\n",
                     "      <th class=\"col_heading level0 col1\" >days_employed</th>\n",
                     "      <th class=\"col_heading level0 col2\" >dob_years</th>\n",
                     "      <th class=\"col_heading level0 col3\" >education</th>\n",
                     "      <th class=\"col_heading level0 col4\" >education_id</th>\n",
                     "      <th class=\"col_heading level0 col5\" >family_status</th>\n",
                     "      <th class=\"col_heading level0 col6\" >family_status_id</th>\n",
                     "      <th class=\"col_heading level0 col7\" >gender</th>\n",
                     "      <th class=\"col_heading level0 col8\" >income_type</th>\n",
                     "      <th class=\"col_heading level0 col9\" >debt</th>\n",
                     "      <th class=\"col_heading level0 col10\" >total_income</th>\n",
                     "      <th class=\"col_heading level0 col11\" >purpose</th>\n",
                     "    </tr>\n",
                     "  </thead>\n",
                     "  <tbody>\n",
                     "    <tr>\n",
                     "      <th id=\"T_6e8dc_level0_row0\" class=\"row_heading level0 row0\" >children</th>\n",
                     "      <td id=\"T_6e8dc_row0_col0\" class=\"data row0 col0\" ></td>\n",
                     "      <td id=\"T_6e8dc_row0_col1\" class=\"data row0 col1\" ></td>\n",
                     "      <td id=\"T_6e8dc_row0_col2\" class=\"data row0 col2\" ></td>\n",
                     "      <td id=\"T_6e8dc_row0_col3\" class=\"data row0 col3\" ></td>\n",
                     "      <td id=\"T_6e8dc_row0_col4\" class=\"data row0 col4\" ></td>\n",
                     "      <td id=\"T_6e8dc_row0_col5\" class=\"data row0 col5\" ></td>\n",
                     "      <td id=\"T_6e8dc_row0_col6\" class=\"data row0 col6\" ></td>\n",
                     "      <td id=\"T_6e8dc_row0_col7\" class=\"data row0 col7\" ></td>\n",
                     "      <td id=\"T_6e8dc_row0_col8\" class=\"data row0 col8\" ></td>\n",
                     "      <td id=\"T_6e8dc_row0_col9\" class=\"data row0 col9\" ></td>\n",
                     "      <td id=\"T_6e8dc_row0_col10\" class=\"data row0 col10\" ></td>\n",
                     "      <td id=\"T_6e8dc_row0_col11\" class=\"data row0 col11\" ></td>\n",
                     "    </tr>\n",
                     "    <tr>\n",
                     "      <th id=\"T_6e8dc_level0_row1\" class=\"row_heading level0 row1\" >days_employed</th>\n",
                     "      <td id=\"T_6e8dc_row1_col0\" class=\"data row1 col0\" >2166</td>\n",
                     "      <td id=\"T_6e8dc_row1_col1\" class=\"data row1 col1\" ></td>\n",
                     "      <td id=\"T_6e8dc_row1_col2\" class=\"data row1 col2\" ></td>\n",
                     "      <td id=\"T_6e8dc_row1_col3\" class=\"data row1 col3\" ></td>\n",
                     "      <td id=\"T_6e8dc_row1_col4\" class=\"data row1 col4\" ></td>\n",
                     "      <td id=\"T_6e8dc_row1_col5\" class=\"data row1 col5\" ></td>\n",
                     "      <td id=\"T_6e8dc_row1_col6\" class=\"data row1 col6\" ></td>\n",
                     "      <td id=\"T_6e8dc_row1_col7\" class=\"data row1 col7\" ></td>\n",
                     "      <td id=\"T_6e8dc_row1_col8\" class=\"data row1 col8\" ></td>\n",
                     "      <td id=\"T_6e8dc_row1_col9\" class=\"data row1 col9\" ></td>\n",
                     "      <td id=\"T_6e8dc_row1_col10\" class=\"data row1 col10\" ></td>\n",
                     "      <td id=\"T_6e8dc_row1_col11\" class=\"data row1 col11\" ></td>\n",
                     "    </tr>\n",
                     "    <tr>\n",
                     "      <th id=\"T_6e8dc_level0_row2\" class=\"row_heading level0 row2\" >dob_years</th>\n",
                     "      <td id=\"T_6e8dc_row2_col0\" class=\"data row2 col0\" >21236</td>\n",
                     "      <td id=\"T_6e8dc_row2_col1\" class=\"data row2 col1\" >2118</td>\n",
                     "      <td id=\"T_6e8dc_row2_col2\" class=\"data row2 col2\" ></td>\n",
                     "      <td id=\"T_6e8dc_row2_col3\" class=\"data row2 col3\" ></td>\n",
                     "      <td id=\"T_6e8dc_row2_col4\" class=\"data row2 col4\" ></td>\n",
                     "      <td id=\"T_6e8dc_row2_col5\" class=\"data row2 col5\" ></td>\n",
                     "      <td id=\"T_6e8dc_row2_col6\" class=\"data row2 col6\" ></td>\n",
                     "      <td id=\"T_6e8dc_row2_col7\" class=\"data row2 col7\" ></td>\n",
                     "      <td id=\"T_6e8dc_row2_col8\" class=\"data row2 col8\" ></td>\n",
                     "      <td id=\"T_6e8dc_row2_col9\" class=\"data row2 col9\" ></td>\n",
                     "      <td id=\"T_6e8dc_row2_col10\" class=\"data row2 col10\" ></td>\n",
                     "      <td id=\"T_6e8dc_row2_col11\" class=\"data row2 col11\" ></td>\n",
                     "    </tr>\n",
                     "    <tr>\n",
                     "      <th id=\"T_6e8dc_level0_row3\" class=\"row_heading level0 row3\" >education</th>\n",
                     "      <td id=\"T_6e8dc_row3_col0\" class=\"data row3 col0\" >21496</td>\n",
                     "      <td id=\"T_6e8dc_row3_col1\" class=\"data row3 col1\" >2170</td>\n",
                     "      <td id=\"T_6e8dc_row3_col2\" class=\"data row3 col2\" >21300</td>\n",
                     "      <td id=\"T_6e8dc_row3_col3\" class=\"data row3 col3\" ></td>\n",
                     "      <td id=\"T_6e8dc_row3_col4\" class=\"data row3 col4\" ></td>\n",
                     "      <td id=\"T_6e8dc_row3_col5\" class=\"data row3 col5\" ></td>\n",
                     "      <td id=\"T_6e8dc_row3_col6\" class=\"data row3 col6\" ></td>\n",
                     "      <td id=\"T_6e8dc_row3_col7\" class=\"data row3 col7\" ></td>\n",
                     "      <td id=\"T_6e8dc_row3_col8\" class=\"data row3 col8\" ></td>\n",
                     "      <td id=\"T_6e8dc_row3_col9\" class=\"data row3 col9\" ></td>\n",
                     "      <td id=\"T_6e8dc_row3_col10\" class=\"data row3 col10\" ></td>\n",
                     "      <td id=\"T_6e8dc_row3_col11\" class=\"data row3 col11\" ></td>\n",
                     "    </tr>\n",
                     "    <tr>\n",
                     "      <th id=\"T_6e8dc_level0_row4\" class=\"row_heading level0 row4\" >education_id</th>\n",
                     "      <td id=\"T_6e8dc_row4_col0\" class=\"data row4 col0\" >21496</td>\n",
                     "      <td id=\"T_6e8dc_row4_col1\" class=\"data row4 col1\" >2170</td>\n",
                     "      <td id=\"T_6e8dc_row4_col2\" class=\"data row4 col2\" >21300</td>\n",
                     "      <td id=\"T_6e8dc_row4_col3\" class=\"data row4 col3\" >21520</td>\n",
                     "      <td id=\"T_6e8dc_row4_col4\" class=\"data row4 col4\" ></td>\n",
                     "      <td id=\"T_6e8dc_row4_col5\" class=\"data row4 col5\" ></td>\n",
                     "      <td id=\"T_6e8dc_row4_col6\" class=\"data row4 col6\" ></td>\n",
                     "      <td id=\"T_6e8dc_row4_col7\" class=\"data row4 col7\" ></td>\n",
                     "      <td id=\"T_6e8dc_row4_col8\" class=\"data row4 col8\" ></td>\n",
                     "      <td id=\"T_6e8dc_row4_col9\" class=\"data row4 col9\" ></td>\n",
                     "      <td id=\"T_6e8dc_row4_col10\" class=\"data row4 col10\" ></td>\n",
                     "      <td id=\"T_6e8dc_row4_col11\" class=\"data row4 col11\" ></td>\n",
                     "    </tr>\n",
                     "    <tr>\n",
                     "      <th id=\"T_6e8dc_level0_row5\" class=\"row_heading level0 row5\" >family_status</th>\n",
                     "      <td id=\"T_6e8dc_row5_col0\" class=\"data row5 col0\" >21488</td>\n",
                     "      <td id=\"T_6e8dc_row5_col1\" class=\"data row5 col1\" >2169</td>\n",
                     "      <td id=\"T_6e8dc_row5_col2\" class=\"data row5 col2\" >21253</td>\n",
                     "      <td id=\"T_6e8dc_row5_col3\" class=\"data row5 col3\" >21502</td>\n",
                     "      <td id=\"T_6e8dc_row5_col4\" class=\"data row5 col4\" >21502</td>\n",
                     "      <td id=\"T_6e8dc_row5_col5\" class=\"data row5 col5\" ></td>\n",
                     "      <td id=\"T_6e8dc_row5_col6\" class=\"data row5 col6\" ></td>\n",
                     "      <td id=\"T_6e8dc_row5_col7\" class=\"data row5 col7\" ></td>\n",
                     "      <td id=\"T_6e8dc_row5_col8\" class=\"data row5 col8\" ></td>\n",
                     "      <td id=\"T_6e8dc_row5_col9\" class=\"data row5 col9\" ></td>\n",
                     "      <td id=\"T_6e8dc_row5_col10\" class=\"data row5 col10\" ></td>\n",
                     "      <td id=\"T_6e8dc_row5_col11\" class=\"data row5 col11\" ></td>\n",
                     "    </tr>\n",
                     "    <tr>\n",
                     "      <th id=\"T_6e8dc_level0_row6\" class=\"row_heading level0 row6\" >family_status_id</th>\n",
                     "      <td id=\"T_6e8dc_row6_col0\" class=\"data row6 col0\" >21488</td>\n",
                     "      <td id=\"T_6e8dc_row6_col1\" class=\"data row6 col1\" >2169</td>\n",
                     "      <td id=\"T_6e8dc_row6_col2\" class=\"data row6 col2\" >21253</td>\n",
                     "      <td id=\"T_6e8dc_row6_col3\" class=\"data row6 col3\" >21502</td>\n",
                     "      <td id=\"T_6e8dc_row6_col4\" class=\"data row6 col4\" >21502</td>\n",
                     "      <td id=\"T_6e8dc_row6_col5\" class=\"data row6 col5\" >21520</td>\n",
                     "      <td id=\"T_6e8dc_row6_col6\" class=\"data row6 col6\" ></td>\n",
                     "      <td id=\"T_6e8dc_row6_col7\" class=\"data row6 col7\" ></td>\n",
                     "      <td id=\"T_6e8dc_row6_col8\" class=\"data row6 col8\" ></td>\n",
                     "      <td id=\"T_6e8dc_row6_col9\" class=\"data row6 col9\" ></td>\n",
                     "      <td id=\"T_6e8dc_row6_col10\" class=\"data row6 col10\" ></td>\n",
                     "      <td id=\"T_6e8dc_row6_col11\" class=\"data row6 col11\" ></td>\n",
                     "    </tr>\n",
                     "    <tr>\n",
                     "      <th id=\"T_6e8dc_level0_row7\" class=\"row_heading level0 row7\" >gender</th>\n",
                     "      <td id=\"T_6e8dc_row7_col0\" class=\"data row7 col0\" >21508</td>\n",
                     "      <td id=\"T_6e8dc_row7_col1\" class=\"data row7 col1\" >2172</td>\n",
                     "      <td id=\"T_6e8dc_row7_col2\" class=\"data row7 col2\" >21410</td>\n",
                     "      <td id=\"T_6e8dc_row7_col3\" class=\"data row7 col3\" >21514</td>\n",
                     "      <td id=\"T_6e8dc_row7_col4\" class=\"data row7 col4\" >21514</td>\n",
                     "      <td id=\"T_6e8dc_row7_col5\" class=\"data row7 col5\" >21514</td>\n",
                     "      <td id=\"T_6e8dc_row7_col6\" class=\"data row7 col6\" >21514</td>\n",
                     "      <td id=\"T_6e8dc_row7_col7\" class=\"data row7 col7\" ></td>\n",
                     "      <td id=\"T_6e8dc_row7_col8\" class=\"data row7 col8\" ></td>\n",
                     "      <td id=\"T_6e8dc_row7_col9\" class=\"data row7 col9\" ></td>\n",
                     "      <td id=\"T_6e8dc_row7_col10\" class=\"data row7 col10\" ></td>\n",
                     "      <td id=\"T_6e8dc_row7_col11\" class=\"data row7 col11\" ></td>\n",
                     "    </tr>\n",
                     "    <tr>\n",
                     "      <th id=\"T_6e8dc_level0_row8\" class=\"row_heading level0 row8\" >income_type</th>\n",
                     "      <td id=\"T_6e8dc_row8_col0\" class=\"data row8 col0\" >21489</td>\n",
                     "      <td id=\"T_6e8dc_row8_col1\" class=\"data row8 col1\" >2169</td>\n",
                     "      <td id=\"T_6e8dc_row8_col2\" class=\"data row8 col2\" >21304</td>\n",
                     "      <td id=\"T_6e8dc_row8_col3\" class=\"data row8 col3\" >21501</td>\n",
                     "      <td id=\"T_6e8dc_row8_col4\" class=\"data row8 col4\" >21501</td>\n",
                     "      <td id=\"T_6e8dc_row8_col5\" class=\"data row8 col5\" >21499</td>\n",
                     "      <td id=\"T_6e8dc_row8_col6\" class=\"data row8 col6\" >21499</td>\n",
                     "      <td id=\"T_6e8dc_row8_col7\" class=\"data row8 col7\" >21510</td>\n",
                     "      <td id=\"T_6e8dc_row8_col8\" class=\"data row8 col8\" ></td>\n",
                     "      <td id=\"T_6e8dc_row8_col9\" class=\"data row8 col9\" ></td>\n",
                     "      <td id=\"T_6e8dc_row8_col10\" class=\"data row8 col10\" ></td>\n",
                     "      <td id=\"T_6e8dc_row8_col11\" class=\"data row8 col11\" ></td>\n",
                     "    </tr>\n",
                     "    <tr>\n",
                     "      <th id=\"T_6e8dc_level0_row9\" class=\"row_heading level0 row9\" >debt</th>\n",
                     "      <td id=\"T_6e8dc_row9_col0\" class=\"data row9 col0\" >21510</td>\n",
                     "      <td id=\"T_6e8dc_row9_col1\" class=\"data row9 col1\" >2172</td>\n",
                     "      <td id=\"T_6e8dc_row9_col2\" class=\"data row9 col2\" >21412</td>\n",
                     "      <td id=\"T_6e8dc_row9_col3\" class=\"data row9 col3\" >21516</td>\n",
                     "      <td id=\"T_6e8dc_row9_col4\" class=\"data row9 col4\" >21516</td>\n",
                     "      <td id=\"T_6e8dc_row9_col5\" class=\"data row9 col5\" >21515</td>\n",
                     "      <td id=\"T_6e8dc_row9_col6\" class=\"data row9 col6\" >21515</td>\n",
                     "      <td id=\"T_6e8dc_row9_col7\" class=\"data row9 col7\" >21520</td>\n",
                     "      <td id=\"T_6e8dc_row9_col8\" class=\"data row9 col8\" >21512</td>\n",
                     "      <td id=\"T_6e8dc_row9_col9\" class=\"data row9 col9\" ></td>\n",
                     "      <td id=\"T_6e8dc_row9_col10\" class=\"data row9 col10\" ></td>\n",
                     "      <td id=\"T_6e8dc_row9_col11\" class=\"data row9 col11\" ></td>\n",
                     "    </tr>\n",
                     "    <tr>\n",
                     "      <th id=\"T_6e8dc_level0_row10\" class=\"row_heading level0 row10\" >total_income</th>\n",
                     "      <td id=\"T_6e8dc_row10_col0\" class=\"data row10 col0\" >2166</td>\n",
                     "      <td id=\"T_6e8dc_row10_col1\" class=\"data row10 col1\" >2173</td>\n",
                     "      <td id=\"T_6e8dc_row10_col2\" class=\"data row10 col2\" >2118</td>\n",
                     "      <td id=\"T_6e8dc_row10_col3\" class=\"data row10 col3\" >2170</td>\n",
                     "      <td id=\"T_6e8dc_row10_col4\" class=\"data row10 col4\" >2170</td>\n",
                     "      <td id=\"T_6e8dc_row10_col5\" class=\"data row10 col5\" >2169</td>\n",
                     "      <td id=\"T_6e8dc_row10_col6\" class=\"data row10 col6\" >2169</td>\n",
                     "      <td id=\"T_6e8dc_row10_col7\" class=\"data row10 col7\" >2172</td>\n",
                     "      <td id=\"T_6e8dc_row10_col8\" class=\"data row10 col8\" >2169</td>\n",
                     "      <td id=\"T_6e8dc_row10_col9\" class=\"data row10 col9\" >2172</td>\n",
                     "      <td id=\"T_6e8dc_row10_col10\" class=\"data row10 col10\" ></td>\n",
                     "      <td id=\"T_6e8dc_row10_col11\" class=\"data row10 col11\" ></td>\n",
                     "    </tr>\n",
                     "    <tr>\n",
                     "      <th id=\"T_6e8dc_level0_row11\" class=\"row_heading level0 row11\" >purpose</th>\n",
                     "      <td id=\"T_6e8dc_row11_col0\" class=\"data row11 col0\" >21279</td>\n",
                     "      <td id=\"T_6e8dc_row11_col1\" class=\"data row11 col1\" >2136</td>\n",
                     "      <td id=\"T_6e8dc_row11_col2\" class=\"data row11 col2\" >19504</td>\n",
                     "      <td id=\"T_6e8dc_row11_col3\" class=\"data row11 col3\" >21368</td>\n",
                     "      <td id=\"T_6e8dc_row11_col4\" class=\"data row11 col4\" >21368</td>\n",
                     "      <td id=\"T_6e8dc_row11_col5\" class=\"data row11 col5\" >21347</td>\n",
                     "      <td id=\"T_6e8dc_row11_col6\" class=\"data row11 col6\" >21347</td>\n",
                     "      <td id=\"T_6e8dc_row11_col7\" class=\"data row11 col7\" >21448</td>\n",
                     "      <td id=\"T_6e8dc_row11_col8\" class=\"data row11 col8\" >21367</td>\n",
                     "      <td id=\"T_6e8dc_row11_col9\" class=\"data row11 col9\" >21449</td>\n",
                     "      <td id=\"T_6e8dc_row11_col10\" class=\"data row11 col10\" >2136</td>\n",
                     "      <td id=\"T_6e8dc_row11_col11\" class=\"data row11 col11\" ></td>\n",
                     "    </tr>\n",
                     "  </tbody>\n",
                     "</table>\n"
                  ],
                  "text/plain": [
                     "<pandas.io.formats.style.Styler at 0xe514828>"
                  ]
               },
               "metadata": {},
               "output_type": "display_data"
            }
         ],
         "source": [
            "next(gen)"
         ]
      },
      {
         "cell_type": "markdown",
         "metadata": {},
         "source": [
            "**Наблюдения:**\n",
            "- У нас большинство колонок имеют попраные дубликаты, это скорее всего вызвано пропусками\n",
            "- Если бы не было пропусков в колонках стажа и дохода, то дублей было бы меньше"
         ]
      },
      {
         "cell_type": "markdown",
         "metadata": {},
         "source": [
            "Проверяем на пропуски    "
         ]
      },
      {
         "cell_type": "code",
         "execution_count": 240,
         "metadata": {},
         "outputs": [
            {
               "data": {
                  "text/html": [
                     "<div>\n",
                     "<style scoped>\n",
                     "    .dataframe tbody tr th:only-of-type {\n",
                     "        vertical-align: middle;\n",
                     "    }\n",
                     "\n",
                     "    .dataframe tbody tr th {\n",
                     "        vertical-align: top;\n",
                     "    }\n",
                     "\n",
                     "    .dataframe thead th {\n",
                     "        text-align: right;\n",
                     "    }\n",
                     "</style>\n",
                     "<table border=\"1\" class=\"dataframe\">\n",
                     "  <thead>\n",
                     "    <tr style=\"text-align: right;\">\n",
                     "      <th></th>\n",
                     "      <th>missed</th>\n",
                     "    </tr>\n",
                     "  </thead>\n",
                     "  <tbody>\n",
                     "    <tr>\n",
                     "      <th>days_employed</th>\n",
                     "      <td>2174 (10.1%)</td>\n",
                     "    </tr>\n",
                     "    <tr>\n",
                     "      <th>total_income</th>\n",
                     "      <td>2174 (10.1%)</td>\n",
                     "    </tr>\n",
                     "  </tbody>\n",
                     "</table>\n",
                     "</div>"
                  ],
                  "text/plain": [
                     "                     missed\n",
                     "days_employed  2174 (10.1%)\n",
                     "total_income   2174 (10.1%)"
                  ]
               },
               "execution_count": 240,
               "metadata": {},
               "output_type": "execute_result"
            }
         ],
         "source": [
            "series_missed = my_module.find_columns_with_missing_values(df)\n",
            "size = df.shape[0]\n",
            "missed = df.isna().sum()\n",
            "missed[missed != 0].apply(lambda x: f'{x} ({(x / size):.1%})').to_frame(name='missed')"
         ]
      },
      {
         "cell_type": "markdown",
         "metadata": {},
         "source": [
            "У нас пропуски в колонке со стажем и в колокне с доходом.  \n",
            "Посмотрим на строки датафрейма с пропусками.  "
         ]
      },
      {
         "cell_type": "code",
         "execution_count": null,
         "metadata": {},
         "outputs": [],
         "source": [
            "df.isna().sum()"
         ]
      },
      {
         "cell_type": "code",
         "execution_count": 14,
         "metadata": {},
         "outputs": [],
         "source": [
            "days_employed_missed = series_missed['days_employed']\n",
            "total_income_missed = series_missed['total_income']"
         ]
      },
      {
         "cell_type": "markdown",
         "metadata": {},
         "source": [
            "Количество пропусков совпдаает с точностью до строки.  \n",
            "Выдвигаем гипотезу, что пропуски в обоих колонках в одних и тех же строках. "
         ]
      },
      {
         "cell_type": "markdown",
         "metadata": {},
         "source": [
            "Проверим эту гипотезу"
         ]
      },
      {
         "cell_type": "markdown",
         "metadata": {},
         "source": [
            "Посмотрим на стаж"
         ]
      },
      {
         "cell_type": "code",
         "execution_count": 11,
         "metadata": {},
         "outputs": [
            {
               "data": {
                  "text/html": [
                     "<div>\n",
                     "<style scoped>\n",
                     "    .dataframe tbody tr th:only-of-type {\n",
                     "        vertical-align: middle;\n",
                     "    }\n",
                     "\n",
                     "    .dataframe tbody tr th {\n",
                     "        vertical-align: top;\n",
                     "    }\n",
                     "\n",
                     "    .dataframe thead th {\n",
                     "        text-align: right;\n",
                     "    }\n",
                     "</style>\n",
                     "<table border=\"1\" class=\"dataframe\">\n",
                     "  <thead>\n",
                     "    <tr style=\"text-align: right;\">\n",
                     "      <th></th>\n",
                     "      <th>children</th>\n",
                     "      <th>days_employed</th>\n",
                     "      <th>dob_years</th>\n",
                     "      <th>education</th>\n",
                     "      <th>education_id</th>\n",
                     "      <th>family_status</th>\n",
                     "      <th>family_status_id</th>\n",
                     "      <th>gender</th>\n",
                     "      <th>income_type</th>\n",
                     "      <th>debt</th>\n",
                     "      <th>total_income</th>\n",
                     "      <th>purpose</th>\n",
                     "    </tr>\n",
                     "  </thead>\n",
                     "  <tbody>\n",
                     "    <tr>\n",
                     "      <th>4634</th>\n",
                     "      <td>0</td>\n",
                     "      <td>NaN</td>\n",
                     "      <td>64</td>\n",
                     "      <td>среднее</td>\n",
                     "      <td>1</td>\n",
                     "      <td>в разводе</td>\n",
                     "      <td>3</td>\n",
                     "      <td>F</td>\n",
                     "      <td>сотрудник</td>\n",
                     "      <td>0</td>\n",
                     "      <td>NaN</td>\n",
                     "      <td>высшее образование</td>\n",
                     "    </tr>\n",
                     "    <tr>\n",
                     "      <th>8086</th>\n",
                     "      <td>0</td>\n",
                     "      <td>NaN</td>\n",
                     "      <td>23</td>\n",
                     "      <td>среднее</td>\n",
                     "      <td>1</td>\n",
                     "      <td>Не женат / не замужем</td>\n",
                     "      <td>4</td>\n",
                     "      <td>M</td>\n",
                     "      <td>сотрудник</td>\n",
                     "      <td>0</td>\n",
                     "      <td>NaN</td>\n",
                     "      <td>приобретение автомобиля</td>\n",
                     "    </tr>\n",
                     "    <tr>\n",
                     "      <th>9096</th>\n",
                     "      <td>0</td>\n",
                     "      <td>NaN</td>\n",
                     "      <td>47</td>\n",
                     "      <td>среднее</td>\n",
                     "      <td>1</td>\n",
                     "      <td>женат / замужем</td>\n",
                     "      <td>0</td>\n",
                     "      <td>F</td>\n",
                     "      <td>сотрудник</td>\n",
                     "      <td>0</td>\n",
                     "      <td>NaN</td>\n",
                     "      <td>покупка жилья для семьи</td>\n",
                     "    </tr>\n",
                     "    <tr>\n",
                     "      <th>1052</th>\n",
                     "      <td>2</td>\n",
                     "      <td>NaN</td>\n",
                     "      <td>35</td>\n",
                     "      <td>среднее</td>\n",
                     "      <td>1</td>\n",
                     "      <td>женат / замужем</td>\n",
                     "      <td>0</td>\n",
                     "      <td>M</td>\n",
                     "      <td>сотрудник</td>\n",
                     "      <td>0</td>\n",
                     "      <td>NaN</td>\n",
                     "      <td>операции с недвижимостью</td>\n",
                     "    </tr>\n",
                     "    <tr>\n",
                     "      <th>5802</th>\n",
                     "      <td>0</td>\n",
                     "      <td>NaN</td>\n",
                     "      <td>29</td>\n",
                     "      <td>высшее</td>\n",
                     "      <td>0</td>\n",
                     "      <td>женат / замужем</td>\n",
                     "      <td>0</td>\n",
                     "      <td>F</td>\n",
                     "      <td>сотрудник</td>\n",
                     "      <td>0</td>\n",
                     "      <td>NaN</td>\n",
                     "      <td>операции с коммерческой недвижимостью</td>\n",
                     "    </tr>\n",
                     "    <tr>\n",
                     "      <th>9374</th>\n",
                     "      <td>0</td>\n",
                     "      <td>NaN</td>\n",
                     "      <td>38</td>\n",
                     "      <td>высшее</td>\n",
                     "      <td>0</td>\n",
                     "      <td>гражданский брак</td>\n",
                     "      <td>1</td>\n",
                     "      <td>F</td>\n",
                     "      <td>компаньон</td>\n",
                     "      <td>0</td>\n",
                     "      <td>NaN</td>\n",
                     "      <td>на проведение свадьбы</td>\n",
                     "    </tr>\n",
                     "    <tr>\n",
                     "      <th>12911</th>\n",
                     "      <td>0</td>\n",
                     "      <td>NaN</td>\n",
                     "      <td>52</td>\n",
                     "      <td>среднее</td>\n",
                     "      <td>1</td>\n",
                     "      <td>Не женат / не замужем</td>\n",
                     "      <td>4</td>\n",
                     "      <td>M</td>\n",
                     "      <td>пенсионер</td>\n",
                     "      <td>1</td>\n",
                     "      <td>NaN</td>\n",
                     "      <td>на покупку своего автомобиля</td>\n",
                     "    </tr>\n",
                     "    <tr>\n",
                     "      <th>16395</th>\n",
                     "      <td>0</td>\n",
                     "      <td>NaN</td>\n",
                     "      <td>29</td>\n",
                     "      <td>высшее</td>\n",
                     "      <td>0</td>\n",
                     "      <td>гражданский брак</td>\n",
                     "      <td>1</td>\n",
                     "      <td>F</td>\n",
                     "      <td>сотрудник</td>\n",
                     "      <td>0</td>\n",
                     "      <td>NaN</td>\n",
                     "      <td>сыграть свадьбу</td>\n",
                     "    </tr>\n",
                     "    <tr>\n",
                     "      <th>11754</th>\n",
                     "      <td>0</td>\n",
                     "      <td>NaN</td>\n",
                     "      <td>42</td>\n",
                     "      <td>высшее</td>\n",
                     "      <td>0</td>\n",
                     "      <td>гражданский брак</td>\n",
                     "      <td>1</td>\n",
                     "      <td>F</td>\n",
                     "      <td>сотрудник</td>\n",
                     "      <td>0</td>\n",
                     "      <td>NaN</td>\n",
                     "      <td>сыграть свадьбу</td>\n",
                     "    </tr>\n",
                     "    <tr>\n",
                     "      <th>12937</th>\n",
                     "      <td>1</td>\n",
                     "      <td>NaN</td>\n",
                     "      <td>38</td>\n",
                     "      <td>среднее</td>\n",
                     "      <td>1</td>\n",
                     "      <td>женат / замужем</td>\n",
                     "      <td>0</td>\n",
                     "      <td>M</td>\n",
                     "      <td>компаньон</td>\n",
                     "      <td>0</td>\n",
                     "      <td>NaN</td>\n",
                     "      <td>автомобили</td>\n",
                     "    </tr>\n",
                     "  </tbody>\n",
                     "</table>\n",
                     "</div>"
                  ],
                  "text/plain": [
                     "       children  days_employed  dob_years education education_id  \\\n",
                     "4634          0            NaN         64   среднее            1   \n",
                     "8086          0            NaN         23   среднее            1   \n",
                     "9096          0            NaN         47   среднее            1   \n",
                     "1052          2            NaN         35   среднее            1   \n",
                     "5802          0            NaN         29    высшее            0   \n",
                     "9374          0            NaN         38    высшее            0   \n",
                     "12911         0            NaN         52   среднее            1   \n",
                     "16395         0            NaN         29    высшее            0   \n",
                     "11754         0            NaN         42    высшее            0   \n",
                     "12937         1            NaN         38   среднее            1   \n",
                     "\n",
                     "               family_status family_status_id gender income_type debt  \\\n",
                     "4634               в разводе                3      F   сотрудник    0   \n",
                     "8086   Не женат / не замужем                4      M   сотрудник    0   \n",
                     "9096         женат / замужем                0      F   сотрудник    0   \n",
                     "1052         женат / замужем                0      M   сотрудник    0   \n",
                     "5802         женат / замужем                0      F   сотрудник    0   \n",
                     "9374        гражданский брак                1      F   компаньон    0   \n",
                     "12911  Не женат / не замужем                4      M   пенсионер    1   \n",
                     "16395       гражданский брак                1      F   сотрудник    0   \n",
                     "11754       гражданский брак                1      F   сотрудник    0   \n",
                     "12937        женат / замужем                0      M   компаньон    0   \n",
                     "\n",
                     "       total_income                                purpose  \n",
                     "4634            NaN                     высшее образование  \n",
                     "8086            NaN                приобретение автомобиля  \n",
                     "9096            NaN                покупка жилья для семьи  \n",
                     "1052            NaN               операции с недвижимостью  \n",
                     "5802            NaN  операции с коммерческой недвижимостью  \n",
                     "9374            NaN                  на проведение свадьбы  \n",
                     "12911           NaN           на покупку своего автомобиля  \n",
                     "16395           NaN                        сыграть свадьбу  \n",
                     "11754           NaN                        сыграть свадьбу  \n",
                     "12937           NaN                             автомобили  "
                  ]
               },
               "execution_count": 11,
               "metadata": {},
               "output_type": "execute_result"
            }
         ],
         "source": [
            "days_employed_missed.sample(10)"
         ]
      },
      {
         "cell_type": "markdown",
         "metadata": {},
         "source": [
            "**Наблюдения:**\n",
            "- 10 случайно взятых строк подтверждают гипотезу"
         ]
      },
      {
         "cell_type": "markdown",
         "metadata": {},
         "source": [
            "Посмотрим на доход"
         ]
      },
      {
         "cell_type": "code",
         "execution_count": 17,
         "metadata": {},
         "outputs": [
            {
               "data": {
                  "text/html": [
                     "<div>\n",
                     "<style scoped>\n",
                     "    .dataframe tbody tr th:only-of-type {\n",
                     "        vertical-align: middle;\n",
                     "    }\n",
                     "\n",
                     "    .dataframe tbody tr th {\n",
                     "        vertical-align: top;\n",
                     "    }\n",
                     "\n",
                     "    .dataframe thead th {\n",
                     "        text-align: right;\n",
                     "    }\n",
                     "</style>\n",
                     "<table border=\"1\" class=\"dataframe\">\n",
                     "  <thead>\n",
                     "    <tr style=\"text-align: right;\">\n",
                     "      <th></th>\n",
                     "      <th>children</th>\n",
                     "      <th>days_employed</th>\n",
                     "      <th>dob_years</th>\n",
                     "      <th>education</th>\n",
                     "      <th>education_id</th>\n",
                     "      <th>family_status</th>\n",
                     "      <th>family_status_id</th>\n",
                     "      <th>gender</th>\n",
                     "      <th>income_type</th>\n",
                     "      <th>debt</th>\n",
                     "      <th>total_income</th>\n",
                     "      <th>purpose</th>\n",
                     "    </tr>\n",
                     "  </thead>\n",
                     "  <tbody>\n",
                     "    <tr>\n",
                     "      <th>16328</th>\n",
                     "      <td>0</td>\n",
                     "      <td>NaN</td>\n",
                     "      <td>51</td>\n",
                     "      <td>среднее</td>\n",
                     "      <td>1</td>\n",
                     "      <td>Не женат / не замужем</td>\n",
                     "      <td>4</td>\n",
                     "      <td>F</td>\n",
                     "      <td>компаньон</td>\n",
                     "      <td>0</td>\n",
                     "      <td>NaN</td>\n",
                     "      <td>покупка недвижимости</td>\n",
                     "    </tr>\n",
                     "    <tr>\n",
                     "      <th>19433</th>\n",
                     "      <td>0</td>\n",
                     "      <td>NaN</td>\n",
                     "      <td>48</td>\n",
                     "      <td>высшее</td>\n",
                     "      <td>0</td>\n",
                     "      <td>гражданский брак</td>\n",
                     "      <td>1</td>\n",
                     "      <td>F</td>\n",
                     "      <td>компаньон</td>\n",
                     "      <td>0</td>\n",
                     "      <td>NaN</td>\n",
                     "      <td>на проведение свадьбы</td>\n",
                     "    </tr>\n",
                     "    <tr>\n",
                     "      <th>2644</th>\n",
                     "      <td>2</td>\n",
                     "      <td>NaN</td>\n",
                     "      <td>40</td>\n",
                     "      <td>среднее</td>\n",
                     "      <td>1</td>\n",
                     "      <td>гражданский брак</td>\n",
                     "      <td>1</td>\n",
                     "      <td>F</td>\n",
                     "      <td>сотрудник</td>\n",
                     "      <td>0</td>\n",
                     "      <td>NaN</td>\n",
                     "      <td>на проведение свадьбы</td>\n",
                     "    </tr>\n",
                     "    <tr>\n",
                     "      <th>3062</th>\n",
                     "      <td>0</td>\n",
                     "      <td>NaN</td>\n",
                     "      <td>42</td>\n",
                     "      <td>среднее</td>\n",
                     "      <td>1</td>\n",
                     "      <td>женат / замужем</td>\n",
                     "      <td>0</td>\n",
                     "      <td>M</td>\n",
                     "      <td>сотрудник</td>\n",
                     "      <td>0</td>\n",
                     "      <td>NaN</td>\n",
                     "      <td>операции с жильем</td>\n",
                     "    </tr>\n",
                     "    <tr>\n",
                     "      <th>20501</th>\n",
                     "      <td>2</td>\n",
                     "      <td>NaN</td>\n",
                     "      <td>33</td>\n",
                     "      <td>высшее</td>\n",
                     "      <td>0</td>\n",
                     "      <td>женат / замужем</td>\n",
                     "      <td>0</td>\n",
                     "      <td>M</td>\n",
                     "      <td>компаньон</td>\n",
                     "      <td>0</td>\n",
                     "      <td>NaN</td>\n",
                     "      <td>заняться высшим образованием</td>\n",
                     "    </tr>\n",
                     "    <tr>\n",
                     "      <th>15571</th>\n",
                     "      <td>0</td>\n",
                     "      <td>NaN</td>\n",
                     "      <td>36</td>\n",
                     "      <td>Среднее</td>\n",
                     "      <td>1</td>\n",
                     "      <td>женат / замужем</td>\n",
                     "      <td>0</td>\n",
                     "      <td>M</td>\n",
                     "      <td>сотрудник</td>\n",
                     "      <td>0</td>\n",
                     "      <td>NaN</td>\n",
                     "      <td>операции со своей недвижимостью</td>\n",
                     "    </tr>\n",
                     "    <tr>\n",
                     "      <th>8128</th>\n",
                     "      <td>0</td>\n",
                     "      <td>NaN</td>\n",
                     "      <td>36</td>\n",
                     "      <td>среднее</td>\n",
                     "      <td>1</td>\n",
                     "      <td>Не женат / не замужем</td>\n",
                     "      <td>4</td>\n",
                     "      <td>M</td>\n",
                     "      <td>сотрудник</td>\n",
                     "      <td>0</td>\n",
                     "      <td>NaN</td>\n",
                     "      <td>приобретение автомобиля</td>\n",
                     "    </tr>\n",
                     "    <tr>\n",
                     "      <th>14742</th>\n",
                     "      <td>0</td>\n",
                     "      <td>NaN</td>\n",
                     "      <td>23</td>\n",
                     "      <td>среднее</td>\n",
                     "      <td>1</td>\n",
                     "      <td>Не женат / не замужем</td>\n",
                     "      <td>4</td>\n",
                     "      <td>F</td>\n",
                     "      <td>сотрудник</td>\n",
                     "      <td>0</td>\n",
                     "      <td>NaN</td>\n",
                     "      <td>строительство недвижимости</td>\n",
                     "    </tr>\n",
                     "    <tr>\n",
                     "      <th>16148</th>\n",
                     "      <td>0</td>\n",
                     "      <td>NaN</td>\n",
                     "      <td>45</td>\n",
                     "      <td>среднее</td>\n",
                     "      <td>1</td>\n",
                     "      <td>гражданский брак</td>\n",
                     "      <td>1</td>\n",
                     "      <td>F</td>\n",
                     "      <td>компаньон</td>\n",
                     "      <td>0</td>\n",
                     "      <td>NaN</td>\n",
                     "      <td>свадьба</td>\n",
                     "    </tr>\n",
                     "    <tr>\n",
                     "      <th>14378</th>\n",
                     "      <td>0</td>\n",
                     "      <td>NaN</td>\n",
                     "      <td>36</td>\n",
                     "      <td>среднее</td>\n",
                     "      <td>1</td>\n",
                     "      <td>гражданский брак</td>\n",
                     "      <td>1</td>\n",
                     "      <td>M</td>\n",
                     "      <td>сотрудник</td>\n",
                     "      <td>0</td>\n",
                     "      <td>NaN</td>\n",
                     "      <td>жилье</td>\n",
                     "    </tr>\n",
                     "  </tbody>\n",
                     "</table>\n",
                     "</div>"
                  ],
                  "text/plain": [
                     "       children  days_employed  dob_years education education_id  \\\n",
                     "16328         0            NaN         51   среднее            1   \n",
                     "19433         0            NaN         48    высшее            0   \n",
                     "2644          2            NaN         40   среднее            1   \n",
                     "3062          0            NaN         42   среднее            1   \n",
                     "20501         2            NaN         33    высшее            0   \n",
                     "15571         0            NaN         36   Среднее            1   \n",
                     "8128          0            NaN         36   среднее            1   \n",
                     "14742         0            NaN         23   среднее            1   \n",
                     "16148         0            NaN         45   среднее            1   \n",
                     "14378         0            NaN         36   среднее            1   \n",
                     "\n",
                     "               family_status family_status_id gender income_type debt  \\\n",
                     "16328  Не женат / не замужем                4      F   компаньон    0   \n",
                     "19433       гражданский брак                1      F   компаньон    0   \n",
                     "2644        гражданский брак                1      F   сотрудник    0   \n",
                     "3062         женат / замужем                0      M   сотрудник    0   \n",
                     "20501        женат / замужем                0      M   компаньон    0   \n",
                     "15571        женат / замужем                0      M   сотрудник    0   \n",
                     "8128   Не женат / не замужем                4      M   сотрудник    0   \n",
                     "14742  Не женат / не замужем                4      F   сотрудник    0   \n",
                     "16148       гражданский брак                1      F   компаньон    0   \n",
                     "14378       гражданский брак                1      M   сотрудник    0   \n",
                     "\n",
                     "       total_income                          purpose  \n",
                     "16328           NaN             покупка недвижимости  \n",
                     "19433           NaN            на проведение свадьбы  \n",
                     "2644            NaN            на проведение свадьбы  \n",
                     "3062            NaN                операции с жильем  \n",
                     "20501           NaN     заняться высшим образованием  \n",
                     "15571           NaN  операции со своей недвижимостью  \n",
                     "8128            NaN          приобретение автомобиля  \n",
                     "14742           NaN       строительство недвижимости  \n",
                     "16148           NaN                          свадьба  \n",
                     "14378           NaN                            жилье  "
                  ]
               },
               "execution_count": 17,
               "metadata": {},
               "output_type": "execute_result"
            }
         ],
         "source": [
            "total_income_missed.sample(10)"
         ]
      },
      {
         "cell_type": "markdown",
         "metadata": {},
         "source": [
            "**Наблюдения:**\n",
            "- 10 случайно взятых строк подтверждают гипотезу"
         ]
      },
      {
         "cell_type": "markdown",
         "metadata": {},
         "source": [
            "Посмотрим сколько пропусков в обоих колонках вместе"
         ]
      },
      {
         "cell_type": "code",
         "execution_count": 18,
         "metadata": {},
         "outputs": [
            {
               "data": {
                  "text/plain": [
                     "2174"
                  ]
               },
               "execution_count": 18,
               "metadata": {},
               "output_type": "execute_result"
            }
         ],
         "source": [
            "df_missed_employed_income = my_module.check_na_in_both_columns(df, ['days_employed', 'total_income'])\n",
            "df_missed_employed_income.shape[0]"
         ]
      },
      {
         "cell_type": "markdown",
         "metadata": {},
         "source": [
            "**Наблюдения:**\n",
            "- Видим, что совместно пропуски в таком количестве строк как и по отдельности. \n",
            "Гипотеза подтвердилась. У нас пропуски в строке стаж связаны с пропусками в строке доход.  \n",
            "Возможно это вызвано тем, что при расчете дохода испльзуется стаж, либо существует другое влияние одного на другое.  "
         ]
      },
      {
         "cell_type": "markdown",
         "metadata": {},
         "source": [
            "Изучаем выбросы"
         ]
      },
      {
         "cell_type": "markdown",
         "metadata": {},
         "source": [
            "Посмотрим на выбросы через квантили"
         ]
      },
      {
         "cell_type": "code",
         "execution_count": 85,
         "metadata": {},
         "outputs": [
            {
               "data": {
                  "text/html": [
                     "<style type=\"text/css\">\n",
                     "#T_4f9bf_ caption {\n",
                     "  font-size: 18px;\n",
                     "  text-align: left;\n",
                     "  font-weight: bold;\n",
                     "}\n",
                     "</style>\n",
                     "<table id=\"T_4f9bf_\">\n",
                     "  <caption>Outliers</caption>\n",
                     "  <thead>\n",
                     "    <tr>\n",
                     "      <th class=\"col_heading level0 col0\" >children</th>\n",
                     "      <th class=\"col_heading level0 col1\" >days_employed</th>\n",
                     "      <th class=\"col_heading level0 col2\" >dob_years</th>\n",
                     "      <th class=\"col_heading level0 col3\" >total_income</th>\n",
                     "    </tr>\n",
                     "  </thead>\n",
                     "  <tbody>\n",
                     "    <tr>\n",
                     "      <td id=\"T_4f9bf_row0_col0\" class=\"data row0 col0\" >503</td>\n",
                     "      <td id=\"T_4f9bf_row0_col1\" class=\"data row0 col1\" >1936</td>\n",
                     "      <td id=\"T_4f9bf_row0_col2\" class=\"data row0 col2\" >1877</td>\n",
                     "      <td id=\"T_4f9bf_row0_col3\" class=\"data row0 col3\" >1936</td>\n",
                     "    </tr>\n",
                     "  </tbody>\n",
                     "</table>\n"
                  ],
                  "text/plain": [
                     "<pandas.io.formats.style.Styler at 0x197e77f0>"
                  ]
               },
               "metadata": {},
               "output_type": "display_data"
            }
         ],
         "source": [
            "series_outliers = my_module.detect_outliers_quantile(df)"
         ]
      },
      {
         "cell_type": "markdown",
         "metadata": {},
         "source": [
            "**Наблюдения:** \n",
            "- интересно что количество выбросво, кроме колонки количество детей, примерно одинаковое"
         ]
      },
      {
         "cell_type": "markdown",
         "metadata": {},
         "source": [
            "Изучим выбросы в разрезе категорий"
         ]
      },
      {
         "cell_type": "code",
         "execution_count": 186,
         "metadata": {},
         "outputs": [],
         "source": [
            "def outliers_gen(series_outliers):\n",
            "    for col in series_outliers.index:\n",
            "        display(series_outliers[col][col].value_counts().to_frame('outliers').head(10).style.set_caption(f'{col}')\n",
            "                .set_table_styles([{'selector': 'caption',\n",
            "                                    'props': [('font-size', '18px'), (\"text-align\", \"left\"), (\"font-weight\", \"bold\")]\n",
            "                                    }]))\n",
            "        yield\n",
            "        series_outliers['children'].sample(5)\n",
            "        gen = my_module.get_outlier_quantile_proportion_by_category(df, col)\n",
            "        for _ in gen:\n",
            "            yield\n",
            "gen = outliers_gen(series_outliers)            "
         ]
      },
      {
         "cell_type": "code",
         "execution_count": 187,
         "metadata": {},
         "outputs": [
            {
               "data": {
                  "text/html": [
                     "<style type=\"text/css\">\n",
                     "#T_ee9ab_ caption {\n",
                     "  font-size: 18px;\n",
                     "  text-align: left;\n",
                     "  font-weight: bold;\n",
                     "}\n",
                     "</style>\n",
                     "<table id=\"T_ee9ab_\">\n",
                     "  <caption>children</caption>\n",
                     "  <thead>\n",
                     "    <tr>\n",
                     "      <th class=\"blank level0\" >&nbsp;</th>\n",
                     "      <th class=\"col_heading level0 col0\" >outliers</th>\n",
                     "    </tr>\n",
                     "  </thead>\n",
                     "  <tbody>\n",
                     "    <tr>\n",
                     "      <th id=\"T_ee9ab_level0_row0\" class=\"row_heading level0 row0\" >3</th>\n",
                     "      <td id=\"T_ee9ab_row0_col0\" class=\"data row0 col0\" >330</td>\n",
                     "    </tr>\n",
                     "    <tr>\n",
                     "      <th id=\"T_ee9ab_level0_row1\" class=\"row_heading level0 row1\" >20</th>\n",
                     "      <td id=\"T_ee9ab_row1_col0\" class=\"data row1 col0\" >76</td>\n",
                     "    </tr>\n",
                     "    <tr>\n",
                     "      <th id=\"T_ee9ab_level0_row2\" class=\"row_heading level0 row2\" >-1</th>\n",
                     "      <td id=\"T_ee9ab_row2_col0\" class=\"data row2 col0\" >47</td>\n",
                     "    </tr>\n",
                     "    <tr>\n",
                     "      <th id=\"T_ee9ab_level0_row3\" class=\"row_heading level0 row3\" >4</th>\n",
                     "      <td id=\"T_ee9ab_row3_col0\" class=\"data row3 col0\" >41</td>\n",
                     "    </tr>\n",
                     "    <tr>\n",
                     "      <th id=\"T_ee9ab_level0_row4\" class=\"row_heading level0 row4\" >5</th>\n",
                     "      <td id=\"T_ee9ab_row4_col0\" class=\"data row4 col0\" >9</td>\n",
                     "    </tr>\n",
                     "  </tbody>\n",
                     "</table>\n"
                  ],
                  "text/plain": [
                     "<pandas.io.formats.style.Styler at 0x1d093518>"
                  ]
               },
               "metadata": {},
               "output_type": "display_data"
            }
         ],
         "source": [
            "next(gen)"
         ]
      },
      {
         "cell_type": "markdown",
         "metadata": {},
         "source": [
            "**Наблюдения:** \n",
            "- Видим, что клиенты с количеством больше 2 попали в выбросы, что логично\n",
            "- Также -1 попало в выброс, что тоже верно"
         ]
      },
      {
         "cell_type": "code",
         "execution_count": 103,
         "metadata": {},
         "outputs": [
            {
               "data": {
                  "text/html": [
                     "<style type=\"text/css\">\n",
                     "#T_ab404_ caption {\n",
                     "  font-size: 18px;\n",
                     "  text-align: left;\n",
                     "  font-weight: bold;\n",
                     "}\n",
                     "</style>\n",
                     "<table id=\"T_ab404_\">\n",
                     "  <caption>Outliers in \"children\" by category \"family_status\"</caption>\n",
                     "  <thead>\n",
                     "    <tr>\n",
                     "      <th class=\"col_heading level0 col0\" >family_status</th>\n",
                     "      <th class=\"col_heading level0 col1\" >total_count</th>\n",
                     "      <th class=\"col_heading level0 col2\" >outlier_count</th>\n",
                     "      <th class=\"col_heading level0 col3\" >outlier_in_category_pct</th>\n",
                     "      <th class=\"col_heading level0 col4\" >outlier_in_column_pct</th>\n",
                     "      <th class=\"col_heading level0 col5\" >total_count_pct</th>\n",
                     "    </tr>\n",
                     "  </thead>\n",
                     "  <tbody>\n",
                     "    <tr>\n",
                     "      <td id=\"T_ab404_row0_col0\" class=\"data row0 col0\" >Не женат / не замужем</td>\n",
                     "      <td id=\"T_ab404_row0_col1\" class=\"data row0 col1\" >2813</td>\n",
                     "      <td id=\"T_ab404_row0_col2\" class=\"data row0 col2\" >24</td>\n",
                     "      <td id=\"T_ab404_row0_col3\" class=\"data row0 col3\" >0.9%</td>\n",
                     "      <td id=\"T_ab404_row0_col4\" class=\"data row0 col4\" >4.8%</td>\n",
                     "      <td id=\"T_ab404_row0_col5\" class=\"data row0 col5\" >13.1%</td>\n",
                     "    </tr>\n",
                     "    <tr>\n",
                     "      <td id=\"T_ab404_row1_col0\" class=\"data row1 col0\" >в разводе</td>\n",
                     "      <td id=\"T_ab404_row1_col1\" class=\"data row1 col1\" >1195</td>\n",
                     "      <td id=\"T_ab404_row1_col2\" class=\"data row1 col2\" >18</td>\n",
                     "      <td id=\"T_ab404_row1_col3\" class=\"data row1 col3\" >1.5%</td>\n",
                     "      <td id=\"T_ab404_row1_col4\" class=\"data row1 col4\" >3.6%</td>\n",
                     "      <td id=\"T_ab404_row1_col5\" class=\"data row1 col5\" >5.6%</td>\n",
                     "    </tr>\n",
                     "    <tr>\n",
                     "      <td id=\"T_ab404_row2_col0\" class=\"data row2 col0\" >вдовец / вдова</td>\n",
                     "      <td id=\"T_ab404_row2_col1\" class=\"data row2 col1\" >960</td>\n",
                     "      <td id=\"T_ab404_row2_col2\" class=\"data row2 col2\" >15</td>\n",
                     "      <td id=\"T_ab404_row2_col3\" class=\"data row2 col3\" >1.6%</td>\n",
                     "      <td id=\"T_ab404_row2_col4\" class=\"data row2 col4\" >3.0%</td>\n",
                     "      <td id=\"T_ab404_row2_col5\" class=\"data row2 col5\" >4.5%</td>\n",
                     "    </tr>\n",
                     "    <tr>\n",
                     "      <td id=\"T_ab404_row3_col0\" class=\"data row3 col0\" >гражданский брак</td>\n",
                     "      <td id=\"T_ab404_row3_col1\" class=\"data row3 col1\" >4177</td>\n",
                     "      <td id=\"T_ab404_row3_col2\" class=\"data row3 col2\" >83</td>\n",
                     "      <td id=\"T_ab404_row3_col3\" class=\"data row3 col3\" >2.0%</td>\n",
                     "      <td id=\"T_ab404_row3_col4\" class=\"data row3 col4\" >16.5%</td>\n",
                     "      <td id=\"T_ab404_row3_col5\" class=\"data row3 col5\" >19.4%</td>\n",
                     "    </tr>\n",
                     "    <tr>\n",
                     "      <td id=\"T_ab404_row4_col0\" class=\"data row4 col0\" >женат / замужем</td>\n",
                     "      <td id=\"T_ab404_row4_col1\" class=\"data row4 col1\" >12380</td>\n",
                     "      <td id=\"T_ab404_row4_col2\" class=\"data row4 col2\" >363</td>\n",
                     "      <td id=\"T_ab404_row4_col3\" class=\"data row4 col3\" >2.9%</td>\n",
                     "      <td id=\"T_ab404_row4_col4\" class=\"data row4 col4\" >72.2%</td>\n",
                     "      <td id=\"T_ab404_row4_col5\" class=\"data row4 col5\" >57.5%</td>\n",
                     "    </tr>\n",
                     "  </tbody>\n",
                     "</table>\n"
                  ],
                  "text/plain": [
                     "<pandas.io.formats.style.Styler at 0x1d0a1978>"
                  ]
               },
               "metadata": {},
               "output_type": "display_data"
            }
         ],
         "source": [
            "next(gen)"
         ]
      },
      {
         "cell_type": "markdown",
         "metadata": {},
         "source": [
            "**Наблюдения:**\n",
            "- женат / замужем содержит значительно больше выбросов, даже учитывая что в общем количестве их тоже больше"
         ]
      },
      {
         "cell_type": "code",
         "execution_count": 105,
         "metadata": {},
         "outputs": [
            {
               "data": {
                  "text/html": [
                     "<style type=\"text/css\">\n",
                     "#T_72c91_ caption {\n",
                     "  font-size: 18px;\n",
                     "  text-align: left;\n",
                     "  font-weight: bold;\n",
                     "}\n",
                     "</style>\n",
                     "<table id=\"T_72c91_\">\n",
                     "  <caption>Outliers in \"children\" by category \"gender\"</caption>\n",
                     "  <thead>\n",
                     "    <tr>\n",
                     "      <th class=\"col_heading level0 col0\" >gender</th>\n",
                     "      <th class=\"col_heading level0 col1\" >total_count</th>\n",
                     "      <th class=\"col_heading level0 col2\" >outlier_count</th>\n",
                     "      <th class=\"col_heading level0 col3\" >outlier_in_category_pct</th>\n",
                     "      <th class=\"col_heading level0 col4\" >outlier_in_column_pct</th>\n",
                     "      <th class=\"col_heading level0 col5\" >total_count_pct</th>\n",
                     "    </tr>\n",
                     "  </thead>\n",
                     "  <tbody>\n",
                     "    <tr>\n",
                     "      <td id=\"T_72c91_row0_col0\" class=\"data row0 col0\" >F</td>\n",
                     "      <td id=\"T_72c91_row0_col1\" class=\"data row0 col1\" >14236</td>\n",
                     "      <td id=\"T_72c91_row0_col2\" class=\"data row0 col2\" >313</td>\n",
                     "      <td id=\"T_72c91_row0_col3\" class=\"data row0 col3\" >2.2%</td>\n",
                     "      <td id=\"T_72c91_row0_col4\" class=\"data row0 col4\" >62.2%</td>\n",
                     "      <td id=\"T_72c91_row0_col5\" class=\"data row0 col5\" >66.1%</td>\n",
                     "    </tr>\n",
                     "    <tr>\n",
                     "      <td id=\"T_72c91_row1_col0\" class=\"data row1 col0\" >M</td>\n",
                     "      <td id=\"T_72c91_row1_col1\" class=\"data row1 col1\" >7288</td>\n",
                     "      <td id=\"T_72c91_row1_col2\" class=\"data row1 col2\" >190</td>\n",
                     "      <td id=\"T_72c91_row1_col3\" class=\"data row1 col3\" >2.6%</td>\n",
                     "      <td id=\"T_72c91_row1_col4\" class=\"data row1 col4\" >37.8%</td>\n",
                     "      <td id=\"T_72c91_row1_col5\" class=\"data row1 col5\" >33.9%</td>\n",
                     "    </tr>\n",
                     "    <tr>\n",
                     "      <td id=\"T_72c91_row2_col0\" class=\"data row2 col0\" >XNA</td>\n",
                     "      <td id=\"T_72c91_row2_col1\" class=\"data row2 col1\" >1</td>\n",
                     "      <td id=\"T_72c91_row2_col2\" class=\"data row2 col2\" >0</td>\n",
                     "      <td id=\"T_72c91_row2_col3\" class=\"data row2 col3\" >0.0%</td>\n",
                     "      <td id=\"T_72c91_row2_col4\" class=\"data row2 col4\" >0.0%</td>\n",
                     "      <td id=\"T_72c91_row2_col5\" class=\"data row2 col5\" >0.0%</td>\n",
                     "    </tr>\n",
                     "  </tbody>\n",
                     "</table>\n"
                  ],
                  "text/plain": [
                     "<pandas.io.formats.style.Styler at 0x1d06d5c0>"
                  ]
               },
               "metadata": {},
               "output_type": "display_data"
            }
         ],
         "source": [
            "next(gen)"
         ]
      },
      {
         "cell_type": "markdown",
         "metadata": {},
         "source": [
            "**Наблюдения:**\n",
            "- У мужчин немного побольше выбросов, учитывая размер группы мужчин"
         ]
      },
      {
         "cell_type": "code",
         "execution_count": 106,
         "metadata": {},
         "outputs": [
            {
               "data": {
                  "text/html": [
                     "<style type=\"text/css\">\n",
                     "#T_24446_ caption {\n",
                     "  font-size: 18px;\n",
                     "  text-align: left;\n",
                     "  font-weight: bold;\n",
                     "}\n",
                     "</style>\n",
                     "<table id=\"T_24446_\">\n",
                     "  <caption>Outliers in \"children\" by category \"income_type\"</caption>\n",
                     "  <thead>\n",
                     "    <tr>\n",
                     "      <th class=\"col_heading level0 col0\" >income_type</th>\n",
                     "      <th class=\"col_heading level0 col1\" >total_count</th>\n",
                     "      <th class=\"col_heading level0 col2\" >outlier_count</th>\n",
                     "      <th class=\"col_heading level0 col3\" >outlier_in_category_pct</th>\n",
                     "      <th class=\"col_heading level0 col4\" >outlier_in_column_pct</th>\n",
                     "      <th class=\"col_heading level0 col5\" >total_count_pct</th>\n",
                     "    </tr>\n",
                     "  </thead>\n",
                     "  <tbody>\n",
                     "    <tr>\n",
                     "      <td id=\"T_24446_row0_col0\" class=\"data row0 col0\" >безработный</td>\n",
                     "      <td id=\"T_24446_row0_col1\" class=\"data row0 col1\" >2</td>\n",
                     "      <td id=\"T_24446_row0_col2\" class=\"data row0 col2\" >0</td>\n",
                     "      <td id=\"T_24446_row0_col3\" class=\"data row0 col3\" >0.0%</td>\n",
                     "      <td id=\"T_24446_row0_col4\" class=\"data row0 col4\" >0.0%</td>\n",
                     "      <td id=\"T_24446_row0_col5\" class=\"data row0 col5\" >0.0%</td>\n",
                     "    </tr>\n",
                     "    <tr>\n",
                     "      <td id=\"T_24446_row1_col0\" class=\"data row1 col0\" >в декрете</td>\n",
                     "      <td id=\"T_24446_row1_col1\" class=\"data row1 col1\" >1</td>\n",
                     "      <td id=\"T_24446_row1_col2\" class=\"data row1 col2\" >0</td>\n",
                     "      <td id=\"T_24446_row1_col3\" class=\"data row1 col3\" >0.0%</td>\n",
                     "      <td id=\"T_24446_row1_col4\" class=\"data row1 col4\" >0.0%</td>\n",
                     "      <td id=\"T_24446_row1_col5\" class=\"data row1 col5\" >0.0%</td>\n",
                     "    </tr>\n",
                     "    <tr>\n",
                     "      <td id=\"T_24446_row2_col0\" class=\"data row2 col0\" >госслужащий</td>\n",
                     "      <td id=\"T_24446_row2_col1\" class=\"data row2 col1\" >1459</td>\n",
                     "      <td id=\"T_24446_row2_col2\" class=\"data row2 col2\" >50</td>\n",
                     "      <td id=\"T_24446_row2_col3\" class=\"data row2 col3\" >3.4%</td>\n",
                     "      <td id=\"T_24446_row2_col4\" class=\"data row2 col4\" >9.9%</td>\n",
                     "      <td id=\"T_24446_row2_col5\" class=\"data row2 col5\" >6.8%</td>\n",
                     "    </tr>\n",
                     "    <tr>\n",
                     "      <td id=\"T_24446_row3_col0\" class=\"data row3 col0\" >компаньон</td>\n",
                     "      <td id=\"T_24446_row3_col1\" class=\"data row3 col1\" >5085</td>\n",
                     "      <td id=\"T_24446_row3_col2\" class=\"data row3 col2\" >114</td>\n",
                     "      <td id=\"T_24446_row3_col3\" class=\"data row3 col3\" >2.2%</td>\n",
                     "      <td id=\"T_24446_row3_col4\" class=\"data row3 col4\" >22.7%</td>\n",
                     "      <td id=\"T_24446_row3_col5\" class=\"data row3 col5\" >23.6%</td>\n",
                     "    </tr>\n",
                     "    <tr>\n",
                     "      <td id=\"T_24446_row4_col0\" class=\"data row4 col0\" >пенсионер</td>\n",
                     "      <td id=\"T_24446_row4_col1\" class=\"data row4 col1\" >3856</td>\n",
                     "      <td id=\"T_24446_row4_col2\" class=\"data row4 col2\" >24</td>\n",
                     "      <td id=\"T_24446_row4_col3\" class=\"data row4 col3\" >0.6%</td>\n",
                     "      <td id=\"T_24446_row4_col4\" class=\"data row4 col4\" >4.8%</td>\n",
                     "      <td id=\"T_24446_row4_col5\" class=\"data row4 col5\" >17.9%</td>\n",
                     "    </tr>\n",
                     "    <tr>\n",
                     "      <td id=\"T_24446_row5_col0\" class=\"data row5 col0\" >предприниматель</td>\n",
                     "      <td id=\"T_24446_row5_col1\" class=\"data row5 col1\" >2</td>\n",
                     "      <td id=\"T_24446_row5_col2\" class=\"data row5 col2\" >0</td>\n",
                     "      <td id=\"T_24446_row5_col3\" class=\"data row5 col3\" >0.0%</td>\n",
                     "      <td id=\"T_24446_row5_col4\" class=\"data row5 col4\" >0.0%</td>\n",
                     "      <td id=\"T_24446_row5_col5\" class=\"data row5 col5\" >0.0%</td>\n",
                     "    </tr>\n",
                     "    <tr>\n",
                     "      <td id=\"T_24446_row6_col0\" class=\"data row6 col0\" >сотрудник</td>\n",
                     "      <td id=\"T_24446_row6_col1\" class=\"data row6 col1\" >11119</td>\n",
                     "      <td id=\"T_24446_row6_col2\" class=\"data row6 col2\" >315</td>\n",
                     "      <td id=\"T_24446_row6_col3\" class=\"data row6 col3\" >2.8%</td>\n",
                     "      <td id=\"T_24446_row6_col4\" class=\"data row6 col4\" >62.6%</td>\n",
                     "      <td id=\"T_24446_row6_col5\" class=\"data row6 col5\" >51.7%</td>\n",
                     "    </tr>\n",
                     "    <tr>\n",
                     "      <td id=\"T_24446_row7_col0\" class=\"data row7 col0\" >студент</td>\n",
                     "      <td id=\"T_24446_row7_col1\" class=\"data row7 col1\" >1</td>\n",
                     "      <td id=\"T_24446_row7_col2\" class=\"data row7 col2\" >0</td>\n",
                     "      <td id=\"T_24446_row7_col3\" class=\"data row7 col3\" >0.0%</td>\n",
                     "      <td id=\"T_24446_row7_col4\" class=\"data row7 col4\" >0.0%</td>\n",
                     "      <td id=\"T_24446_row7_col5\" class=\"data row7 col5\" >0.0%</td>\n",
                     "    </tr>\n",
                     "  </tbody>\n",
                     "</table>\n"
                  ],
                  "text/plain": [
                     "<pandas.io.formats.style.Styler at 0x1d06dd68>"
                  ]
               },
               "metadata": {},
               "output_type": "display_data"
            }
         ],
         "source": [
            "next(gen)"
         ]
      },
      {
         "cell_type": "markdown",
         "metadata": {},
         "source": [
            "**Наблюдения:**\n",
            "- Больше всего выбросов у сотрудников, даже болше чем пропорция сотрудников в общем количестве"
         ]
      },
      {
         "cell_type": "code",
         "execution_count": 198,
         "metadata": {},
         "outputs": [
            {
               "data": {
                  "text/html": [
                     "<style type=\"text/css\">\n",
                     "#T_af760_ caption {\n",
                     "  font-size: 18px;\n",
                     "  text-align: left;\n",
                     "  font-weight: bold;\n",
                     "}\n",
                     "</style>\n",
                     "<table id=\"T_af760_\">\n",
                     "  <caption>Outliers in \"days_employed\" by category \"family_status\"</caption>\n",
                     "  <thead>\n",
                     "    <tr>\n",
                     "      <th class=\"col_heading level0 col0\" >family_status</th>\n",
                     "      <th class=\"col_heading level0 col1\" >total_count</th>\n",
                     "      <th class=\"col_heading level0 col2\" >outlier_count</th>\n",
                     "      <th class=\"col_heading level0 col3\" >outlier_in_category_pct</th>\n",
                     "      <th class=\"col_heading level0 col4\" >outlier_in_column_pct</th>\n",
                     "      <th class=\"col_heading level0 col5\" >total_count_pct</th>\n",
                     "    </tr>\n",
                     "  </thead>\n",
                     "  <tbody>\n",
                     "    <tr>\n",
                     "      <td id=\"T_af760_row0_col0\" class=\"data row0 col0\" >Не женат / не замужем</td>\n",
                     "      <td id=\"T_af760_row0_col1\" class=\"data row0 col1\" >2813</td>\n",
                     "      <td id=\"T_af760_row0_col2\" class=\"data row0 col2\" >182</td>\n",
                     "      <td id=\"T_af760_row0_col3\" class=\"data row0 col3\" >6.5%</td>\n",
                     "      <td id=\"T_af760_row0_col4\" class=\"data row0 col4\" >9.4%</td>\n",
                     "      <td id=\"T_af760_row0_col5\" class=\"data row0 col5\" >13.1%</td>\n",
                     "    </tr>\n",
                     "    <tr>\n",
                     "      <td id=\"T_af760_row1_col0\" class=\"data row1 col0\" >в разводе</td>\n",
                     "      <td id=\"T_af760_row1_col1\" class=\"data row1 col1\" >1195</td>\n",
                     "      <td id=\"T_af760_row1_col2\" class=\"data row1 col2\" >118</td>\n",
                     "      <td id=\"T_af760_row1_col3\" class=\"data row1 col3\" >9.9%</td>\n",
                     "      <td id=\"T_af760_row1_col4\" class=\"data row1 col4\" >6.1%</td>\n",
                     "      <td id=\"T_af760_row1_col5\" class=\"data row1 col5\" >5.6%</td>\n",
                     "    </tr>\n",
                     "    <tr>\n",
                     "      <td id=\"T_af760_row2_col0\" class=\"data row2 col0\" >вдовец / вдова</td>\n",
                     "      <td id=\"T_af760_row2_col1\" class=\"data row2 col1\" >960</td>\n",
                     "      <td id=\"T_af760_row2_col2\" class=\"data row2 col2\" >169</td>\n",
                     "      <td id=\"T_af760_row2_col3\" class=\"data row2 col3\" >17.6%</td>\n",
                     "      <td id=\"T_af760_row2_col4\" class=\"data row2 col4\" >8.7%</td>\n",
                     "      <td id=\"T_af760_row2_col5\" class=\"data row2 col5\" >4.5%</td>\n",
                     "    </tr>\n",
                     "    <tr>\n",
                     "      <td id=\"T_af760_row3_col0\" class=\"data row3 col0\" >гражданский брак</td>\n",
                     "      <td id=\"T_af760_row3_col1\" class=\"data row3 col1\" >4177</td>\n",
                     "      <td id=\"T_af760_row3_col2\" class=\"data row3 col2\" >346</td>\n",
                     "      <td id=\"T_af760_row3_col3\" class=\"data row3 col3\" >8.3%</td>\n",
                     "      <td id=\"T_af760_row3_col4\" class=\"data row3 col4\" >17.9%</td>\n",
                     "      <td id=\"T_af760_row3_col5\" class=\"data row3 col5\" >19.4%</td>\n",
                     "    </tr>\n",
                     "    <tr>\n",
                     "      <td id=\"T_af760_row4_col0\" class=\"data row4 col0\" >женат / замужем</td>\n",
                     "      <td id=\"T_af760_row4_col1\" class=\"data row4 col1\" >12380</td>\n",
                     "      <td id=\"T_af760_row4_col2\" class=\"data row4 col2\" >1121</td>\n",
                     "      <td id=\"T_af760_row4_col3\" class=\"data row4 col3\" >9.1%</td>\n",
                     "      <td id=\"T_af760_row4_col4\" class=\"data row4 col4\" >57.9%</td>\n",
                     "      <td id=\"T_af760_row4_col5\" class=\"data row4 col5\" >57.5%</td>\n",
                     "    </tr>\n",
                     "  </tbody>\n",
                     "</table>\n"
                  ],
                  "text/plain": [
                     "<pandas.io.formats.style.Styler at 0x1d0938d0>"
                  ]
               },
               "metadata": {},
               "output_type": "display_data"
            }
         ],
         "source": [
            "next(gen)"
         ]
      },
      {
         "cell_type": "markdown",
         "metadata": {},
         "source": [
            "**Наблюдения:**\n",
            "- вдовец / вдова имеет больше процент пропусков чем пропроция в общем количестве"
         ]
      },
      {
         "cell_type": "code",
         "execution_count": 200,
         "metadata": {},
         "outputs": [
            {
               "data": {
                  "text/html": [
                     "<style type=\"text/css\">\n",
                     "#T_02ddb_ caption {\n",
                     "  font-size: 18px;\n",
                     "  text-align: left;\n",
                     "  font-weight: bold;\n",
                     "}\n",
                     "</style>\n",
                     "<table id=\"T_02ddb_\">\n",
                     "  <caption>Outliers in \"days_employed\" by category \"gender\"</caption>\n",
                     "  <thead>\n",
                     "    <tr>\n",
                     "      <th class=\"col_heading level0 col0\" >gender</th>\n",
                     "      <th class=\"col_heading level0 col1\" >total_count</th>\n",
                     "      <th class=\"col_heading level0 col2\" >outlier_count</th>\n",
                     "      <th class=\"col_heading level0 col3\" >outlier_in_category_pct</th>\n",
                     "      <th class=\"col_heading level0 col4\" >outlier_in_column_pct</th>\n",
                     "      <th class=\"col_heading level0 col5\" >total_count_pct</th>\n",
                     "    </tr>\n",
                     "  </thead>\n",
                     "  <tbody>\n",
                     "    <tr>\n",
                     "      <td id=\"T_02ddb_row0_col0\" class=\"data row0 col0\" >F</td>\n",
                     "      <td id=\"T_02ddb_row0_col1\" class=\"data row0 col1\" >14236</td>\n",
                     "      <td id=\"T_02ddb_row0_col2\" class=\"data row0 col2\" >1544</td>\n",
                     "      <td id=\"T_02ddb_row0_col3\" class=\"data row0 col3\" >10.8%</td>\n",
                     "      <td id=\"T_02ddb_row0_col4\" class=\"data row0 col4\" >79.8%</td>\n",
                     "      <td id=\"T_02ddb_row0_col5\" class=\"data row0 col5\" >66.1%</td>\n",
                     "    </tr>\n",
                     "    <tr>\n",
                     "      <td id=\"T_02ddb_row1_col0\" class=\"data row1 col0\" >M</td>\n",
                     "      <td id=\"T_02ddb_row1_col1\" class=\"data row1 col1\" >7288</td>\n",
                     "      <td id=\"T_02ddb_row1_col2\" class=\"data row1 col2\" >392</td>\n",
                     "      <td id=\"T_02ddb_row1_col3\" class=\"data row1 col3\" >5.4%</td>\n",
                     "      <td id=\"T_02ddb_row1_col4\" class=\"data row1 col4\" >20.2%</td>\n",
                     "      <td id=\"T_02ddb_row1_col5\" class=\"data row1 col5\" >33.9%</td>\n",
                     "    </tr>\n",
                     "    <tr>\n",
                     "      <td id=\"T_02ddb_row2_col0\" class=\"data row2 col0\" >XNA</td>\n",
                     "      <td id=\"T_02ddb_row2_col1\" class=\"data row2 col1\" >1</td>\n",
                     "      <td id=\"T_02ddb_row2_col2\" class=\"data row2 col2\" >0</td>\n",
                     "      <td id=\"T_02ddb_row2_col3\" class=\"data row2 col3\" >0.0%</td>\n",
                     "      <td id=\"T_02ddb_row2_col4\" class=\"data row2 col4\" >0.0%</td>\n",
                     "      <td id=\"T_02ddb_row2_col5\" class=\"data row2 col5\" >0.0%</td>\n",
                     "    </tr>\n",
                     "  </tbody>\n",
                     "</table>\n"
                  ],
                  "text/plain": [
                     "<pandas.io.formats.style.Styler at 0x1d0930b8>"
                  ]
               },
               "metadata": {},
               "output_type": "display_data"
            }
         ],
         "source": [
            "next(gen)"
         ]
      },
      {
         "cell_type": "markdown",
         "metadata": {},
         "source": [
            "**Наблюдения:**\n",
            "- У женщин выбросов в стаже намного болше чем у мужчин, даже учитывая что женщин больше всего"
         ]
      },
      {
         "cell_type": "code",
         "execution_count": 201,
         "metadata": {},
         "outputs": [
            {
               "data": {
                  "text/html": [
                     "<style type=\"text/css\">\n",
                     "#T_11e83_ caption {\n",
                     "  font-size: 18px;\n",
                     "  text-align: left;\n",
                     "  font-weight: bold;\n",
                     "}\n",
                     "</style>\n",
                     "<table id=\"T_11e83_\">\n",
                     "  <caption>Outliers in \"days_employed\" by category \"income_type\"</caption>\n",
                     "  <thead>\n",
                     "    <tr>\n",
                     "      <th class=\"col_heading level0 col0\" >income_type</th>\n",
                     "      <th class=\"col_heading level0 col1\" >total_count</th>\n",
                     "      <th class=\"col_heading level0 col2\" >outlier_count</th>\n",
                     "      <th class=\"col_heading level0 col3\" >outlier_in_category_pct</th>\n",
                     "      <th class=\"col_heading level0 col4\" >outlier_in_column_pct</th>\n",
                     "      <th class=\"col_heading level0 col5\" >total_count_pct</th>\n",
                     "    </tr>\n",
                     "  </thead>\n",
                     "  <tbody>\n",
                     "    <tr>\n",
                     "      <td id=\"T_11e83_row0_col0\" class=\"data row0 col0\" >безработный</td>\n",
                     "      <td id=\"T_11e83_row0_col1\" class=\"data row0 col1\" >2</td>\n",
                     "      <td id=\"T_11e83_row0_col2\" class=\"data row0 col2\" >1</td>\n",
                     "      <td id=\"T_11e83_row0_col3\" class=\"data row0 col3\" >50.0%</td>\n",
                     "      <td id=\"T_11e83_row0_col4\" class=\"data row0 col4\" >0.1%</td>\n",
                     "      <td id=\"T_11e83_row0_col5\" class=\"data row0 col5\" >0.0%</td>\n",
                     "    </tr>\n",
                     "    <tr>\n",
                     "      <td id=\"T_11e83_row1_col0\" class=\"data row1 col0\" >в декрете</td>\n",
                     "      <td id=\"T_11e83_row1_col1\" class=\"data row1 col1\" >1</td>\n",
                     "      <td id=\"T_11e83_row1_col2\" class=\"data row1 col2\" >0</td>\n",
                     "      <td id=\"T_11e83_row1_col3\" class=\"data row1 col3\" >0.0%</td>\n",
                     "      <td id=\"T_11e83_row1_col4\" class=\"data row1 col4\" >0.0%</td>\n",
                     "      <td id=\"T_11e83_row1_col5\" class=\"data row1 col5\" >0.0%</td>\n",
                     "    </tr>\n",
                     "    <tr>\n",
                     "      <td id=\"T_11e83_row2_col0\" class=\"data row2 col0\" >госслужащий</td>\n",
                     "      <td id=\"T_11e83_row2_col1\" class=\"data row2 col1\" >1459</td>\n",
                     "      <td id=\"T_11e83_row2_col2\" class=\"data row2 col2\" >183</td>\n",
                     "      <td id=\"T_11e83_row2_col3\" class=\"data row2 col3\" >12.5%</td>\n",
                     "      <td id=\"T_11e83_row2_col4\" class=\"data row2 col4\" >9.5%</td>\n",
                     "      <td id=\"T_11e83_row2_col5\" class=\"data row2 col5\" >6.8%</td>\n",
                     "    </tr>\n",
                     "    <tr>\n",
                     "      <td id=\"T_11e83_row3_col0\" class=\"data row3 col0\" >компаньон</td>\n",
                     "      <td id=\"T_11e83_row3_col1\" class=\"data row3 col1\" >5085</td>\n",
                     "      <td id=\"T_11e83_row3_col2\" class=\"data row3 col2\" >173</td>\n",
                     "      <td id=\"T_11e83_row3_col3\" class=\"data row3 col3\" >3.4%</td>\n",
                     "      <td id=\"T_11e83_row3_col4\" class=\"data row3 col4\" >8.9%</td>\n",
                     "      <td id=\"T_11e83_row3_col5\" class=\"data row3 col5\" >23.6%</td>\n",
                     "    </tr>\n",
                     "    <tr>\n",
                     "      <td id=\"T_11e83_row4_col0\" class=\"data row4 col0\" >пенсионер</td>\n",
                     "      <td id=\"T_11e83_row4_col1\" class=\"data row4 col1\" >3856</td>\n",
                     "      <td id=\"T_11e83_row4_col2\" class=\"data row4 col2\" >967</td>\n",
                     "      <td id=\"T_11e83_row4_col3\" class=\"data row4 col3\" >25.1%</td>\n",
                     "      <td id=\"T_11e83_row4_col4\" class=\"data row4 col4\" >49.9%</td>\n",
                     "      <td id=\"T_11e83_row4_col5\" class=\"data row4 col5\" >17.9%</td>\n",
                     "    </tr>\n",
                     "    <tr>\n",
                     "      <td id=\"T_11e83_row5_col0\" class=\"data row5 col0\" >предприниматель</td>\n",
                     "      <td id=\"T_11e83_row5_col1\" class=\"data row5 col1\" >2</td>\n",
                     "      <td id=\"T_11e83_row5_col2\" class=\"data row5 col2\" >0</td>\n",
                     "      <td id=\"T_11e83_row5_col3\" class=\"data row5 col3\" >0.0%</td>\n",
                     "      <td id=\"T_11e83_row5_col4\" class=\"data row5 col4\" >0.0%</td>\n",
                     "      <td id=\"T_11e83_row5_col5\" class=\"data row5 col5\" >0.0%</td>\n",
                     "    </tr>\n",
                     "    <tr>\n",
                     "      <td id=\"T_11e83_row6_col0\" class=\"data row6 col0\" >сотрудник</td>\n",
                     "      <td id=\"T_11e83_row6_col1\" class=\"data row6 col1\" >11119</td>\n",
                     "      <td id=\"T_11e83_row6_col2\" class=\"data row6 col2\" >612</td>\n",
                     "      <td id=\"T_11e83_row6_col3\" class=\"data row6 col3\" >5.5%</td>\n",
                     "      <td id=\"T_11e83_row6_col4\" class=\"data row6 col4\" >31.6%</td>\n",
                     "      <td id=\"T_11e83_row6_col5\" class=\"data row6 col5\" >51.7%</td>\n",
                     "    </tr>\n",
                     "    <tr>\n",
                     "      <td id=\"T_11e83_row7_col0\" class=\"data row7 col0\" >студент</td>\n",
                     "      <td id=\"T_11e83_row7_col1\" class=\"data row7 col1\" >1</td>\n",
                     "      <td id=\"T_11e83_row7_col2\" class=\"data row7 col2\" >0</td>\n",
                     "      <td id=\"T_11e83_row7_col3\" class=\"data row7 col3\" >0.0%</td>\n",
                     "      <td id=\"T_11e83_row7_col4\" class=\"data row7 col4\" >0.0%</td>\n",
                     "      <td id=\"T_11e83_row7_col5\" class=\"data row7 col5\" >0.0%</td>\n",
                     "    </tr>\n",
                     "  </tbody>\n",
                     "</table>\n"
                  ],
                  "text/plain": [
                     "<pandas.io.formats.style.Styler at 0x1d093cf8>"
                  ]
               },
               "metadata": {},
               "output_type": "display_data"
            }
         ],
         "source": [
            "next(gen)"
         ]
      },
      {
         "cell_type": "markdown",
         "metadata": {},
         "source": [
            "**Наблюдения:**\n",
            "- У пенсионеров значительно болше выбросов в стаже"
         ]
      },
      {
         "cell_type": "code",
         "execution_count": 202,
         "metadata": {},
         "outputs": [
            {
               "data": {
                  "text/html": [
                     "<style type=\"text/css\">\n",
                     "#T_93786_ caption {\n",
                     "  font-size: 18px;\n",
                     "  text-align: left;\n",
                     "  font-weight: bold;\n",
                     "}\n",
                     "</style>\n",
                     "<table id=\"T_93786_\">\n",
                     "  <caption>Outliers in \"days_employed\" by category \"debt\"</caption>\n",
                     "  <thead>\n",
                     "    <tr>\n",
                     "      <th class=\"col_heading level0 col0\" >debt</th>\n",
                     "      <th class=\"col_heading level0 col1\" >total_count</th>\n",
                     "      <th class=\"col_heading level0 col2\" >outlier_count</th>\n",
                     "      <th class=\"col_heading level0 col3\" >outlier_in_category_pct</th>\n",
                     "      <th class=\"col_heading level0 col4\" >outlier_in_column_pct</th>\n",
                     "      <th class=\"col_heading level0 col5\" >total_count_pct</th>\n",
                     "    </tr>\n",
                     "  </thead>\n",
                     "  <tbody>\n",
                     "    <tr>\n",
                     "      <td id=\"T_93786_row0_col0\" class=\"data row0 col0\" >0</td>\n",
                     "      <td id=\"T_93786_row0_col1\" class=\"data row0 col1\" >19784</td>\n",
                     "      <td id=\"T_93786_row0_col2\" class=\"data row0 col2\" >1838</td>\n",
                     "      <td id=\"T_93786_row0_col3\" class=\"data row0 col3\" >9.3%</td>\n",
                     "      <td id=\"T_93786_row0_col4\" class=\"data row0 col4\" >94.9%</td>\n",
                     "      <td id=\"T_93786_row0_col5\" class=\"data row0 col5\" >91.9%</td>\n",
                     "    </tr>\n",
                     "    <tr>\n",
                     "      <td id=\"T_93786_row1_col0\" class=\"data row1 col0\" >1</td>\n",
                     "      <td id=\"T_93786_row1_col1\" class=\"data row1 col1\" >1741</td>\n",
                     "      <td id=\"T_93786_row1_col2\" class=\"data row1 col2\" >98</td>\n",
                     "      <td id=\"T_93786_row1_col3\" class=\"data row1 col3\" >5.6%</td>\n",
                     "      <td id=\"T_93786_row1_col4\" class=\"data row1 col4\" >5.1%</td>\n",
                     "      <td id=\"T_93786_row1_col5\" class=\"data row1 col5\" >8.1%</td>\n",
                     "    </tr>\n",
                     "  </tbody>\n",
                     "</table>\n"
                  ],
                  "text/plain": [
                     "<pandas.io.formats.style.Styler at 0x1d0936a0>"
                  ]
               },
               "metadata": {},
               "output_type": "display_data"
            }
         ],
         "source": [
            "next(gen)"
         ]
      },
      {
         "cell_type": "markdown",
         "metadata": {},
         "source": [
            "**Наблюдения:**\n",
            "- У женщин выбросов в стаже намного болше чем у мужчин, даже учитывая что женщин больше всего"
         ]
      },
      {
         "cell_type": "code",
         "execution_count": 203,
         "metadata": {},
         "outputs": [
            {
               "data": {
                  "text/html": [
                     "<style type=\"text/css\">\n",
                     "#T_6021a_ caption {\n",
                     "  font-size: 18px;\n",
                     "  text-align: left;\n",
                     "  font-weight: bold;\n",
                     "}\n",
                     "</style>\n",
                     "<table id=\"T_6021a_\">\n",
                     "  <caption>dob_years</caption>\n",
                     "  <thead>\n",
                     "    <tr>\n",
                     "      <th class=\"blank level0\" >&nbsp;</th>\n",
                     "      <th class=\"col_heading level0 col0\" >outliers</th>\n",
                     "    </tr>\n",
                     "  </thead>\n",
                     "  <tbody>\n",
                     "    <tr>\n",
                     "      <th id=\"T_6021a_level0_row0\" class=\"row_heading level0 row0\" >24</th>\n",
                     "      <td id=\"T_6021a_row0_col0\" class=\"data row0 col0\" >264</td>\n",
                     "    </tr>\n",
                     "    <tr>\n",
                     "      <th id=\"T_6021a_level0_row1\" class=\"row_heading level0 row1\" >23</th>\n",
                     "      <td id=\"T_6021a_row1_col0\" class=\"data row1 col0\" >254</td>\n",
                     "    </tr>\n",
                     "    <tr>\n",
                     "      <th id=\"T_6021a_level0_row2\" class=\"row_heading level0 row2\" >65</th>\n",
                     "      <td id=\"T_6021a_row2_col0\" class=\"data row2 col0\" >194</td>\n",
                     "    </tr>\n",
                     "    <tr>\n",
                     "      <th id=\"T_6021a_level0_row3\" class=\"row_heading level0 row3\" >66</th>\n",
                     "      <td id=\"T_6021a_row3_col0\" class=\"data row3 col0\" >183</td>\n",
                     "    </tr>\n",
                     "    <tr>\n",
                     "      <th id=\"T_6021a_level0_row4\" class=\"row_heading level0 row4\" >22</th>\n",
                     "      <td id=\"T_6021a_row4_col0\" class=\"data row4 col0\" >183</td>\n",
                     "    </tr>\n",
                     "    <tr>\n",
                     "      <th id=\"T_6021a_level0_row5\" class=\"row_heading level0 row5\" >67</th>\n",
                     "      <td id=\"T_6021a_row5_col0\" class=\"data row5 col0\" >167</td>\n",
                     "    </tr>\n",
                     "    <tr>\n",
                     "      <th id=\"T_6021a_level0_row6\" class=\"row_heading level0 row6\" >21</th>\n",
                     "      <td id=\"T_6021a_row6_col0\" class=\"data row6 col0\" >111</td>\n",
                     "    </tr>\n",
                     "    <tr>\n",
                     "      <th id=\"T_6021a_level0_row7\" class=\"row_heading level0 row7\" >0</th>\n",
                     "      <td id=\"T_6021a_row7_col0\" class=\"data row7 col0\" >101</td>\n",
                     "    </tr>\n",
                     "    <tr>\n",
                     "      <th id=\"T_6021a_level0_row8\" class=\"row_heading level0 row8\" >68</th>\n",
                     "      <td id=\"T_6021a_row8_col0\" class=\"data row8 col0\" >99</td>\n",
                     "    </tr>\n",
                     "    <tr>\n",
                     "      <th id=\"T_6021a_level0_row9\" class=\"row_heading level0 row9\" >69</th>\n",
                     "      <td id=\"T_6021a_row9_col0\" class=\"data row9 col0\" >85</td>\n",
                     "    </tr>\n",
                     "  </tbody>\n",
                     "</table>\n"
                  ],
                  "text/plain": [
                     "<pandas.io.formats.style.Styler at 0x1d15dfd0>"
                  ]
               },
               "metadata": {},
               "output_type": "display_data"
            }
         ],
         "source": [
            "next(gen)"
         ]
      },
      {
         "cell_type": "markdown",
         "metadata": {},
         "source": [
            "**Наблюдения:**\n",
            "- В выбросы попали самые молодые и самые старые по возрасту, что логично, также попал 0"
         ]
      },
      {
         "cell_type": "code",
         "execution_count": 206,
         "metadata": {},
         "outputs": [
            {
               "data": {
                  "text/html": [
                     "<style type=\"text/css\">\n",
                     "#T_c8d25_ caption {\n",
                     "  font-size: 18px;\n",
                     "  text-align: left;\n",
                     "  font-weight: bold;\n",
                     "}\n",
                     "</style>\n",
                     "<table id=\"T_c8d25_\">\n",
                     "  <caption>Outliers in \"dob_years\" by category \"family_status\"</caption>\n",
                     "  <thead>\n",
                     "    <tr>\n",
                     "      <th class=\"col_heading level0 col0\" >family_status</th>\n",
                     "      <th class=\"col_heading level0 col1\" >total_count</th>\n",
                     "      <th class=\"col_heading level0 col2\" >outlier_count</th>\n",
                     "      <th class=\"col_heading level0 col3\" >outlier_in_category_pct</th>\n",
                     "      <th class=\"col_heading level0 col4\" >outlier_in_column_pct</th>\n",
                     "      <th class=\"col_heading level0 col5\" >total_count_pct</th>\n",
                     "    </tr>\n",
                     "  </thead>\n",
                     "  <tbody>\n",
                     "    <tr>\n",
                     "      <td id=\"T_c8d25_row0_col0\" class=\"data row0 col0\" >Не женат / не замужем</td>\n",
                     "      <td id=\"T_c8d25_row0_col1\" class=\"data row0 col1\" >2813</td>\n",
                     "      <td id=\"T_c8d25_row0_col2\" class=\"data row0 col2\" >465</td>\n",
                     "      <td id=\"T_c8d25_row0_col3\" class=\"data row0 col3\" >16.5%</td>\n",
                     "      <td id=\"T_c8d25_row0_col4\" class=\"data row0 col4\" >24.8%</td>\n",
                     "      <td id=\"T_c8d25_row0_col5\" class=\"data row0 col5\" >13.1%</td>\n",
                     "    </tr>\n",
                     "    <tr>\n",
                     "      <td id=\"T_c8d25_row1_col0\" class=\"data row1 col0\" >в разводе</td>\n",
                     "      <td id=\"T_c8d25_row1_col1\" class=\"data row1 col1\" >1195</td>\n",
                     "      <td id=\"T_c8d25_row1_col2\" class=\"data row1 col2\" >75</td>\n",
                     "      <td id=\"T_c8d25_row1_col3\" class=\"data row1 col3\" >6.3%</td>\n",
                     "      <td id=\"T_c8d25_row1_col4\" class=\"data row1 col4\" >4.0%</td>\n",
                     "      <td id=\"T_c8d25_row1_col5\" class=\"data row1 col5\" >5.6%</td>\n",
                     "    </tr>\n",
                     "    <tr>\n",
                     "      <td id=\"T_c8d25_row2_col0\" class=\"data row2 col0\" >вдовец / вдова</td>\n",
                     "      <td id=\"T_c8d25_row2_col1\" class=\"data row2 col1\" >960</td>\n",
                     "      <td id=\"T_c8d25_row2_col2\" class=\"data row2 col2\" >176</td>\n",
                     "      <td id=\"T_c8d25_row2_col3\" class=\"data row2 col3\" >18.3%</td>\n",
                     "      <td id=\"T_c8d25_row2_col4\" class=\"data row2 col4\" >9.4%</td>\n",
                     "      <td id=\"T_c8d25_row2_col5\" class=\"data row2 col5\" >4.5%</td>\n",
                     "    </tr>\n",
                     "    <tr>\n",
                     "      <td id=\"T_c8d25_row3_col0\" class=\"data row3 col0\" >гражданский брак</td>\n",
                     "      <td id=\"T_c8d25_row3_col1\" class=\"data row3 col1\" >4177</td>\n",
                     "      <td id=\"T_c8d25_row3_col2\" class=\"data row3 col2\" >385</td>\n",
                     "      <td id=\"T_c8d25_row3_col3\" class=\"data row3 col3\" >9.2%</td>\n",
                     "      <td id=\"T_c8d25_row3_col4\" class=\"data row3 col4\" >20.5%</td>\n",
                     "      <td id=\"T_c8d25_row3_col5\" class=\"data row3 col5\" >19.4%</td>\n",
                     "    </tr>\n",
                     "    <tr>\n",
                     "      <td id=\"T_c8d25_row4_col0\" class=\"data row4 col0\" >женат / замужем</td>\n",
                     "      <td id=\"T_c8d25_row4_col1\" class=\"data row4 col1\" >12380</td>\n",
                     "      <td id=\"T_c8d25_row4_col2\" class=\"data row4 col2\" >776</td>\n",
                     "      <td id=\"T_c8d25_row4_col3\" class=\"data row4 col3\" >6.3%</td>\n",
                     "      <td id=\"T_c8d25_row4_col4\" class=\"data row4 col4\" >41.3%</td>\n",
                     "      <td id=\"T_c8d25_row4_col5\" class=\"data row4 col5\" >57.5%</td>\n",
                     "    </tr>\n",
                     "  </tbody>\n",
                     "</table>\n"
                  ],
                  "text/plain": [
                     "<pandas.io.formats.style.Styler at 0x1d090710>"
                  ]
               },
               "metadata": {},
               "output_type": "display_data"
            }
         ],
         "source": [
            "next(gen)"
         ]
      },
      {
         "cell_type": "markdown",
         "metadata": {},
         "source": [
            "**Наблюдения:**\n",
            "- Не женат / не замужем выделяется по выбросам, учитывая пропроцию в общем количестве"
         ]
      },
      {
         "cell_type": "code",
         "execution_count": 209,
         "metadata": {},
         "outputs": [
            {
               "data": {
                  "text/html": [
                     "<style type=\"text/css\">\n",
                     "#T_42571_ caption {\n",
                     "  font-size: 18px;\n",
                     "  text-align: left;\n",
                     "  font-weight: bold;\n",
                     "}\n",
                     "</style>\n",
                     "<table id=\"T_42571_\">\n",
                     "  <caption>Outliers in \"dob_years\" by category \"income_type\"</caption>\n",
                     "  <thead>\n",
                     "    <tr>\n",
                     "      <th class=\"col_heading level0 col0\" >income_type</th>\n",
                     "      <th class=\"col_heading level0 col1\" >total_count</th>\n",
                     "      <th class=\"col_heading level0 col2\" >outlier_count</th>\n",
                     "      <th class=\"col_heading level0 col3\" >outlier_in_category_pct</th>\n",
                     "      <th class=\"col_heading level0 col4\" >outlier_in_column_pct</th>\n",
                     "      <th class=\"col_heading level0 col5\" >total_count_pct</th>\n",
                     "    </tr>\n",
                     "  </thead>\n",
                     "  <tbody>\n",
                     "    <tr>\n",
                     "      <td id=\"T_42571_row0_col0\" class=\"data row0 col0\" >безработный</td>\n",
                     "      <td id=\"T_42571_row0_col1\" class=\"data row0 col1\" >2</td>\n",
                     "      <td id=\"T_42571_row0_col2\" class=\"data row0 col2\" >0</td>\n",
                     "      <td id=\"T_42571_row0_col3\" class=\"data row0 col3\" >0.0%</td>\n",
                     "      <td id=\"T_42571_row0_col4\" class=\"data row0 col4\" >0.0%</td>\n",
                     "      <td id=\"T_42571_row0_col5\" class=\"data row0 col5\" >0.0%</td>\n",
                     "    </tr>\n",
                     "    <tr>\n",
                     "      <td id=\"T_42571_row1_col0\" class=\"data row1 col0\" >в декрете</td>\n",
                     "      <td id=\"T_42571_row1_col1\" class=\"data row1 col1\" >1</td>\n",
                     "      <td id=\"T_42571_row1_col2\" class=\"data row1 col2\" >0</td>\n",
                     "      <td id=\"T_42571_row1_col3\" class=\"data row1 col3\" >0.0%</td>\n",
                     "      <td id=\"T_42571_row1_col4\" class=\"data row1 col4\" >0.0%</td>\n",
                     "      <td id=\"T_42571_row1_col5\" class=\"data row1 col5\" >0.0%</td>\n",
                     "    </tr>\n",
                     "    <tr>\n",
                     "      <td id=\"T_42571_row2_col0\" class=\"data row2 col0\" >госслужащий</td>\n",
                     "      <td id=\"T_42571_row2_col1\" class=\"data row2 col1\" >1459</td>\n",
                     "      <td id=\"T_42571_row2_col2\" class=\"data row2 col2\" >69</td>\n",
                     "      <td id=\"T_42571_row2_col3\" class=\"data row2 col3\" >4.7%</td>\n",
                     "      <td id=\"T_42571_row2_col4\" class=\"data row2 col4\" >3.7%</td>\n",
                     "      <td id=\"T_42571_row2_col5\" class=\"data row2 col5\" >6.8%</td>\n",
                     "    </tr>\n",
                     "    <tr>\n",
                     "      <td id=\"T_42571_row3_col0\" class=\"data row3 col0\" >компаньон</td>\n",
                     "      <td id=\"T_42571_row3_col1\" class=\"data row3 col1\" >5085</td>\n",
                     "      <td id=\"T_42571_row3_col2\" class=\"data row3 col2\" >333</td>\n",
                     "      <td id=\"T_42571_row3_col3\" class=\"data row3 col3\" >6.5%</td>\n",
                     "      <td id=\"T_42571_row3_col4\" class=\"data row3 col4\" >17.7%</td>\n",
                     "      <td id=\"T_42571_row3_col5\" class=\"data row3 col5\" >23.6%</td>\n",
                     "    </tr>\n",
                     "    <tr>\n",
                     "      <td id=\"T_42571_row4_col0\" class=\"data row4 col0\" >пенсионер</td>\n",
                     "      <td id=\"T_42571_row4_col1\" class=\"data row4 col1\" >3856</td>\n",
                     "      <td id=\"T_42571_row4_col2\" class=\"data row4 col2\" >792</td>\n",
                     "      <td id=\"T_42571_row4_col3\" class=\"data row4 col3\" >20.5%</td>\n",
                     "      <td id=\"T_42571_row4_col4\" class=\"data row4 col4\" >42.2%</td>\n",
                     "      <td id=\"T_42571_row4_col5\" class=\"data row4 col5\" >17.9%</td>\n",
                     "    </tr>\n",
                     "    <tr>\n",
                     "      <td id=\"T_42571_row5_col0\" class=\"data row5 col0\" >предприниматель</td>\n",
                     "      <td id=\"T_42571_row5_col1\" class=\"data row5 col1\" >2</td>\n",
                     "      <td id=\"T_42571_row5_col2\" class=\"data row5 col2\" >0</td>\n",
                     "      <td id=\"T_42571_row5_col3\" class=\"data row5 col3\" >0.0%</td>\n",
                     "      <td id=\"T_42571_row5_col4\" class=\"data row5 col4\" >0.0%</td>\n",
                     "      <td id=\"T_42571_row5_col5\" class=\"data row5 col5\" >0.0%</td>\n",
                     "    </tr>\n",
                     "    <tr>\n",
                     "      <td id=\"T_42571_row6_col0\" class=\"data row6 col0\" >сотрудник</td>\n",
                     "      <td id=\"T_42571_row6_col1\" class=\"data row6 col1\" >11119</td>\n",
                     "      <td id=\"T_42571_row6_col2\" class=\"data row6 col2\" >682</td>\n",
                     "      <td id=\"T_42571_row6_col3\" class=\"data row6 col3\" >6.1%</td>\n",
                     "      <td id=\"T_42571_row6_col4\" class=\"data row6 col4\" >36.3%</td>\n",
                     "      <td id=\"T_42571_row6_col5\" class=\"data row6 col5\" >51.7%</td>\n",
                     "    </tr>\n",
                     "    <tr>\n",
                     "      <td id=\"T_42571_row7_col0\" class=\"data row7 col0\" >студент</td>\n",
                     "      <td id=\"T_42571_row7_col1\" class=\"data row7 col1\" >1</td>\n",
                     "      <td id=\"T_42571_row7_col2\" class=\"data row7 col2\" >1</td>\n",
                     "      <td id=\"T_42571_row7_col3\" class=\"data row7 col3\" >100.0%</td>\n",
                     "      <td id=\"T_42571_row7_col4\" class=\"data row7 col4\" >0.1%</td>\n",
                     "      <td id=\"T_42571_row7_col5\" class=\"data row7 col5\" >0.0%</td>\n",
                     "    </tr>\n",
                     "  </tbody>\n",
                     "</table>\n"
                  ],
                  "text/plain": [
                     "<pandas.io.formats.style.Styler at 0x1d090908>"
                  ]
               },
               "metadata": {},
               "output_type": "display_data"
            }
         ],
         "source": [
            "next(gen)"
         ]
      },
      {
         "cell_type": "markdown",
         "metadata": {},
         "source": [
            "**Наблюдения:**\n",
            "- У пенсионеров болше выбросов по возрасту, что логично"
         ]
      },
      {
         "cell_type": "code",
         "execution_count": 214,
         "metadata": {},
         "outputs": [
            {
               "data": {
                  "text/html": [
                     "<style type=\"text/css\">\n",
                     "#T_4a4ee_ caption {\n",
                     "  font-size: 18px;\n",
                     "  text-align: left;\n",
                     "  font-weight: bold;\n",
                     "}\n",
                     "</style>\n",
                     "<table id=\"T_4a4ee_\">\n",
                     "  <caption>Outliers in \"total_income\" by category \"family_status\"</caption>\n",
                     "  <thead>\n",
                     "    <tr>\n",
                     "      <th class=\"col_heading level0 col0\" >family_status</th>\n",
                     "      <th class=\"col_heading level0 col1\" >total_count</th>\n",
                     "      <th class=\"col_heading level0 col2\" >outlier_count</th>\n",
                     "      <th class=\"col_heading level0 col3\" >outlier_in_category_pct</th>\n",
                     "      <th class=\"col_heading level0 col4\" >outlier_in_column_pct</th>\n",
                     "      <th class=\"col_heading level0 col5\" >total_count_pct</th>\n",
                     "    </tr>\n",
                     "  </thead>\n",
                     "  <tbody>\n",
                     "    <tr>\n",
                     "      <td id=\"T_4a4ee_row0_col0\" class=\"data row0 col0\" >Не женат / не замужем</td>\n",
                     "      <td id=\"T_4a4ee_row0_col1\" class=\"data row0 col1\" >2813</td>\n",
                     "      <td id=\"T_4a4ee_row0_col2\" class=\"data row0 col2\" >217</td>\n",
                     "      <td id=\"T_4a4ee_row0_col3\" class=\"data row0 col3\" >7.7%</td>\n",
                     "      <td id=\"T_4a4ee_row0_col4\" class=\"data row0 col4\" >11.2%</td>\n",
                     "      <td id=\"T_4a4ee_row0_col5\" class=\"data row0 col5\" >13.1%</td>\n",
                     "    </tr>\n",
                     "    <tr>\n",
                     "      <td id=\"T_4a4ee_row1_col0\" class=\"data row1 col0\" >в разводе</td>\n",
                     "      <td id=\"T_4a4ee_row1_col1\" class=\"data row1 col1\" >1195</td>\n",
                     "      <td id=\"T_4a4ee_row1_col2\" class=\"data row1 col2\" >96</td>\n",
                     "      <td id=\"T_4a4ee_row1_col3\" class=\"data row1 col3\" >8.0%</td>\n",
                     "      <td id=\"T_4a4ee_row1_col4\" class=\"data row1 col4\" >5.0%</td>\n",
                     "      <td id=\"T_4a4ee_row1_col5\" class=\"data row1 col5\" >5.6%</td>\n",
                     "    </tr>\n",
                     "    <tr>\n",
                     "      <td id=\"T_4a4ee_row2_col0\" class=\"data row2 col0\" >вдовец / вдова</td>\n",
                     "      <td id=\"T_4a4ee_row2_col1\" class=\"data row2 col1\" >960</td>\n",
                     "      <td id=\"T_4a4ee_row2_col2\" class=\"data row2 col2\" >95</td>\n",
                     "      <td id=\"T_4a4ee_row2_col3\" class=\"data row2 col3\" >9.9%</td>\n",
                     "      <td id=\"T_4a4ee_row2_col4\" class=\"data row2 col4\" >4.9%</td>\n",
                     "      <td id=\"T_4a4ee_row2_col5\" class=\"data row2 col5\" >4.5%</td>\n",
                     "    </tr>\n",
                     "    <tr>\n",
                     "      <td id=\"T_4a4ee_row3_col0\" class=\"data row3 col0\" >гражданский брак</td>\n",
                     "      <td id=\"T_4a4ee_row3_col1\" class=\"data row3 col1\" >4177</td>\n",
                     "      <td id=\"T_4a4ee_row3_col2\" class=\"data row3 col2\" >336</td>\n",
                     "      <td id=\"T_4a4ee_row3_col3\" class=\"data row3 col3\" >8.0%</td>\n",
                     "      <td id=\"T_4a4ee_row3_col4\" class=\"data row3 col4\" >17.4%</td>\n",
                     "      <td id=\"T_4a4ee_row3_col5\" class=\"data row3 col5\" >19.4%</td>\n",
                     "    </tr>\n",
                     "    <tr>\n",
                     "      <td id=\"T_4a4ee_row4_col0\" class=\"data row4 col0\" >женат / замужем</td>\n",
                     "      <td id=\"T_4a4ee_row4_col1\" class=\"data row4 col1\" >12380</td>\n",
                     "      <td id=\"T_4a4ee_row4_col2\" class=\"data row4 col2\" >1192</td>\n",
                     "      <td id=\"T_4a4ee_row4_col3\" class=\"data row4 col3\" >9.6%</td>\n",
                     "      <td id=\"T_4a4ee_row4_col4\" class=\"data row4 col4\" >61.6%</td>\n",
                     "      <td id=\"T_4a4ee_row4_col5\" class=\"data row4 col5\" >57.5%</td>\n",
                     "    </tr>\n",
                     "  </tbody>\n",
                     "</table>\n"
                  ],
                  "text/plain": [
                     "<pandas.io.formats.style.Styler at 0x1d0915c0>"
                  ]
               },
               "metadata": {},
               "output_type": "display_data"
            }
         ],
         "source": [
            "next(gen)"
         ]
      },
      {
         "cell_type": "markdown",
         "metadata": {},
         "source": [
            "**Наблюдения:**\n",
            "- У женатых больше выбросов по доходу"
         ]
      },
      {
         "cell_type": "code",
         "execution_count": 217,
         "metadata": {},
         "outputs": [
            {
               "data": {
                  "text/html": [
                     "<style type=\"text/css\">\n",
                     "#T_52cb3_ caption {\n",
                     "  font-size: 18px;\n",
                     "  text-align: left;\n",
                     "  font-weight: bold;\n",
                     "}\n",
                     "</style>\n",
                     "<table id=\"T_52cb3_\">\n",
                     "  <caption>Outliers in \"total_income\" by category \"income_type\"</caption>\n",
                     "  <thead>\n",
                     "    <tr>\n",
                     "      <th class=\"col_heading level0 col0\" >income_type</th>\n",
                     "      <th class=\"col_heading level0 col1\" >total_count</th>\n",
                     "      <th class=\"col_heading level0 col2\" >outlier_count</th>\n",
                     "      <th class=\"col_heading level0 col3\" >outlier_in_category_pct</th>\n",
                     "      <th class=\"col_heading level0 col4\" >outlier_in_column_pct</th>\n",
                     "      <th class=\"col_heading level0 col5\" >total_count_pct</th>\n",
                     "    </tr>\n",
                     "  </thead>\n",
                     "  <tbody>\n",
                     "    <tr>\n",
                     "      <td id=\"T_52cb3_row0_col0\" class=\"data row0 col0\" >безработный</td>\n",
                     "      <td id=\"T_52cb3_row0_col1\" class=\"data row0 col1\" >2</td>\n",
                     "      <td id=\"T_52cb3_row0_col2\" class=\"data row0 col2\" >1</td>\n",
                     "      <td id=\"T_52cb3_row0_col3\" class=\"data row0 col3\" >50.0%</td>\n",
                     "      <td id=\"T_52cb3_row0_col4\" class=\"data row0 col4\" >0.1%</td>\n",
                     "      <td id=\"T_52cb3_row0_col5\" class=\"data row0 col5\" >0.0%</td>\n",
                     "    </tr>\n",
                     "    <tr>\n",
                     "      <td id=\"T_52cb3_row1_col0\" class=\"data row1 col0\" >в декрете</td>\n",
                     "      <td id=\"T_52cb3_row1_col1\" class=\"data row1 col1\" >1</td>\n",
                     "      <td id=\"T_52cb3_row1_col2\" class=\"data row1 col2\" >1</td>\n",
                     "      <td id=\"T_52cb3_row1_col3\" class=\"data row1 col3\" >100.0%</td>\n",
                     "      <td id=\"T_52cb3_row1_col4\" class=\"data row1 col4\" >0.1%</td>\n",
                     "      <td id=\"T_52cb3_row1_col5\" class=\"data row1 col5\" >0.0%</td>\n",
                     "    </tr>\n",
                     "    <tr>\n",
                     "      <td id=\"T_52cb3_row2_col0\" class=\"data row2 col0\" >госслужащий</td>\n",
                     "      <td id=\"T_52cb3_row2_col1\" class=\"data row2 col1\" >1459</td>\n",
                     "      <td id=\"T_52cb3_row2_col2\" class=\"data row2 col2\" >140</td>\n",
                     "      <td id=\"T_52cb3_row2_col3\" class=\"data row2 col3\" >9.6%</td>\n",
                     "      <td id=\"T_52cb3_row2_col4\" class=\"data row2 col4\" >7.2%</td>\n",
                     "      <td id=\"T_52cb3_row2_col5\" class=\"data row2 col5\" >6.8%</td>\n",
                     "    </tr>\n",
                     "    <tr>\n",
                     "      <td id=\"T_52cb3_row3_col0\" class=\"data row3 col0\" >компаньон</td>\n",
                     "      <td id=\"T_52cb3_row3_col1\" class=\"data row3 col1\" >5085</td>\n",
                     "      <td id=\"T_52cb3_row3_col2\" class=\"data row3 col2\" >488</td>\n",
                     "      <td id=\"T_52cb3_row3_col3\" class=\"data row3 col3\" >9.6%</td>\n",
                     "      <td id=\"T_52cb3_row3_col4\" class=\"data row3 col4\" >25.2%</td>\n",
                     "      <td id=\"T_52cb3_row3_col5\" class=\"data row3 col5\" >23.6%</td>\n",
                     "    </tr>\n",
                     "    <tr>\n",
                     "      <td id=\"T_52cb3_row4_col0\" class=\"data row4 col0\" >пенсионер</td>\n",
                     "      <td id=\"T_52cb3_row4_col1\" class=\"data row4 col1\" >3856</td>\n",
                     "      <td id=\"T_52cb3_row4_col2\" class=\"data row4 col2\" >500</td>\n",
                     "      <td id=\"T_52cb3_row4_col3\" class=\"data row4 col3\" >13.0%</td>\n",
                     "      <td id=\"T_52cb3_row4_col4\" class=\"data row4 col4\" >25.8%</td>\n",
                     "      <td id=\"T_52cb3_row4_col5\" class=\"data row4 col5\" >17.9%</td>\n",
                     "    </tr>\n",
                     "    <tr>\n",
                     "      <td id=\"T_52cb3_row5_col0\" class=\"data row5 col0\" >предприниматель</td>\n",
                     "      <td id=\"T_52cb3_row5_col1\" class=\"data row5 col1\" >2</td>\n",
                     "      <td id=\"T_52cb3_row5_col2\" class=\"data row5 col2\" >1</td>\n",
                     "      <td id=\"T_52cb3_row5_col3\" class=\"data row5 col3\" >50.0%</td>\n",
                     "      <td id=\"T_52cb3_row5_col4\" class=\"data row5 col4\" >0.1%</td>\n",
                     "      <td id=\"T_52cb3_row5_col5\" class=\"data row5 col5\" >0.0%</td>\n",
                     "    </tr>\n",
                     "    <tr>\n",
                     "      <td id=\"T_52cb3_row6_col0\" class=\"data row6 col0\" >сотрудник</td>\n",
                     "      <td id=\"T_52cb3_row6_col1\" class=\"data row6 col1\" >11119</td>\n",
                     "      <td id=\"T_52cb3_row6_col2\" class=\"data row6 col2\" >805</td>\n",
                     "      <td id=\"T_52cb3_row6_col3\" class=\"data row6 col3\" >7.2%</td>\n",
                     "      <td id=\"T_52cb3_row6_col4\" class=\"data row6 col4\" >41.6%</td>\n",
                     "      <td id=\"T_52cb3_row6_col5\" class=\"data row6 col5\" >51.7%</td>\n",
                     "    </tr>\n",
                     "    <tr>\n",
                     "      <td id=\"T_52cb3_row7_col0\" class=\"data row7 col0\" >студент</td>\n",
                     "      <td id=\"T_52cb3_row7_col1\" class=\"data row7 col1\" >1</td>\n",
                     "      <td id=\"T_52cb3_row7_col2\" class=\"data row7 col2\" >0</td>\n",
                     "      <td id=\"T_52cb3_row7_col3\" class=\"data row7 col3\" >0.0%</td>\n",
                     "      <td id=\"T_52cb3_row7_col4\" class=\"data row7 col4\" >0.0%</td>\n",
                     "      <td id=\"T_52cb3_row7_col5\" class=\"data row7 col5\" >0.0%</td>\n",
                     "    </tr>\n",
                     "  </tbody>\n",
                     "</table>\n"
                  ],
                  "text/plain": [
                     "<pandas.io.formats.style.Styler at 0x1d0918d0>"
                  ]
               },
               "metadata": {},
               "output_type": "display_data"
            }
         ],
         "source": [
            "next(gen)"
         ]
      },
      {
         "cell_type": "markdown",
         "metadata": {},
         "source": [
            "**Наблюдения:**\n",
            "- У пенсионеров больше выбросов по доходу"
         ]
      },
      {
         "cell_type": "code",
         "execution_count": 218,
         "metadata": {},
         "outputs": [
            {
               "data": {
                  "text/html": [
                     "<style type=\"text/css\">\n",
                     "#T_04475_ caption {\n",
                     "  font-size: 18px;\n",
                     "  text-align: left;\n",
                     "  font-weight: bold;\n",
                     "}\n",
                     "</style>\n",
                     "<table id=\"T_04475_\">\n",
                     "  <caption>Outliers in \"total_income\" by category \"debt\"</caption>\n",
                     "  <thead>\n",
                     "    <tr>\n",
                     "      <th class=\"col_heading level0 col0\" >debt</th>\n",
                     "      <th class=\"col_heading level0 col1\" >total_count</th>\n",
                     "      <th class=\"col_heading level0 col2\" >outlier_count</th>\n",
                     "      <th class=\"col_heading level0 col3\" >outlier_in_category_pct</th>\n",
                     "      <th class=\"col_heading level0 col4\" >outlier_in_column_pct</th>\n",
                     "      <th class=\"col_heading level0 col5\" >total_count_pct</th>\n",
                     "    </tr>\n",
                     "  </thead>\n",
                     "  <tbody>\n",
                     "    <tr>\n",
                     "      <td id=\"T_04475_row0_col0\" class=\"data row0 col0\" >0</td>\n",
                     "      <td id=\"T_04475_row0_col1\" class=\"data row0 col1\" >19784</td>\n",
                     "      <td id=\"T_04475_row0_col2\" class=\"data row0 col2\" >1811</td>\n",
                     "      <td id=\"T_04475_row0_col3\" class=\"data row0 col3\" >9.2%</td>\n",
                     "      <td id=\"T_04475_row0_col4\" class=\"data row0 col4\" >93.5%</td>\n",
                     "      <td id=\"T_04475_row0_col5\" class=\"data row0 col5\" >91.9%</td>\n",
                     "    </tr>\n",
                     "    <tr>\n",
                     "      <td id=\"T_04475_row1_col0\" class=\"data row1 col0\" >1</td>\n",
                     "      <td id=\"T_04475_row1_col1\" class=\"data row1 col1\" >1741</td>\n",
                     "      <td id=\"T_04475_row1_col2\" class=\"data row1 col2\" >125</td>\n",
                     "      <td id=\"T_04475_row1_col3\" class=\"data row1 col3\" >7.2%</td>\n",
                     "      <td id=\"T_04475_row1_col4\" class=\"data row1 col4\" >6.5%</td>\n",
                     "      <td id=\"T_04475_row1_col5\" class=\"data row1 col5\" >8.1%</td>\n",
                     "    </tr>\n",
                     "  </tbody>\n",
                     "</table>\n"
                  ],
                  "text/plain": [
                     "<pandas.io.formats.style.Styler at 0x1d091f28>"
                  ]
               },
               "metadata": {},
               "output_type": "display_data"
            }
         ],
         "source": [
            "next(gen)"
         ]
      },
      {
         "cell_type": "markdown",
         "metadata": {},
         "source": [
            "**Наблюдения:**\n",
            "- Без задолженности немного больше выбросов по доходу.  "
         ]
      },
      {
         "cell_type": "code",
         "execution_count": null,
         "metadata": {},
         "outputs": [],
         "source": []
      },
      {
         "cell_type": "markdown",
         "metadata": {},
         "source": [
            "#### 1.2 Промежуточный вывод"
         ]
      },
      {
         "cell_type": "markdown",
         "metadata": {},
         "source": [
            "- В датафрейме есть строки дубликаты. 54 строки. Меньше 1 % от всего датафрейма.  \n",
            "Так как у нас нет уникального идентификатора клиентов, то эти дубли не выглядят ошибкой.  \n",
            "Также у нас в строках с дублями есть пропуски в некоторых столбцах, если бы не было пропусков,  \n",
            "то возможно дублей было бы меньше, так как было бы больше детализации\n",
            "- В столбце с количеством детей есть отрицательные значения.  47 штук. Меньше 1 процента. Также есть клиенты с 20 детьми. Что странно.  \n",
            "- 66 прцоентов имеют 0 детей, 22 прцоента имеют 1 ребенка, 10 % имеют 2 детей и меньше 5 % имеют более 2 детей.  \n",
            "- В колонке общий трудовой стаж есть 10 % пропущенных значений.  \n",
            "- 74 % отрицаетльных значений. Так быть не должно.  \n",
            "- Максимальное количество дней стажа больше 400 тысяч дней, это больше 1000 лет. Явно это выброс.  \n",
            "- Столбец со стажем выглядит некорректно. Нужно высянить методику расчета и разобраться в чем проблема.  \n",
            "- В колонке возраста 101 нулевое значени. Это явно ошибки.  \n",
            "- Медиана 42 года, первый квартиль 33 года, можно сделать вывод, что у нас восновном люди старше 30 лет.  \n",
            "- Больше всего людей около 40 лет.  \n",
            "- Только 5 процентов людей моложе 25 лет.  \n",
            "- максимальный доход больше 2 млн, нужно проверить это, кажется что это нереально.  \n",
            "- Меньше 5 % людей имеют зарплату меньша 63 тысяч.  \n",
            "Можно сделать вывод, что большинство имеет высокий доход.  \n",
            "При этом 25 % имеют доход больше 200 тысяч.  \n",
            "- В колонке с образованием присутствуют одни и те же знчения с разными регистрами. Нужно выяснить почему так происходит при загрузке.  \n",
            "При этом в колонке с id образования все впрорядке.    \n",
            "- Болше всего людей со средним образованием 71 %. Высшее образование у 24 %.\n",
            "- 58 % женаты либо замужем. 19 % в гражданском браке. Можно сделать вывод что большинство в браке.  \n",
            "- В колонке пола присутствует значение XNA меньше чем у 1 %, возможно не указали пол.\n",
            "- 66 % женщины, можно сделать вывод, что большинство женщины\n",
            "- В столбце занятость больше всего сотрудников (52 %). Меньше 1 % безработных. Предпринимететей также 1 %. Можно сделать вывод, что большинство либо пенсионеры, либо имеют занятость.\n",
            "- 92 % не имеют долга\n",
            "- В колонке цель кредита 38 униклаьных значений, немного, но все таки есть похожие цели, нужно будет объеденить в одно значение.\n",
            "- Выделяющейся по количеству заявок цели кредита нет.  \n",
            "- У нас пропуски в колонке со стажем и в колокне с доходом.  \n",
            "- Гипотеза, что пропуски в обоих колонках расположены в одних и тех же строках подтветрдилась.  \n",
            "Возможно это вызвано тем, что при расчете дохода испльзуется стаж, либо существует другое влияние одного на другое.  \n",
            "- Категория семейного статуса 'женат / замужем' содержит значительно больше выбросов по количеству детей, даже учитывая что в общем количестве их тоже больше\n",
            "- У мужчин немного побольше выбросов по количеству детей, учитывая размер группы мужчин.\n",
            "- Больше всего выбросов по количеству детей у категории занятости 'сотрудник'\n",
            "- У женщин выбросов в стаже намного болше чем у мужчин, даже учитывая что женщин больше всего\n",
            "- У пенсионеров значительно болше выбросов в стаже\n",
            "- Категория семейного статуса 'Не женат / не замужем' выделяется по выбросам, учитывая пропроцию в общем количестве.\n",
            "- У пенсионеров болше выбросов по возрасту, что логично\n",
            "- Категория семейного статуса 'Не женат / не замужем' имеет больше выбросов по доходу\n",
            "- У пенсионеров больше выбросов по доходу\n",
            "- У людей без задолженности немного больше выбросов по доходу.  "
         ]
      },
      {
         "cell_type": "markdown",
         "metadata": {},
         "source": [
            "### 2. Предобработка данных"
         ]
      },
      {
         "cell_type": "markdown",
         "metadata": {},
         "source": [
            "#### Выбор нужных столбцов для дальнейшей работы и нормализация таблицы"
         ]
      },
      {
         "cell_type": "code",
         "execution_count": 220,
         "metadata": {},
         "outputs": [
            {
               "data": {
                  "text/html": [
                     "<div>\n",
                     "<style scoped>\n",
                     "    .dataframe tbody tr th:only-of-type {\n",
                     "        vertical-align: middle;\n",
                     "    }\n",
                     "\n",
                     "    .dataframe tbody tr th {\n",
                     "        vertical-align: top;\n",
                     "    }\n",
                     "\n",
                     "    .dataframe thead th {\n",
                     "        text-align: right;\n",
                     "    }\n",
                     "</style>\n",
                     "<table border=\"1\" class=\"dataframe\">\n",
                     "  <thead>\n",
                     "    <tr style=\"text-align: right;\">\n",
                     "      <th></th>\n",
                     "      <th>children</th>\n",
                     "      <th>days_employed</th>\n",
                     "      <th>dob_years</th>\n",
                     "      <th>education</th>\n",
                     "      <th>education_id</th>\n",
                     "      <th>family_status</th>\n",
                     "      <th>family_status_id</th>\n",
                     "      <th>gender</th>\n",
                     "      <th>income_type</th>\n",
                     "      <th>debt</th>\n",
                     "      <th>total_income</th>\n",
                     "      <th>purpose</th>\n",
                     "    </tr>\n",
                     "  </thead>\n",
                     "  <tbody>\n",
                     "    <tr>\n",
                     "      <th>0</th>\n",
                     "      <td>1</td>\n",
                     "      <td>-8437.673028</td>\n",
                     "      <td>42</td>\n",
                     "      <td>высшее</td>\n",
                     "      <td>0</td>\n",
                     "      <td>женат / замужем</td>\n",
                     "      <td>0</td>\n",
                     "      <td>F</td>\n",
                     "      <td>сотрудник</td>\n",
                     "      <td>0</td>\n",
                     "      <td>253875.639453</td>\n",
                     "      <td>покупка жилья</td>\n",
                     "    </tr>\n",
                     "  </tbody>\n",
                     "</table>\n",
                     "</div>"
                  ],
                  "text/plain": [
                     "   children  days_employed  dob_years education education_id    family_status  \\\n",
                     "0         1   -8437.673028         42    высшее            0  женат / замужем   \n",
                     "\n",
                     "  family_status_id gender income_type debt   total_income        purpose  \n",
                     "0                0      F   сотрудник    0  253875.639453  покупка жилья  "
                  ]
               },
               "execution_count": 220,
               "metadata": {},
               "output_type": "execute_result"
            }
         ],
         "source": [
            "df.head(1)"
         ]
      },
      {
         "cell_type": "markdown",
         "metadata": {},
         "source": [
            "Для дальнейшего анализа нам не нужно 2 колонки с образованием и с семейным статусом.   \n",
            "Удалим колонки с id образования и семейного статуса, так как нам для графиков лучше подойдут названия, а не id."
         ]
      },
      {
         "cell_type": "markdown",
         "metadata": {},
         "source": [
            "Сохраним исходный датафрейм в переменную df_origin, чтобы была возможность вернуться к нему"
         ]
      },
      {
         "cell_type": "code",
         "execution_count": 222,
         "metadata": {},
         "outputs": [],
         "source": [
            "df_origin = df.copy()"
         ]
      },
      {
         "cell_type": "code",
         "execution_count": 223,
         "metadata": {},
         "outputs": [
            {
               "data": {
                  "text/html": [
                     "<div>\n",
                     "<style scoped>\n",
                     "    .dataframe tbody tr th:only-of-type {\n",
                     "        vertical-align: middle;\n",
                     "    }\n",
                     "\n",
                     "    .dataframe tbody tr th {\n",
                     "        vertical-align: top;\n",
                     "    }\n",
                     "\n",
                     "    .dataframe thead th {\n",
                     "        text-align: right;\n",
                     "    }\n",
                     "</style>\n",
                     "<table border=\"1\" class=\"dataframe\">\n",
                     "  <thead>\n",
                     "    <tr style=\"text-align: right;\">\n",
                     "      <th></th>\n",
                     "      <th>children</th>\n",
                     "      <th>days_employed</th>\n",
                     "      <th>dob_years</th>\n",
                     "      <th>education</th>\n",
                     "      <th>family_status</th>\n",
                     "      <th>gender</th>\n",
                     "      <th>income_type</th>\n",
                     "      <th>debt</th>\n",
                     "      <th>total_income</th>\n",
                     "      <th>purpose</th>\n",
                     "    </tr>\n",
                     "  </thead>\n",
                     "  <tbody>\n",
                     "    <tr>\n",
                     "      <th>0</th>\n",
                     "      <td>1</td>\n",
                     "      <td>-8437.673028</td>\n",
                     "      <td>42</td>\n",
                     "      <td>высшее</td>\n",
                     "      <td>женат / замужем</td>\n",
                     "      <td>F</td>\n",
                     "      <td>сотрудник</td>\n",
                     "      <td>0</td>\n",
                     "      <td>253875.639453</td>\n",
                     "      <td>покупка жилья</td>\n",
                     "    </tr>\n",
                     "  </tbody>\n",
                     "</table>\n",
                     "</div>"
                  ],
                  "text/plain": [
                     "   children  days_employed  dob_years education    family_status gender  \\\n",
                     "0         1   -8437.673028         42    высшее  женат / замужем      F   \n",
                     "\n",
                     "  income_type debt   total_income        purpose  \n",
                     "0   сотрудник    0  253875.639453  покупка жилья  "
                  ]
               },
               "execution_count": 223,
               "metadata": {},
               "output_type": "execute_result"
            }
         ],
         "source": [
            "df = df.drop(['education_id', 'family_status_id'], axis=1)\n",
            "df.head(1)"
         ]
      },
      {
         "cell_type": "markdown",
         "metadata": {},
         "source": [
            "### Обработка пропусков"
         ]
      },
      {
         "cell_type": "code",
         "execution_count": 239,
         "metadata": {},
         "outputs": [
            {
               "data": {
                  "text/html": [
                     "<div>\n",
                     "<style scoped>\n",
                     "    .dataframe tbody tr th:only-of-type {\n",
                     "        vertical-align: middle;\n",
                     "    }\n",
                     "\n",
                     "    .dataframe tbody tr th {\n",
                     "        vertical-align: top;\n",
                     "    }\n",
                     "\n",
                     "    .dataframe thead th {\n",
                     "        text-align: right;\n",
                     "    }\n",
                     "</style>\n",
                     "<table border=\"1\" class=\"dataframe\">\n",
                     "  <thead>\n",
                     "    <tr style=\"text-align: right;\">\n",
                     "      <th></th>\n",
                     "      <th>missed</th>\n",
                     "    </tr>\n",
                     "  </thead>\n",
                     "  <tbody>\n",
                     "    <tr>\n",
                     "      <th>days_employed</th>\n",
                     "      <td>2174 (10.1%)</td>\n",
                     "    </tr>\n",
                     "    <tr>\n",
                     "      <th>total_income</th>\n",
                     "      <td>2174 (10.1%)</td>\n",
                     "    </tr>\n",
                     "  </tbody>\n",
                     "</table>\n",
                     "</div>"
                  ],
                  "text/plain": [
                     "                     missed\n",
                     "days_employed  2174 (10.1%)\n",
                     "total_income   2174 (10.1%)"
                  ]
               },
               "execution_count": 239,
               "metadata": {},
               "output_type": "execute_result"
            }
         ],
         "source": [
            "size = df.shape[0]\n",
            "missed = df.isna().sum()\n",
            "missed[missed != 0].apply(lambda x: f'{x} ({(x / size):.1%})').to_frame(name='missed')"
         ]
      },
      {
         "cell_type": "markdown",
         "metadata": {},
         "source": [
            "У нас 10 процентов пропусков в стаже и в доходе.  \n",
            "Удалять нельзя. Попробуем заменить.  "
         ]
      },
      {
         "cell_type": "markdown",
         "metadata": {},
         "source": [
            "Доход мы можем заполнить пропуски учитывая категории.  \n",
            "Выберем категории следующие - образование, семейный статус, пол, занятость.  \n",
            "Выбраны эти категории, так как они могут оказывать влияние на  доход.  "
         ]
      },
      {
         "cell_type": "code",
         "execution_count": null,
         "metadata": {},
         "outputs": [],
         "source": [
            "my_module.fill_na_with_function_by_categories()"
         ]
      },
      {
         "cell_type": "code",
         "execution_count": 244,
         "metadata": {},
         "outputs": [
            {
               "data": {
                  "application/vnd.jupyter.widget-view+json": {
                     "model_id": "80428e22ef004152a5c3b5622b5dbfad",
                     "version_major": 2,
                     "version_minor": 0
                  },
                  "text/plain": [
                     "0it [00:00, ?it/s]"
                  ]
               },
               "metadata": {},
               "output_type": "display_data"
            },
            {
               "data": {
                  "application/vnd.jupyter.widget-view+json": {
                     "model_id": "a87f4b6f2797442d9e9c63b3e52765f8",
                     "version_major": 2,
                     "version_minor": 0
                  },
                  "text/plain": [
                     "0it [00:00, ?it/s]"
                  ]
               },
               "metadata": {},
               "output_type": "display_data"
            },
            {
               "data": {
                  "application/vnd.jupyter.widget-view+json": {
                     "model_id": "ee4ab71e3fd54e4b83c610bdc68c2df7",
                     "version_major": 2,
                     "version_minor": 0
                  },
                  "text/plain": [
                     "0it [00:00, ?it/s]"
                  ]
               },
               "metadata": {},
               "output_type": "display_data"
            },
            {
               "data": {
                  "application/vnd.jupyter.widget-view+json": {
                     "model_id": "0ca954b31b1f47e28cbe837242251b4b",
                     "version_major": 2,
                     "version_minor": 0
                  },
                  "text/plain": [
                     "Output()"
                  ]
               },
               "metadata": {},
               "output_type": "display_data"
            },
            {
               "data": {
                  "application/vnd.jupyter.widget-view+json": {
                     "model_id": "86182f416ac445adbd46f0a6f8d6e8e9",
                     "version_major": 2,
                     "version_minor": 0
                  },
                  "text/plain": [
                     "GridBox(layout=Layout(grid_template_columns='1fr 1fr 1fr 1fr 1fr'))"
                  ]
               },
               "metadata": {},
               "output_type": "display_data"
            },
            {
               "data": {
                  "application/vnd.jupyter.widget-view+json": {
                     "model_id": "adefab6dbbc641caaeabb67bc370a2be",
                     "version_major": 2,
                     "version_minor": 0
                  },
                  "text/plain": [
                     "GridBox(children=(Output(), Output(), Output(), Output(), Output(), Output()), layout=Layout(grid_template_col…"
                  ]
               },
               "metadata": {},
               "output_type": "display_data"
            },
            {
               "data": {
                  "application/vnd.jupyter.widget-view+json": {
                     "model_id": "eb5e9df40a1c415c8750327bbfd6eba9",
                     "version_major": 2,
                     "version_minor": 0
                  },
                  "text/plain": [
                     "GridBox(layout=Layout(grid_template_columns='auto auto auto'))"
                  ]
               },
               "metadata": {},
               "output_type": "display_data"
            }
         ],
         "source": [
            "my_module.my_info(df[['days_employed']])"
         ]
      },
      {
         "cell_type": "markdown",
         "metadata": {},
         "source": [
            "### Промежуточный вывод"
         ]
      },
      {
         "cell_type": "markdown",
         "metadata": {},
         "source": []
      },
      {
         "cell_type": "markdown",
         "metadata": {},
         "source": [
            "### Работа с выбросами"
         ]
      },
      {
         "cell_type": "markdown",
         "metadata": {},
         "source": [
            "- Помним про нулевые и отрицательные значения\n",
            "- Нулевые значения, отрицательные значения являются выбросами, если они не могут быть у этой колонки.  \n",
            "- Очень важно понимать, когда выброс можно отбросить и он реально выброс и когда нельзя.  \n",
            "Опираемся на физику параметра, думаем это значение физически возможно.  \n",
            "- Также выброс может казаться выбрасом, но для бизнеса это не выброс.  \n",
            "Например у нас суммы покупок и одна покупка сильно выделяется, а там просто человек купил супе дорогой каньяк, например.  \n",
            "- Когда хотим обрезать выбросы, то думаем, какой порог может быть физически реальным и по нему режем, а не просто так берем какой-то перцентиль.  \n",
            "Всегда нужно думать с точки зрения физического возможного значения параметра и по нему резать (подумать а какое значение может быть максимально реальным и по нему обрезать)\n",
            "- Если мы имеем дело со строгой отчестностью, то выбросы убирать нельзя, нужно разобраться откуда они.  \n",
            "- Если мы не можем с увереностью сказать, что это выброс, то нам не стоит его выкидывать, но работать как то нужно с ними,  \n",
            "тогда, логарифмируем (лучше использовать натуральный логарифм) эту колонку и работаем с такими значениями (тогда выбросы сожмуться).  "
         ]
      },
      {
         "cell_type": "markdown",
         "metadata": {},
         "source": [
            "### Промежуточный вывод"
         ]
      },
      {
         "cell_type": "markdown",
         "metadata": {},
         "source": []
      },
      {
         "cell_type": "markdown",
         "metadata": {},
         "source": [
            "### Обработка дубликатов"
         ]
      },
      {
         "cell_type": "markdown",
         "metadata": {},
         "source": [
            "Посмотрим снова на дубли после обработки пропусков"
         ]
      },
      {
         "cell_type": "markdown",
         "metadata": {},
         "source": [
            "`check_duplicated`  \n",
            "`check_duplicated_combinations_gen`  \n",
            "`get_duplicates_value_proportion_by_category`  \n",
            "В первую функцию можно передавать весь датафрейм и можно выбирать нужные столбцы для проверки на дубли и передавать их.  "
         ]
      },
      {
         "cell_type": "markdown",
         "metadata": {},
         "source": [
            "Если есть дубли, и мы считаем, что это не дубли, а просто разделились данные,    \n",
            "то объединеняем записи, которые имеют одинаковые значения ключевых признаков.  \n",
            "`merge_duplicates`"
         ]
      },
      {
         "cell_type": "markdown",
         "metadata": {},
         "source": [
            "Если мы не уверены, что дубль является дублем и не хотим удалять, то можно  использовать  \n",
            "маркировку дублей,  можно добавить новую колонку, которая будет содержать информацию о том,   \n",
            "является ли строка дубликатом или нет.  \n",
            "`df['is_duplicate'] = df.duplicated()`"
         ]
      },
      {
         "cell_type": "markdown",
         "metadata": {},
         "source": [
            "Подумать, а можем ли мы обогатить данные, что разделит дубли.  \n",
            "То есть возможно в наших данных нет какого-то столбца, и тогда дубли уже не будут дублями. "
         ]
      },
      {
         "cell_type": "markdown",
         "metadata": {},
         "source": [
            "Если уверены, что это дубли, то удаляем их  \n",
            "`df.drop_duplicates()`"
         ]
      },
      {
         "cell_type": "markdown",
         "metadata": {},
         "source": [
            "### Промежуточный вывод"
         ]
      },
      {
         "cell_type": "markdown",
         "metadata": {},
         "source": []
      },
      {
         "cell_type": "markdown",
         "metadata": {},
         "source": [
            "### Промежуточный вывод"
         ]
      },
      {
         "cell_type": "markdown",
         "metadata": {},
         "source": []
      },
      {
         "cell_type": "markdown",
         "metadata": {},
         "source": [
            "### Категоризация данных"
         ]
      },
      {
         "cell_type": "markdown",
         "metadata": {},
         "source": [
            "Придумываем какие колонки можно дополнительно сделать из имеющихся.  \n",
            "Например у нас есть колонка длительность звонков, и 0 это пропущенный звонок,  \n",
            "мы можем сделать колонку is_missed, в которой будет true или false  "
         ]
      },
      {
         "cell_type": "markdown",
         "metadata": {},
         "source": [
            "Очень важно, когда мы создаем новые колонки, в которых используем несколько дургих, то нужно проверить распределение этой новой переменной, особенно выбросы.  \n",
            "Например, у нас начальная и конечная дата сессии и мы считаем длительность сессии. Вот тут нужно посмотреть какая минимальная длительность  \n",
            "и какая максимальная. Ну и естественно проверить есть ли длительность 0 и меньше нуля.  \n",
            "Таким образом мы можем найти инсайты уже после создания новых колонок, хотя в изначальных данных этих инсайдов не было видно.  "
         ]
      },
      {
         "cell_type": "markdown",
         "metadata": {},
         "source": [
            "#### Обычная категоризация данных"
         ]
      },
      {
         "cell_type": "markdown",
         "metadata": {},
         "source": [
            "Категоризация помогает избежать проблемы с разреженными данными, когда у нас есть слишком много групп с небольшим количеством элементов.   \n",
            "Это может привести к некорректным выводам и ошибкам в анализе.\n",
            "Категоризация нужна, чтобы образовать группы, в которых достаточно значений для использования статистических методов.  \n",
            "И вообще, если в группе 1-10 элементов, например у нас возраст пользователей и 5 человек с возрастом 22, 3 человека с возрастом 23 и так далее.  \n",
            "Мы не можем разбивать по таким группам, так как их размер небльшой и выводы будут некорректные, поэтому нам нужно собрать их в группы,  \n",
            "чтобы у нас были группы с достаточным размером.  "
         ]
      },
      {
         "cell_type": "markdown",
         "metadata": {},
         "source": [
            "- Если у нас категориальная переменная имеет много значений, то мы не можем номрально с ней работать.  \n",
            "Так как мы не можем построить графики по ним, так как их много и они не числовые. Не можем сравнить их все.  \n",
            "Поэтому нам нужно сократить категории.  \n",
            "- Нужно посмотреть на данные и подумать можем ли мы разделить их по сегментам рынка или по другим категориям, которые нам помогут.  \n",
            "- Мы можем категоризировать на основе и числовых и категориальных столбцов. То есть мы можем из категориальной переменной сделать  \n",
            "другую категориальную, уменьшив или увеличив разбиение.   \n",
            "- добавление категорий обогощает данные, при чем категории могут формироваться не из одной колонки, а из серии, то есть чтобы попасть  \n",
            "в определенную категорию значения столбцов должно быть такое то, а не только один столбец определяет категорию.  \n",
            "- категории могут быть да нет, то есть состоять из двух значений, например, у нас есть данные о рекламе и столбец где она показвалась,  \n",
            "и у нас много много разных устройств. Мы можем разбить на да нет, то есть показвалась реклама по телеку или нет"
         ]
      },
      {
         "cell_type": "markdown",
         "metadata": {},
         "source": [
            "Мы можем разбить данные на категории двумя способами\n",
            "- разбивать на равные части  \n",
            "подходит, когда \n",
            "    - диапазон значений является равномерным и имеет линейную структуру  \n",
            "    - мы понимаем на какие интервалы хотим разбить данные    \n",
            "    - мы хотим разделить диапазон значений на равные части для удобства анализа.\n",
            "- разбить на основе квантилей  \n",
            "подходит, если   \n",
            "    - диапазон значений имеет неравномерную структуру\n",
            "    - мы не можем понять какие интервалы выбрать\n",
            "    - хотим выделить группы с конкретными характеристиками (например, группы с низким доходом, средним доходом и высоким доходом)"
         ]
      },
      {
         "cell_type": "markdown",
         "metadata": {},
         "source": [
            "Выбираем нужные способ и используем  \n",
            "`create_category_column`"
         ]
      },
      {
         "cell_type": "markdown",
         "metadata": {},
         "source": [
            "#### Категоризация с использованием лемматизации"
         ]
      },
      {
         "cell_type": "markdown",
         "metadata": {},
         "source": [
            "Если у нас есть столбец и мы хотим его лематизировать, то используем функцию  \n",
            "`lemmatize_column`"
         ]
      },
      {
         "cell_type": "markdown",
         "metadata": {},
         "source": [
            "С помощью лематизации мы можем сократить количество категорий.  "
         ]
      },
      {
         "cell_type": "markdown",
         "metadata": {},
         "source": [
            "Например мы можем выделить группы:\n",
            "- операции с автомобилем (ключевое слово - автомобиль)\n",
            "- операции с недвижимостью (ключевые слова: жилье, недвижимость)\n",
            "- проведение свадьбы (ключевое слово: свадьба)\n",
            "- получение образования (ключевое слово: образование)\n"
         ]
      },
      {
         "cell_type": "markdown",
         "metadata": {},
         "source": [
            "Используем функцию  \n",
            "`categorize_column_by_lemmatize`"
         ]
      },
      {
         "cell_type": "markdown",
         "metadata": {},
         "source": [
            "### Промежуточный вывод"
         ]
      },
      {
         "cell_type": "markdown",
         "metadata": {},
         "source": [
            "### Feature engineering"
         ]
      },
      {
         "cell_type": "markdown",
         "metadata": {},
         "source": [
            "Если мы хотим преобразовать категории в числа, то мы можем использовать \n",
            "- lable encoding  \n",
            "Заменяем быквы числами. Хорошо работает, когда у нас порядковые категориальные переменные.  \n",
            "Не забываем про порядок, если у нас алфавитный порядок наших категорий соотвествует числовому, то ок,  \n",
            "если нет, то нам нужно самим определить порядок чисел, чтобы они соответствовали категориям в нужном порядке.  \n",
            "- one hot encoding  \n",
            "Если у нас категориальная переменная не упорядочиваемая, то лучше использовать one hot encoding, чтобы разница между числами не вносила шум,  \n",
            "так как черный и белый и красный цвет закодированные 1, 2, 3 вносят смысл количества, но они не имеют этого свойства.  \n",
            "-  target encoding  \n",
            "замена категориальной переменной на каую-то статистику по одной из категорий внутри этой переменной.  \n",
            "Например у нас категориальная переменная это наличие задержки. Значение задержан / незадержан. Мы кодируем их как 0 и 1. Далее мы берем и считаем по каждой группе (для задержан и для незадержан)  \n",
            "статистику, например, среднее и получаем столбец, где вместо каждой буквы будет ее среднее.  \n",
            "Тут важно делать регуляризацию. Так как маленькие группы могут иметь сильно  зашумленные статистики, так как если у нас  \n",
            "группа из 5 значений, то среди них может быть легко экстремальное одно и оно сбивает статистику, поэтому добавляем штраф всем статистикам.  \n",
            "Регуляризация это что-то похожее на сглаживание.  \n",
            "Как это делается \n",
            "    - берем считаем среднее по таргету (целевой переменной, то есть той, по которой мы счтаем статистику) всей таблице (то есть не делим на категории)  \n",
            "    - Далее используем следующую формулу для сглаженного значения среднего по конкретной группе:   \n",
            "      (среднее по группе * количество элементов в группе + среднее по таргету без учета категорий * размер регуляризирующей группы) / (количество элементов в категории + размер регуляризирующей группы)  \n",
            "      Количество элементов в регуляризационнной группе выбирает эмперически. То есть это количество элементов, которым мы сглаживаем.    \n",
            "      Смысл в том, что мы берем сколько-то элементов с занчением для всех категорий и сглаживаем им наши отдельные категории.    \n",
            "    - Размер регуляризирующей группы обычно выбирают с помощью grid search, то есть берут цикл для размера этой группы и считают результат модели для каждого размера,  \n",
            "    и потом выбирают тот размер, для которого результат лучше.    \n",
            "    \n",
            "`target_encoding_linear`  \n",
            "`target_encoding_bayes`      \n",
            "    \n",
            "\n"
         ]
      },
      {
         "cell_type": "markdown",
         "metadata": {},
         "source": [
            "### Использование кластеризации для категоризации"
         ]
      },
      {
         "cell_type": "markdown",
         "metadata": {},
         "source": [
            "Можно понизить размерность до 3  \n",
            "и построить 3 д график  \n",
            "По этому графику посмотреть есть ли у нас возможные кластеры  \n",
            "Если есть, то выделить их  \n",
            "Причем для понижения размерности можно брать все столбцы, а можно только часть."
         ]
      },
      {
         "cell_type": "markdown",
         "metadata": {},
         "source": [
            "### Промежуточный вывод"
         ]
      },
      {
         "cell_type": "markdown",
         "metadata": {},
         "source": [
            "### Обогощение таблиц (соединение с другими)"
         ]
      },
      {
         "cell_type": "markdown",
         "metadata": {},
         "source": [
            "Проверка соответствия:   \n",
            "Если у нас в разных таблицах есть значения, которые дожны быть одинакоые,    \n",
            "то нужно проверить, что значения в одном столбце соответствуют значениям в другом столбце. "
         ]
      },
      {
         "cell_type": "code",
         "execution_count": null,
         "metadata": {},
         "outputs": [],
         "source": [
            "df['column_name1'].equals(df['column_name2'])"
         ]
      },
      {
         "cell_type": "markdown",
         "metadata": {},
         "source": [
            "Обоготить данные можно следующими способами\n",
            "- взять поле нашей таблицы и найти дополнительные данные в интернете или ещё где-то и потом связать с нашей колонкой по этому полю  \n",
            "Самое просто это дата, если у нас есть дата, то мы можем много разной доп информации внести в наши данные связывая по дате.  \n",
            "Также, например, у нас есть какие-то коды чего-то, мы ищем информацию по этим кодам и находим табличку с доп инфой по этим кодам и можем обоготить ими   \n",
            "нашу таблицу. Например, у нас города или страны, мы можем по ним также внести доп инфу из какого-то источника, которая нам поможет.  \n",
            "Вообще любое поле нашей таблицы это потенцильная нить для обогощения. Главное понять с чем полезным мы можем соеденить  \n",
            "через конкретное поле, чтобы получить больше полезной информации для анализа, по сути для детализации наших зависимостей или для поиска  \n",
            "новых зависимостей и инсайтов в них.  \n",
            "Процесс следующий - мы берем каждую колонку нашего дата сета и думаем, с чем через нее мы можем связать и если придумываем, то идешь ищем эту информацию и  \n",
            "в итоге соединяем.  \n",
            "- Можно пойти от обратного. Сначал подумтаь какие данные нам могут помочь и поискать их в интернете например, а потом уже думать как их соеденить с нашими   \n",
            "данными. Оба способа лучше делать одновременно.  "
         ]
      },
      {
         "cell_type": "markdown",
         "metadata": {},
         "source": [
            "Каждый раз, когда мы работаем с дата сетом, мы должны понять что является сущностью этого дата сета.  \n",
            "Например событие, человек и прочее.  \n",
            "Далее нам нужно поянть а можем ли мы его идентифицировать по текущим данным (не всегда есть уникальный ай ди).   \n",
            "Если не можем, то нужно думта как обогатить данные, чтобы четко идентифицировать сущности"
         ]
      },
      {
         "cell_type": "markdown",
         "metadata": {},
         "source": [
            "Что нужно обязательно првоерить после соединения\n",
            "- если мы соединяем по полю, которое уникально в обеих таблицах\n",
            "    - количество строк в левом датафрейме равно количеству строк в итоговом\n",
            "    - параметры каждого дата сета не изменились (если мы соединили правильно, то итоговые суммы по столбцам не должны измениться)\n",
            "        - используем `df.sum(numeric_only=True)` для каждой таблицы до соединения и для общей таблицы и сравниваем значения\n",
            "        - можно использвоать `df.describe` также до и после объединения и сравнивать параметры\n",
            "- если у нас в одной из колонок для соединения не уникальные значения (то есть для одной строки в левой таблице будет несколько в итоговй)    \n",
            "    - Сначала группируем таблицы, чтобы поле для соединения в обеих таблицах было уникальное\n",
            "    и применяем предыдущий шаг с количеством строк в левой и итоговой и суммой значений в левой и итоговой одинаковой\n",
            "    - Если нам нужно соеденить без группировки (но это редко может быть, поэтому нужно подумать точно ли не моежм сгруппировать)  \n",
            "    тогда нет выбора и остаются только следующие варианты  \n",
            "        - если в левой таблице уникальные записи в колонке, по которйо соединяем    \n",
            "            - тогда считаем сколько было записей в левой таблице в колонке для соединения и сравниваем с количеством **уникальных** записей в итоговой  \n",
            "            они должны совпадать, но тут важно в итоговой брать уникальные записи\n",
            "        - есил и в левой и правой нет уникальных\n",
            "            - тут считаем сколько **уникальных** в левой до и сколько **уникальных** в итоговой, должно совпадать"
         ]
      },
      {
         "cell_type": "markdown",
         "metadata": {},
         "source": [
            "Если у нас что-то не сходится после соединения таблиц, то нужно внимально изучить это.  \n",
            "Тут может быть инсайт (кто-то не правильно вносит информацию, какие-то значения неверные или кто-то что-то хотел спрятать, не указать и прчоее).  \n",
            "Когда видим нестыковки после соединения таблиц, то должна загораться красная лампочка. Это потенциальный инсайт, баг, который мы можем найти и сообщить, чтобы его починили. "
         ]
      },
      {
         "cell_type": "markdown",
         "metadata": {},
         "source": [
            "помним, что метод соединения inner стоит по умолчанию в merge"
         ]
      },
      {
         "cell_type": "markdown",
         "metadata": {},
         "source": [
            "В колонках, по которым будем соеднить, проверяем, нет ли пропусков, пропуски нужно заменить нулями.  \n",
            "Иначе будет либо ошибка, либо пропуски сджойнятся с пропусками"
         ]
      },
      {
         "cell_type": "markdown",
         "metadata": {},
         "source": [
            "Проблема справочников  \n",
            "При объединение таблиц важно помнить про то, что в разных таблицах не только названия столбцов может быть разное,  \n",
            "но и одно значение может быть записано по разному в разных таблицах, например, названия профессий, названия городов,  \n",
            "имя в одной таблице на русском, а в другой на английском, номер телефона с черточкой или плюсом и без черточки или плюса.  \n",
            "Поэтому не забываем привести все значения таблиц к нижнему регистру, чтобы не было проблем разными регистрами для одного слова"
         ]
      },
      {
         "cell_type": "markdown",
         "metadata": {},
         "source": [
            "Проблема временных зон  \n",
            "В одной таблице может быть выгрузка по местному времени, а в другом по московскому  \n"
         ]
      },
      {
         "cell_type": "markdown",
         "metadata": {},
         "source": [
            "Проблема курсов валют  \n",
            "Разыне системы могут брать курс за разные промежутки вермени, например, одна система берет курс в гугле (раз в час обновляется),  \n",
            "а другая система берет курс в ЦБ (обновляется раз в сутки)  \n",
            "И поэтому итоговые резултаты могут не состыковаться, поэтому, когда видим курсы валют, то нужно убедиться. что они взяты из одного испточника  \n",
            "и за один промежуток времени  "
         ]
      },
      {
         "cell_type": "markdown",
         "metadata": {},
         "source": [
            "Когда мы работаем с данными, нам важно четко идентифицировать клиентов, событие или другую сущность, с которой мы работаем.  \n",
            "Иначе у нас будет шум, так как мы одного и того же клиента учтем более одного  раза."
         ]
      },
      {
         "cell_type": "markdown",
         "metadata": {},
         "source": [
            "Как можно обоготить данные, чтобы лучше идентифицировать сущности\n",
            "- Добавить для клиента email, телефон, устройство, 4 цифры карты и другое, что может помочь его идентифицировать  \n",
            "    Это важно так как у клиента могут быть разные телефоны, устройства, карты, но все это вместе поможет его идентифицировать точнее\n",
            "- Добавить для события локацию, погоду, связанные событие, праздники, что поможет нам идентифицировать событие   "
         ]
      },
      {
         "cell_type": "markdown",
         "metadata": {},
         "source": [
            "### Сравнение метрик между собой"
         ]
      },
      {
         "cell_type": "markdown",
         "metadata": {},
         "source": [
            "Топ n значений одного столбца по значениям в другом"
         ]
      },
      {
         "cell_type": "markdown",
         "metadata": {},
         "source": [
            "Сделать функцию, чтобы в столбцах, где бльше 20 уникльных значений посмотреть топ n значений по другой колонке.  \n",
            "Например, топ 10 покупателей по сумме покупок и прочее.  \n",
            "Идея в том, что если  в столбце до 20 уникальных значений, то мы проанализируем комбинации с другими стобцами на графиках.  \n",
            "А вот если у нас столбец не числовой и в нем больше 20 уникальных значений, то на графике мы не сможем понять топ n."
         ]
      },
      {
         "cell_type": "markdown",
         "metadata": {},
         "source": [
            "Чтобы сравнить метрики между собой мы можем\n",
            "- использовать корреляционный анализ (Пирсена, Спирмена, Кенделла)\n"
         ]
      },
      {
         "cell_type": "markdown",
         "metadata": {},
         "source": [
            "`heatmap(df.corr())`"
         ]
      },
      {
         "cell_type": "markdown",
         "metadata": {},
         "source": [
            "Использование регрессии и случайного леса для определения влияния переменных  "
         ]
      },
      {
         "cell_type": "markdown",
         "metadata": {},
         "source": [
            "Коэффициенты регрессии позволяют оценить влияние каждой переменной на целевую переменную, учитывая влияние других переменных,  \n",
            "в то время как важные компоненты в случайном лесе позволяют оценить важность каждой переменной для предсказания целевой переменной."
         ]
      },
      {
         "cell_type": "markdown",
         "metadata": {},
         "source": [
            "Используем регрессиию "
         ]
      },
      {
         "cell_type": "markdown",
         "metadata": {},
         "source": [
            "Чтобы построить регрессию и посмотреть стат значимость и коэффициенты удобно использовать модуль statsmodel"
         ]
      },
      {
         "cell_type": "markdown",
         "metadata": {},
         "source": [
            "VIF означает Variance Inflation Factor (Фактор инфляции дисперсии). Это статистическая метрика,   \n",
            "используемая для обнаружения мультиколлинеарности (сильной корреляции) между предикторами (фичами) в линейной регрессии."
         ]
      },
      {
         "cell_type": "markdown",
         "metadata": {},
         "source": [
            "Обычно, VIF интерпретируется следующим образом:\n",
            "\n",
            "- VIF < 5: слабая мультиколлинеарность\n",
            "- 5 ≤ VIF < 10: умеренная мультиколлинеарность\n",
            "- VIF ≥ 10: сильная мультиколлинеарность"
         ]
      },
      {
         "cell_type": "markdown",
         "metadata": {},
         "source": [
            "\n",
            "Смотрим R2 (коэффициент детерминации)\n",
            "- использовать коэффициенты у регресси\n",
            "Мы строим регрессию и смотрим, у каких метрик больше коэффициенты. Таким образом мы поймем какие метрики сильнее зависят с целевой.  \n",
            "Важно, чтобы независимые переменные некоррелировали по отдельности и вместе (мультиколлиниарность).  \n",
            "По отдельности смотрим матрицу корреляции.  \n",
            "Чтобы определить коррелириуют ли вместе, береме независимые переменные,  \n",
            "и перебираем их выбирая одну из них целевой и смотрим R2.  \n",
            "Если R2 большой, то значит эта метрика (которая целевая на этом шаге) хорошо описывается другими и ее можно выбросить.\n",
            "Также не забываем поправки на гетероскедостичность (HC0, HC1, HC2, HC3) в статпакетах.  \n",
            "Нам нужно ответить на следующие вопросы\n",
            "    - Влияет ли метрика на целевую?\n",
            "    Оцениваем коэффициенты в уравнении регресси у каждой метрики.  \n",
            "    - Как влияет метрика на целевую?\n",
            "    Смотрим R2 (коэффициент детерминации). И определяем какая часть целевой переменной определяется независимыми метриками.  \n",
            "    - Коэффициенты при метриках в уравнении статистически значим? При какаом уровне значимости?\n",
            "    Смотрим в стат пакете p value для каждого коэффициента, что нам говорит значим ли этот коэффициент.  \n",
            "    То есть мы не просто смотрим его абсолютное значение, а учитываем p value.   \n",
            "    - Дайте содержательную интерпретацию коэффицентам?\n",
            "    При увеличении метрики k на 1, целевая метрика увеличивается на $b_{k} * 1$\n",
            "    То есть нужно перевести коэффициенты в реальное сравнение, насколько увелчисться целевая метрика при изменении определенной метрики на 1\n",
            "    - Найдите 95 процентный доверительный интервал.\n",
            "    В стат пакете смотрим значение и оно говорит, что если мы многократно повторим ноши вычисления с новыми данными, то 95 процентов наших  \n",
            "    полученных коэффицентов будут лежать в этом диапазоне.  "
         ]
      },
      {
         "cell_type": "markdown",
         "metadata": {},
         "source": [
            "Строим модель и изучаем результат  \n",
            "`linear_regression_with_vif`"
         ]
      },
      {
         "cell_type": "markdown",
         "metadata": {},
         "source": [
            "Испльзовать коэффициенты у классификацию    \n",
            "Строим случайный лес какие метрики сильнее всего влияют на решения модели.   \n",
            "`plot_feature_importances_classifier`   \n",
            "`plot_feature_importances_regression`"
         ]
      },
      {
         "cell_type": "markdown",
         "metadata": {},
         "source": [
            "На основе полученных данных формулируем гипотезы, которые будем проверять в блоке проверки гипотез"
         ]
      },
      {
         "cell_type": "markdown",
         "metadata": {},
         "source": [
            " используем быблиотеку `shap`, чтобы определить метрики, которые лучше других помогают предсказывать целевую перемменную"
         ]
      },
      {
         "cell_type": "markdown",
         "metadata": {},
         "source": [
            "### Когортный анализ"
         ]
      },
      {
         "cell_type": "markdown",
         "metadata": {},
         "source": [
            "Не забывать про когортный анализ. Если у нас есть параметр, по которому мы можем наши данные разбить на когорты, то  \n",
            "нужно разложить на когорты и посмотреть динамику по когортам.  \n",
            "Когорты это например, пользователи пришедшие в одни день или месяц.  \n",
            "Если мы объеденим пользователей в когорты и посмотрим динамику какого-то параметра по месяцам например, то увидим как изменяется.  \n",
            "Тут также нужно помнить, что если значение например за 3 месяц больше значения за 4 месяц, то это ничего не значит само по себе.  \n",
            "Так как мы имеем дело с выборкой, то нам нужно проверить статистически значимая это разница.  \n",
            "Тут нам понядобятся стат тесты.  \n"
         ]
      },
      {
         "cell_type": "markdown",
         "metadata": {},
         "source": [
            "### Промежуточный вывод"
         ]
      },
      {
         "cell_type": "markdown",
         "metadata": {},
         "source": [
            "### 3 Анализ взаимосвязей переменных на графиках"
         ]
      },
      {
         "cell_type": "markdown",
         "metadata": {},
         "source": [
            "Сначала раздел графиков  \n",
            "На основе графиков формируются гипотезы (например, у нас у мужчин зп больше)\n",
            "И после раздела графиков идет раздел проверки гипотез. Тут мы првоеряем разные гипотезы новые и те, что увидели на графиках.  \n",
            "Это правильная последовательность сначала изучили графики и потом на основе их сформировали гипоетзы\n",
            "Перед разделом про графики идет раздел с корреляцией и поиском главных компонет случайного леса.  \n",
            "Мы выбиарем переменную, для которой мы далее хотим посмотреть разыне зависимости и указываем ее целевой для сучайного леса  \n",
            "И смотрим какие фичи сильнее влияют.  \n",
            "И теперь можем построить графики с целевой перменно и этими главными фичами и в выводе можно указать про то что это важные компоненты случаного леса"
         ]
      },
      {
         "cell_type": "markdown",
         "metadata": {},
         "source": [
            "На основе полученных данных формулируем гипотезы, которые будем проверять в блоке проверки гипотез"
         ]
      },
      {
         "cell_type": "markdown",
         "metadata": {},
         "source": [
            "#### Изучаем зависимости временем и другими переменными"
         ]
      },
      {
         "cell_type": "markdown",
         "metadata": {},
         "source": [
            "Строим когортный анализ, если есть возможность"
         ]
      },
      {
         "cell_type": "markdown",
         "metadata": {},
         "source": [
            "Если у нас есть даты, то мы можем посмотреть не просто абсолютные значения на каждую дату какой-то метрики,  \n",
            "а посмотреть относительные значения относительно предыдущего значения.  \n",
            "Для этого нужно составить таблицу, в которой будет изменение в процентах относительно предыдущего значения.  \n",
            "И затем визуализировать для каждой даты динамику этого показателя "
         ]
      },
      {
         "cell_type": "markdown",
         "metadata": {},
         "source": [
            "#### Изучаем зависимости между числовыми переменными"
         ]
      },
      {
         "cell_type": "markdown",
         "metadata": {},
         "source": [
            "Изучаем scatter plots"
         ]
      },
      {
         "cell_type": "code",
         "execution_count": null,
         "metadata": {},
         "outputs": [],
         "source": [
            "pairplot = sns.pairplot(df, markers=[\"o\"], \n",
            "                        plot_kws={'color': (128/255, 60/255, 170/255, 0.9)},\n",
            "                        diag_kws={'color': (128/255, 60/255, 170/255, 0.9)})"
         ]
      },
      {
         "cell_type": "code",
         "execution_count": null,
         "metadata": {},
         "outputs": [],
         "source": [
            "import plotly.express as px\n",
            "df = px.data.iris()\n",
            "fig = px.density_contour(df, x=\"sepal_width\", y=\"sepal_length\")\n",
            "fig.show()"
         ]
      },
      {
         "cell_type": "markdown",
         "metadata": {},
         "source": [
            "#### Изучаем зависимости между категориальными переменными"
         ]
      },
      {
         "cell_type": "markdown",
         "metadata": {},
         "source": [
            "Строим матрицу тепловой карты для категориальных переменных и изучаем зависимости  \n",
            "`categorical_heatmap_matrix_gen`"
         ]
      },
      {
         "cell_type": "markdown",
         "metadata": {},
         "source": [
            "Строим treemap  \n",
            "`treemap`   \n",
            "`treemap_dash`   \n",
            "```\n",
            "app = treemap_dash(df)\n",
            "if __name__ == '__main__':\n",
            "    app.run_server(debug=True)\n",
            "```"
         ]
      },
      {
         "cell_type": "markdown",
         "metadata": {},
         "source": [
            "Строим parallel_categories    \n",
            "`parallel_categories `  \n",
            "`parallel_categories_dash `  \n",
            "```\n",
            "app = treemap_dash(df)\n",
            "if __name__ == '__main__':\n",
            "    app.run_server(debug=True)\n",
            "```"
         ]
      },
      {
         "cell_type": "markdown",
         "metadata": {},
         "source": [
            "Строим Sankey  \n",
            "`sankey `   \n",
            "`sankey_dash`\n",
            "\n",
            "```\n",
            "app = treemap_dash(df)\n",
            "if __name__ == '__main__':\n",
            "    app.run_server(debug=True)\n",
            "```"
         ]
      },
      {
         "cell_type": "markdown",
         "metadata": {},
         "source": [
            "#### Изучаем зависимости между числовыми и категориальными переменными"
         ]
      },
      {
         "cell_type": "markdown",
         "metadata": {},
         "source": [
            "```graph_analysis```"
         ]
      },
      {
         "cell_type": "code",
         "execution_count": null,
         "metadata": {},
         "outputs": [],
         "source": []
      },
      {
         "cell_type": "markdown",
         "metadata": {},
         "source": [
            "### 4 Формулирование и провера гипотез"
         ]
      },
      {
         "cell_type": "markdown",
         "metadata": {},
         "source": [
            "Подход следуюищй - мы до раздела проверка гипотез, когда изучаем данные (разделы пропусков, выбросов, дубликатов, зависиместей между перменными и графики),  \n",
            "то мы делаем выводы и формируем наблюдеия.  \n",
            "Вот эти наблюдения и выводы нужно проверить в проверке гипотез.  \n",
            "И потом в основном выводе уже писать не просто, что у нас мужчин больше чем женьшин, а писать, что на уровен значисомти таком то у нас мужчина больше чем  \n",
            "женщин с таким то доверительным интервалом.  \n",
            "Таким образом выводы по вомзожности должны проходить через этап проверки гипотез, тогда эти выводы становятся более существенными.  "
         ]
      },
      {
         "cell_type": "markdown",
         "metadata": {},
         "source": [
            "- Гипотезы появляются, когда мы задаем вопросы данным. Мы изучили данные, преобработали и теперь начинаем задавать вопросы.  \n",
            "- Выдвигаем гипотезу (заметили что-то необычное и хотим проверить), далее формулируем ее и далее проверяем.  \n",
            "- Не забываем формулировать гипотезы словами. Пишем что является гипотезой H0, а что гипотезой H1  \n",
            "- Формулируем все гипотезы, которые хотим проверить. Если будет 100 гипотез, то все 100 нужно сформулировать и потом проверить и сделать вывод.  \n",
            "- Гипотезы могут быть и простыми вопросами без гипотез H0 и H1, такие гипотезы мы проверяем графиками или анализируя таблицу.  \n",
            "- Восновном, когда мы собиаремся применить стат аппарат для проверки гипотезы, то мы должны записать ее через H0 и H1.  "
         ]
      },
      {
         "cell_type": "markdown",
         "metadata": {},
         "source": [
            "Алгоритм проверки статистических гипотез\n",
            "\n",
            "- постановка задачи\n",
            "    - Сформулировать, что мы хотим узнать о выборках с точки зрения бизнес задачи (равны ли средние доходы в группах)\n",
            "    - перевод бизнес-вопроса на язык статистики: средний доход в группах - проверка равенства средних значений\n",
            "- формулировка гипотез\n",
            "    - формулировка нулевой гипотезы - с т.зр. равенства стат прараметров оцениваемых выборок   \n",
            "    (Н0: Средние траты клиентов по группе А равны средним тратам клинентов по группе В)\n",
            "    - формулировка альтернативной гипотезы - с точки зрения неравенства параметров  \n",
            "    (Н1: Средние траты клиентов по группе А не равны средним тратам клинентов по группе В)\n",
            "- выбор критерия alpha (почему 0.05 или 0.01)\n",
            "    - цена ошибки первого рода (при большой цене ошибки - в мед исследованиях, потенциальном ущербе ) - значение может быть больше, например 0.1\n",
            "    - в ежедневных бизнес задачах, обычно - 0.05\n",
            "- анализ распределения\n",
            "    - визуальная оценка\n",
            "    - следим за выбросами\n",
            "    - проверка гипотез о типе распредеделения (например критерий Шапиро-Уилка)\n",
            "    - если распределение не нормальное и размер выборки достаточный (больше 30-50 элементов)  \n",
            "    может быть использован t-test именно для проверки гипотезы о равенстве средних.  \n",
            "    Согласно ЦПТ (центральная предельная теорема) средние этих выборок будут распределены нормально. См. статью Зотова\n",
            "- выбор критерия\n",
            "    - при оценке равенства средних T-test или Welch T-test (если есть сомнения, то лучше Уэлча)\n",
            "        - при рвенстве дисперсий используем обычный т тест\n",
            "        - если дисперсии в выборках разные, то используем т теста Уэлча\n",
            "- получение результата\n",
            "    - расчет p-value\n",
            "- интерпретация p-value\n",
            "    - сравнение p-value и alpha\n",
            "    - если альфа > p-value - отвергаем нулевую гипотезу\n",
            "    - если альфа < p-value - не можем отвергнуть нулевую гипотезу"
         ]
      },
      {
         "cell_type": "code",
         "execution_count": 3,
         "metadata": {},
         "outputs": [
            {
               "data": {
                  "text/html": [
                     "<div>\n",
                     "<style scoped>\n",
                     "    .dataframe tbody tr th:only-of-type {\n",
                     "        vertical-align: middle;\n",
                     "    }\n",
                     "\n",
                     "    .dataframe tbody tr th {\n",
                     "        vertical-align: top;\n",
                     "    }\n",
                     "\n",
                     "    .dataframe thead th {\n",
                     "        text-align: right;\n",
                     "    }\n",
                     "</style>\n",
                     "<table border=\"1\" class=\"dataframe\">\n",
                     "  <thead>\n",
                     "    <tr style=\"text-align: right;\">\n",
                     "      <th></th>\n",
                     "      <th>children</th>\n",
                     "      <th>days_employed</th>\n",
                     "      <th>dob_years</th>\n",
                     "      <th>education</th>\n",
                     "      <th>education_id</th>\n",
                     "      <th>family_status</th>\n",
                     "      <th>family_status_id</th>\n",
                     "      <th>gender</th>\n",
                     "      <th>income_type</th>\n",
                     "      <th>debt</th>\n",
                     "      <th>total_income</th>\n",
                     "      <th>purpose</th>\n",
                     "    </tr>\n",
                     "  </thead>\n",
                     "  <tbody>\n",
                     "    <tr>\n",
                     "      <th>0</th>\n",
                     "      <td>1</td>\n",
                     "      <td>-8437.673028</td>\n",
                     "      <td>42</td>\n",
                     "      <td>высшее</td>\n",
                     "      <td>0</td>\n",
                     "      <td>женат / замужем</td>\n",
                     "      <td>0</td>\n",
                     "      <td>F</td>\n",
                     "      <td>сотрудник</td>\n",
                     "      <td>0</td>\n",
                     "      <td>253875.639453</td>\n",
                     "      <td>покупка жилья</td>\n",
                     "    </tr>\n",
                     "  </tbody>\n",
                     "</table>\n",
                     "</div>"
                  ],
                  "text/plain": [
                     "   children  days_employed  dob_years education  education_id  \\\n",
                     "0         1   -8437.673028         42    высшее             0   \n",
                     "\n",
                     "     family_status  family_status_id gender income_type  debt   total_income  \\\n",
                     "0  женат / замужем                 0      F   сотрудник     0  253875.639453   \n",
                     "\n",
                     "         purpose  \n",
                     "0  покупка жилья  "
                  ]
               },
               "execution_count": 3,
               "metadata": {},
               "output_type": "execute_result"
            }
         ],
         "source": [
            "df.head(1)"
         ]
      },
      {
         "cell_type": "code",
         "execution_count": null,
         "metadata": {},
         "outputs": [],
         "source": [
            "Какая у нас задача\n",
            "- Исследовать взаимосвязь между 2 переменными\n",
            "    - обе переменные наминативные\n",
            "        - Хи-квадрат Пирсона (не чувствителен к гетероскедастичности) (нормальность не обязательна)\n",
            "    - обе переменные количественные\n",
            "        - Коэффициент корреляции Пирсона (параметрика) (чувствителен к выбросам) (только непрерывные переменные) \n",
            "        - Коэффициент корреляции Спирмена (чувствителен к выбросам) / Кендалла (менее чувствителен к выбросам) (непараметрика) (непрерывные переменные и порядковые категориальные переменные)  \n",
            "    - одна переменная номинативная (принимает 2 занчения), вторая количественная\n",
            "        - значения\n",
            "            - Т-критерий Стьюдента (параметрика) (желательно нормальность) (чувствителен к выбросам) (чувствителен к гетероскедастичности)\n",
            "                - если дисперсии равны (тест левена, барлета) и количество в группах равно (тест на равенство пропорций), то используем обычный т тест (эта формула более точно даст результат для этого случая)\n",
            "                - если дисперсии не равны (тест левена, барлета) или количество в группах не равно (тест на равенство пропорций), то используем тест Уэлча (эта формула использует больше неопределенности и лучше подходит для этого случая)\n",
            "            - U-критерий Манна-Уитни (непараметрика) (нормальность не обязательна) (не чувствителен к гетероскедастичности)\n",
            "            Если тестируемая фича полностью сдвигает выборку на некий коэффициент theta или масштабирует выборку на некий параметр theta (theta > 0),  \n",
            "            то критерий Манна-Уитни применим\n",
            "        - доли\n",
            "            - Z тест для долей (параметрика) (желательно нормальность) (чувствителен к выбросам) (чувствителен к гетероскедастичности)\n",
            "            - Chi-square тест для долей (непараметрика) (нормальность не обязательна) (не чувствителен к гетероскедастичности)\n",
            "- Исследовать взаимосвязь между несколькими переменными\n",
            "    - Дисперсионный анализ (параметрика) (дисперсии в группах должны быть примерно равны) (желательно нормальность) (чувствителен к выбросам) (чувствителен к гетероскедастичности)\n",
            "    - Welch's ANOVA (устройчив к разной дисперсии в группах) (требует более больших размеров групп для точных результатов) (желательно нормальность) (чувствителен к выбросам) (не чувствителен к гетероскедастичности)\n",
            "    - Критерий Краскела-Уоллиса (непараметрика) (нормальность не обязательна) (не чувствителен к гетероскедастичности)\n",
            "    - Тест Тьюки (если anova или Краскела-Уоллиса нашил различия) (дисперсии в группах должны быть примерно равны) (параметрика) (желательно нормальность) (чувствителен к выбросам) (чувствителен к гетероскедастичности)\n",
            "- Проверить на равенство дисперсий в группах перед anova\n",
            "    - Levene's test (не требует нормальность) (менее чувствительный)\n",
            "    - Bartlett's test (требует нормальность) (более чувствительный)"
         ]
      },
      {
         "cell_type": "markdown",
         "metadata": {},
         "source": [
            "Отличная статья про доверительные интервалы для разных статистик  \n",
            "https://habr.com/ru/articles/807051/"
         ]
      },
      {
         "cell_type": "code",
         "execution_count": 84,
         "metadata": {},
         "outputs": [
            {
               "data": {
                  "text/html": [
                     "<div>\n",
                     "<style scoped>\n",
                     "    .dataframe tbody tr th:only-of-type {\n",
                     "        vertical-align: middle;\n",
                     "    }\n",
                     "\n",
                     "    .dataframe tbody tr th {\n",
                     "        vertical-align: top;\n",
                     "    }\n",
                     "\n",
                     "    .dataframe thead th {\n",
                     "        text-align: right;\n",
                     "    }\n",
                     "</style>\n",
                     "<table border=\"1\" class=\"dataframe\">\n",
                     "  <thead>\n",
                     "    <tr style=\"text-align: right;\">\n",
                     "      <th></th>\n",
                     "      <th>children</th>\n",
                     "      <th>days_employed</th>\n",
                     "      <th>dob_years</th>\n",
                     "      <th>education</th>\n",
                     "      <th>education_id</th>\n",
                     "      <th>family_status</th>\n",
                     "      <th>family_status_id</th>\n",
                     "      <th>gender</th>\n",
                     "      <th>income_type</th>\n",
                     "      <th>debt</th>\n",
                     "      <th>total_income</th>\n",
                     "      <th>purpose</th>\n",
                     "    </tr>\n",
                     "  </thead>\n",
                     "  <tbody>\n",
                     "    <tr>\n",
                     "      <th>0</th>\n",
                     "      <td>1</td>\n",
                     "      <td>-8437.673028</td>\n",
                     "      <td>42</td>\n",
                     "      <td>высшее</td>\n",
                     "      <td>0</td>\n",
                     "      <td>женат / замужем</td>\n",
                     "      <td>0</td>\n",
                     "      <td>F</td>\n",
                     "      <td>сотрудник</td>\n",
                     "      <td>0</td>\n",
                     "      <td>253875.639453</td>\n",
                     "      <td>покупка жилья</td>\n",
                     "    </tr>\n",
                     "  </tbody>\n",
                     "</table>\n",
                     "</div>"
                  ],
                  "text/plain": [
                     "   children  days_employed  dob_years education  education_id  \\\n",
                     "0         1   -8437.673028         42    высшее             0   \n",
                     "\n",
                     "     family_status  family_status_id gender income_type  debt   total_income  \\\n",
                     "0  женат / замужем                 0      F   сотрудник     0  253875.639453   \n",
                     "\n",
                     "         purpose  \n",
                     "0  покупка жилья  "
                  ]
               },
               "execution_count": 84,
               "metadata": {},
               "output_type": "execute_result"
            }
         ],
         "source": [
            "df.head(1)"
         ]
      },
      {
         "cell_type": "code",
         "execution_count": 96,
         "metadata": {},
         "outputs": [
            {
               "name": "stderr",
               "output_type": "stream",
               "text": [
                  "c:\\python\\lib\\site-packages\\ipykernel_launcher.py:1: UserWarning: Boolean Series key will be reindexed to match DataFrame index.\n",
                  "  \"\"\"Entry point for launching an IPython kernel.\n",
                  "c:\\python\\lib\\site-packages\\ipykernel_launcher.py:2: UserWarning: Boolean Series key will be reindexed to match DataFrame index.\n",
                  "  \n"
               ]
            }
         ],
         "source": [
            "sample1 = df.dropna()[df.gender == 'M']['total_income']\n",
            "sample2 = df.dropna()[df.gender == 'F']['total_income']"
         ]
      },
      {
         "cell_type": "markdown",
         "metadata": {},
         "source": [
            "Bootstrapping"
         ]
      },
      {
         "cell_type": "markdown",
         "metadata": {},
         "source": [
            "В бутстрепе, если мы хотим сравнить две выборки, то нельзя смотреть  \n",
            "где находится исходная разница средних в бутстрапированной выборке  \n",
            "Так как мы берем бутстреп из наших выборок и впролне реально.что наша разность  \n",
            "будет близка к с реднему бутстропированной выборки  \n",
            "Поэтому p value нужно определять по месту нуля в бутстропированной выборке"
         ]
      },
      {
         "cell_type": "markdown",
         "metadata": {},
         "source": [
            "Посмотрим p value для 0 (если различий нет, то разница должна быть 0)\n",
            "Для этого посчитаем cdf для + и - среднего, чтобы получить 2 значения cdf\n",
            "а теперь возьмем минимум и умножим на 2, так как альт гипотеза у нас.что\n",
            "просто не равно 0, значит и справа и слева"
         ]
      },
      {
         "cell_type": "code",
         "execution_count": 12,
         "metadata": {},
         "outputs": [
            {
               "data": {
                  "text/html": [
                     "<div>\n",
                     "<style scoped>\n",
                     "    .dataframe tbody tr th:only-of-type {\n",
                     "        vertical-align: middle;\n",
                     "    }\n",
                     "\n",
                     "    .dataframe tbody tr th {\n",
                     "        vertical-align: top;\n",
                     "    }\n",
                     "\n",
                     "    .dataframe thead th {\n",
                     "        text-align: right;\n",
                     "    }\n",
                     "</style>\n",
                     "<table border=\"1\" class=\"dataframe\">\n",
                     "  <thead>\n",
                     "    <tr style=\"text-align: right;\">\n",
                     "      <th></th>\n",
                     "      <th>group</th>\n",
                     "      <th>outcome</th>\n",
                     "    </tr>\n",
                     "  </thead>\n",
                     "  <tbody>\n",
                     "    <tr>\n",
                     "      <th>0</th>\n",
                     "      <td>A</td>\n",
                     "      <td>1</td>\n",
                     "    </tr>\n",
                     "    <tr>\n",
                     "      <th>1</th>\n",
                     "      <td>A</td>\n",
                     "      <td>1</td>\n",
                     "    </tr>\n",
                     "    <tr>\n",
                     "      <th>2</th>\n",
                     "      <td>A</td>\n",
                     "      <td>1</td>\n",
                     "    </tr>\n",
                     "    <tr>\n",
                     "      <th>3</th>\n",
                     "      <td>A</td>\n",
                     "      <td>1</td>\n",
                     "    </tr>\n",
                     "    <tr>\n",
                     "      <th>4</th>\n",
                     "      <td>A</td>\n",
                     "      <td>1</td>\n",
                     "    </tr>\n",
                     "  </tbody>\n",
                     "</table>\n",
                     "</div>"
                  ],
                  "text/plain": [
                     "  group  outcome\n",
                     "0     A        1\n",
                     "1     A        1\n",
                     "2     A        1\n",
                     "3     A        1\n",
                     "4     A        1"
                  ]
               },
               "execution_count": 12,
               "metadata": {},
               "output_type": "execute_result"
            }
         ],
         "source": [
            "df.head()"
         ]
      },
      {
         "cell_type": "code",
         "execution_count": 15,
         "metadata": {},
         "outputs": [],
         "source": [
            "sample1 = df[df.gender=='M'].total_income.dropna()\n",
            "sample2 = df[df.gender=='F'].total_income.dropna()"
         ]
      },
      {
         "cell_type": "code",
         "execution_count": 51,
         "metadata": {},
         "outputs": [
            {
               "name": "stdout",
               "output_type": "stream",
               "text": [
                  "ConfidenceInterval(low=35705.11632121437, high=42218.55994410035)\n"
               ]
            }
         ],
         "source": [
            "def my_statistic(sample1, sample2, axis=-1):\n",
            "     return np.mean(sample1, axis=-1) - np.mean(sample2, axis=-1)\n",
            "data = (sample1.to_numpy(), sample2.to_numpy())\n",
            "res = stats.bootstrap(data, my_statistic, method='percentile', n_resamples=1000, random_state=1)\n",
            "print(res.confidence_interval)"
         ]
      },
      {
         "cell_type": "code",
         "execution_count": 183,
         "metadata": {},
         "outputs": [
            {
               "data": {
                  "application/vnd.jupyter.widget-view+json": {
                     "model_id": "a4fd2196f752479eae07c71b0c6430d2",
                     "version_major": 2,
                     "version_minor": 0
                  },
                  "text/plain": [
                     "Bootstrapping:   0%|          | 0/1000 [00:00<?, ?it/s]"
                  ]
               },
               "metadata": {},
               "output_type": "display_data"
            },
            {
               "name": "stdout",
               "output_type": "stream",
               "text": [
                  "Bootstrap resampling\n",
                  "ci =  (190377.8301310357, 196283.7926258746)\n"
               ]
            },
            {
               "data": {
                  "application/vnd.plotly.v1+json": {
                     "config": {
                        "plotlyServerURL": "https://plotly.com"
                     },
                     "data": [
                        {
                           "alignmentgroup": "True",
                           "hovertemplate": "count=%{y}<br>x=%{text}",
                           "legendgroup": "",
                           "marker": {
                              "color": [
                                 "#049CB3",
                                 "#049CB3",
                                 "#049CB3",
                                 "#049CB3",
                                 "#049CB3",
                                 "#049CB3",
                                 "rgba(128, 60, 170, 0.9)",
                                 "rgba(128, 60, 170, 0.9)",
                                 "rgba(128, 60, 170, 0.9)",
                                 "rgba(128, 60, 170, 0.9)",
                                 "rgba(128, 60, 170, 0.9)",
                                 "rgba(128, 60, 170, 0.9)",
                                 "rgba(128, 60, 170, 0.9)",
                                 "rgba(128, 60, 170, 0.9)",
                                 "rgba(128, 60, 170, 0.9)",
                                 "rgba(128, 60, 170, 0.9)",
                                 "rgba(128, 60, 170, 0.9)",
                                 "rgba(128, 60, 170, 0.9)",
                                 "rgba(128, 60, 170, 0.9)",
                                 "rgba(128, 60, 170, 0.9)",
                                 "rgba(128, 60, 170, 0.9)",
                                 "rgba(128, 60, 170, 0.9)",
                                 "rgba(128, 60, 170, 0.9)",
                                 "#049CB3",
                                 "#049CB3",
                                 "#049CB3",
                                 "#049CB3",
                                 "#049CB3",
                                 "#049CB3"
                              ],
                              "pattern": {
                                 "shape": ""
                              }
                           },
                           "name": "",
                           "offsetgroup": "",
                           "orientation": "v",
                           "showlegend": false,
                           "text": [
                              "188.5k - 188.8k",
                              "188.8k - 189.2k",
                              "189.2k - 189.5k",
                              "189.5k - 189.8k",
                              "189.8k - 190.2k",
                              "190.2k - 190.5k",
                              "190.5k - 190.8k",
                              "190.8k - 191.2k",
                              "191.2k - 191.5k",
                              "191.5k - 191.8k",
                              "191.8k - 192.2k",
                              "192.2k - 192.5k",
                              "192.5k - 192.9k",
                              "192.9k - 193.2k",
                              "193.2k - 193.5k",
                              "193.5k - 193.9k",
                              "193.9k - 194.2k",
                              "194.2k - 194.5k",
                              "194.5k - 194.9k",
                              "194.9k - 195.2k",
                              "195.2k - 195.5k",
                              "195.5k - 195.9k",
                              "195.9k - 196.2k",
                              "196.2k - 196.5k",
                              "196.5k - 196.9k",
                              "196.9k - 197.2k",
                              "197.2k - 197.5k",
                              "197.5k - 197.9k",
                              "197.9k - 198.2k"
                           ],
                           "textposition": "none",
                           "type": "bar",
                           "x": [
                              188663.96968364582,
                              188998.9925232815,
                              189334.0153629171,
                              189669.0382025527,
                              190004.06104218838,
                              190339.083881824,
                              190674.10672145963,
                              191009.12956109527,
                              191344.15240073088,
                              191679.17524036655,
                              192014.19808000216,
                              192349.22091963777,
                              192684.24375927343,
                              193019.26659890905,
                              193354.28943854469,
                              193689.31227818032,
                              194024.33511781594,
                              194359.3579574516,
                              194694.38079708721,
                              195029.40363672283,
                              195364.4264763585,
                              195699.4493159941,
                              196034.47215562974,
                              196369.49499526538,
                              196704.517834901,
                              197039.54067453666,
                              197374.56351417227,
                              197709.58635380788,
                              198044.60919344355
                           ],
                           "xaxis": "x",
                           "y": [
                              2,
                              1,
                              4,
                              2,
                              8,
                              18,
                              30,
                              41,
                              40,
                              60,
                              69,
                              58,
                              75,
                              99,
                              91,
                              81,
                              64,
                              60,
                              46,
                              55,
                              30,
                              28,
                              11,
                              10,
                              4,
                              6,
                              5,
                              0,
                              2
                           ],
                           "yaxis": "y"
                        }
                     ],
                     "layout": {
                        "annotations": [
                           {
                              "font": {
                                 "size": 16
                              },
                              "showarrow": false,
                              "text": "CI Lower: 190377.83",
                              "x": 190377.8301310357,
                              "xanchor": "left",
                              "xref": "x",
                              "y": 1,
                              "yanchor": "top",
                              "yref": "y domain"
                           },
                           {
                              "font": {
                                 "size": 16
                              },
                              "showarrow": false,
                              "text": "CI Upper: 196283.79",
                              "x": 196283.7926258746,
                              "xanchor": "left",
                              "xref": "x",
                              "y": 1,
                              "yanchor": "top",
                              "yref": "y domain"
                           }
                        ],
                        "bargap": 0,
                        "barmode": "relative",
                        "font": {
                           "color": "rgba(0, 0, 0, 1)",
                           "family": "Open Sans",
                           "size": 14
                        },
                        "hoverlabel": {
                           "bgcolor": "white"
                        },
                        "legend": {
                           "tracegroupgap": 0
                        },
                        "margin": {
                           "b": 50,
                           "l": 50,
                           "r": 50,
                           "t": 70
                        },
                        "shapes": [
                           {
                              "line": {
                                 "color": "#049CB3",
                                 "width": 2
                              },
                              "type": "line",
                              "x0": 190377.8301310357,
                              "x1": 190377.8301310357,
                              "xref": "x",
                              "y0": 0,
                              "y1": 1,
                              "yref": "y domain"
                           },
                           {
                              "line": {
                                 "color": "#049CB3",
                                 "width": 2
                              },
                              "type": "line",
                              "x0": 196283.7926258746,
                              "x1": 196283.7926258746,
                              "xref": "x",
                              "y0": 0,
                              "y1": 1,
                              "yref": "y domain"
                           }
                        ],
                        "template": {
                           "data": {
                              "bar": [
                                 {
                                    "error_x": {
                                       "color": "rgb(36,36,36)"
                                    },
                                    "error_y": {
                                       "color": "rgb(36,36,36)"
                                    },
                                    "marker": {
                                       "line": {
                                          "color": "white",
                                          "width": 0.5
                                       },
                                       "pattern": {
                                          "fillmode": "overlay",
                                          "size": 10,
                                          "solidity": 0.2
                                       }
                                    },
                                    "type": "bar"
                                 }
                              ],
                              "barpolar": [
                                 {
                                    "marker": {
                                       "line": {
                                          "color": "white",
                                          "width": 0.5
                                       },
                                       "pattern": {
                                          "fillmode": "overlay",
                                          "size": 10,
                                          "solidity": 0.2
                                       }
                                    },
                                    "type": "barpolar"
                                 }
                              ],
                              "carpet": [
                                 {
                                    "aaxis": {
                                       "endlinecolor": "rgb(36,36,36)",
                                       "gridcolor": "white",
                                       "linecolor": "white",
                                       "minorgridcolor": "white",
                                       "startlinecolor": "rgb(36,36,36)"
                                    },
                                    "baxis": {
                                       "endlinecolor": "rgb(36,36,36)",
                                       "gridcolor": "white",
                                       "linecolor": "white",
                                       "minorgridcolor": "white",
                                       "startlinecolor": "rgb(36,36,36)"
                                    },
                                    "type": "carpet"
                                 }
                              ],
                              "choropleth": [
                                 {
                                    "colorbar": {
                                       "outlinewidth": 1,
                                       "tickcolor": "rgb(36,36,36)",
                                       "ticks": "outside"
                                    },
                                    "type": "choropleth"
                                 }
                              ],
                              "contour": [
                                 {
                                    "colorbar": {
                                       "outlinewidth": 1,
                                       "tickcolor": "rgb(36,36,36)",
                                       "ticks": "outside"
                                    },
                                    "colorscale": [
                                       [
                                          0,
                                          "#440154"
                                       ],
                                       [
                                          0.1111111111111111,
                                          "#482878"
                                       ],
                                       [
                                          0.2222222222222222,
                                          "#3e4989"
                                       ],
                                       [
                                          0.3333333333333333,
                                          "#31688e"
                                       ],
                                       [
                                          0.4444444444444444,
                                          "#26828e"
                                       ],
                                       [
                                          0.5555555555555556,
                                          "#1f9e89"
                                       ],
                                       [
                                          0.6666666666666666,
                                          "#35b779"
                                       ],
                                       [
                                          0.7777777777777778,
                                          "#6ece58"
                                       ],
                                       [
                                          0.8888888888888888,
                                          "#b5de2b"
                                       ],
                                       [
                                          1,
                                          "#fde725"
                                       ]
                                    ],
                                    "type": "contour"
                                 }
                              ],
                              "contourcarpet": [
                                 {
                                    "colorbar": {
                                       "outlinewidth": 1,
                                       "tickcolor": "rgb(36,36,36)",
                                       "ticks": "outside"
                                    },
                                    "type": "contourcarpet"
                                 }
                              ],
                              "heatmap": [
                                 {
                                    "colorbar": {
                                       "outlinewidth": 1,
                                       "tickcolor": "rgb(36,36,36)",
                                       "ticks": "outside"
                                    },
                                    "colorscale": [
                                       [
                                          0,
                                          "#440154"
                                       ],
                                       [
                                          0.1111111111111111,
                                          "#482878"
                                       ],
                                       [
                                          0.2222222222222222,
                                          "#3e4989"
                                       ],
                                       [
                                          0.3333333333333333,
                                          "#31688e"
                                       ],
                                       [
                                          0.4444444444444444,
                                          "#26828e"
                                       ],
                                       [
                                          0.5555555555555556,
                                          "#1f9e89"
                                       ],
                                       [
                                          0.6666666666666666,
                                          "#35b779"
                                       ],
                                       [
                                          0.7777777777777778,
                                          "#6ece58"
                                       ],
                                       [
                                          0.8888888888888888,
                                          "#b5de2b"
                                       ],
                                       [
                                          1,
                                          "#fde725"
                                       ]
                                    ],
                                    "type": "heatmap"
                                 }
                              ],
                              "heatmapgl": [
                                 {
                                    "colorbar": {
                                       "outlinewidth": 1,
                                       "tickcolor": "rgb(36,36,36)",
                                       "ticks": "outside"
                                    },
                                    "colorscale": [
                                       [
                                          0,
                                          "#440154"
                                       ],
                                       [
                                          0.1111111111111111,
                                          "#482878"
                                       ],
                                       [
                                          0.2222222222222222,
                                          "#3e4989"
                                       ],
                                       [
                                          0.3333333333333333,
                                          "#31688e"
                                       ],
                                       [
                                          0.4444444444444444,
                                          "#26828e"
                                       ],
                                       [
                                          0.5555555555555556,
                                          "#1f9e89"
                                       ],
                                       [
                                          0.6666666666666666,
                                          "#35b779"
                                       ],
                                       [
                                          0.7777777777777778,
                                          "#6ece58"
                                       ],
                                       [
                                          0.8888888888888888,
                                          "#b5de2b"
                                       ],
                                       [
                                          1,
                                          "#fde725"
                                       ]
                                    ],
                                    "type": "heatmapgl"
                                 }
                              ],
                              "histogram": [
                                 {
                                    "marker": {
                                       "line": {
                                          "color": "white",
                                          "width": 0.6
                                       }
                                    },
                                    "type": "histogram"
                                 }
                              ],
                              "histogram2d": [
                                 {
                                    "colorbar": {
                                       "outlinewidth": 1,
                                       "tickcolor": "rgb(36,36,36)",
                                       "ticks": "outside"
                                    },
                                    "colorscale": [
                                       [
                                          0,
                                          "#440154"
                                       ],
                                       [
                                          0.1111111111111111,
                                          "#482878"
                                       ],
                                       [
                                          0.2222222222222222,
                                          "#3e4989"
                                       ],
                                       [
                                          0.3333333333333333,
                                          "#31688e"
                                       ],
                                       [
                                          0.4444444444444444,
                                          "#26828e"
                                       ],
                                       [
                                          0.5555555555555556,
                                          "#1f9e89"
                                       ],
                                       [
                                          0.6666666666666666,
                                          "#35b779"
                                       ],
                                       [
                                          0.7777777777777778,
                                          "#6ece58"
                                       ],
                                       [
                                          0.8888888888888888,
                                          "#b5de2b"
                                       ],
                                       [
                                          1,
                                          "#fde725"
                                       ]
                                    ],
                                    "type": "histogram2d"
                                 }
                              ],
                              "histogram2dcontour": [
                                 {
                                    "colorbar": {
                                       "outlinewidth": 1,
                                       "tickcolor": "rgb(36,36,36)",
                                       "ticks": "outside"
                                    },
                                    "colorscale": [
                                       [
                                          0,
                                          "#440154"
                                       ],
                                       [
                                          0.1111111111111111,
                                          "#482878"
                                       ],
                                       [
                                          0.2222222222222222,
                                          "#3e4989"
                                       ],
                                       [
                                          0.3333333333333333,
                                          "#31688e"
                                       ],
                                       [
                                          0.4444444444444444,
                                          "#26828e"
                                       ],
                                       [
                                          0.5555555555555556,
                                          "#1f9e89"
                                       ],
                                       [
                                          0.6666666666666666,
                                          "#35b779"
                                       ],
                                       [
                                          0.7777777777777778,
                                          "#6ece58"
                                       ],
                                       [
                                          0.8888888888888888,
                                          "#b5de2b"
                                       ],
                                       [
                                          1,
                                          "#fde725"
                                       ]
                                    ],
                                    "type": "histogram2dcontour"
                                 }
                              ],
                              "mesh3d": [
                                 {
                                    "colorbar": {
                                       "outlinewidth": 1,
                                       "tickcolor": "rgb(36,36,36)",
                                       "ticks": "outside"
                                    },
                                    "type": "mesh3d"
                                 }
                              ],
                              "parcoords": [
                                 {
                                    "line": {
                                       "colorbar": {
                                          "outlinewidth": 1,
                                          "tickcolor": "rgb(36,36,36)",
                                          "ticks": "outside"
                                       }
                                    },
                                    "type": "parcoords"
                                 }
                              ],
                              "pie": [
                                 {
                                    "automargin": true,
                                    "type": "pie"
                                 }
                              ],
                              "scatter": [
                                 {
                                    "fillpattern": {
                                       "fillmode": "overlay",
                                       "size": 10,
                                       "solidity": 0.2
                                    },
                                    "type": "scatter"
                                 }
                              ],
                              "scatter3d": [
                                 {
                                    "line": {
                                       "colorbar": {
                                          "outlinewidth": 1,
                                          "tickcolor": "rgb(36,36,36)",
                                          "ticks": "outside"
                                       }
                                    },
                                    "marker": {
                                       "colorbar": {
                                          "outlinewidth": 1,
                                          "tickcolor": "rgb(36,36,36)",
                                          "ticks": "outside"
                                       }
                                    },
                                    "type": "scatter3d"
                                 }
                              ],
                              "scattercarpet": [
                                 {
                                    "marker": {
                                       "colorbar": {
                                          "outlinewidth": 1,
                                          "tickcolor": "rgb(36,36,36)",
                                          "ticks": "outside"
                                       }
                                    },
                                    "type": "scattercarpet"
                                 }
                              ],
                              "scattergeo": [
                                 {
                                    "marker": {
                                       "colorbar": {
                                          "outlinewidth": 1,
                                          "tickcolor": "rgb(36,36,36)",
                                          "ticks": "outside"
                                       }
                                    },
                                    "type": "scattergeo"
                                 }
                              ],
                              "scattergl": [
                                 {
                                    "marker": {
                                       "colorbar": {
                                          "outlinewidth": 1,
                                          "tickcolor": "rgb(36,36,36)",
                                          "ticks": "outside"
                                       }
                                    },
                                    "type": "scattergl"
                                 }
                              ],
                              "scattermapbox": [
                                 {
                                    "marker": {
                                       "colorbar": {
                                          "outlinewidth": 1,
                                          "tickcolor": "rgb(36,36,36)",
                                          "ticks": "outside"
                                       }
                                    },
                                    "type": "scattermapbox"
                                 }
                              ],
                              "scatterpolar": [
                                 {
                                    "marker": {
                                       "colorbar": {
                                          "outlinewidth": 1,
                                          "tickcolor": "rgb(36,36,36)",
                                          "ticks": "outside"
                                       }
                                    },
                                    "type": "scatterpolar"
                                 }
                              ],
                              "scatterpolargl": [
                                 {
                                    "marker": {
                                       "colorbar": {
                                          "outlinewidth": 1,
                                          "tickcolor": "rgb(36,36,36)",
                                          "ticks": "outside"
                                       }
                                    },
                                    "type": "scatterpolargl"
                                 }
                              ],
                              "scatterternary": [
                                 {
                                    "marker": {
                                       "colorbar": {
                                          "outlinewidth": 1,
                                          "tickcolor": "rgb(36,36,36)",
                                          "ticks": "outside"
                                       }
                                    },
                                    "type": "scatterternary"
                                 }
                              ],
                              "surface": [
                                 {
                                    "colorbar": {
                                       "outlinewidth": 1,
                                       "tickcolor": "rgb(36,36,36)",
                                       "ticks": "outside"
                                    },
                                    "colorscale": [
                                       [
                                          0,
                                          "#440154"
                                       ],
                                       [
                                          0.1111111111111111,
                                          "#482878"
                                       ],
                                       [
                                          0.2222222222222222,
                                          "#3e4989"
                                       ],
                                       [
                                          0.3333333333333333,
                                          "#31688e"
                                       ],
                                       [
                                          0.4444444444444444,
                                          "#26828e"
                                       ],
                                       [
                                          0.5555555555555556,
                                          "#1f9e89"
                                       ],
                                       [
                                          0.6666666666666666,
                                          "#35b779"
                                       ],
                                       [
                                          0.7777777777777778,
                                          "#6ece58"
                                       ],
                                       [
                                          0.8888888888888888,
                                          "#b5de2b"
                                       ],
                                       [
                                          1,
                                          "#fde725"
                                       ]
                                    ],
                                    "type": "surface"
                                 }
                              ],
                              "table": [
                                 {
                                    "cells": {
                                       "fill": {
                                          "color": "rgb(237,237,237)"
                                       },
                                       "line": {
                                          "color": "white"
                                       }
                                    },
                                    "header": {
                                       "fill": {
                                          "color": "rgb(217,217,217)"
                                       },
                                       "line": {
                                          "color": "white"
                                       }
                                    },
                                    "type": "table"
                                 }
                              ]
                           },
                           "layout": {
                              "annotationdefaults": {
                                 "arrowhead": 0,
                                 "arrowwidth": 1
                              },
                              "autotypenumbers": "strict",
                              "coloraxis": {
                                 "colorbar": {
                                    "outlinewidth": 1,
                                    "tickcolor": "rgb(36,36,36)",
                                    "ticks": "outside"
                                 }
                              },
                              "colorscale": {
                                 "diverging": [
                                    [
                                       0,
                                       "rgb(103,0,31)"
                                    ],
                                    [
                                       0.1,
                                       "rgb(178,24,43)"
                                    ],
                                    [
                                       0.2,
                                       "rgb(214,96,77)"
                                    ],
                                    [
                                       0.3,
                                       "rgb(244,165,130)"
                                    ],
                                    [
                                       0.4,
                                       "rgb(253,219,199)"
                                    ],
                                    [
                                       0.5,
                                       "rgb(247,247,247)"
                                    ],
                                    [
                                       0.6,
                                       "rgb(209,229,240)"
                                    ],
                                    [
                                       0.7,
                                       "rgb(146,197,222)"
                                    ],
                                    [
                                       0.8,
                                       "rgb(67,147,195)"
                                    ],
                                    [
                                       0.9,
                                       "rgb(33,102,172)"
                                    ],
                                    [
                                       1,
                                       "rgb(5,48,97)"
                                    ]
                                 ],
                                 "sequential": [
                                    [
                                       0,
                                       "#440154"
                                    ],
                                    [
                                       0.1111111111111111,
                                       "#482878"
                                    ],
                                    [
                                       0.2222222222222222,
                                       "#3e4989"
                                    ],
                                    [
                                       0.3333333333333333,
                                       "#31688e"
                                    ],
                                    [
                                       0.4444444444444444,
                                       "#26828e"
                                    ],
                                    [
                                       0.5555555555555556,
                                       "#1f9e89"
                                    ],
                                    [
                                       0.6666666666666666,
                                       "#35b779"
                                    ],
                                    [
                                       0.7777777777777778,
                                       "#6ece58"
                                    ],
                                    [
                                       0.8888888888888888,
                                       "#b5de2b"
                                    ],
                                    [
                                       1,
                                       "#fde725"
                                    ]
                                 ],
                                 "sequentialminus": [
                                    [
                                       0,
                                       "#440154"
                                    ],
                                    [
                                       0.1111111111111111,
                                       "#482878"
                                    ],
                                    [
                                       0.2222222222222222,
                                       "#3e4989"
                                    ],
                                    [
                                       0.3333333333333333,
                                       "#31688e"
                                    ],
                                    [
                                       0.4444444444444444,
                                       "#26828e"
                                    ],
                                    [
                                       0.5555555555555556,
                                       "#1f9e89"
                                    ],
                                    [
                                       0.6666666666666666,
                                       "#35b779"
                                    ],
                                    [
                                       0.7777777777777778,
                                       "#6ece58"
                                    ],
                                    [
                                       0.8888888888888888,
                                       "#b5de2b"
                                    ],
                                    [
                                       1,
                                       "#fde725"
                                    ]
                                 ]
                              },
                              "colorway": [
                                 "#1F77B4",
                                 "#FF7F0E",
                                 "#2CA02C",
                                 "#D62728",
                                 "#9467BD",
                                 "#8C564B",
                                 "#E377C2",
                                 "#7F7F7F",
                                 "#BCBD22",
                                 "#17BECF"
                              ],
                              "font": {
                                 "color": "rgb(36,36,36)"
                              },
                              "geo": {
                                 "bgcolor": "white",
                                 "lakecolor": "white",
                                 "landcolor": "white",
                                 "showlakes": true,
                                 "showland": true,
                                 "subunitcolor": "white"
                              },
                              "hoverlabel": {
                                 "align": "left"
                              },
                              "hovermode": "closest",
                              "mapbox": {
                                 "style": "light"
                              },
                              "paper_bgcolor": "white",
                              "plot_bgcolor": "white",
                              "polar": {
                                 "angularaxis": {
                                    "gridcolor": "rgb(232,232,232)",
                                    "linecolor": "rgb(36,36,36)",
                                    "showgrid": false,
                                    "showline": true,
                                    "ticks": "outside"
                                 },
                                 "bgcolor": "white",
                                 "radialaxis": {
                                    "gridcolor": "rgb(232,232,232)",
                                    "linecolor": "rgb(36,36,36)",
                                    "showgrid": false,
                                    "showline": true,
                                    "ticks": "outside"
                                 }
                              },
                              "scene": {
                                 "xaxis": {
                                    "backgroundcolor": "white",
                                    "gridcolor": "rgb(232,232,232)",
                                    "gridwidth": 2,
                                    "linecolor": "rgb(36,36,36)",
                                    "showbackground": true,
                                    "showgrid": false,
                                    "showline": true,
                                    "ticks": "outside",
                                    "zeroline": false,
                                    "zerolinecolor": "rgb(36,36,36)"
                                 },
                                 "yaxis": {
                                    "backgroundcolor": "white",
                                    "gridcolor": "rgb(232,232,232)",
                                    "gridwidth": 2,
                                    "linecolor": "rgb(36,36,36)",
                                    "showbackground": true,
                                    "showgrid": false,
                                    "showline": true,
                                    "ticks": "outside",
                                    "zeroline": false,
                                    "zerolinecolor": "rgb(36,36,36)"
                                 },
                                 "zaxis": {
                                    "backgroundcolor": "white",
                                    "gridcolor": "rgb(232,232,232)",
                                    "gridwidth": 2,
                                    "linecolor": "rgb(36,36,36)",
                                    "showbackground": true,
                                    "showgrid": false,
                                    "showline": true,
                                    "ticks": "outside",
                                    "zeroline": false,
                                    "zerolinecolor": "rgb(36,36,36)"
                                 }
                              },
                              "shapedefaults": {
                                 "fillcolor": "black",
                                 "line": {
                                    "width": 0
                                 },
                                 "opacity": 0.3
                              },
                              "ternary": {
                                 "aaxis": {
                                    "gridcolor": "rgb(232,232,232)",
                                    "linecolor": "rgb(36,36,36)",
                                    "showgrid": false,
                                    "showline": true,
                                    "ticks": "outside"
                                 },
                                 "baxis": {
                                    "gridcolor": "rgb(232,232,232)",
                                    "linecolor": "rgb(36,36,36)",
                                    "showgrid": false,
                                    "showline": true,
                                    "ticks": "outside"
                                 },
                                 "bgcolor": "white",
                                 "caxis": {
                                    "gridcolor": "rgb(232,232,232)",
                                    "linecolor": "rgb(36,36,36)",
                                    "showgrid": false,
                                    "showline": true,
                                    "ticks": "outside"
                                 }
                              },
                              "title": {
                                 "x": 0.05
                              },
                              "xaxis": {
                                 "automargin": true,
                                 "gridcolor": "rgb(232,232,232)",
                                 "linecolor": "rgb(36,36,36)",
                                 "showgrid": false,
                                 "showline": true,
                                 "ticks": "outside",
                                 "title": {
                                    "standoff": 15
                                 },
                                 "zeroline": false,
                                 "zerolinecolor": "rgb(36,36,36)"
                              },
                              "yaxis": {
                                 "automargin": true,
                                 "gridcolor": "rgb(232,232,232)",
                                 "linecolor": "rgb(36,36,36)",
                                 "showgrid": false,
                                 "showline": true,
                                 "ticks": "outside",
                                 "title": {
                                    "standoff": 15
                                 },
                                 "zeroline": false,
                                 "zerolinecolor": "rgb(36,36,36)"
                              }
                           }
                        },
                        "title": {
                           "font": {
                              "color": "rgba(0, 0, 0, 0.6)",
                              "size": 24
                           },
                           "text": "<b>Bootstrap Distribution</b>"
                        },
                        "width": 800,
                        "xaxis": {
                           "anchor": "y",
                           "domain": [
                              0,
                              1
                           ],
                           "linecolor": "rgba(0, 0, 0, 0.5)",
                           "tickfont": {
                              "color": "rgba(0, 0, 0, 0.5)",
                              "size": 14
                           },
                           "title": {
                              "font": {
                                 "color": "rgba(0, 0, 0, 0.5)",
                                 "size": 18
                              },
                              "text": ""
                           }
                        },
                        "yaxis": {
                           "anchor": "x",
                           "domain": [
                              0,
                              1
                           ],
                           "linecolor": "rgba(0, 0, 0, 0.5)",
                           "tickfont": {
                              "color": "rgba(0, 0, 0, 0.5)",
                              "size": 14
                           },
                           "title": {
                              "font": {
                                 "color": "rgba(0, 0, 0, 0.5)",
                                 "size": 18
                              },
                              "text": "Count"
                           }
                        }
                     }
                  }
               },
               "metadata": {},
               "output_type": "display_data"
            }
         ],
         "source": [
            "bootstrap_single_sample(sample1)"
         ]
      },
      {
         "cell_type": "code",
         "execution_count": 16,
         "metadata": {},
         "outputs": [
            {
               "data": {
                  "text/plain": [
                     "0.16666666666666663"
                  ]
               },
               "execution_count": 16,
               "metadata": {},
               "output_type": "execute_result"
            }
         ],
         "source": [
            "1 - 10 / 12"
         ]
      },
      {
         "cell_type": "code",
         "execution_count": 182,
         "metadata": {},
         "outputs": [],
         "source": []
      },
      {
         "cell_type": "code",
         "execution_count": null,
         "metadata": {},
         "outputs": [],
         "source": [
            "Estimating the power of a non-parametric test using bootstrapping involves simulating the testing process multiple times to estimate the probability of rejecting the null hypothesis. Here's a general outline of the steps:\n",
            "\n",
            "**Specify the null and alternative hypotheses **: Define the null and alternative hypotheses for your test. For example, the null hypothesis might be that the two groups have the same distribution, and the alternative hypothesis might be that the two groups have different distributions.\n",
            "\n",
            "Generate simulated data: Generate simulated data that reflects the null hypothesis. For example, you could generate two groups of random data from the same distribution.\n",
            "\n",
            "Perform the Mann-Whitney U test: Perform the Mann-Whitney U test on the simulated data to obtain a p-value.\n",
            "\n",
            "Repeat steps 2-3 many times: Repeat steps 2-3 many times (e.g., 1000 times) to generate a distribution of p-values under the null hypothesis.\n",
            "\n",
            "Estimate the power: Estimate the power of the test by calculating the proportion of times the p-value is below a certain significance level (e.g., 0.05) when the alternative hypothesis is true. To do this, you'll need to generate simulated data that reflects the alternative hypothesis and repeat steps 2-4."
         ]
      },
      {
         "cell_type": "code",
         "execution_count": null,
         "metadata": {},
         "outputs": [],
         "source": []
      },
      {
         "cell_type": "code",
         "execution_count": null,
         "metadata": {},
         "outputs": [],
         "source": []
      },
      {
         "cell_type": "code",
         "execution_count": null,
         "metadata": {},
         "outputs": [],
         "source": []
      },
      {
         "cell_type": "markdown",
         "metadata": {},
         "source": [
            "### Промежуточный вывод"
         ]
      },
      {
         "cell_type": "markdown",
         "metadata": {},
         "source": [
            "### Примеры гипотез"
         ]
      },
      {
         "cell_type": "markdown",
         "metadata": {},
         "source": [
            "- Есть ли зависимость между наличием детей и возвратом кредита в срок?"
         ]
      },
      {
         "cell_type": "markdown",
         "metadata": {},
         "source": [
            "### Расчеты"
         ]
      },
      {
         "cell_type": "markdown",
         "metadata": {},
         "source": [
            "Важно следить за количеством недель в году, если мы создаем столбец месяца.  \n",
            "Проверять чтобы у нас не появлялась неделя дополнительная, из за того, что мы захватили предыдущий год"
         ]
      },
      {
         "cell_type": "markdown",
         "metadata": {},
         "source": [
            "### Промежуточный вывод"
         ]
      },
      {
         "cell_type": "markdown",
         "metadata": {},
         "source": []
      },
      {
         "cell_type": "markdown",
         "metadata": {},
         "source": [
            "- Есть ли зависимость между семейным положением и возвратом кредита в срок?"
         ]
      },
      {
         "cell_type": "code",
         "execution_count": null,
         "metadata": {},
         "outputs": [],
         "source": []
      },
      {
         "cell_type": "markdown",
         "metadata": {},
         "source": [
            "### Промежуточный вывод"
         ]
      },
      {
         "cell_type": "markdown",
         "metadata": {},
         "source": []
      },
      {
         "cell_type": "markdown",
         "metadata": {},
         "source": [
            "- Есть ли зависимость между уровнем дохода и возвратом кредита в срок?"
         ]
      },
      {
         "cell_type": "code",
         "execution_count": null,
         "metadata": {},
         "outputs": [],
         "source": []
      },
      {
         "cell_type": "markdown",
         "metadata": {},
         "source": [
            "### Промежуточный вывод"
         ]
      },
      {
         "cell_type": "markdown",
         "metadata": {},
         "source": []
      },
      {
         "cell_type": "markdown",
         "metadata": {},
         "source": [
            "- Как разные цели кредита влияют на его возврат в срок?"
         ]
      },
      {
         "cell_type": "code",
         "execution_count": null,
         "metadata": {},
         "outputs": [],
         "source": []
      },
      {
         "cell_type": "markdown",
         "metadata": {},
         "source": [
            "### Вывод"
         ]
      },
      {
         "cell_type": "markdown",
         "metadata": {},
         "source": []
      },
      {
         "cell_type": "markdown",
         "metadata": {},
         "source": [
            "### 4. Общий вывод"
         ]
      },
      {
         "cell_type": "markdown",
         "metadata": {},
         "source": [
            "Что нужно сообщить в выводе\n",
            "- информацию о том, что удалось подтвердить гипотезы (тут пишем только те, которые удалось подтвердить)\n",
            "- всю информацию о датасете, которые важны. Дубликаты, которые несут практическую пользу и рекомендации по ним, пропуски также с рекомендациями  \n",
            "и остальные моменты по данным и рекомендации. Тут важно указывать именно найденные аномалии, которые имеют практическую пользу, которые нужно исправить и прочее.  \n",
            "Пишем, что были найдены выбросы, они были связаны возможно с тем то и тем то. \n",
            "- и в конце обязательно call to action \n",
            "написать что необходимо сделать с этими результатами"
         ]
      },
      {
         "cell_type": "markdown",
         "metadata": {},
         "source": [
            "Советы по оформлению общего выывод\n",
            "- не нужно вставлять таблицы и графики в вывод. \n",
            "В выводе пишем словами самое важное и практически полезное, что мы получили, причем в порядке убывания важности.  \n",
            "И когда мы пишем, что увидели то-то, то приводим гиперссылку на график или результат ячейки, где это получено.  \n",
            "Так будет компактный вывод и при необходимости человек сможет быстро перейти и посмотреть график или таблицу  "
         ]
      },
      {
         "cell_type": "markdown",
         "metadata": {},
         "source": [
            "**Удалось подтвердить гипотезу** о влиянии различных характеристик клиента на факт погашения кредита в срок. Каждый из рассмотренных параметров оказывает влияние на надёжность заёмщика. Рассмотренные факторы по-разному влияют на надёжность заёмщиков. Например, семейное положение оказалось более значимым фактором, чем уровень дохода.\n"
         ]
      },
      {
         "cell_type": "markdown",
         "id": "ruled-penny",
         "metadata": {},
         "source": [
            "- В ходе анализа исходного набора данных было проведено (были устранены пропуски в двух колонках с числовыми значениями - 'total_income' и 'days_employed').  \n",
            "- После __устранения явных и скрытых дупликатов__ и удаления оставшихся после обогащения пропусков объем датасета сократился на 0.05%\n",
            "- Были устранены __выбросы__ в колонках 'days_employed' и 'children': в первом случае выбросы возникли в результате системной ошибки (данные были внесены в часах, а не в днях); во втором случае ошибка, вероятнее всего была допущена людьми, вносившими данные в систему\n",
            "- ..."
         ]
      },
      {
         "cell_type": "markdown",
         "id": "alleged-strand",
         "metadata": {},
         "source": [
            "**Необходимо**"
         ]
      },
      {
         "cell_type": "markdown",
         "id": "critical-worker",
         "metadata": {},
         "source": [
            "1. Запросить в отделе по работе с клиентами информацию о возможности брать кредит без подтверждения дохода. \n",
            "\n",
            "2. Сообщить коллегам, занимающимся выгрузкой о наличие дубликатов, если вопрос не разрешится, запросить индентификационный номер клиента к датасету.\n",
            "\n",
            "3. Прописать в задаче на поставку данных формат данных (пол только F и M, положительные значения). Приложить информацию о найденных аномалиях."
         ]
      },
      {
         "cell_type": "code",
         "execution_count": 98,
         "metadata": {},
         "outputs": [
            {
               "data": {
                  "text/plain": [
                     "<module 'my_module' from 'c:\\\\Git\\\\Projects\\\\Исследование надёжности заёмщиков\\\\my_module.py'>"
                  ]
               },
               "execution_count": 98,
               "metadata": {},
               "output_type": "execute_result"
            }
         ],
         "source": [
            "importlib.reload(my_module)"
         ]
      },
      {
         "cell_type": "code",
         "execution_count": null,
         "metadata": {},
         "outputs": [],
         "source": []
      },
      {
         "cell_type": "code",
         "execution_count": null,
         "metadata": {},
         "outputs": [],
         "source": []
      }
   ],
   "metadata": {
      "kernelspec": {
         "display_name": "Python 3 (ipykernel)",
         "language": "python",
         "name": "python3"
      },
      "language_info": {
         "codemirror_mode": {
            "name": "ipython",
            "version": 3
         },
         "file_extension": ".py",
         "mimetype": "text/x-python",
         "name": "python",
         "nbconvert_exporter": "python",
         "pygments_lexer": "ipython3",
         "version": "3.7.1"
      },
      "vscode": {
         "interpreter": {
            "hash": "fbe58ca63fe33f9eeae9e71d10368d2b4a57f2b1b395836210cc60d362c66949"
         }
      }
   },
   "nbformat": 4,
   "nbformat_minor": 2
}
