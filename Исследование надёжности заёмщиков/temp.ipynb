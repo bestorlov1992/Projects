{
 "cells": [
  {
   "cell_type": "code",
   "execution_count": 2,
   "metadata": {},
   "outputs": [],
   "source": [
    "import httpimport"
   ]
  },
  {
   "cell_type": "code",
   "execution_count": 4,
   "metadata": {},
   "outputs": [
    {
     "name": "stderr",
     "output_type": "stream",
     "text": [
      "c:\\python\\lib\\site-packages\\outdated\\utils.py:18: OutdatedPackageWarning: The package pingouin is out of date. Your version is 0.5.3, the latest is 0.5.5.\n",
      "Set the environment variable OUTDATED_IGNORE=1 to disable these warnings.\n",
      "  **kwargs\n"
     ]
    }
   ],
   "source": [
    "import httpimport\n",
    "with httpimport.github_repo('bestorlov1992', 'my_analytics_modules'):\n",
    "    import my_module"
   ]
  },
  {
   "cell_type": "code",
   "execution_count": 3,
   "metadata": {},
   "outputs": [
    {
     "ename": "ModuleNotFoundError",
     "evalue": "No module named 'my_module'",
     "output_type": "error",
     "traceback": [
      "\u001b[1;31m---------------------------------------------------------------------------\u001b[0m",
      "\u001b[1;31mModuleNotFoundError\u001b[0m                       Traceback (most recent call last)",
      "\u001b[1;32m~\\AppData\\Local\\Temp\\ipykernel_2412\\161906259.py\u001b[0m in \u001b[0;36m<module>\u001b[1;34m\u001b[0m\n\u001b[0;32m      1\u001b[0m \u001b[1;32mwith\u001b[0m \u001b[0mhttpimport\u001b[0m\u001b[1;33m.\u001b[0m\u001b[0mremote_repo\u001b[0m\u001b[1;33m(\u001b[0m\u001b[1;34m'https://raw.githubusercontent.com/bestorlov1992/my_analytics_modules/refs/heads/main/my_module.py'\u001b[0m\u001b[1;33m)\u001b[0m\u001b[1;33m:\u001b[0m\u001b[1;33m\u001b[0m\u001b[1;33m\u001b[0m\u001b[0m\n\u001b[1;32m----> 2\u001b[1;33m     \u001b[1;32mimport\u001b[0m \u001b[0mmy_module\u001b[0m\u001b[1;33m\u001b[0m\u001b[1;33m\u001b[0m\u001b[0m\n\u001b[0m",
      "\u001b[1;31mModuleNotFoundError\u001b[0m: No module named 'my_module'"
     ]
    }
   ],
   "source": [
    "with httpimport.imprt remote_repo('https://raw.githubusercontent.com/bestorlov1992/my_analytics_modules/refs/heads/main/my_module.py'):\n",
    "    import my_module"
   ]
  },
  {
   "cell_type": "code",
   "execution_count": null,
   "metadata": {},
   "outputs": [],
   "source": [
    "my_module.correct_text('я запустил проверку текста и это харашо')"
   ]
  },
  {
   "cell_type": "code",
   "execution_count": null,
   "metadata": {},
   "outputs": [],
   "source": [
    "https://github.com/bestorlov1992/my_analytics_modules/tree/main\n"
   ]
  },
  {
   "cell_type": "code",
   "execution_count": null,
   "metadata": {},
   "outputs": [],
   "source": [
    "https://raw.githubusercontent.com/bestorlov1992/my_analytics_modules/refs/heads/main/my_module.py"
   ]
  },
  {
   "cell_type": "code",
   "execution_count": 2,
   "metadata": {},
   "outputs": [],
   "source": [
    "anomalies = ['В датафрейме есть строки дубликаты. 54 строки. Меньше 1 % от всего датафрейма.  '\n",
    ", 'В столбце с количеством детей есть отрицательные значения. 47 штук. Меньше 1 процента от всего датафрейма. Также есть клиенты с 20 детьми. '\n",
    ", 'Колонока общий трудовой стаж содержит 74 % отрицаетльных значений. А также максимальное количество дней стажа больше 400 тысяч дней, это больше 1000 лет.'\n",
    ", 'В колонке возраста 101 нулевое значени.'\n",
    ", 'Колонка дохода имеет слишком много знаков после запятой. '\n",
    ", 'В колонке с образованием присутствуют одни и те же знчения с разными регистрами. При этом в колонке с id образования все впрорядке.   ']"
   ]
  },
  {
   "cell_type": "code",
   "execution_count": 3,
   "metadata": {},
   "outputs": [],
   "source": [
    "conclusions = ['Женщины чаще возвращают кредит, чем мужчины.'\n",
    ", 'Долги присутствуют у людей с разным доходом.'\n",
    ", 'У должников в среднем больше детей. В частности, среди должников женщины имеют больше детей в среднем, чем мужчины, а среди не должников мужчины имеют больше детей в среднем, чем женщины'\n",
    ", 'У должников средний возраст немного ниже для всех категорий семейного положения.'\n",
    ", 'Медианный доход у должников и не должников практически не отличается'\n",
    ", 'Должники имеют ниже средний возраст как мужчины так и женщины. Ситуация сохраняется во всех группах дохода. '\n",
    ", 'Больше всего кредит берут на цели, связанные с недвижимостью, кроме людей в гражданском браке'\n",
    ", 'Люди в гражданском браке чаще берут кредит на свадьбу'\n",
    ", 'Доход является самым значимым признаком для предсказания задолженности.'\n",
    ", 'Люди от 30 до 50 лет имеют самый высокий средний доход.'\n",
    ", 'Только 5 процентов клиентов моложе 25 лет. Основная часть клиентов старше 30 лет.'\n",
    ", 'Меньше 5 % клиентов имеют зарплату меньша 63 тысяч. Можно сделать вывод, что большинство имеет высокий доход. При этом 25 % имеют доход больше 200 тысяч. '\n",
    ", '58 % клиентов либо женаты, либо замужем. 19 % в гражданском браке. Можно сделать вывод что большинство в браке.  '\n",
    ", 'Большинство клиентов женщины (66 процентов).'\n",
    ", '92 % клиентов не имеют долга.'\n",
    ", 'Чем меньше количество детей, тем больше значений с высоким доходом.'\n",
    ", 'Болшая часть женатых имеет доход 100-200 тыс'\n",
    ", 'На всех уровнях образоания, кроме ученой степени, доход у мужчин выше.'\n",
    ", 'Цель получения кредита практически не зависит от среднего ежемесяченого дохода.'\n",
    ", 'У мужчин, которые в браке или были в браке, количество детей больше, чем у женщин в той же категории.']"
   ]
  },
  {
   "cell_type": "code",
   "execution_count": 2,
   "metadata": {},
   "outputs": [
    {
     "name": "stderr",
     "output_type": "stream",
     "text": [
      "c:\\python\\lib\\site-packages\\outdated\\utils.py:18: OutdatedPackageWarning: The package pingouin is out of date. Your version is 0.5.3, the latest is 0.5.5.\n",
      "Set the environment variable OUTDATED_IGNORE=1 to disable these warnings.\n",
      "  **kwargs\n"
     ]
    }
   ],
   "source": [
    "import my_module"
   ]
  },
  {
   "cell_type": "code",
   "execution_count": 4,
   "metadata": {},
   "outputs": [
    {
     "data": {
      "application/vnd.jupyter.widget-view+json": {
       "model_id": "3118e55c76e24ca180eee92147091cd3",
       "version_major": 2,
       "version_minor": 0
      },
      "text/plain": [
       "Correcting cells:   0%|          | 0/409 [00:00<?, ?it/s]"
      ]
     },
     "metadata": {},
     "output_type": "display_data"
    },
    {
     "data": {
      "text/html": [
       "Данные <span style='color:yellow'>предоставленны</span> кредитным отделом банка."
      ]
     },
     "metadata": {},
     "output_type": "display_data"
    },
    {
     "data": {
      "text/html": [
       "Возможные верные варианты для слова <span style='color:yellow'>предоставленны</span>:"
      ]
     },
     "metadata": {},
     "output_type": "display_data"
    },
    {
     "name": "stdout",
     "output_type": "stream",
     "text": [
      "['предоставлены', 'предоставленные', 'предоставленный', 'представлены', 'предоставленных', 'представленны', 'предоставленным', 'предоставлен']\n"
     ]
    },
    {
     "data": {
      "text/html": [
       "- <a href='#<span style='color:yellow'>Болшая</span>-часть-женатых-имеет-доход-100-200-тыс'><span style='color:yellow'>Болшая</span> часть женатых имеет доход 100-200 тыс</a>  \n"
      ]
     },
     "metadata": {},
     "output_type": "display_data"
    },
    {
     "data": {
      "text/html": [
       "Возможные верные варианты для слова <span style='color:yellow'>Болшая</span>:"
      ]
     },
     "metadata": {},
     "output_type": "display_data"
    },
    {
     "name": "stdout",
     "output_type": "stream",
     "text": [
      "['Большая', 'Болльшая', 'Болтая']\n"
     ]
    },
    {
     "data": {
      "text/html": [
       "- <a href='#<span style='color:yellow'>Болшая</span>-часть-женатых-имеет-доход-100-200-тыс'><span style='color:yellow'>Болшая</span> часть женатых имеет доход 100-200 тыс</a>  \n"
      ]
     },
     "metadata": {},
     "output_type": "display_data"
    },
    {
     "data": {
      "text/html": [
       "Возможные верные варианты для слова <span style='color:yellow'>Болшая</span>:"
      ]
     },
     "metadata": {},
     "output_type": "display_data"
    },
    {
     "name": "stdout",
     "output_type": "stream",
     "text": [
      "['Большая', 'Болльшая', 'Болтая']\n"
     ]
    },
    {
     "data": {
      "text/html": [
       "- <a href='#На-всех-уровнях-<span style='color:yellow'>образоания</span>--кроме-ученой-степени--доход-у-мужчин-выше-'>На всех уровнях <span style='color:yellow'>образоания</span>, кроме ученой степени, доход у мужчин выше.</a>  \n"
      ]
     },
     "metadata": {},
     "output_type": "display_data"
    },
    {
     "data": {
      "text/html": [
       "Возможные верные варианты для слова <span style='color:yellow'>образоания</span>:"
      ]
     },
     "metadata": {},
     "output_type": "display_data"
    },
    {
     "name": "stdout",
     "output_type": "stream",
     "text": [
      "['образования', 'образование', 'образованию']\n"
     ]
    },
    {
     "data": {
      "text/html": [
       "- <a href='#На-всех-уровнях-<span style='color:yellow'>образоания</span>--кроме-ученой-степени--доход-у-мужчин-выше-'>На всех уровнях <span style='color:yellow'>образоания</span>, кроме ученой степени, доход у мужчин выше.</a>  \n"
      ]
     },
     "metadata": {},
     "output_type": "display_data"
    },
    {
     "data": {
      "text/html": [
       "Возможные верные варианты для слова <span style='color:yellow'>образоания</span>:"
      ]
     },
     "metadata": {},
     "output_type": "display_data"
    },
    {
     "name": "stdout",
     "output_type": "stream",
     "text": [
      "['образования', 'образование', 'образованию']\n"
     ]
    },
    {
     "data": {
      "text/html": [
       "- <a href='#Цель-получения-кредита-практически-не-зависит-от-среднего-<span style='color:yellow'>ежемесяченого</span>-дохода-'>Цель получения кредита практически не зависит от среднего <span style='color:yellow'>ежемесяченого</span> дохода.</a>  \n"
      ]
     },
     "metadata": {},
     "output_type": "display_data"
    },
    {
     "data": {
      "text/html": [
       "Возможные верные варианты для слова <span style='color:yellow'>ежемесяченого</span>:"
      ]
     },
     "metadata": {},
     "output_type": "display_data"
    },
    {
     "name": "stdout",
     "output_type": "stream",
     "text": [
      "['ежемесячного', 'ёжемесячного', 'ежемесеченого', 'ежемесячьного']\n"
     ]
    },
    {
     "data": {
      "text/html": [
       "- <a href='#Цель-получения-кредита-практически-не-зависит-от-среднего-<span style='color:yellow'>ежемесяченого</span>-дохода-'>Цель получения кредита практически не зависит от среднего <span style='color:yellow'>ежемесяченого</span> дохода.</a>  \n"
      ]
     },
     "metadata": {},
     "output_type": "display_data"
    },
    {
     "data": {
      "text/html": [
       "Возможные верные варианты для слова <span style='color:yellow'>ежемесяченого</span>:"
      ]
     },
     "metadata": {},
     "output_type": "display_data"
    },
    {
     "name": "stdout",
     "output_type": "stream",
     "text": [
      "['ежемесячного', 'ёжемесячного', 'ежемесеченого', 'ежемесячьного']\n"
     ]
    },
    {
     "data": {
      "text/html": [
       "- <a href='#<span style='color:yellow'>Колонока</span>-общий-трудовой-стаж-содержит-74---отрицаетльных-значений--А-также-максимальное-количество-дней-стажа-больше-400-тысяч-дней--это-больше-1000-лет-'><span style='color:yellow'>Колонока</span> общий трудовой стаж содержит 74 % отрицаетльных значений. А также максимальное количество дней стажа больше 400 тысяч дней, это больше 1000 лет.</a>  \n"
      ]
     },
     "metadata": {},
     "output_type": "display_data"
    },
    {
     "data": {
      "text/html": [
       "Возможные верные варианты для слова <span style='color:yellow'>Колонока</span>:"
      ]
     },
     "metadata": {},
     "output_type": "display_data"
    },
    {
     "name": "stdout",
     "output_type": "stream",
     "text": [
      "['Колонка', 'Колонок', 'Колонок а']\n"
     ]
    },
    {
     "data": {
      "text/html": [
       "- <a href='#Колонока-общий-трудовой-стаж-содержит-74---<span style='color:yellow'>отрицаетльных</span>-значений--А-также-максимальное-количество-дней-стажа-больше-400-тысяч-дней--это-больше-1000-лет-'>Колонока общий трудовой стаж содержит 74 % <span style='color:yellow'>отрицаетльных</span> значений. А также максимальное количество дней стажа больше 400 тысяч дней, это больше 1000 лет.</a>  \n"
      ]
     },
     "metadata": {},
     "output_type": "display_data"
    },
    {
     "data": {
      "text/html": [
       "Возможные верные варианты для слова <span style='color:yellow'>отрицаетльных</span>:"
      ]
     },
     "metadata": {},
     "output_type": "display_data"
    },
    {
     "name": "stdout",
     "output_type": "stream",
     "text": [
      "['отрицательных', 'отрицательный', 'отрицательные', 'отрицательным']\n"
     ]
    },
    {
     "data": {
      "text/html": [
       "- <a href='#<span style='color:yellow'>Колонока</span>-общий-трудовой-стаж-содержит-74---отрицаетльных-значений--А-также-максимальное-количество-дней-стажа-больше-400-тысяч-дней--это-больше-1000-лет-'><span style='color:yellow'>Колонока</span> общий трудовой стаж содержит 74 % отрицаетльных значений. А также максимальное количество дней стажа больше 400 тысяч дней, это больше 1000 лет.</a>  \n"
      ]
     },
     "metadata": {},
     "output_type": "display_data"
    },
    {
     "data": {
      "text/html": [
       "Возможные верные варианты для слова <span style='color:yellow'>Колонока</span>:"
      ]
     },
     "metadata": {},
     "output_type": "display_data"
    },
    {
     "name": "stdout",
     "output_type": "stream",
     "text": [
      "['Колонка', 'Колонок', 'Колонок а']\n"
     ]
    },
    {
     "data": {
      "text/html": [
       "- <a href='#Колонока-общий-трудовой-стаж-содержит-74---<span style='color:yellow'>отрицаетльных</span>-значений--А-также-максимальное-количество-дней-стажа-больше-400-тысяч-дней--это-больше-1000-лет-'>Колонока общий трудовой стаж содержит 74 % <span style='color:yellow'>отрицаетльных</span> значений. А также максимальное количество дней стажа больше 400 тысяч дней, это больше 1000 лет.</a>  \n"
      ]
     },
     "metadata": {},
     "output_type": "display_data"
    },
    {
     "data": {
      "text/html": [
       "Возможные верные варианты для слова <span style='color:yellow'>отрицаетльных</span>:"
      ]
     },
     "metadata": {},
     "output_type": "display_data"
    },
    {
     "name": "stdout",
     "output_type": "stream",
     "text": [
      "['отрицательных', 'отрицательный', 'отрицательные', 'отрицательным']\n"
     ]
    },
    {
     "data": {
      "text/html": [
       "- <a href='#В-колонке-возраста-101-нулевое-<span style='color:yellow'>значени</span>-'>В колонке возраста 101 нулевое <span style='color:yellow'>значени</span>.</a>  \n"
      ]
     },
     "metadata": {},
     "output_type": "display_data"
    },
    {
     "data": {
      "text/html": [
       "Возможные верные варианты для слова <span style='color:yellow'>значени</span>:"
      ]
     },
     "metadata": {},
     "output_type": "display_data"
    },
    {
     "name": "stdout",
     "output_type": "stream",
     "text": [
      "['значение', 'значении', 'значений', 'значения', 'значению', 'значением']\n"
     ]
    },
    {
     "data": {
      "text/html": [
       "- <a href='#В-колонке-возраста-101-нулевое-<span style='color:yellow'>значени</span>-'>В колонке возраста 101 нулевое <span style='color:yellow'>значени</span>.</a>  \n"
      ]
     },
     "metadata": {},
     "output_type": "display_data"
    },
    {
     "data": {
      "text/html": [
       "Возможные верные варианты для слова <span style='color:yellow'>значени</span>:"
      ]
     },
     "metadata": {},
     "output_type": "display_data"
    },
    {
     "name": "stdout",
     "output_type": "stream",
     "text": [
      "['значение', 'значении', 'значений', 'значения', 'значению', 'значением']\n"
     ]
    },
    {
     "data": {
      "text/html": [
       "- <a href='#В-колонке-с-образованием-присутствуют-одни-и-те-же-<span style='color:yellow'>знчения</span>-с-разными-регистрами--При-этом-в-колонке-с-id-образования-все-впрорядке-'>В колонке с образованием присутствуют одни и те же <span style='color:yellow'>знчения</span> с разными регистрами. При этом в колонке с id образования все впрорядке.</a>  \n"
      ]
     },
     "metadata": {},
     "output_type": "display_data"
    },
    {
     "data": {
      "text/html": [
       "Возможные верные варианты для слова <span style='color:yellow'>знчения</span>:"
      ]
     },
     "metadata": {},
     "output_type": "display_data"
    },
    {
     "name": "stdout",
     "output_type": "stream",
     "text": [
      "['значения', 'значение', 'занчения']\n"
     ]
    },
    {
     "data": {
      "text/html": [
       "- <a href='#В-колонке-с-образованием-присутствуют-одни-и-те-же-знчения-с-разными-регистрами--При-этом-в-колонке-с-id-образования-все-<span style='color:yellow'>впрорядке</span>-'>В колонке с образованием присутствуют одни и те же знчения с разными регистрами. При этом в колонке с id образования все <span style='color:yellow'>впрорядке</span>.</a>  \n"
      ]
     },
     "metadata": {},
     "output_type": "display_data"
    },
    {
     "data": {
      "text/html": [
       "Возможные верные варианты для слова <span style='color:yellow'>впрорядке</span>:"
      ]
     },
     "metadata": {},
     "output_type": "display_data"
    },
    {
     "name": "stdout",
     "output_type": "stream",
     "text": [
      "['в порядке', 'впорядке', 'в прорядке']\n"
     ]
    },
    {
     "data": {
      "text/html": [
       "- <a href='#В-колонке-с-образованием-присутствуют-одни-и-те-же-<span style='color:yellow'>знчения</span>-с-разными-регистрами--При-этом-в-колонке-с-id-образования-все-впрорядке-'>В колонке с образованием присутствуют одни и те же <span style='color:yellow'>знчения</span> с разными регистрами. При этом в колонке с id образования все впрорядке.</a>  \n"
      ]
     },
     "metadata": {},
     "output_type": "display_data"
    },
    {
     "data": {
      "text/html": [
       "Возможные верные варианты для слова <span style='color:yellow'>знчения</span>:"
      ]
     },
     "metadata": {},
     "output_type": "display_data"
    },
    {
     "name": "stdout",
     "output_type": "stream",
     "text": [
      "['значения', 'значение', 'занчения']\n"
     ]
    },
    {
     "data": {
      "text/html": [
       "- <a href='#В-колонке-с-образованием-присутствуют-одни-и-те-же-знчения-с-разными-регистрами--При-этом-в-колонке-с-id-образования-все-<span style='color:yellow'>впрорядке</span>-'>В колонке с образованием присутствуют одни и те же знчения с разными регистрами. При этом в колонке с id образования все <span style='color:yellow'>впрорядке</span>.</a>  \n"
      ]
     },
     "metadata": {},
     "output_type": "display_data"
    },
    {
     "data": {
      "text/html": [
       "Возможные верные варианты для слова <span style='color:yellow'>впрорядке</span>:"
      ]
     },
     "metadata": {},
     "output_type": "display_data"
    },
    {
     "name": "stdout",
     "output_type": "stream",
     "text": [
      "['в порядке', 'впорядке', 'в прорядке']\n"
     ]
    },
    {
     "data": {
      "text/html": [
       "- Добавить проверку на отрицательные значения и на слишком <span style='color:yellow'>болшьшие</span> значения в количестве детей при загрузке данных.\n"
      ]
     },
     "metadata": {},
     "output_type": "display_data"
    },
    {
     "data": {
      "text/html": [
       "Возможные верные варианты для слова <span style='color:yellow'>болшьшие</span>:"
      ]
     },
     "metadata": {},
     "output_type": "display_data"
    },
    {
     "name": "stdout",
     "output_type": "stream",
     "text": [
      "['большие', 'большшие', 'больше']\n"
     ]
    },
    {
     "data": {
      "text/html": [
       "Нужно <span style='color:yellow'>детаельнее</span> изучить дубликаты.  "
      ]
     },
     "metadata": {},
     "output_type": "display_data"
    },
    {
     "data": {
      "text/html": [
       "Возможные верные варианты для слова <span style='color:yellow'>детаельнее</span>:"
      ]
     },
     "metadata": {},
     "output_type": "display_data"
    },
    {
     "name": "stdout",
     "output_type": "stream",
     "text": [
      "['детальнее', 'детельнее', 'детайльнее']\n"
     ]
    },
    {
     "data": {
      "text/html": [
       "- 66 <span style='color:yellow'>прцоентов</span> имеют 0 детей, 22 прцоента имеют 1 ребенка, 10 % имеют 2 детей и меньше 5 % имеют более 2 детей.  \n"
      ]
     },
     "metadata": {},
     "output_type": "display_data"
    },
    {
     "data": {
      "text/html": [
       "Возможные верные варианты для слова <span style='color:yellow'>прцоентов</span>:"
      ]
     },
     "metadata": {},
     "output_type": "display_data"
    },
    {
     "name": "stdout",
     "output_type": "stream",
     "text": [
      "['процентов', 'прецедентов', 'прцентов']\n"
     ]
    },
    {
     "data": {
      "text/html": [
       "- 66 прцоентов имеют 0 детей, 22 <span style='color:yellow'>прцоента</span> имеют 1 ребенка, 10 % имеют 2 детей и меньше 5 % имеют более 2 детей.  \n"
      ]
     },
     "metadata": {},
     "output_type": "display_data"
    },
    {
     "data": {
      "text/html": [
       "Возможные верные варианты для слова <span style='color:yellow'>прцоента</span>:"
      ]
     },
     "metadata": {},
     "output_type": "display_data"
    },
    {
     "name": "stdout",
     "output_type": "stream",
     "text": [
      "['процента', 'процентах', 'проценты']\n"
     ]
    },
    {
     "data": {
      "text/html": [
       "- Распределение детей <span style='color:yellow'>соответсвует</span> реальности, больше всего людей без детей.\n"
      ]
     },
     "metadata": {},
     "output_type": "display_data"
    },
    {
     "data": {
      "text/html": [
       "Возможные верные варианты для слова <span style='color:yellow'>соответсвует</span>:"
      ]
     },
     "metadata": {},
     "output_type": "display_data"
    },
    {
     "name": "stdout",
     "output_type": "stream",
     "text": [
      "['соответствует', 'соответствуют', 'соответствуете']\n"
     ]
    },
    {
     "data": {
      "text/html": [
       "<a name='<span style='color:yellow'>Колонока</span>-общий-трудовой-стаж-содержит-74---отрицаетльных-значений--А-также-максимальное-количество-дней-стажа-больше-400-тысяч-дней--это-больше-1000-лет-'></a>\n"
      ]
     },
     "metadata": {},
     "output_type": "display_data"
    },
    {
     "data": {
      "text/html": [
       "Возможные верные варианты для слова <span style='color:yellow'>Колонока</span>:"
      ]
     },
     "metadata": {},
     "output_type": "display_data"
    },
    {
     "name": "stdout",
     "output_type": "stream",
     "text": [
      "['Колонка', 'Колонок', 'Колонок а']\n"
     ]
    },
    {
     "data": {
      "text/html": [
       "<a name='Колонока-общий-трудовой-стаж-содержит-74---<span style='color:yellow'>отрицаетльных</span>-значений--А-также-максимальное-количество-дней-стажа-больше-400-тысяч-дней--это-больше-1000-лет-'></a>\n"
      ]
     },
     "metadata": {},
     "output_type": "display_data"
    },
    {
     "data": {
      "text/html": [
       "Возможные верные варианты для слова <span style='color:yellow'>отрицаетльных</span>:"
      ]
     },
     "metadata": {},
     "output_type": "display_data"
    },
    {
     "name": "stdout",
     "output_type": "stream",
     "text": [
      "['отрицательных', 'отрицательный', 'отрицательные', 'отрицательным']\n"
     ]
    },
    {
     "data": {
      "text/html": [
       "- 74 % <span style='color:yellow'>отрицаетльных</span> значений. Так быть не должно.   \n"
      ]
     },
     "metadata": {},
     "output_type": "display_data"
    },
    {
     "data": {
      "text/html": [
       "Возможные верные варианты для слова <span style='color:yellow'>отрицаетльных</span>:"
      ]
     },
     "metadata": {},
     "output_type": "display_data"
    },
    {
     "name": "stdout",
     "output_type": "stream",
     "text": [
      "['отрицательных', 'отрицательный', 'отрицательные', 'отрицательным']\n"
     ]
    },
    {
     "data": {
      "text/html": [
       "- Данные совершенно <span style='color:yellow'>некоректные</span>, нужно разбираться что является причиной.  "
      ]
     },
     "metadata": {},
     "output_type": "display_data"
    },
    {
     "data": {
      "text/html": [
       "Возможные верные варианты для слова <span style='color:yellow'>некоректные</span>:"
      ]
     },
     "metadata": {},
     "output_type": "display_data"
    },
    {
     "name": "stdout",
     "output_type": "stream",
     "text": [
      "['некорректные', 'некорректный', 'некорректное']\n"
     ]
    },
    {
     "data": {
      "text/html": [
       "<a href=\"#ref-to-conclusions\">вернуться к оглавлению</a><a name='В-колонке-возраста-101-нулевое-<span style='color:yellow'>значени</span>-'></a>"
      ]
     },
     "metadata": {},
     "output_type": "display_data"
    },
    {
     "data": {
      "text/html": [
       "Возможные верные варианты для слова <span style='color:yellow'>значени</span>:"
      ]
     },
     "metadata": {},
     "output_type": "display_data"
    },
    {
     "name": "stdout",
     "output_type": "stream",
     "text": [
      "['значение', 'значении', 'значений', 'значения', 'значению', 'значением']\n"
     ]
    },
    {
     "data": {
      "text/html": [
       "- 58 <span style='color:yellow'>уникаьных</span> значений (<1%), похоже на правду.  \n"
      ]
     },
     "metadata": {},
     "output_type": "display_data"
    },
    {
     "data": {
      "text/html": [
       "Возможные верные варианты для слова <span style='color:yellow'>уникаьных</span>:"
      ]
     },
     "metadata": {},
     "output_type": "display_data"
    },
    {
     "name": "stdout",
     "output_type": "stream",
     "text": [
      "['уникальных', 'уникальный', 'уникальны']\n"
     ]
    },
    {
     "data": {
      "text/html": [
       "- 101 нулевое <span style='color:yellow'>значени</span>. Это явно ошибки.  \n"
      ]
     },
     "metadata": {},
     "output_type": "display_data"
    },
    {
     "data": {
      "text/html": [
       "Возможные верные варианты для слова <span style='color:yellow'>значени</span>:"
      ]
     },
     "metadata": {},
     "output_type": "display_data"
    },
    {
     "name": "stdout",
     "output_type": "stream",
     "text": [
      "['значение', 'значении', 'значений', 'значения', 'значению', 'значением']\n"
     ]
    },
    {
     "data": {
      "text/html": [
       "- Максимальный возраст 75 лет. <span style='color:yellow'>Впролне</span> реально.  \n"
      ]
     },
     "metadata": {},
     "output_type": "display_data"
    },
    {
     "data": {
      "text/html": [
       "Возможные верные варианты для слова <span style='color:yellow'>Впролне</span>:"
      ]
     },
     "metadata": {},
     "output_type": "display_data"
    },
    {
     "name": "stdout",
     "output_type": "stream",
     "text": [
      "['Вполне', 'Вполна', 'Вправлен']\n"
     ]
    },
    {
     "data": {
      "text/html": [
       "- Медиана 42 года, первый квартиль 33 года, можно сделать вывод, что у нас <span style='color:yellow'>восновном</span> люди старше 30 лет.  \n"
      ]
     },
     "metadata": {},
     "output_type": "display_data"
    },
    {
     "data": {
      "text/html": [
       "Возможные верные варианты для слова <span style='color:yellow'>восновном</span>:"
      ]
     },
     "metadata": {},
     "output_type": "display_data"
    },
    {
     "name": "stdout",
     "output_type": "stream",
     "text": [
      "['в основном', 'основном', 'воснавном']\n"
     ]
    },
    {
     "data": {
      "text/html": [
       "<a name='Меньше-5---клиентов-имеют-зарплату-<span style='color:yellow'>меньша</span>-63-тысяч--Можно-сделать-вывод--что-большинство-имеет-высокий-доход--При-этом-25---имеют-доход-больше-200-тысяч-'></a>\n"
      ]
     },
     "metadata": {},
     "output_type": "display_data"
    },
    {
     "data": {
      "text/html": [
       "Возможные верные варианты для слова <span style='color:yellow'>меньша</span>:"
      ]
     },
     "metadata": {},
     "output_type": "display_data"
    },
    {
     "name": "stdout",
     "output_type": "stream",
     "text": [
      "['меньше', 'меньшая', 'меньшей', 'меньшее', 'менша', 'уменьшая', 'меньш']\n"
     ]
    },
    {
     "data": {
      "text/html": [
       "- Меньше 5 % людей имеют зарплату <span style='color:yellow'>меньша</span> 63 тысяч.  \n"
      ]
     },
     "metadata": {},
     "output_type": "display_data"
    },
    {
     "data": {
      "text/html": [
       "Возможные верные варианты для слова <span style='color:yellow'>меньша</span>:"
      ]
     },
     "metadata": {},
     "output_type": "display_data"
    },
    {
     "name": "stdout",
     "output_type": "stream",
     "text": [
      "['меньше', 'меньшая', 'меньшей', 'меньшее', 'менша', 'уменьшая', 'меньш']\n"
     ]
    },
    {
     "data": {
      "text/html": [
       "<a name='В-колонке-с-образованием-присутствуют-одни-и-те-же-<span style='color:yellow'>знчения</span>-с-разными-регистрами--При-этом-в-колонке-с-id-образования-все-впрорядке-'></a>\n"
      ]
     },
     "metadata": {},
     "output_type": "display_data"
    },
    {
     "data": {
      "text/html": [
       "Возможные верные варианты для слова <span style='color:yellow'>знчения</span>:"
      ]
     },
     "metadata": {},
     "output_type": "display_data"
    },
    {
     "name": "stdout",
     "output_type": "stream",
     "text": [
      "['значения', 'значение', 'занчения']\n"
     ]
    },
    {
     "data": {
      "text/html": [
       "<a name='В-колонке-с-образованием-присутствуют-одни-и-те-же-знчения-с-разными-регистрами--При-этом-в-колонке-с-id-образования-все-<span style='color:yellow'>впрорядке</span>-'></a>\n"
      ]
     },
     "metadata": {},
     "output_type": "display_data"
    },
    {
     "data": {
      "text/html": [
       "Возможные верные варианты для слова <span style='color:yellow'>впрорядке</span>:"
      ]
     },
     "metadata": {},
     "output_type": "display_data"
    },
    {
     "name": "stdout",
     "output_type": "stream",
     "text": [
      "['в порядке', 'впорядке', 'в прорядке']\n"
     ]
    },
    {
     "data": {
      "text/html": [
       "- <span style='color:yellow'>Болше</span> всего людей со средним образованием 71 %\n"
      ]
     },
     "metadata": {},
     "output_type": "display_data"
    },
    {
     "data": {
      "text/html": [
       "Возможные верные варианты для слова <span style='color:yellow'>Болше</span>:"
      ]
     },
     "metadata": {},
     "output_type": "display_data"
    },
    {
     "name": "stdout",
     "output_type": "stream",
     "text": [
      "['Больше', 'Большие', 'Большое']\n"
     ]
    },
    {
     "data": {
      "text/html": [
       "- В колонке с id <span style='color:yellow'>образонвания</span> 5 униклаьных значений, хотя в колонке образования, если не учитывать регистр, 4 значения.  \n"
      ]
     },
     "metadata": {},
     "output_type": "display_data"
    },
    {
     "data": {
      "text/html": [
       "Возможные верные варианты для слова <span style='color:yellow'>образонвания</span>:"
      ]
     },
     "metadata": {},
     "output_type": "display_data"
    },
    {
     "name": "stdout",
     "output_type": "stream",
     "text": [
      "['образования', 'образованиях', 'образование', 'образованиям']\n"
     ]
    },
    {
     "data": {
      "text/html": [
       "- В колонке с id образонвания 5 <span style='color:yellow'>униклаьных</span> значений, хотя в колонке образования, если не учитывать регистр, 4 значения.  \n"
      ]
     },
     "metadata": {},
     "output_type": "display_data"
    },
    {
     "data": {
      "text/html": [
       "Возможные верные варианты для слова <span style='color:yellow'>униклаьных</span>:"
      ]
     },
     "metadata": {},
     "output_type": "display_data"
    },
    {
     "name": "stdout",
     "output_type": "stream",
     "text": [
      "['уникальных', 'уникальным', 'униклаьны']\n"
     ]
    },
    {
     "data": {
      "text/html": [
       "- 24 % <span style='color:yellow'>компаньены</span>\n"
      ]
     },
     "metadata": {},
     "output_type": "display_data"
    },
    {
     "data": {
      "text/html": [
       "Возможные верные варианты для слова <span style='color:yellow'>компаньены</span>:"
      ]
     },
     "metadata": {},
     "output_type": "display_data"
    },
    {
     "name": "stdout",
     "output_type": "stream",
     "text": [
      "['компаньоны', 'компаньон', 'компоненты']\n"
     ]
    },
    {
     "data": {
      "text/html": [
       "- В колонке цель кредита <span style='color:yellow'>пропуско</span> нет  \n"
      ]
     },
     "metadata": {},
     "output_type": "display_data"
    },
    {
     "data": {
      "text/html": [
       "Возможные верные варианты для слова <span style='color:yellow'>пропуско</span>:"
      ]
     },
     "metadata": {},
     "output_type": "display_data"
    },
    {
     "name": "stdout",
     "output_type": "stream",
     "text": [
      "['пропусков', 'пропуска', 'пропуском', 'пропуске', 'пропуск', 'пропуску', 'пропуски', 'пропуской']\n"
     ]
    },
    {
     "data": {
      "text/html": [
       "- 38 <span style='color:yellow'>униклаьных</span> значений, немного, но все таки есть похожие цели, нужно будет объеденить в одно значение\n"
      ]
     },
     "metadata": {},
     "output_type": "display_data"
    },
    {
     "data": {
      "text/html": [
       "Возможные верные варианты для слова <span style='color:yellow'>униклаьных</span>:"
      ]
     },
     "metadata": {},
     "output_type": "display_data"
    },
    {
     "name": "stdout",
     "output_type": "stream",
     "text": [
      "['уникальных', 'уникальным', 'униклаьны']\n"
     ]
    },
    {
     "data": {
      "text/html": [
       "- 38 униклаьных значений, немного, но все таки есть похожие цели, нужно будет <span style='color:yellow'>объеденить</span> в одно значение\n"
      ]
     },
     "metadata": {},
     "output_type": "display_data"
    },
    {
     "data": {
      "text/html": [
       "Возможные верные варианты для слова <span style='color:yellow'>объеденить</span>:"
      ]
     },
     "metadata": {},
     "output_type": "display_data"
    },
    {
     "name": "stdout",
     "output_type": "stream",
     "text": [
      "['объединить', 'объединять', 'обьеденить']\n"
     ]
    },
    {
     "data": {
      "text/html": [
       "- Ярко выраженной цели кредита нет, но сложно точно определить, нужно <span style='color:yellow'>объеденить</span> сначала похожие цели.  "
      ]
     },
     "metadata": {},
     "output_type": "display_data"
    },
    {
     "data": {
      "text/html": [
       "Возможные верные варианты для слова <span style='color:yellow'>объеденить</span>:"
      ]
     },
     "metadata": {},
     "output_type": "display_data"
    },
    {
     "name": "stdout",
     "output_type": "stream",
     "text": [
      "['объединить', 'объединять', 'обьеденить']\n"
     ]
    },
    {
     "data": {
      "text/html": [
       "Если у нас есть столбцы, в которых значения должны <span style='color:yellow'>совпдаать</span> попарно, то проверяем на это."
      ]
     },
     "metadata": {},
     "output_type": "display_data"
    },
    {
     "data": {
      "text/html": [
       "Возможные верные варианты для слова <span style='color:yellow'>совпдаать</span>:"
      ]
     },
     "metadata": {},
     "output_type": "display_data"
    },
    {
     "name": "stdout",
     "output_type": "stream",
     "text": [
      "['совпадать', 'совпадает', 'совпадаать']\n"
     ]
    },
    {
     "data": {
      "text/html": [
       "Нет проблем с целостностью в <span style='color:yellow'>образонвании</span>, несмотря на дубли в образовании. "
      ]
     },
     "metadata": {},
     "output_type": "display_data"
    },
    {
     "data": {
      "text/html": [
       "Возможные верные варианты для слова <span style='color:yellow'>образонвании</span>:"
      ]
     },
     "metadata": {},
     "output_type": "display_data"
    },
    {
     "name": "stdout",
     "output_type": "stream",
     "text": [
      "['образовании', 'образование', 'образования', 'образованию']\n"
     ]
    },
    {
     "data": {
      "text/html": [
       "<span style='color:yellow'>Плсмотрим</span> на дубли во всем датафрейме"
      ]
     },
     "metadata": {},
     "output_type": "display_data"
    },
    {
     "data": {
      "text/html": [
       "Возможные верные варианты для слова <span style='color:yellow'>Плсмотрим</span>:"
      ]
     },
     "metadata": {},
     "output_type": "display_data"
    },
    {
     "name": "stdout",
     "output_type": "stream",
     "text": [
      "['Посмотрим', 'Посмотри', 'Смотрим']\n"
     ]
    },
    {
     "data": {
      "text/html": [
       "- У нас большинство колонок имеют <span style='color:yellow'>попраные</span> дубликаты, это скорее всего вызвано пропусками\n"
      ]
     },
     "metadata": {},
     "output_type": "display_data"
    },
    {
     "data": {
      "text/html": [
       "Возможные верные варианты для слова <span style='color:yellow'>попраные</span>:"
      ]
     },
     "metadata": {},
     "output_type": "display_data"
    },
    {
     "name": "stdout",
     "output_type": "stream",
     "text": [
      "['попранные', 'попрание', 'попраны']\n"
     ]
    },
    {
     "data": {
      "text/html": [
       "Количество пропусков <span style='color:yellow'>совпдаает</span> с точностью до строки.  \n"
      ]
     },
     "metadata": {},
     "output_type": "display_data"
    },
    {
     "data": {
      "text/html": [
       "Возможные верные варианты для слова <span style='color:yellow'>совпдаает</span>:"
      ]
     },
     "metadata": {},
     "output_type": "display_data"
    },
    {
     "name": "stdout",
     "output_type": "stream",
     "text": [
      "['совпадает', 'совпадают', 'совпдалает', 'совподаает']\n"
     ]
    },
    {
     "data": {
      "text/html": [
       "Возможно это вызвано тем, что при расчете дохода <span style='color:yellow'>испльзуется</span> стаж, либо существует другое влияние одного на другое.  "
      ]
     },
     "metadata": {},
     "output_type": "display_data"
    },
    {
     "data": {
      "text/html": [
       "Возможные верные варианты для слова <span style='color:yellow'>испльзуется</span>:"
      ]
     },
     "metadata": {},
     "output_type": "display_data"
    },
    {
     "name": "stdout",
     "output_type": "stream",
     "text": [
      "['используется', 'используются', 'используеться']\n"
     ]
    },
    {
     "data": {
      "text/html": [
       "- интересно что количество <span style='color:yellow'>выбросво</span>, кроме колонки количество детей, примерно одинаковое"
      ]
     },
     "metadata": {},
     "output_type": "display_data"
    },
    {
     "data": {
      "text/html": [
       "Возможные верные варианты для слова <span style='color:yellow'>выбросво</span>:"
      ]
     },
     "metadata": {},
     "output_type": "display_data"
    },
    {
     "name": "stdout",
     "output_type": "stream",
     "text": [
      "['выбросов', 'выброс во']\n"
     ]
    },
    {
     "data": {
      "text/html": [
       "- Больше всего выбросов у сотрудников, даже <span style='color:yellow'>болше</span> чем пропорция сотрудников в общем количестве"
      ]
     },
     "metadata": {},
     "output_type": "display_data"
    },
    {
     "data": {
      "text/html": [
       "Возможные верные варианты для слова <span style='color:yellow'>болше</span>:"
      ]
     },
     "metadata": {},
     "output_type": "display_data"
    },
    {
     "name": "stdout",
     "output_type": "stream",
     "text": [
      "['больше', 'большие', 'большое']\n"
     ]
    },
    {
     "data": {
      "text/html": [
       "- вдовец / вдова имеет больше процент пропусков чем <span style='color:yellow'>пропроция</span> в общем количестве"
      ]
     },
     "metadata": {},
     "output_type": "display_data"
    },
    {
     "data": {
      "text/html": [
       "Возможные верные варианты для слова <span style='color:yellow'>пропроция</span>:"
      ]
     },
     "metadata": {},
     "output_type": "display_data"
    },
    {
     "name": "stdout",
     "output_type": "stream",
     "text": [
      "['пропорция', 'пропорциях', 'пропроциях', 'пропрция', 'пропрорция', 'пропроции', 'пропорции']\n"
     ]
    },
    {
     "data": {
      "text/html": [
       "- У женщин выбросов в стаже намного <span style='color:yellow'>болше</span> чем у мужчин, даже учитывая что женщин больше всего"
      ]
     },
     "metadata": {},
     "output_type": "display_data"
    },
    {
     "data": {
      "text/html": [
       "Возможные верные варианты для слова <span style='color:yellow'>болше</span>:"
      ]
     },
     "metadata": {},
     "output_type": "display_data"
    },
    {
     "name": "stdout",
     "output_type": "stream",
     "text": [
      "['больше', 'большие', 'большое']\n"
     ]
    },
    {
     "data": {
      "text/html": [
       "- У пенсионеров значительно <span style='color:yellow'>болше</span> выбросов в стаже"
      ]
     },
     "metadata": {},
     "output_type": "display_data"
    },
    {
     "data": {
      "text/html": [
       "Возможные верные варианты для слова <span style='color:yellow'>болше</span>:"
      ]
     },
     "metadata": {},
     "output_type": "display_data"
    },
    {
     "name": "stdout",
     "output_type": "stream",
     "text": [
      "['больше', 'большие', 'большое']\n"
     ]
    },
    {
     "data": {
      "text/html": [
       "- У женщин выбросов в стаже намного <span style='color:yellow'>болше</span> чем у мужчин, даже учитывая что женщин больше всего"
      ]
     },
     "metadata": {},
     "output_type": "display_data"
    },
    {
     "data": {
      "text/html": [
       "Возможные верные варианты для слова <span style='color:yellow'>болше</span>:"
      ]
     },
     "metadata": {},
     "output_type": "display_data"
    },
    {
     "name": "stdout",
     "output_type": "stream",
     "text": [
      "['больше', 'большие', 'большое']\n"
     ]
    },
    {
     "data": {
      "text/html": [
       "- Не женат / не замужем выделяется по выбросам, учитывая <span style='color:yellow'>пропроцию</span> в общем количестве"
      ]
     },
     "metadata": {},
     "output_type": "display_data"
    },
    {
     "data": {
      "text/html": [
       "Возможные верные варианты для слова <span style='color:yellow'>пропроцию</span>:"
      ]
     },
     "metadata": {},
     "output_type": "display_data"
    },
    {
     "name": "stdout",
     "output_type": "stream",
     "text": [
      "['пропорцию', 'пропорции', 'пропорция']\n"
     ]
    },
    {
     "data": {
      "text/html": [
       "- У пенсионеров <span style='color:yellow'>болше</span> выбросов по возрасту, что логично"
      ]
     },
     "metadata": {},
     "output_type": "display_data"
    },
    {
     "data": {
      "text/html": [
       "Возможные верные варианты для слова <span style='color:yellow'>болше</span>:"
      ]
     },
     "metadata": {},
     "output_type": "display_data"
    },
    {
     "name": "stdout",
     "output_type": "stream",
     "text": [
      "['больше', 'большие', 'большое']\n"
     ]
    },
    {
     "data": {
      "text/html": [
       "Такое количество детей <span style='color:yellow'>восвновном</span> у людей в браке и сотрудников. У пенсионеров явно доля с 20 детьми меньше, чем доле пенсионеров в общем количестве людей. \n"
      ]
     },
     "metadata": {},
     "output_type": "display_data"
    },
    {
     "data": {
      "text/html": [
       "Возможные верные варианты для слова <span style='color:yellow'>восвновном</span>:"
      ]
     },
     "metadata": {},
     "output_type": "display_data"
    },
    {
     "name": "stdout",
     "output_type": "stream",
     "text": [
      "['в основном', 'восновном', 'основном', 'воснавном']\n"
     ]
    },
    {
     "data": {
      "text/html": [
       "- 66 <span style='color:yellow'>прцоентов</span> имеют 0 детей, 22 прцоента имеют 1 ребенка, 10 % имеют 2 детей и меньше 5 % имеют более 2 детей.  \n"
      ]
     },
     "metadata": {},
     "output_type": "display_data"
    },
    {
     "data": {
      "text/html": [
       "Возможные верные варианты для слова <span style='color:yellow'>прцоентов</span>:"
      ]
     },
     "metadata": {},
     "output_type": "display_data"
    },
    {
     "name": "stdout",
     "output_type": "stream",
     "text": [
      "['процентов', 'прецедентов', 'прцентов']\n"
     ]
    },
    {
     "data": {
      "text/html": [
       "- 66 прцоентов имеют 0 детей, 22 <span style='color:yellow'>прцоента</span> имеют 1 ребенка, 10 % имеют 2 детей и меньше 5 % имеют более 2 детей.  \n"
      ]
     },
     "metadata": {},
     "output_type": "display_data"
    },
    {
     "data": {
      "text/html": [
       "Возможные верные варианты для слова <span style='color:yellow'>прцоента</span>:"
      ]
     },
     "metadata": {},
     "output_type": "display_data"
    },
    {
     "name": "stdout",
     "output_type": "stream",
     "text": [
      "['процента', 'процентах', 'проценты']\n"
     ]
    },
    {
     "data": {
      "text/html": [
       "- 74 % <span style='color:yellow'>отрицаетльных</span> значений. Так быть не должно.  \n"
      ]
     },
     "metadata": {},
     "output_type": "display_data"
    },
    {
     "data": {
      "text/html": [
       "Возможные верные варианты для слова <span style='color:yellow'>отрицаетльных</span>:"
      ]
     },
     "metadata": {},
     "output_type": "display_data"
    },
    {
     "name": "stdout",
     "output_type": "stream",
     "text": [
      "['отрицательных', 'отрицательный', 'отрицательные', 'отрицательным']\n"
     ]
    },
    {
     "data": {
      "text/html": [
       "- Столбец со стажем выглядит некорректно. Нужно <span style='color:yellow'>высянить</span> методику расчета и разобраться в чем проблема.  \n"
      ]
     },
     "metadata": {},
     "output_type": "display_data"
    },
    {
     "data": {
      "text/html": [
       "Возможные верные варианты для слова <span style='color:yellow'>высянить</span>:"
      ]
     },
     "metadata": {},
     "output_type": "display_data"
    },
    {
     "name": "stdout",
     "output_type": "stream",
     "text": [
      "['выяснить', 'выманить', 'высадить']\n"
     ]
    },
    {
     "data": {
      "text/html": [
       "- В колонке возраста 101 нулевое <span style='color:yellow'>значени</span>. Это явно ошибки.  \n"
      ]
     },
     "metadata": {},
     "output_type": "display_data"
    },
    {
     "data": {
      "text/html": [
       "Возможные верные варианты для слова <span style='color:yellow'>значени</span>:"
      ]
     },
     "metadata": {},
     "output_type": "display_data"
    },
    {
     "name": "stdout",
     "output_type": "stream",
     "text": [
      "['значение', 'значении', 'значений', 'значения', 'значению', 'значением']\n"
     ]
    },
    {
     "data": {
      "text/html": [
       "- Медиана 42 года, первый квартиль 33 года, можно сделать вывод, что у нас <span style='color:yellow'>восновном</span> люди старше 30 лет.  \n"
      ]
     },
     "metadata": {},
     "output_type": "display_data"
    },
    {
     "data": {
      "text/html": [
       "Возможные верные варианты для слова <span style='color:yellow'>восновном</span>:"
      ]
     },
     "metadata": {},
     "output_type": "display_data"
    },
    {
     "name": "stdout",
     "output_type": "stream",
     "text": [
      "['в основном', 'основном', 'воснавном']\n"
     ]
    },
    {
     "data": {
      "text/html": [
       "- Доход <span style='color:yellow'>боьше</span> 1 млн может быть правдой. Тем более такой даоход в большинстве у мужчин с высшим образованием, у компаньонов или сотрудников.  \n"
      ]
     },
     "metadata": {},
     "output_type": "display_data"
    },
    {
     "data": {
      "text/html": [
       "Возможные верные варианты для слова <span style='color:yellow'>боьше</span>:"
      ]
     },
     "metadata": {},
     "output_type": "display_data"
    },
    {
     "name": "stdout",
     "output_type": "stream",
     "text": [
      "['больше', 'большие', 'бошо']\n"
     ]
    },
    {
     "data": {
      "text/html": [
       "- Доход боьше 1 млн может быть правдой. Тем более такой <span style='color:yellow'>даоход</span> в большинстве у мужчин с высшим образованием, у компаньонов или сотрудников.  \n"
      ]
     },
     "metadata": {},
     "output_type": "display_data"
    },
    {
     "data": {
      "text/html": [
       "Возможные верные варианты для слова <span style='color:yellow'>даоход</span>:"
      ]
     },
     "metadata": {},
     "output_type": "display_data"
    },
    {
     "name": "stdout",
     "output_type": "stream",
     "text": [
      "['доход', 'дохода', 'дооход']\n"
     ]
    },
    {
     "data": {
      "text/html": [
       "Нет оснований считать это выбросом. <span style='color:yellow'>Максимаьный</span> доход 2 млн. Также может быть реальным.\n"
      ]
     },
     "metadata": {},
     "output_type": "display_data"
    },
    {
     "data": {
      "text/html": [
       "Возможные верные варианты для слова <span style='color:yellow'>Максимаьный</span>:"
      ]
     },
     "metadata": {},
     "output_type": "display_data"
    },
    {
     "name": "stdout",
     "output_type": "stream",
     "text": [
      "['Максимальный', 'Максимальной', 'Максималный']\n"
     ]
    },
    {
     "data": {
      "text/html": [
       "- Меньше 5 % людей имеют зарплату <span style='color:yellow'>меньша</span> 63 тысяч.  \n"
      ]
     },
     "metadata": {},
     "output_type": "display_data"
    },
    {
     "data": {
      "text/html": [
       "Возможные верные варианты для слова <span style='color:yellow'>меньша</span>:"
      ]
     },
     "metadata": {},
     "output_type": "display_data"
    },
    {
     "name": "stdout",
     "output_type": "stream",
     "text": [
      "['меньше', 'меньшая', 'меньшей', 'меньшее', 'менша', 'уменьшая', 'меньш']\n"
     ]
    },
    {
     "data": {
      "text/html": [
       "- В колонке с образованием присутствуют одни и те же <span style='color:yellow'>знчения</span> с разными регистрами. Нужно выяснить почему так происходит при загрузке.  \n"
      ]
     },
     "metadata": {},
     "output_type": "display_data"
    },
    {
     "data": {
      "text/html": [
       "Возможные верные варианты для слова <span style='color:yellow'>знчения</span>:"
      ]
     },
     "metadata": {},
     "output_type": "display_data"
    },
    {
     "name": "stdout",
     "output_type": "stream",
     "text": [
      "['значения', 'значение', 'занчения']\n"
     ]
    },
    {
     "data": {
      "text/html": [
       "При этом в колонке с id образования все <span style='color:yellow'>впрорядке</span>.    \n"
      ]
     },
     "metadata": {},
     "output_type": "display_data"
    },
    {
     "data": {
      "text/html": [
       "Возможные верные варианты для слова <span style='color:yellow'>впрорядке</span>:"
      ]
     },
     "metadata": {},
     "output_type": "display_data"
    },
    {
     "name": "stdout",
     "output_type": "stream",
     "text": [
      "['в порядке', 'впорядке', 'в прорядке']\n"
     ]
    },
    {
     "data": {
      "text/html": [
       "- <span style='color:yellow'>Болше</span> всего людей со средним образованием 71 %. Высшее образование у 24 %.\n"
      ]
     },
     "metadata": {},
     "output_type": "display_data"
    },
    {
     "data": {
      "text/html": [
       "Возможные верные варианты для слова <span style='color:yellow'>Болше</span>:"
      ]
     },
     "metadata": {},
     "output_type": "display_data"
    },
    {
     "name": "stdout",
     "output_type": "stream",
     "text": [
      "['Больше', 'Большие', 'Большое']\n"
     ]
    },
    {
     "data": {
      "text/html": [
       "- В столбце занятость больше всего сотрудников (52 %). Меньше 1 % безработных. <span style='color:yellow'>Предпринимететей</span> также 1 %. Можно сделать вывод, что большинство либо пенсионеры, либо имеют занятость.\n"
      ]
     },
     "metadata": {},
     "output_type": "display_data"
    },
    {
     "data": {
      "text/html": [
       "Возможные верные варианты для слова <span style='color:yellow'>Предпринимететей</span>:"
      ]
     },
     "metadata": {},
     "output_type": "display_data"
    },
    {
     "name": "stdout",
     "output_type": "stream",
     "text": [
      "['Предпринимателей', 'Предприниматетеей', 'Предприниматетелй']\n"
     ]
    },
    {
     "data": {
      "text/html": [
       "- В колонке цель кредита 38 <span style='color:yellow'>униклаьных</span> значений, немного, но все таки есть похожие цели, нужно будет объеденить в одно значение.\n"
      ]
     },
     "metadata": {},
     "output_type": "display_data"
    },
    {
     "data": {
      "text/html": [
       "Возможные верные варианты для слова <span style='color:yellow'>униклаьных</span>:"
      ]
     },
     "metadata": {},
     "output_type": "display_data"
    },
    {
     "name": "stdout",
     "output_type": "stream",
     "text": [
      "['уникальных', 'уникальным', 'униклаьны']\n"
     ]
    },
    {
     "data": {
      "text/html": [
       "- В колонке цель кредита 38 униклаьных значений, немного, но все таки есть похожие цели, нужно будет <span style='color:yellow'>объеденить</span> в одно значение.\n"
      ]
     },
     "metadata": {},
     "output_type": "display_data"
    },
    {
     "data": {
      "text/html": [
       "Возможные верные варианты для слова <span style='color:yellow'>объеденить</span>:"
      ]
     },
     "metadata": {},
     "output_type": "display_data"
    },
    {
     "name": "stdout",
     "output_type": "stream",
     "text": [
      "['объединить', 'объединять', 'обьеденить']\n"
     ]
    },
    {
     "data": {
      "text/html": [
       "- Гипотеза, что пропуски в обоих колонках расположены в одних и тех же строках <span style='color:yellow'>подтветрдилась</span>.  \n"
      ]
     },
     "metadata": {},
     "output_type": "display_data"
    },
    {
     "data": {
      "text/html": [
       "Возможные верные варианты для слова <span style='color:yellow'>подтветрдилась</span>:"
      ]
     },
     "metadata": {},
     "output_type": "display_data"
    },
    {
     "name": "stdout",
     "output_type": "stream",
     "text": [
      "['подтвердилась', 'подтвердилось', 'подтвердились', 'подтветрдились']\n"
     ]
    },
    {
     "data": {
      "text/html": [
       "Возможно это вызвано тем, что при расчете дохода <span style='color:yellow'>испльзуется</span> стаж, либо существует другое влияние одного на другое.  \n"
      ]
     },
     "metadata": {},
     "output_type": "display_data"
    },
    {
     "data": {
      "text/html": [
       "Возможные верные варианты для слова <span style='color:yellow'>испльзуется</span>:"
      ]
     },
     "metadata": {},
     "output_type": "display_data"
    },
    {
     "name": "stdout",
     "output_type": "stream",
     "text": [
      "['используется', 'используются', 'используеться']\n"
     ]
    },
    {
     "data": {
      "text/html": [
       "- У женщин выбросов в стаже намного <span style='color:yellow'>болше</span> чем у мужчин, даже учитывая что женщин больше всего\n"
      ]
     },
     "metadata": {},
     "output_type": "display_data"
    },
    {
     "data": {
      "text/html": [
       "Возможные верные варианты для слова <span style='color:yellow'>болше</span>:"
      ]
     },
     "metadata": {},
     "output_type": "display_data"
    },
    {
     "name": "stdout",
     "output_type": "stream",
     "text": [
      "['больше', 'большие', 'большое']\n"
     ]
    },
    {
     "data": {
      "text/html": [
       "- У пенсионеров значительно <span style='color:yellow'>болше</span> выбросов в стаже\n"
      ]
     },
     "metadata": {},
     "output_type": "display_data"
    },
    {
     "data": {
      "text/html": [
       "Возможные верные варианты для слова <span style='color:yellow'>болше</span>:"
      ]
     },
     "metadata": {},
     "output_type": "display_data"
    },
    {
     "name": "stdout",
     "output_type": "stream",
     "text": [
      "['больше', 'большие', 'большое']\n"
     ]
    },
    {
     "data": {
      "text/html": [
       "- Категория семейного статуса 'Не женат / не замужем' выделяется по выбросам, учитывая <span style='color:yellow'>пропроцию</span> в общем количестве.\n"
      ]
     },
     "metadata": {},
     "output_type": "display_data"
    },
    {
     "data": {
      "text/html": [
       "Возможные верные варианты для слова <span style='color:yellow'>пропроцию</span>:"
      ]
     },
     "metadata": {},
     "output_type": "display_data"
    },
    {
     "name": "stdout",
     "output_type": "stream",
     "text": [
      "['пропорцию', 'пропорции', 'пропорция']\n"
     ]
    },
    {
     "data": {
      "text/html": [
       "- У пенсионеров <span style='color:yellow'>болше</span> выбросов по возрасту, что логично\n"
      ]
     },
     "metadata": {},
     "output_type": "display_data"
    },
    {
     "data": {
      "text/html": [
       "Возможные верные варианты для слова <span style='color:yellow'>болше</span>:"
      ]
     },
     "metadata": {},
     "output_type": "display_data"
    },
    {
     "name": "stdout",
     "output_type": "stream",
     "text": [
      "['больше', 'большие', 'большое']\n"
     ]
    },
    {
     "data": {
      "text/html": [
       "У нас таких данных меньше пол процента, удалим их, так как нет <span style='color:yellow'>уверености</span>, что это не выбросы.  \n"
      ]
     },
     "metadata": {},
     "output_type": "display_data"
    },
    {
     "data": {
      "text/html": [
       "Возможные верные варианты для слова <span style='color:yellow'>уверености</span>:"
      ]
     },
     "metadata": {},
     "output_type": "display_data"
    },
    {
     "name": "stdout",
     "output_type": "stream",
     "text": [
      "['уверенности', 'уверенность', 'доверенности']\n"
     ]
    },
    {
     "data": {
      "text/html": [
       "Оставшиеся пропуски <span style='color:yellow'>попроубем</span> заполнить без учета семейного статуса"
      ]
     },
     "metadata": {},
     "output_type": "display_data"
    },
    {
     "data": {
      "text/html": [
       "Возможные верные варианты для слова <span style='color:yellow'>попроубем</span>:"
      ]
     },
     "metadata": {},
     "output_type": "display_data"
    },
    {
     "name": "stdout",
     "output_type": "stream",
     "text": [
      "['попробуем', 'опробуем', 'попрубем']\n"
     ]
    },
    {
     "data": {
      "text/html": [
       "Пропусков не осталось, можно <span style='color:yellow'>продолжнать</span> анализ. "
      ]
     },
     "metadata": {},
     "output_type": "display_data"
    },
    {
     "data": {
      "text/html": [
       "Возможные верные варианты для слова <span style='color:yellow'>продолжнать</span>:"
      ]
     },
     "metadata": {},
     "output_type": "display_data"
    },
    {
     "name": "stdout",
     "output_type": "stream",
     "text": [
      "['продолжать', 'продолжить', 'продолжат']\n"
     ]
    },
    {
     "data": {
      "text/html": [
       "Целая часть выглядит реальной. А с дробной частью нужно разбираться почему <span style='color:yellow'>стоько</span> знаков.  "
      ]
     },
     "metadata": {},
     "output_type": "display_data"
    },
    {
     "data": {
      "text/html": [
       "Возможные верные варианты для слова <span style='color:yellow'>стоько</span>:"
      ]
     },
     "metadata": {},
     "output_type": "display_data"
    },
    {
     "name": "stdout",
     "output_type": "stream",
     "text": [
      "['столько', 'стоико', 'стого']\n"
     ]
    },
    {
     "data": {
      "text/html": [
       "Создадим <span style='color:yellow'>каетгориальную</span> переменную по доходу"
      ]
     },
     "metadata": {},
     "output_type": "display_data"
    },
    {
     "data": {
      "text/html": [
       "Возможные верные варианты для слова <span style='color:yellow'>каетгориальную</span>:"
      ]
     },
     "metadata": {},
     "output_type": "display_data"
    },
    {
     "name": "stdout",
     "output_type": "stream",
     "text": [
      "['категориальную', 'категориальною', 'категориально']\n"
     ]
    },
    {
     "data": {
      "text/html": [
       "Сделаем категории из колонки целей кредита используя <span style='color:yellow'>лематизацию</span>"
      ]
     },
     "metadata": {},
     "output_type": "display_data"
    },
    {
     "data": {
      "text/html": [
       "Возможные верные варианты для слова <span style='color:yellow'>лематизацию</span>:"
      ]
     },
     "metadata": {},
     "output_type": "display_data"
    },
    {
     "name": "stdout",
     "output_type": "stream",
     "text": [
      "['лемматизацию', 'тематизацию', 'лемматизация', 'дематизацию']\n"
     ]
    },
    {
     "data": {
      "text/html": [
       "- <span style='color:yellow'>Лематизировали</span> колонку с целью кредита, чтобы получить категории целей кредита.  "
      ]
     },
     "metadata": {},
     "output_type": "display_data"
    },
    {
     "data": {
      "text/html": [
       "Возможные верные варианты для слова <span style='color:yellow'>Лематизировали</span>:"
      ]
     },
     "metadata": {},
     "output_type": "display_data"
    },
    {
     "name": "stdout",
     "output_type": "stream",
     "text": [
      "['Тематизировали', 'Легализировали', 'Блематизировал']\n"
     ]
    },
    {
     "data": {
      "text/html": [
       "Посмотрим какие <span style='color:yellow'>перменные</span> сильнее других влияют на предсказание долга с помощью модели случайного леса"
      ]
     },
     "metadata": {},
     "output_type": "display_data"
    },
    {
     "data": {
      "text/html": [
       "Возможные верные варианты для слова <span style='color:yellow'>перменные</span>:"
      ]
     },
     "metadata": {},
     "output_type": "display_data"
    },
    {
     "name": "stdout",
     "output_type": "stream",
     "text": [
      "['переменные', 'беременные', 'ферменные']\n"
     ]
    },
    {
     "data": {
      "text/html": [
       "Посмотрим на зависимости между числовыми <span style='color:yellow'>переменныхми</span>."
      ]
     },
     "metadata": {},
     "output_type": "display_data"
    },
    {
     "data": {
      "text/html": [
       "Возможные верные варианты для слова <span style='color:yellow'>переменныхми</span>:"
      ]
     },
     "metadata": {},
     "output_type": "display_data"
    },
    {
     "name": "stdout",
     "output_type": "stream",
     "text": [
      "['переменными', 'переменных м и', 'переменныхмимш', 'переменных', 'переменным', 'перемеными', 'переменныхи', 'беременными', 'переменнными', 'переменныхм']\n"
     ]
    },
    {
     "data": {
      "text/html": [
       "- <span style='color:yellow'>Жентатых</span> без долго явно больше остальных."
      ]
     },
     "metadata": {},
     "output_type": "display_data"
    },
    {
     "data": {
      "text/html": [
       "Возможные верные варианты для слова <span style='color:yellow'>Жентатых</span>:"
      ]
     },
     "metadata": {},
     "output_type": "display_data"
    },
    {
     "name": "stdout",
     "output_type": "stream",
     "text": [
      "['Женатых', 'Дентатых', 'Женаттых']\n"
     ]
    },
    {
     "data": {
      "text/html": [
       "<a name='<span style='color:yellow'>Болшая</span>-часть-женатых-имеет-доход-100-200-тыс'></a>\n"
      ]
     },
     "metadata": {},
     "output_type": "display_data"
    },
    {
     "data": {
      "text/html": [
       "Возможные верные варианты для слова <span style='color:yellow'>Болшая</span>:"
      ]
     },
     "metadata": {},
     "output_type": "display_data"
    },
    {
     "name": "stdout",
     "output_type": "stream",
     "text": [
      "['Большая', 'Болльшая', 'Болтая']\n"
     ]
    },
    {
     "data": {
      "text/html": [
       "- <span style='color:yellow'>Болшая</span> часть женатых имеет доход 100-200 тыс"
      ]
     },
     "metadata": {},
     "output_type": "display_data"
    },
    {
     "data": {
      "text/html": [
       "Возможные верные варианты для слова <span style='color:yellow'>Болшая</span>:"
      ]
     },
     "metadata": {},
     "output_type": "display_data"
    },
    {
     "name": "stdout",
     "output_type": "stream",
     "text": [
      "['Большая', 'Болльшая', 'Болтая']\n"
     ]
    },
    {
     "data": {
      "text/html": [
       "- Женщины чаще возвращают кредит. Это видно из <span style='color:yellow'>пропроций</span>. "
      ]
     },
     "metadata": {},
     "output_type": "display_data"
    },
    {
     "data": {
      "text/html": [
       "Возможные верные варианты для слова <span style='color:yellow'>пропроций</span>:"
      ]
     },
     "metadata": {},
     "output_type": "display_data"
    },
    {
     "name": "stdout",
     "output_type": "stream",
     "text": [
      "['пропорций', 'пропорции', 'пропорция']\n"
     ]
    },
    {
     "data": {
      "text/html": [
       "Посмотрим на распределение количества людей по категориям на сэнки <span style='color:yellow'>диограмме</span>"
      ]
     },
     "metadata": {},
     "output_type": "display_data"
    },
    {
     "data": {
      "text/html": [
       "Возможные верные варианты для слова <span style='color:yellow'>диограмме</span>:"
      ]
     },
     "metadata": {},
     "output_type": "display_data"
    },
    {
     "name": "stdout",
     "output_type": "stream",
     "text": [
      "['диаграмме', 'диаграмма', 'диаграмму', 'диаграммы']\n"
     ]
    },
    {
     "data": {
      "text/html": [
       "<a name='На-всех-уровнях-<span style='color:yellow'>образоания</span>--кроме-ученой-степени--доход-у-мужчин-выше-'></a>\n"
      ]
     },
     "metadata": {},
     "output_type": "display_data"
    },
    {
     "data": {
      "text/html": [
       "Возможные верные варианты для слова <span style='color:yellow'>образоания</span>:"
      ]
     },
     "metadata": {},
     "output_type": "display_data"
    },
    {
     "name": "stdout",
     "output_type": "stream",
     "text": [
      "['образования', 'образование', 'образованию']\n"
     ]
    },
    {
     "data": {
      "text/html": [
       "-  На всех уровнях <span style='color:yellow'>образоания</span>, кроме ученой степени, доход у мужчин выше."
      ]
     },
     "metadata": {},
     "output_type": "display_data"
    },
    {
     "data": {
      "text/html": [
       "Возможные верные варианты для слова <span style='color:yellow'>образоания</span>:"
      ]
     },
     "metadata": {},
     "output_type": "display_data"
    },
    {
     "name": "stdout",
     "output_type": "stream",
     "text": [
      "['образования', 'образование', 'образованию']\n"
     ]
    },
    {
     "data": {
      "text/html": [
       "<a name='Цель-получения-кредита-практически-не-зависит-от-среднего-<span style='color:yellow'>ежемесяченого</span>-дохода-'></a>\n"
      ]
     },
     "metadata": {},
     "output_type": "display_data"
    },
    {
     "data": {
      "text/html": [
       "Возможные верные варианты для слова <span style='color:yellow'>ежемесяченого</span>:"
      ]
     },
     "metadata": {},
     "output_type": "display_data"
    },
    {
     "name": "stdout",
     "output_type": "stream",
     "text": [
      "['ежемесячного', 'ёжемесячного', 'ежемесеченого', 'ежемесячьного']\n"
     ]
    },
    {
     "data": {
      "text/html": [
       "-  Цель получения кредита практически не зависит от среднего <span style='color:yellow'>ежемесяченого</span> доход"
      ]
     },
     "metadata": {},
     "output_type": "display_data"
    },
    {
     "data": {
      "text/html": [
       "Возможные верные варианты для слова <span style='color:yellow'>ежемесяченого</span>:"
      ]
     },
     "metadata": {},
     "output_type": "display_data"
    },
    {
     "name": "stdout",
     "output_type": "stream",
     "text": [
      "['ежемесячного', 'ёжемесячного', 'ежемесеченого', 'ежемесячьного']\n"
     ]
    },
    {
     "data": {
      "text/html": [
       "-  Медианный доход <span style='color:yellow'>предпринимателй</span> больше, чем у других."
      ]
     },
     "metadata": {},
     "output_type": "display_data"
    },
    {
     "data": {
      "text/html": [
       "Возможные верные варианты для слова <span style='color:yellow'>предпринимателй</span>:"
      ]
     },
     "metadata": {},
     "output_type": "display_data"
    },
    {
     "name": "stdout",
     "output_type": "stream",
     "text": [
      "['предпринимателей', 'предприниматель', 'предприниматели', 'предпринимателя']\n"
     ]
    },
    {
     "data": {
      "text/html": [
       "-  В разрезе семейного положения ситуация <span style='color:yellow'>сохранятся</span>, возраст немного меньше у должников"
      ]
     },
     "metadata": {},
     "output_type": "display_data"
    },
    {
     "data": {
      "text/html": [
       "Возможные верные варианты для слова <span style='color:yellow'>сохранятся</span>:"
      ]
     },
     "metadata": {},
     "output_type": "display_data"
    },
    {
     "name": "stdout",
     "output_type": "stream",
     "text": [
      "['сохраняться', 'сохраняется', 'сохраняются']\n"
     ]
    },
    {
     "data": {
      "text/html": [
       "- Среднее количество детей у группы 30-40 лет <span style='color:yellow'>болше</span>.\n"
      ]
     },
     "metadata": {},
     "output_type": "display_data"
    },
    {
     "data": {
      "text/html": [
       "Возможные верные варианты для слова <span style='color:yellow'>болше</span>:"
      ]
     },
     "metadata": {},
     "output_type": "display_data"
    },
    {
     "name": "stdout",
     "output_type": "stream",
     "text": [
      "['больше', 'большие', 'большое']\n"
     ]
    },
    {
     "data": {
      "text/html": [
       "- Странно, что в группе 40-50 лет безработные имеют доход сравнимый с другими группами, а в <span style='color:yellow'>дргих</span> возрастных категориях - нет."
      ]
     },
     "metadata": {},
     "output_type": "display_data"
    },
    {
     "data": {
      "text/html": [
       "Возможные верные варианты для слова <span style='color:yellow'>дргих</span>:"
      ]
     },
     "metadata": {},
     "output_type": "display_data"
    },
    {
     "name": "stdout",
     "output_type": "stream",
     "text": [
      "['других', 'дорогих', 'дркгих']\n"
     ]
    },
    {
     "data": {
      "text/html": [
       "- С доходом до 100 тысяч детей больше у <span style='color:yellow'>женищин</span>, а с доходом выше 100 тысяч - у мужчин. "
      ]
     },
     "metadata": {},
     "output_type": "display_data"
    },
    {
     "data": {
      "text/html": [
       "Возможные верные варианты для слова <span style='color:yellow'>женищин</span>:"
      ]
     },
     "metadata": {},
     "output_type": "display_data"
    },
    {
     "name": "stdout",
     "output_type": "stream",
     "text": [
      "['женщин', 'женщины', 'женищины', 'женщина', 'женещин', 'женищина', 'женщину']\n"
     ]
    },
    {
     "data": {
      "text/html": [
       "- У <span style='color:yellow'>мужчни</span> с ученой степенью средний возраст выше, чем у женщин, но размер группы 'ученая степень' маленький, поэтому утверждать нельзя."
      ]
     },
     "metadata": {},
     "output_type": "display_data"
    },
    {
     "data": {
      "text/html": [
       "Возможные верные варианты для слова <span style='color:yellow'>мужчни</span>:"
      ]
     },
     "metadata": {},
     "output_type": "display_data"
    },
    {
     "name": "stdout",
     "output_type": "stream",
     "text": [
      "['мужчин', 'мужчине', 'мужчины', 'мужчина']\n"
     ]
    },
    {
     "data": {
      "text/html": [
       "- Средний доход предпринимателей значительно выше других, но как видно <span style='color:yellow'>предпринимателль</span> только 1, поэтому это нерепрезентативно. \n"
      ]
     },
     "metadata": {},
     "output_type": "display_data"
    },
    {
     "data": {
      "text/html": [
       "Возможные верные варианты для слова <span style='color:yellow'>предпринимателль</span>:"
      ]
     },
     "metadata": {},
     "output_type": "display_data"
    },
    {
     "name": "stdout",
     "output_type": "stream",
     "text": [
      "['предприниматель', 'предпринимателя', 'предпринимателю', 'предприниматели']\n"
     ]
    },
    {
     "data": {
      "text/html": [
       "- В декрете и студент имеют самый низкий доход, но <span style='color:yellow'>рзамеры</span> групп маленькие, поэтому также нет уверености в выводе. "
      ]
     },
     "metadata": {},
     "output_type": "display_data"
    },
    {
     "data": {
      "text/html": [
       "Возможные верные варианты для слова <span style='color:yellow'>рзамеры</span>:"
      ]
     },
     "metadata": {},
     "output_type": "display_data"
    },
    {
     "name": "stdout",
     "output_type": "stream",
     "text": [
      "['размеры', 'замеры', 'рзмеры']\n"
     ]
    },
    {
     "data": {
      "text/html": [
       "- В декрете и студент имеют самый низкий доход, но рзамеры групп маленькие, поэтому также нет <span style='color:yellow'>уверености</span> в выводе. "
      ]
     },
     "metadata": {},
     "output_type": "display_data"
    },
    {
     "data": {
      "text/html": [
       "Возможные верные варианты для слова <span style='color:yellow'>уверености</span>:"
      ]
     },
     "metadata": {},
     "output_type": "display_data"
    },
    {
     "name": "stdout",
     "output_type": "stream",
     "text": [
      "['уверенности', 'уверенность', 'доверенности']\n"
     ]
    },
    {
     "data": {
      "text/html": [
       "- <span style='color:yellow'>Жентатых</span> без долго явно больше остальных.\n"
      ]
     },
     "metadata": {},
     "output_type": "display_data"
    },
    {
     "data": {
      "text/html": [
       "Возможные верные варианты для слова <span style='color:yellow'>Жентатых</span>:"
      ]
     },
     "metadata": {},
     "output_type": "display_data"
    },
    {
     "name": "stdout",
     "output_type": "stream",
     "text": [
      "['Женатых', 'Дентатых', 'Женаттых']\n"
     ]
    },
    {
     "data": {
      "text/html": [
       "- <span style='color:yellow'>Болшая</span> часть женатых имеет доход 100-200 тыс\n"
      ]
     },
     "metadata": {},
     "output_type": "display_data"
    },
    {
     "data": {
      "text/html": [
       "Возможные верные варианты для слова <span style='color:yellow'>Болшая</span>:"
      ]
     },
     "metadata": {},
     "output_type": "display_data"
    },
    {
     "name": "stdout",
     "output_type": "stream",
     "text": [
      "['Большая', 'Болльшая', 'Болтая']\n"
     ]
    },
    {
     "data": {
      "text/html": [
       "- На всех уровнях <span style='color:yellow'>образоания</span>, кроме ученой степени, доход у мужчин выше.\n"
      ]
     },
     "metadata": {},
     "output_type": "display_data"
    },
    {
     "data": {
      "text/html": [
       "Возможные верные варианты для слова <span style='color:yellow'>образоания</span>:"
      ]
     },
     "metadata": {},
     "output_type": "display_data"
    },
    {
     "name": "stdout",
     "output_type": "stream",
     "text": [
      "['образования', 'образование', 'образованию']\n"
     ]
    },
    {
     "data": {
      "text/html": [
       "- Цель получения кредита практически не зависит от среднего <span style='color:yellow'>ежемесяченого</span> дохода.\n"
      ]
     },
     "metadata": {},
     "output_type": "display_data"
    },
    {
     "data": {
      "text/html": [
       "Возможные верные варианты для слова <span style='color:yellow'>ежемесяченого</span>:"
      ]
     },
     "metadata": {},
     "output_type": "display_data"
    },
    {
     "name": "stdout",
     "output_type": "stream",
     "text": [
      "['ежемесячного', 'ёжемесячного', 'ежемесеченого', 'ежемесячьного']\n"
     ]
    },
    {
     "data": {
      "text/html": [
       "- У должников среднее количество детей больше у женщин, а у не должников <span style='color:yellow'>срднее</span> количество детей больше у мужчин\n"
      ]
     },
     "metadata": {},
     "output_type": "display_data"
    },
    {
     "data": {
      "text/html": [
       "Возможные верные варианты для слова <span style='color:yellow'>срднее</span>:"
      ]
     },
     "metadata": {},
     "output_type": "display_data"
    },
    {
     "name": "stdout",
     "output_type": "stream",
     "text": [
      "['среднее', 'средне', 'средние']\n"
     ]
    },
    {
     "data": {
      "text/html": [
       "- Среднее количество детей у группы 30-40 лет <span style='color:yellow'>болше</span>.\n"
      ]
     },
     "metadata": {},
     "output_type": "display_data"
    },
    {
     "data": {
      "text/html": [
       "Возможные верные варианты для слова <span style='color:yellow'>болше</span>:"
      ]
     },
     "metadata": {},
     "output_type": "display_data"
    },
    {
     "name": "stdout",
     "output_type": "stream",
     "text": [
      "['больше', 'большие', 'большое']\n"
     ]
    },
    {
     "data": {
      "text/html": [
       "- В группе 40-50 лет безработные имеют доход сравнимый с другими группами, а в <span style='color:yellow'>дргих</span> возрастных категориях доход безработных значительно ниже.\n"
      ]
     },
     "metadata": {},
     "output_type": "display_data"
    },
    {
     "data": {
      "text/html": [
       "Возможные верные варианты для слова <span style='color:yellow'>дргих</span>:"
      ]
     },
     "metadata": {},
     "output_type": "display_data"
    },
    {
     "name": "stdout",
     "output_type": "stream",
     "text": [
      "['других', 'дорогих', 'дркгих']\n"
     ]
    },
    {
     "data": {
      "text/html": [
       "- С доходом до 100 тысяч детей больше у <span style='color:yellow'>женищин</span>, а с доходом выше 100 тысяч - у мужчин. \n"
      ]
     },
     "metadata": {},
     "output_type": "display_data"
    },
    {
     "data": {
      "text/html": [
       "Возможные верные варианты для слова <span style='color:yellow'>женищин</span>:"
      ]
     },
     "metadata": {},
     "output_type": "display_data"
    },
    {
     "name": "stdout",
     "output_type": "stream",
     "text": [
      "['женщин', 'женщины', 'женищины', 'женщина', 'женещин', 'женищина', 'женщину']\n"
     ]
    },
    {
     "data": {
      "text/html": [
       "На основе проведенного анализа данных <span style='color:yellow'>сформулирем</span> следующие гипотезы:"
      ]
     },
     "metadata": {},
     "output_type": "display_data"
    },
    {
     "data": {
      "text/html": [
       "Возможные верные варианты для слова <span style='color:yellow'>сформулирем</span>:"
      ]
     },
     "metadata": {},
     "output_type": "display_data"
    },
    {
     "name": "stdout",
     "output_type": "stream",
     "text": [
      "['сформулируем', 'формулируем', 'сформулиро']\n"
     ]
    },
    {
     "data": {
      "text/html": [
       "Гипотеза 3: Цель получения кредита не <span style='color:yellow'>зависитотеза</span> 3: Цель получения кредита не зависит от среднего ежемесячного доход  \n"
      ]
     },
     "metadata": {},
     "output_type": "display_data"
    },
    {
     "data": {
      "text/html": [
       "Возможные верные варианты для слова <span style='color:yellow'>зависитотеза</span>:"
      ]
     },
     "metadata": {},
     "output_type": "display_data"
    },
    {
     "name": "stdout",
     "output_type": "stream",
     "text": [
      "['зависит от еза', 'зависит от эза', 'зависит от аза', 'зависит от иза']\n"
     ]
    },
    {
     "data": {
      "text/html": [
       "**Гипотеза 3: Цель получения кредита не зависит от среднего <span style='color:yellow'>ежемесяченого</span> доход**"
      ]
     },
     "metadata": {},
     "output_type": "display_data"
    },
    {
     "data": {
      "text/html": [
       "Возможные верные варианты для слова <span style='color:yellow'>ежемесяченого</span>:"
      ]
     },
     "metadata": {},
     "output_type": "display_data"
    },
    {
     "name": "stdout",
     "output_type": "stream",
     "text": [
      "['ежемесячного', 'ёжемесячного', 'ежемесеченого', 'ежемесячьного']\n"
     ]
    },
    {
     "data": {
      "text/html": [
       "Используем тест Тьюки, чтобы определить различия между <span style='color:yellow'>грауппами</span>  \n"
      ]
     },
     "metadata": {},
     "output_type": "display_data"
    },
    {
     "data": {
      "text/html": [
       "Возможные верные варианты для слова <span style='color:yellow'>грауппами</span>:"
      ]
     },
     "metadata": {},
     "output_type": "display_data"
    },
    {
     "name": "stdout",
     "output_type": "stream",
     "text": [
      "['группами', 'группками', 'группам', 'гроуппами']\n"
     ]
    },
    {
     "data": {
      "text/html": [
       "Так как дисперсия в группах разная, будем <span style='color:yellow'>испльзовать</span> тест Уэлча.  \n"
      ]
     },
     "metadata": {},
     "output_type": "display_data"
    },
    {
     "data": {
      "text/html": [
       "Возможные верные варианты для слова <span style='color:yellow'>испльзовать</span>:"
      ]
     },
     "metadata": {},
     "output_type": "display_data"
    },
    {
     "name": "stdout",
     "output_type": "stream",
     "text": [
      "['использовать', 'использавать', 'исспользовать']\n"
     ]
    },
    {
     "data": {
      "text/html": [
       "<span style='color:yellow'>Испоьзуем</span> бутстреп для проверке гипотезы  \n"
      ]
     },
     "metadata": {},
     "output_type": "display_data"
    },
    {
     "data": {
      "text/html": [
       "Возможные верные варианты для слова <span style='color:yellow'>Испоьзуем</span>:"
      ]
     },
     "metadata": {},
     "output_type": "display_data"
    },
    {
     "name": "stdout",
     "output_type": "stream",
     "text": [
      "['Используем', 'Использует', 'Используемой', 'Используемые']\n"
     ]
    },
    {
     "data": {
      "text/html": [
       "- Цель получения кредита практически не зависит от среднего <span style='color:yellow'>ежемесяченого</span> дохода.\n"
      ]
     },
     "metadata": {},
     "output_type": "display_data"
    },
    {
     "data": {
      "text/html": [
       "Возможные верные варианты для слова <span style='color:yellow'>ежемесяченого</span>:"
      ]
     },
     "metadata": {},
     "output_type": "display_data"
    },
    {
     "name": "stdout",
     "output_type": "stream",
     "text": [
      "['ежемесячного', 'ёжемесячного', 'ежемесеченого', 'ежемесячьного']\n"
     ]
    },
    {
     "data": {
      "text/html": [
       "- <span style='color:yellow'>Болшая</span> часть женатых имеет доход 100-200 тыс\n"
      ]
     },
     "metadata": {},
     "output_type": "display_data"
    },
    {
     "data": {
      "text/html": [
       "Возможные верные варианты для слова <span style='color:yellow'>Болшая</span>:"
      ]
     },
     "metadata": {},
     "output_type": "display_data"
    },
    {
     "name": "stdout",
     "output_type": "stream",
     "text": [
      "['Большая', 'Болльшая', 'Болтая']\n"
     ]
    },
    {
     "data": {
      "text/html": [
       "- На всех уровнях <span style='color:yellow'>образоания</span>, кроме ученой степени, доход у мужчин выше.\n"
      ]
     },
     "metadata": {},
     "output_type": "display_data"
    },
    {
     "data": {
      "text/html": [
       "Возможные верные варианты для слова <span style='color:yellow'>образоания</span>:"
      ]
     },
     "metadata": {},
     "output_type": "display_data"
    },
    {
     "name": "stdout",
     "output_type": "stream",
     "text": [
      "['образования', 'образование', 'образованию']\n"
     ]
    },
    {
     "data": {
      "text/html": [
       "- <span style='color:yellow'>Колонока</span> общий трудовой стаж содержит 74 % отрицаетльных значений. А также максимальное количество дней стажа больше 400 тысяч дней, это больше 1000 лет.\n"
      ]
     },
     "metadata": {},
     "output_type": "display_data"
    },
    {
     "data": {
      "text/html": [
       "Возможные верные варианты для слова <span style='color:yellow'>Колонока</span>:"
      ]
     },
     "metadata": {},
     "output_type": "display_data"
    },
    {
     "name": "stdout",
     "output_type": "stream",
     "text": [
      "['Колонка', 'Колонок', 'Колонок а']\n"
     ]
    },
    {
     "data": {
      "text/html": [
       "- Колонока общий трудовой стаж содержит 74 % <span style='color:yellow'>отрицаетльных</span> значений. А также максимальное количество дней стажа больше 400 тысяч дней, это больше 1000 лет.\n"
      ]
     },
     "metadata": {},
     "output_type": "display_data"
    },
    {
     "data": {
      "text/html": [
       "Возможные верные варианты для слова <span style='color:yellow'>отрицаетльных</span>:"
      ]
     },
     "metadata": {},
     "output_type": "display_data"
    },
    {
     "name": "stdout",
     "output_type": "stream",
     "text": [
      "['отрицательных', 'отрицательный', 'отрицательные', 'отрицательным']\n"
     ]
    },
    {
     "data": {
      "text/html": [
       "- В колонке возраста 101 нулевое <span style='color:yellow'>значени</span>.\n"
      ]
     },
     "metadata": {},
     "output_type": "display_data"
    },
    {
     "data": {
      "text/html": [
       "Возможные верные варианты для слова <span style='color:yellow'>значени</span>:"
      ]
     },
     "metadata": {},
     "output_type": "display_data"
    },
    {
     "name": "stdout",
     "output_type": "stream",
     "text": [
      "['значение', 'значении', 'значений', 'значения', 'значению', 'значением']\n"
     ]
    },
    {
     "data": {
      "text/html": [
       "- В колонке с образованием присутствуют одни и те же <span style='color:yellow'>знчения</span> с разными регистрами. При этом в колонке с id образования все впрорядке.   "
      ]
     },
     "metadata": {},
     "output_type": "display_data"
    },
    {
     "data": {
      "text/html": [
       "Возможные верные варианты для слова <span style='color:yellow'>знчения</span>:"
      ]
     },
     "metadata": {},
     "output_type": "display_data"
    },
    {
     "name": "stdout",
     "output_type": "stream",
     "text": [
      "['значения', 'значение', 'занчения']\n"
     ]
    },
    {
     "data": {
      "text/html": [
       "- В колонке с образованием присутствуют одни и те же знчения с разными регистрами. При этом в колонке с id образования все <span style='color:yellow'>впрорядке</span>.   "
      ]
     },
     "metadata": {},
     "output_type": "display_data"
    },
    {
     "data": {
      "text/html": [
       "Возможные верные варианты для слова <span style='color:yellow'>впрорядке</span>:"
      ]
     },
     "metadata": {},
     "output_type": "display_data"
    },
    {
     "name": "stdout",
     "output_type": "stream",
     "text": [
      "['в порядке', 'впорядке', 'в прорядке']\n"
     ]
    },
    {
     "data": {
      "text/html": [
       "- <span style='color:yellow'>Лематизировали</span> колонку с целью кредита, чтобы получить категории целей кредита.  "
      ]
     },
     "metadata": {},
     "output_type": "display_data"
    },
    {
     "data": {
      "text/html": [
       "Возможные верные варианты для слова <span style='color:yellow'>Лематизировали</span>:"
      ]
     },
     "metadata": {},
     "output_type": "display_data"
    },
    {
     "name": "stdout",
     "output_type": "stream",
     "text": [
      "['Тематизировали', 'Легализировали', 'Блематизировал']\n"
     ]
    },
    {
     "data": {
      "text/html": [
       "- Добавить проверку на отрицательные значения и на слишком <span style='color:yellow'>болшьшие</span> значения в количестве детей при загрузке данных.\n"
      ]
     },
     "metadata": {},
     "output_type": "display_data"
    },
    {
     "data": {
      "text/html": [
       "Возможные верные варианты для слова <span style='color:yellow'>болшьшие</span>:"
      ]
     },
     "metadata": {},
     "output_type": "display_data"
    },
    {
     "name": "stdout",
     "output_type": "stream",
     "text": [
      "['большие', 'большшие', 'больше']\n",
      "End\n",
      "Corrected notebook saved to notebook_temp.ipynb\n"
     ]
    }
   ],
   "source": [
    "my_module.correct_notebook_text('notebook.ipynb', save_mode = 'draft', work_mode = 'logging')"
   ]
  },
  {
   "cell_type": "code",
   "execution_count": 3,
   "metadata": {},
   "outputs": [
    {
     "data": {
      "text/plain": [
       "<module 'my_module' from 'c:\\\\Git\\\\Projects\\\\Исследование надёжности заёмщиков\\\\my_module.py'>"
      ]
     },
     "execution_count": 3,
     "metadata": {},
     "output_type": "execute_result"
    }
   ],
   "source": [
    "import importlib\n",
    "importlib.reload(my_module)"
   ]
  },
  {
   "cell_type": "code",
   "execution_count": 97,
   "metadata": {},
   "outputs": [
    {
     "name": "stdout",
     "output_type": "stream",
     "text": [
      "Table of content added to notebook.ipynb\n"
     ]
    }
   ],
   "source": [
    "my_module.generate_toc('notebook.ipynb', mode='final')"
   ]
  },
  {
   "cell_type": "code",
   "execution_count": 98,
   "metadata": {},
   "outputs": [
    {
     "name": "stdout",
     "output_type": "stream",
     "text": [
      "Corrected notebook saved to notebook.ipynb\n"
     ]
    }
   ],
   "source": [
    "order = {'conclusions': conclusions, 'anomalies': anomalies}\n",
    "my_module.add_conclusions_and_anomalies('notebook.ipynb', order=order, mode='final')"
   ]
  },
  {
   "cell_type": "code",
   "execution_count": 33,
   "metadata": {},
   "outputs": [],
   "source": [
    "import nbformat\n",
    "from nbformat import v4\n",
    "import json\n",
    "from pyaspeller import YandexSpeller\n",
    "import re\n",
    "speller = YandexSpeller()"
   ]
  },
  {
   "cell_type": "code",
   "execution_count": 93,
   "metadata": {},
   "outputs": [],
   "source": [
    "conclusions =['Женщины чаще возвращают кредит, чем мужчины.'\n",
    "    , 'Долги присутствуют у людей с разным доходом.'\n",
    "    , 'У должников в среднем больше детей. В частности, среди должников женщины имеют больше детей в среднем, чем мужчины, а среди не должников мужчины имеют больше детей в среднем, чем женщины'\n",
    "    , 'У должников средний возраст немного ниже для всех категорий семейного положения.'\n",
    "    , 'Медианный доход у должников и не должников практически не отличается'\n",
    "    , 'Должники имеют ниже средний возраст как мужчины так и женщины. Ситуация сохраняется во всех группах дохода. '\n",
    "    , 'Больше всего кредит берут на цели, связанные с недвижимостью, кроме людей в гражданском браке'\n",
    "    , 'Люди в гражданском браке чаще берут кредит на свадьбу'\n",
    "    , 'Доход является самым значимым признаком для предсказания задолженности.'\n",
    "    , 'Люди от 30 до 50 лет имеют самый высокий средний доход.'\n",
    "    , 'Только 5 процентов клиентов моложе 25 лет. Основная часть клиентов старше 30 лет.'\n",
    "    , 'Меньше 5 % клиентов имеют зарплату меньша 63 тысяч. Можно сделать вывод, что большинство имеет высокий доход. При этом 25 % имеют доход больше 200 тысяч. '\n",
    "    , '58 % клиентов либо женаты, либо замужем. 19 % в гражданском браке. Можно сделать вывод что большинство в браке.  '\n",
    "    , 'Большинство клиентов женщины (66 процентов).'\n",
    "    , '92 % клиентов не имеют долга.'\n",
    "    , 'Чем меньше количество детей, тем больше значений с высоким доходом.'\n",
    "    , 'Болшая часть женатых имеет доход 100-200 тыс'\n",
    "    , 'На всех уровнях образоания, кроме ученой степени, доход у мужчин выше.'\n",
    "    , 'Цель получения кредита практически не зависит от среднего ежемесяченого дохода.'\n",
    "    , 'У мужчин, которые в браке или были в браке, количество детей больше, чем у женщин в той же категории.']"
   ]
  },
  {
   "cell_type": "code",
   "execution_count": 94,
   "metadata": {},
   "outputs": [],
   "source": [
    "anomalies = ['В датафрейме есть строки дубликаты. 54 строки. Меньше 1 % от всего датафрейма.  '\n",
    "    , 'В столбце с количеством детей есть отрицательные значения. 47 штук. Меньше 1 процента от всего датафрейма. Также есть клиенты с 20 детьми. '\n",
    "    , 'Колонока общий трудовой стаж содержит 74 % отрицаетльных значений. А также максимальное количество дней стажа больше 400 тысяч дней, это больше 1000 лет.'\n",
    "    , 'В колонке возраста 101 нулевое значени.'\n",
    "    , 'Колонка дохода имеет слишком много знаков после запятой. '\n",
    "    , 'В колонке с образованием присутствуют одни и те же знчения с разными регистрами. При этом в колонке с id образования все впрорядке.   ']"
   ]
  },
  {
   "cell_type": "code",
   "execution_count": 39,
   "metadata": {},
   "outputs": [],
   "source": [
    "from IPython.display import display, display_html, display_markdown\n",
    "regex_for_find = re.compile(r'\\b\\w+\\b')"
   ]
  },
  {
   "cell_type": "code",
   "execution_count": null,
   "metadata": {},
   "outputs": [],
   "source": [
    "my_module.add_conclusions_and_anomalies('notebook.ipynb', mode='draft', order=dict(conclusions=conclusions, anomalies=anomalies))"
   ]
  },
  {
   "cell_type": "markdown",
   "metadata": {},
   "source": []
  },
  {
   "cell_type": "code",
   "execution_count": null,
   "metadata": {},
   "outputs": [],
   "source": []
  },
  {
   "cell_type": "code",
   "execution_count": null,
   "metadata": {},
   "outputs": [],
   "source": [
    "my_module.add_hypotheses('notebook.ipynb', mode='draft')"
   ]
  },
  {
   "cell_type": "code",
   "execution_count": null,
   "metadata": {},
   "outputs": [],
   "source": []
  }
 ],
 "metadata": {
  "kernelspec": {
   "display_name": "Python 3.7.1 64-bit",
   "language": "python",
   "name": "python3"
  },
  "language_info": {
   "codemirror_mode": {
    "name": "ipython",
    "version": 3
   },
   "file_extension": ".py",
   "mimetype": "text/x-python",
   "name": "python",
   "nbconvert_exporter": "python",
   "pygments_lexer": "ipython3",
   "version": "3.7.1"
  },
  "orig_nbformat": 4,
  "vscode": {
   "interpreter": {
    "hash": "fbe58ca63fe33f9eeae9e71d10368d2b4a57f2b1b395836210cc60d362c66949"
   }
  }
 },
 "nbformat": 4,
 "nbformat_minor": 2
}
