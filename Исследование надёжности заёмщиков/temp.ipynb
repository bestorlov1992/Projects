{
 "cells": [
  {
   "cell_type": "code",
   "execution_count": null,
   "metadata": {},
   "outputs": [],
   "source": [
    "import dash\n",
    "import dash_core_components as dcc\n",
    "import dash_html_components as html\n",
    "from dash.dependencies import Input, Output\n",
    "import plotly.express as px\n",
    "import pandas as pd"
   ]
  },
  {
   "cell_type": "code",
   "execution_count": 1,
   "metadata": {},
   "outputs": [
    {
     "name": "stderr",
     "output_type": "stream",
     "text": [
      "c:\\python\\lib\\site-packages\\ipykernel_launcher.py:2: UserWarning: \n",
      "The dash_core_components package is deprecated. Please replace\n",
      "`import dash_core_components as dcc` with `from dash import dcc`\n",
      "  \n",
      "c:\\python\\lib\\site-packages\\ipykernel_launcher.py:3: UserWarning: \n",
      "The dash_html_components package is deprecated. Please replace\n",
      "`import dash_html_components as html` with `from dash import html`\n",
      "  This is separate from the ipykernel package so we can avoid doing imports until\n"
     ]
    },
    {
     "data": {
      "text/html": [
       "\n",
       "        <iframe\n",
       "            width=\"100%\"\n",
       "            height=\"650\"\n",
       "            src=\"http://127.0.0.1:8050/\"\n",
       "            frameborder=\"0\"\n",
       "            allowfullscreen\n",
       "            \n",
       "        ></iframe>\n",
       "        "
      ],
      "text/plain": [
       "<IPython.lib.display.IFrame at 0xfe2a978>"
      ]
     },
     "metadata": {},
     "output_type": "display_data"
    }
   ],
   "source": [
    "# Sample data\n",
    "df = pd.DataFrame({\n",
    "    'Category': ['A', 'B', 'C', 'D'],\n",
    "    'Value1': [10, 20, 30, 40],\n",
    "    'Value2': [40, 30, 20, 10]\n",
    "})\n",
    "\n",
    "# Create the Dash app\n",
    "app = dash.Dash(__name__)\n",
    "\n",
    "# Define the layout\n",
    "app.layout = html.Div([\n",
    "    html.H1('Dashboard'),\n",
    "    dcc.Tabs(id='tabs', value='tab-1', children=[\n",
    "        dcc.Tab(label='Page 1', value='tab-1'),\n",
    "        dcc.Tab(label='Page 2', value='tab-2')\n",
    "    ]),\n",
    "    html.Div(id='tabs-content')\n",
    "])\n",
    "\n",
    "# Define the callback for the tabs\n",
    "@app.callback(Output('tabs-content', 'children'),\n",
    "              [Input('tabs', 'value')])\n",
    "def render_content(tab):\n",
    "    if tab == 'tab-1':\n",
    "        return html.Div([\n",
    "            html.Div([\n",
    "                dcc.Graph(id='graph1', figure=px.bar(df, x='Category', y='Value1')),\n",
    "                dcc.Graph(id='graph2', figure=px.bar(df, x='Category', y='Value2'))\n",
    "            ], style={'display': 'flex', 'flex-direction': 'row'}),\n",
    "            html.Div([\n",
    "                dcc.Graph(id='graph3', figure=px.line(df, x='Category', y='Value1')),\n",
    "                dcc.Graph(id='graph4', figure=px.line(df, x='Category', y='Value2'))\n",
    "            ], style={'display': 'flex', 'flex-direction': 'row'})\n",
    "        ])\n",
    "    elif tab == 'tab-2':\n",
    "        return html.Div([\n",
    "            html.Div([\n",
    "                dcc.Graph(id='graph5', figure=px.scatter(df, x='Category', y='Value1')),\n",
    "                dcc.Graph(id='graph6', figure=px.scatter(df, x='Category', y='Value2'))\n",
    "            ], style={'display': 'flex', 'flex-direction': 'row'}),\n",
    "            html.Div([\n",
    "                dcc.Graph(id='graph7', figure=px.area(df, x='Category', y='Value1')),\n",
    "                dcc.Graph(id='graph8', figure=px.area(df, x='Category', y='Value2'))\n",
    "            ], style={'display': 'flex', 'flex-direction': 'row'})\n",
    "        ])\n",
    "\n",
    "# Run the app\n",
    "if __name__ == '__main__':\n",
    "    app.run_server(debug=True)"
   ]
  }
 ],
 "metadata": {
  "kernelspec": {
   "display_name": "Python 3.7.1 64-bit",
   "language": "python",
   "name": "python3"
  },
  "language_info": {
   "codemirror_mode": {
    "name": "ipython",
    "version": 3
   },
   "file_extension": ".py",
   "mimetype": "text/x-python",
   "name": "python",
   "nbconvert_exporter": "python",
   "pygments_lexer": "ipython3",
   "version": "3.7.1"
  },
  "orig_nbformat": 4,
  "vscode": {
   "interpreter": {
    "hash": "fbe58ca63fe33f9eeae9e71d10368d2b4a57f2b1b395836210cc60d362c66949"
   }
  }
 },
 "nbformat": 4,
 "nbformat_minor": 2
}
