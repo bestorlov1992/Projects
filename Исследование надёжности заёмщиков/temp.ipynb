{
 "cells": [
  {
   "cell_type": "code",
   "execution_count": 2,
   "metadata": {},
   "outputs": [],
   "source": [
    "anomalies = ['В датафрейме есть строки дубликаты. 54 строки. Меньше 1 % от всего датафрейма.  '\n",
    ", 'В столбце с количеством детей есть отрицательные значения. 47 штук. Меньше 1 процента от всего датафрейма. Также есть клиенты с 20 детьми. '\n",
    ", 'Колонока общий трудовой стаж содержит 74 % отрицаетльных значений. А также максимальное количество дней стажа больше 400 тысяч дней, это больше 1000 лет.'\n",
    ", 'В колонке возраста 101 нулевое значени.'\n",
    ", 'Колонка дохода имеет слишком много знаков после запятой. '\n",
    ", 'В колонке с образованием присутствуют одни и те же знчения с разными регистрами. При этом в колонке с id образования все впрорядке.   ']"
   ]
  },
  {
   "cell_type": "code",
   "execution_count": 3,
   "metadata": {},
   "outputs": [],
   "source": [
    "conclusions = ['Женщины чаще возвращают кредит, чем мужчины.'\n",
    ", 'Долги присутствуют у людей с разным доходом.'\n",
    ", 'У должников в среднем больше детей. В частности, среди должников женщины имеют больше детей в среднем, чем мужчины, а среди не должников мужчины имеют больше детей в среднем, чем женщины'\n",
    ", 'У должников средний возраст немного ниже для всех категорий семейного положения.'\n",
    ", 'Медианный доход у должников и не должников практически не отличается'\n",
    ", 'Должники имеют ниже средний возраст как мужчины так и женщины. Ситуация сохраняется во всех группах дохода. '\n",
    ", 'Больше всего кредит берут на цели, связанные с недвижимостью, кроме людей в гражданском браке'\n",
    ", 'Люди в гражданском браке чаще берут кредит на свадьбу'\n",
    ", 'Доход является самым значимым признаком для предсказания задолженности.'\n",
    ", 'Люди от 30 до 50 лет имеют самый высокий средний доход.'\n",
    ", 'Только 5 процентов клиентов моложе 25 лет. Основная часть клиентов старше 30 лет.'\n",
    ", 'Меньше 5 % клиентов имеют зарплату меньша 63 тысяч. Можно сделать вывод, что большинство имеет высокий доход. При этом 25 % имеют доход больше 200 тысяч. '\n",
    ", '58 % клиентов либо женаты, либо замужем. 19 % в гражданском браке. Можно сделать вывод что большинство в браке.  '\n",
    ", 'Большинство клиентов женщины (66 процентов).'\n",
    ", '92 % клиентов не имеют долга.'\n",
    ", 'Чем меньше количество детей, тем больше значений с высоким доходом.'\n",
    ", 'Болшая часть женатых имеет доход 100-200 тыс'\n",
    ", 'На всех уровнях образоания, кроме ученой степени, доход у мужчин выше.'\n",
    ", 'Цель получения кредита практически не зависит от среднего ежемесяченого дохода.'\n",
    ", 'У мужчин, которые в браке или были в браке, количество детей больше, чем у женщин в той же категории.']"
   ]
  },
  {
   "cell_type": "code",
   "execution_count": 1,
   "metadata": {},
   "outputs": [
    {
     "name": "stderr",
     "output_type": "stream",
     "text": [
      "c:\\python\\lib\\site-packages\\outdated\\utils.py:18: OutdatedPackageWarning: The package pingouin is out of date. Your version is 0.5.3, the latest is 0.5.5.\n",
      "Set the environment variable OUTDATED_IGNORE=1 to disable these warnings.\n",
      "  **kwargs\n"
     ]
    }
   ],
   "source": [
    "import my_module"
   ]
  },
  {
   "cell_type": "code",
   "execution_count": null,
   "metadata": {},
   "outputs": [],
   "source": [
    "my_module.correct_notebook_text('notebook.ipynb', save_mode = 'draft', work_mode = 'logging')"
   ]
  },
  {
   "cell_type": "code",
   "execution_count": 5,
   "metadata": {},
   "outputs": [
    {
     "data": {
      "text/plain": [
       "<module 'my_module' from 'c:\\\\Git\\\\Projects\\\\Исследование надёжности заёмщиков\\\\my_module.py'>"
      ]
     },
     "execution_count": 5,
     "metadata": {},
     "output_type": "execute_result"
    }
   ],
   "source": [
    "import importlib\n",
    "importlib.reload(my_module)"
   ]
  },
  {
   "cell_type": "code",
   "execution_count": null,
   "metadata": {},
   "outputs": [],
   "source": [
    "my_module.generate_toc('notebook.ipynb', mode='final')"
   ]
  },
  {
   "cell_type": "code",
   "execution_count": 4,
   "metadata": {},
   "outputs": [],
   "source": [
    "order = {'conclusions': conclusions, 'anomalies': anomalies}\n",
    "my_module.add_conclusions_and_anomalies('notebook.ipynb', order=order, mode='draft')"
   ]
  },
  {
   "cell_type": "code",
   "execution_count": 6,
   "metadata": {},
   "outputs": [],
   "source": [
    "import nbformat\n",
    "from nbformat import v4\n",
    "import json\n",
    "from pyaspeller import YandexSpeller\n",
    "import re"
   ]
  },
  {
   "cell_type": "code",
   "execution_count": 28,
   "metadata": {},
   "outputs": [],
   "source": [
    "hypotheses = [\n",
    "'''Гипотеза 1: Наличие детей не влияет на возврат кредита в срок  \n",
    "**Результат:** На уровне значимости 0.05 гипотеза не подтвердилась.'''\n",
    ", '''Гипотеза 2: У мужчин средний доход выше, чем у женщин  \n",
    "**Результат:** На уровне значимости 0.05 гипотеза подтвердилась. '''\n",
    ", '''Гипотеза 3: Цель получения кредита практически не зависит от среднего ежемесячного дохода  \n",
    "**Результат:** На уровне значимости 0.05 у нас нет оснований отвергнуть гипотезу.'''\n",
    ", '''Гипотеза 4: Средний доход по семейному статусу примерно одинаковый, но у вдовцов отличается  \n",
    "**Результат:** На уровне значимости 0.05 гипотеза подтвердилась.'''\n",
    ", '''Гипотеза 5: У должников в среднем больше детей  \n",
    "**Результат:** На уровне значимости 0.05 гипотеза подтвердилась.   '''\n",
    ", '''Гипотеза 6: У должников средний возраст ниже  \n",
    "**Результат:** На уровне значимости 0.05 гипотеза подтвердилась. 95% доверительный интервал для разницы средних возрастов для должников и не должников равен (-inf, -2.74).  '''\n",
    ", '''Гипотеза 7: Медианный доход у должников и не должников не отличается  \n",
    "**Результат:** На уровне значимости 0.05 нет оснований отвергнуть гипотезу. 95% доверительный интервал разницы между медианным доходом должников и не должников равен (-2648.05, 179.34).  '''\n",
    "]"
   ]
  },
  {
   "cell_type": "code",
   "execution_count": 29,
   "metadata": {},
   "outputs": [
    {
     "name": "stdout",
     "output_type": "stream",
     "text": [
      "ok\n"
     ]
    }
   ],
   "source": [
    "line = '**Гипотеза 5: У должников в среднем больше детей**'\n",
    "for i, hypothesis in enumerate(hypotheses):\n",
    "    if line.strip().strip('**') in hypothesis:\n",
    "        print('ok')"
   ]
  },
  {
   "cell_type": "code",
   "execution_count": null,
   "metadata": {},
   "outputs": [],
   "source": [
    "def add_hypotheses(notebook_path: str, hypotheses: list, mode: str = 'draft', link_type: str = 'html'):\n",
    "    def is_markdown(it):\n",
    "        return \"markdown\" == it[\"cell_type\"]\n",
    "    if not hypotheses:\n",
    "        raise ValueError(\n",
    "            \"hypotheses must have at least one element\")\n",
    "    if mode not in ['draft', 'final']:\n",
    "        raise ValueError(\n",
    "            \"Invalid mode. Mode must be either 'draft' or 'final'.\")\n",
    "    if link_type not in ['html', 'markdown']:\n",
    "        raise ValueError(\n",
    "            \"Invalid link_type. link_type must be either 'html' or 'markdown'.\")\n",
    "    hypotheses = [hypothesis.strip() for hypothesis in hypotheses]\n",
    "    with open(notebook_path, 'r', encoding='utf-8') as in_f:\n",
    "        nb_json = json.load(in_f)\n",
    "    regex_for_sub = re.compile(r'[^0-9a-zA-Zа-яА-Я]')\n",
    "    for cell in filter(is_markdown, nb_json[\"cells\"]):\n",
    "        source = cell[\"source\"]\n",
    "        new_source = []    \n",
    "        for line in source:\n",
    "            if line.strip().startswith('**') and 'Гипотеза' in line:\n",
    "                for i, hypothesis in enumerate(hypotheses):\n",
    "                    print(line)\n",
    "                    print('start')\n",
    "                    if line.strip().strip('**') in hypothesis:\n",
    "                        print(i, hypothesis)\n",
    "                        print()\n",
    "                        print(line)\n",
    "                        break\n",
    "                        hypothesis_for_ref = line.strip()\n",
    "                        hypothesis_for_ref = regex_for_sub.sub(\n",
    "                            '-', hypothesis_for_ref)\n",
    "                        if link_type == \"html\":\n",
    "                            hypothesis_for_ref = f\"{hypothesis}<a name='{hypothesis_for_ref}'></a>\"\n",
    "                            hypotheses[i] = f\"- <a href='#{hypothesis_for_ref}'>{hypothesis}</a>  \\n\"\n",
    "                        elif link_type == \"markdown\":\n",
    "                            hypothesis_for_ref = f\"{hypothesis}<a class='anchor' id='{hypothesis_for_ref}'></a>\"\n",
    "                            hypotheses[i] = f\"[- {hypothesis}](#{hypothesis_for_ref})  \\n\"\n",
    "                        else:\n",
    "                            raise ValueError(\n",
    "                                \"Неправильный тип ссылки. Должно быть 'markdown' или 'html'.\")         \n",
    "                        hypothesis_for_ref += '\\n<a href=\"#ref-to-toc-hypotheses\">вернуться к оглавлению</a>'      \n",
    "                        new_source.append(hypothesis_for_ref)\n",
    "                else:\n",
    "                    new_source.append(line)\n",
    "        cell[\"source\"] = new_source        \n",
    "    print(hypotheses)\n",
    "    return    \n",
    "    hypotheses = ['**Результаты проверки гипотез:**<a name=\"ref-to-toc-hypotheses\"></a>\\n\\n',] + hypotheses\n",
    "    hypotheses_cell = v4.new_markdown_cell([''.join(hypotheses)])\n",
    "    nb_json['cells'].insert(0, hypotheses_cell)     \n",
    "    # Convert nb_json to nbformat object\n",
    "    nb = nbformat.reads(json.dumps(nb_json), as_version=4)    \n",
    "    # Save the nbformat object to the file\n",
    "    if mode == 'draft':\n",
    "        output_filename_splited = notebook_path.split('.')\n",
    "        output_filename_splited[-2] += '_temp'\n",
    "        output_filename = '.'.join(output_filename_splited)\n",
    "    else:\n",
    "        output_filename = notebook_path\n",
    "    with open(output_filename, 'w', encoding='utf-8') as out_f:\n",
    "        nbformat.write(nb, out_f, version=4)       \n",
    "add_hypotheses('notebook.ipynb', mode='draft', hypotheses=hypotheses)"
   ]
  },
  {
   "cell_type": "code",
   "execution_count": null,
   "metadata": {},
   "outputs": [],
   "source": []
  },
  {
   "cell_type": "code",
   "execution_count": null,
   "metadata": {},
   "outputs": [],
   "source": []
  },
  {
   "cell_type": "code",
   "execution_count": null,
   "metadata": {},
   "outputs": [],
   "source": [
    "my_module.add_hypotheses('notebook.ipynb', mode='draft')"
   ]
  }
 ],
 "metadata": {
  "kernelspec": {
   "display_name": "Python 3.7.1 64-bit",
   "language": "python",
   "name": "python3"
  },
  "language_info": {
   "codemirror_mode": {
    "name": "ipython",
    "version": 3
   },
   "file_extension": ".py",
   "mimetype": "text/x-python",
   "name": "python",
   "nbconvert_exporter": "python",
   "pygments_lexer": "ipython3",
   "version": "3.7.1"
  },
  "orig_nbformat": 4,
  "vscode": {
   "interpreter": {
    "hash": "fbe58ca63fe33f9eeae9e71d10368d2b4a57f2b1b395836210cc60d362c66949"
   }
  }
 },
 "nbformat": 4,
 "nbformat_minor": 2
}
